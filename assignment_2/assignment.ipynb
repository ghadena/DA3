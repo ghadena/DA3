{
 "cells": [
  {
   "cell_type": "markdown",
   "metadata": {},
   "source": [
    "# DA3 assignment 2 \n",
    "## predicting fast growing firms \n",
    "by ghadena and peter"
   ]
  },
  {
   "cell_type": "markdown",
   "metadata": {},
   "source": [
    "## Importing packages and defining helper functions "
   ]
  },
  {
   "cell_type": "code",
   "execution_count": 1,
   "metadata": {},
   "outputs": [],
   "source": [
    "import os\n",
    "import sys\n",
    "import warnings\n",
    "\n",
    "import matplotlib.pyplot as plt\n",
    "import numpy as np\n",
    "import seaborn as sns\n",
    "import pandas as pd\n",
    "import patsy\n",
    "import sklearn.metrics as metrics\n",
    "import statsmodels.formula.api as smf\n",
    "from plotnine import *\n",
    "from sklearn.ensemble import RandomForestClassifier\n",
    "from sklearn.linear_model import (\n",
    "    LinearRegression,\n",
    "    LogisticRegression,\n",
    "    LogisticRegressionCV,\n",
    ")\n",
    "\n",
    "import matplotlib.pyplot as plt\n",
    "from sklearn.calibration import calibration_curve\n",
    "from sklearn.metrics import (\n",
    "    auc,\n",
    "    brier_score_loss,\n",
    "    confusion_matrix,\n",
    "    mean_squared_error,\n",
    "    roc_auc_score,\n",
    "    roc_curve,\n",
    ")\n",
    "from sklearn.model_selection import GridSearchCV, KFold, train_test_split\n",
    "from sklearn.preprocessing import StandardScaler\n",
    "from statsmodels.tools.eval_measures import rmse\n",
    "\n",
    "warnings.filterwarnings(\"ignore\")"
   ]
  },
  {
   "cell_type": "code",
   "execution_count": 2,
   "metadata": {},
   "outputs": [],
   "source": [
    "# ----------------------------\n",
    "# 📌 Defining helper functions \n",
    "# ----------------------------\n",
    "\n",
    "color = ['blue', 'red', 'green','purple']\n",
    "\n",
    "def regression_results(y_true, y_pred):\n",
    "\n",
    "    # Regression metrics\n",
    "    explained_variance = metrics.explained_variance_score(y_true, y_pred)\n",
    "    mean_absolute_error = metrics.mean_absolute_error(y_true, y_pred)\n",
    "    mse = metrics.mean_squared_error(y_true, y_pred)\n",
    "    median_absolute_error = metrics.median_absolute_error(y_true, y_pred)\n",
    "    r2 = metrics.r2_score(y_true, y_pred)\n",
    "\n",
    "    print(\"explained_variance: \", round(explained_variance, 4))\n",
    "    print(\"r2: \", round(r2, 4))\n",
    "    print(\"MAE: \", round(mean_absolute_error, 4))\n",
    "    print(\"MSE: \", round(mse, 4))\n",
    "    print(\"RMSE: \", round(np.sqrt(mse), 4))\n",
    "\n",
    "\n",
    "def coef_matrix(X, model):\n",
    "\n",
    "    coef_matrix = pd.concat(\n",
    "        [pd.DataFrame(X.columns), pd.DataFrame(np.transpose(model.coef_))], axis=1\n",
    "    )\n",
    "    coef_matrix.columns = [\"variable\", \"coefficient\"]\n",
    "    coef_matrix = coef_matrix.append(\n",
    "        {\"variable\": \"Intercept\", \"coefficient\": model.intercept_},\n",
    "        ignore_index=True,\n",
    "    )\n",
    "    return coef_matrix\n",
    "\n",
    "\n",
    "def cv_summary(lambdas, C_values, model):\n",
    "    d = {\n",
    "        \"lambdas\": lambdas,\n",
    "        \"C_values\": C_values,\n",
    "        \"mean_cv_score\": model.scores_[1].mean(axis=0),\n",
    "    }\n",
    "    return pd.DataFrame(data=d)\n",
    "\n",
    "\n",
    "def create_roc_plot(y_true, y_pred):\n",
    "    fpr, tpr, thresholds = roc_curve(y_true, y_pred)\n",
    "    all_coords = pd.DataFrame({\"fpr\": fpr, \"tpr\": tpr, \"thresholds\": thresholds})\n",
    "\n",
    "    plot = (\n",
    "        ggplot(all_coords, aes(x=\"fpr\", y=\"tpr\"))\n",
    "        + geom_line(color=color[0], size=0.7)\n",
    "        + geom_area(position=\"identity\", fill=\"mediumaquamarine\", alpha=0.3)\n",
    "        + xlab(\"False Positive Rate (1-Specifity)\")\n",
    "        + ylab(\"True Positive Rate (Sensitivity)\")\n",
    "        + geom_abline(intercept=0, slope=1, linetype=\"dotted\", color=\"black\")\n",
    "        + scale_y_continuous(limits=(0, 1), breaks=np.arange(0, 1, 0.1), expand=(0, 0.01))\n",
    "        + scale_x_continuous(limits=(0, 1), breaks=np.arange(0, 1, 0.1), expand=(0.01, 0))\n",
    "        + theme_bw()\n",
    "    )\n",
    "    return plot\n",
    "\n",
    "\n",
    "def sigmoid_array(x):\n",
    "    return 1 / (1 + np.exp(-x))\n",
    "\n",
    "\n",
    "def generate_fold_prediction(model, X, fold, param_index):\n",
    "    fold_coef = model.coefs_paths_[1][fold, param_index, :]\n",
    "    return sigmoid_array(\n",
    "        np.dot(X, np.transpose(fold_coef)[:-1]) + np.transpose(fold_coef)[-1]\n",
    "    )\n",
    "\n",
    "\n",
    "def create_loss_plot(all_coords, optimal_threshold, curr_exp_loss):\n",
    "    all_coords_copy = all_coords.copy()\n",
    "    all_coords_copy[\"loss\"] = (\n",
    "        all_coords_copy.false_pos * FP + all_coords_copy.false_neg * FN\n",
    "    ) / all_coords_copy.n\n",
    "\n",
    "    t = optimal_threshold\n",
    "    l = curr_exp_loss\n",
    "\n",
    "    plot = (\n",
    "        ggplot(all_coords_copy, aes(x=\"thresholds\", y=\"loss\"))\n",
    "        + geom_line(color=color[0], size=0.7)\n",
    "        + scale_x_continuous(breaks=np.arange(0, 1.1, 0.1))\n",
    "        + coord_cartesian(xlim=(0, 1))\n",
    "        + geom_vline(xintercept=t, color=color[0])\n",
    "        + annotate(\n",
    "            geom=\"text\",\n",
    "            x=t - 0.01,\n",
    "            y=max(all_coords_copy.loss) - 0.4,\n",
    "            label=\"best threshold: \" + str(round(t, 2)),\n",
    "            colour=color[1],\n",
    "            angle=90,\n",
    "            size=7,\n",
    "        )\n",
    "        + annotate(geom=\"text\", x=t + 0.06, y=l, label=str(round(l, 2)), size=7)\n",
    "        + theme_bw()\n",
    "    )\n",
    "    return plot\n",
    "\n",
    "\n",
    "def create_roc_plot_with_optimal(all_coords, optimal_threshold):\n",
    "    all_coords_copy = all_coords.copy()\n",
    "    all_coords_copy[\"sp\"] = 1 - all_coords_copy.true_neg / all_coords_copy.neg\n",
    "    all_coords_copy[\"se\"] = all_coords_copy.true_pos / all_coords_copy.pos\n",
    "\n",
    "    best_coords = all_coords_copy[all_coords_copy.thresholds == optimal_threshold]\n",
    "    sp = best_coords.sp.values[0]\n",
    "    se = best_coords.se.values[0]\n",
    "\n",
    "    plot = (\n",
    "        ggplot(all_coords_copy, aes(x=\"sp\", y=\"se\"))\n",
    "        + geom_line(color=color[0], size=0.7)\n",
    "        + scale_y_continuous(breaks=np.arange(0, 1.1, 0.1))\n",
    "        + scale_x_continuous(breaks=np.arange(0, 1.1, 0.1))\n",
    "        + geom_point(data=pd.DataFrame({\"sp\": [sp], \"se\": [se]}))\n",
    "        + annotate(\n",
    "            geom=\"text\",\n",
    "            x=sp,\n",
    "            y=se + 0.03,\n",
    "            label=str(round(sp, 2)) + \", \" + str(round(se, 2)),\n",
    "            size=7,\n",
    "        )\n",
    "        + geom_area(position=\"identity\", fill=\"mediumaquamarine\", alpha=0.3)\n",
    "        + xlab(\"False Positive Rate (1-Specifity)\")\n",
    "        + ylab(\"True Positive Rate (Sensitivity)\")\n",
    "        + geom_abline(intercept=0, slope=1, linetype=\"dotted\", color=\"black\")\n",
    "        + theme_bw()\n",
    "    )\n",
    "    return plot\n",
    "\n",
    "def create_calibration_plot(\n",
    "    data_holdout,\n",
    "    file_name=\"calibration_plot\",\n",
    "    prob_var=\"best_logit_pred_proba\",\n",
    "    actual_var=\"fast_growth\",\n",
    "    y_lab=\"Actual event probability\",\n",
    "    n_bins=10,\n",
    "    breaks=None,\n",
    "):\n",
    "    \"\"\"\n",
    "    Generates a calibration plot to compare predicted probabilities vs. actual event probabilities.\n",
    "    \n",
    "    Parameters:\n",
    "    - data_holdout (pd.DataFrame): The dataset containing predicted probabilities and actual outcomes.\n",
    "    - file_name (str): The name for saving the figure (default: \"calibration_plot\").\n",
    "    - prob_var (str): Column name for predicted probabilities.\n",
    "    - actual_var (str): Column name for actual binary outcomes (0 or 1).\n",
    "    - y_lab (str): Label for the y-axis (default: \"Actual event probability\").\n",
    "    - n_bins (int): Number of bins for grouping predictions into probability intervals (default: 10).\n",
    "    - breaks (list or None): Custom bin edges if specified (default: None).\n",
    "\n",
    "    Returns:\n",
    "    - Displays and saves the calibration plot as an image.\n",
    "    \"\"\"\n",
    "    \n",
    "    # Ensure valid probability values (between 0 and 1)\n",
    "    data_holdout = data_holdout[(data_holdout[prob_var] >= 0) & (data_holdout[prob_var] <= 1)]\n",
    "    \n",
    "    # Compute the calibration curve (fraction of positives per bin)\n",
    "    actual, predicted = calibration_curve(\n",
    "        data_holdout[actual_var], data_holdout[prob_var], n_bins=n_bins, strategy=\"quantile\"\n",
    "    )\n",
    "    \n",
    "    # Create the plot\n",
    "    plt.figure(figsize=(8, 6))\n",
    "    plt.plot(predicted, actual, marker=\"o\", linestyle=\"-\", label=\"Calibration curve\")\n",
    "    plt.plot([0, 1], [0, 1], linestyle=\"--\", color=\"gray\", label=\"Perfectly calibrated\")  # 45-degree line\n",
    "    \n",
    "    # Labels and title\n",
    "    plt.xlabel(\"Predicted probability\")\n",
    "    plt.ylabel(y_lab)\n",
    "    plt.title(\"Calibration Curve: Estimated vs. Actual Probabilities\")\n",
    "    plt.legend()\n",
    "    \n",
    "    # Save and show plot\n",
    "    plt.savefig(f\"{file_name}.png\", dpi=300, bbox_inches=\"tight\")\n",
    "    plt.show()\n"
   ]
  },
  {
   "cell_type": "markdown",
   "metadata": {},
   "source": [
    "## 📌 Import Data\n",
    "\n",
    "### Importing and Cleaning Data\n",
    "We imported the **cleaned dataset** from the preprocessing step, ensuring it was **free of missing values** and well-structured for analysis. Below are the key **data cleaning, label engineering, and transformation steps** performed.\n",
    "\n",
    "---\n",
    "\n",
    "### 🔹 Data Cleaning Steps\n",
    "- **Handled missing values:**\n",
    "  - **Dropped variables** with excessive missing values.\n",
    "  - **Added missing year-firm (`year`, `comp_id`) combinations**, ensuring each firm has an entry for every year.\n",
    "- **Performed label engineering**:\n",
    "  - **Created the target variable (`fast_growth`)** based on firm sales growth.\n",
    "- **Removed potential data leakage**:\n",
    "  - **Dropped log-transformed sales lag variables and the winsorized sales growth version** to ensure no future data influenced the model.\n",
    "  - **Filtered the dataset to include only 2012** to prevent unintended information leakage from future observations.\n",
    "\n",
    "---\n",
    "\n",
    "### 🔹 Creating the Target Variable: Fast Growth\n",
    "The **target variable (`fast_growth`)** was constructed based on the **year-over-year sales growth** of firms. We define a firm as **\"fast-growing\"** if its **log sales growth exceeds 20%**. \n",
    "\n",
    "#### **📌 Why 20%?**\n",
    "- This **threshold aligns with the OECD definition of high-growth firms**, making our model **comparable to economic research**.\n",
    "- It captures **firms growing at an economically significant rate** while excluding minor fluctuations.\n",
    "- We measure **growth over one year (2012 to 2013)** rather than two years to:\n",
    "  - **Capture more recent expansion trends.**\n",
    "  - **Retain a larger sample size**, avoiding firm exits or major structural changes.\n",
    "\n",
    "---\n",
    "\n",
    "### 🔹 Sample Design\n",
    "- **The dataset is limited to 2012** to ensure the model is trained exclusively on past information.\n",
    "- **Implemented revenue constraints**:\n",
    "  - **Included firms with revenue below €10 million but above €1,000** to maintain consistency across firm sizes.\n",
    "  - **Excluded extreme outliers**.\n",
    "- **Final dataset contains** **19,036 observations** and **112 features**.\n",
    "- **31.6% of firms in the sample are classified as fast-growing**.\n",
    "\n",
    "---\n",
    "\n",
    "### 🔹 Feature Engineering\n",
    "- **Updated industry classification codes** to align with standardized definitions.\n",
    "- **Created firm characteristics**:\n",
    "  - `age_squared` (to capture non-linear age effects).\n",
    "  - `foreign_management`, `gender`, and `region` indicators.\n",
    "- **Financial variable transformations**:\n",
    "  - **Created financial ratios** for **profitability and operational efficiency**.\n",
    "  - **Generated total assets** and **normalized balance sheet & P&L elements** by sales.\n",
    "  - **Added a flag for missing or zero asset values**.\n",
    "  - **Winsorized** extreme values to limit the impact of outliers.\n",
    "- **Performed imputation**:\n",
    "  - **CEO age** (to handle missing values).\n",
    "  - **Number of employees**, as it was a noisy measure.\n",
    "\n",
    "---\n",
    "\n",
    "### 📊 Key Insights\n",
    "- **31.6% of firms in our sample are classified as \"fast growers\".**\n",
    "- **The dataset is now fully structured for predictive modeling**, with only 2012 data retained to avoid data leakage.\n",
    "---\n",
    "\n",
    "### 🚀 What’s Next?\n",
    "This cleaned dataset is now **ready for modeling**, with features structured to **minimize leakage** and **optimize predictive accuracy**. 🚀"
   ]
  },
  {
   "cell_type": "code",
   "execution_count": 3,
   "metadata": {},
   "outputs": [],
   "source": [
    "# read data directly from github: \n",
    "data = pd.read_csv(\"https://media.githubusercontent.com/media/ghadena/DA3/refs/heads/main/assignment_2/firms_clean.csv\")\n"
   ]
  },
  {
   "cell_type": "code",
   "execution_count": 4,
   "metadata": {},
   "outputs": [
    {
     "data": {
      "text/html": [
       "<div>\n",
       "<style scoped>\n",
       "    .dataframe tbody tr th:only-of-type {\n",
       "        vertical-align: middle;\n",
       "    }\n",
       "\n",
       "    .dataframe tbody tr th {\n",
       "        vertical-align: top;\n",
       "    }\n",
       "\n",
       "    .dataframe thead th {\n",
       "        text-align: right;\n",
       "    }\n",
       "</style>\n",
       "<table border=\"1\" class=\"dataframe\">\n",
       "  <thead>\n",
       "    <tr style=\"text-align: right;\">\n",
       "      <th></th>\n",
       "      <th>year</th>\n",
       "      <th>comp_id</th>\n",
       "      <th>amort</th>\n",
       "      <th>curr_assets</th>\n",
       "      <th>curr_liab</th>\n",
       "      <th>extra_exp</th>\n",
       "      <th>extra_inc</th>\n",
       "      <th>extra_profit_loss</th>\n",
       "      <th>fixed_assets</th>\n",
       "      <th>inc_bef_tax</th>\n",
       "      <th>...</th>\n",
       "      <th>share_eq_bs_quad</th>\n",
       "      <th>ceo_age</th>\n",
       "      <th>flag_low_ceo_age</th>\n",
       "      <th>flag_high_ceo_age</th>\n",
       "      <th>flag_miss_ceo_age</th>\n",
       "      <th>ceo_young</th>\n",
       "      <th>labor_avg_mod</th>\n",
       "      <th>flag_miss_labor_avg</th>\n",
       "      <th>sales_mil_log_sq</th>\n",
       "      <th>profit_margin</th>\n",
       "    </tr>\n",
       "  </thead>\n",
       "  <tbody>\n",
       "    <tr>\n",
       "      <th>count</th>\n",
       "      <td>19036.0</td>\n",
       "      <td>1.903600e+04</td>\n",
       "      <td>1.903600e+04</td>\n",
       "      <td>1.903600e+04</td>\n",
       "      <td>1.903600e+04</td>\n",
       "      <td>19036.000000</td>\n",
       "      <td>1.903600e+04</td>\n",
       "      <td>1.903600e+04</td>\n",
       "      <td>1.903600e+04</td>\n",
       "      <td>1.903600e+04</td>\n",
       "      <td>...</td>\n",
       "      <td>19036.000000</td>\n",
       "      <td>19036.000000</td>\n",
       "      <td>19036.000000</td>\n",
       "      <td>19036.000000</td>\n",
       "      <td>19036.000000</td>\n",
       "      <td>19036.000000</td>\n",
       "      <td>19036.000000</td>\n",
       "      <td>19036.000000</td>\n",
       "      <td>1.903600e+04</td>\n",
       "      <td>19036.000000</td>\n",
       "    </tr>\n",
       "    <tr>\n",
       "      <th>mean</th>\n",
       "      <td>2012.0</td>\n",
       "      <td>1.529275e+11</td>\n",
       "      <td>9.274374e+03</td>\n",
       "      <td>9.914862e+04</td>\n",
       "      <td>8.567028e+04</td>\n",
       "      <td>418.017165</td>\n",
       "      <td>1.641894e+03</td>\n",
       "      <td>1.220200e+03</td>\n",
       "      <td>1.451590e+05</td>\n",
       "      <td>5.869079e+03</td>\n",
       "      <td>...</td>\n",
       "      <td>0.489963</td>\n",
       "      <td>46.429850</td>\n",
       "      <td>0.011189</td>\n",
       "      <td>0.004150</td>\n",
       "      <td>0.145619</td>\n",
       "      <td>0.267388</td>\n",
       "      <td>0.627548</td>\n",
       "      <td>0.135900</td>\n",
       "      <td>1.225573e+01</td>\n",
       "      <td>-0.202448</td>\n",
       "    </tr>\n",
       "    <tr>\n",
       "      <th>std</th>\n",
       "      <td>0.0</td>\n",
       "      <td>1.377319e+11</td>\n",
       "      <td>4.975021e+04</td>\n",
       "      <td>4.377075e+05</td>\n",
       "      <td>4.202974e+05</td>\n",
       "      <td>7141.930068</td>\n",
       "      <td>3.283540e+04</td>\n",
       "      <td>3.212567e+04</td>\n",
       "      <td>1.105861e+06</td>\n",
       "      <td>1.305634e+05</td>\n",
       "      <td>...</td>\n",
       "      <td>0.393777</td>\n",
       "      <td>10.337327</td>\n",
       "      <td>0.105189</td>\n",
       "      <td>0.064289</td>\n",
       "      <td>0.352733</td>\n",
       "      <td>0.442608</td>\n",
       "      <td>1.473032</td>\n",
       "      <td>0.342692</td>\n",
       "      <td>1.042676e+01</td>\n",
       "      <td>5.821007</td>\n",
       "    </tr>\n",
       "    <tr>\n",
       "      <th>min</th>\n",
       "      <td>2012.0</td>\n",
       "      <td>1.001541e+06</td>\n",
       "      <td>-1.489630e+04</td>\n",
       "      <td>0.000000e+00</td>\n",
       "      <td>-8.759259e+03</td>\n",
       "      <td>-1418.518555</td>\n",
       "      <td>-1.740741e+02</td>\n",
       "      <td>-2.484481e+05</td>\n",
       "      <td>0.000000e+00</td>\n",
       "      <td>-1.091879e+07</td>\n",
       "      <td>...</td>\n",
       "      <td>0.000000</td>\n",
       "      <td>25.000000</td>\n",
       "      <td>0.000000</td>\n",
       "      <td>0.000000</td>\n",
       "      <td>0.000000</td>\n",
       "      <td>0.000000</td>\n",
       "      <td>0.083333</td>\n",
       "      <td>0.000000</td>\n",
       "      <td>2.074996e-07</td>\n",
       "      <td>-136.853061</td>\n",
       "    </tr>\n",
       "    <tr>\n",
       "      <th>25%</th>\n",
       "      <td>2012.0</td>\n",
       "      <td>2.868348e+10</td>\n",
       "      <td>1.185185e+02</td>\n",
       "      <td>3.314815e+03</td>\n",
       "      <td>3.822222e+03</td>\n",
       "      <td>0.000000</td>\n",
       "      <td>0.000000e+00</td>\n",
       "      <td>0.000000e+00</td>\n",
       "      <td>1.074074e+02</td>\n",
       "      <td>-6.519444e+03</td>\n",
       "      <td>...</td>\n",
       "      <td>0.088205</td>\n",
       "      <td>39.000000</td>\n",
       "      <td>0.000000</td>\n",
       "      <td>0.000000</td>\n",
       "      <td>0.000000</td>\n",
       "      <td>0.000000</td>\n",
       "      <td>0.125000</td>\n",
       "      <td>0.000000</td>\n",
       "      <td>4.049695e+00</td>\n",
       "      <td>-0.241560</td>\n",
       "    </tr>\n",
       "    <tr>\n",
       "      <th>50%</th>\n",
       "      <td>2012.0</td>\n",
       "      <td>1.142688e+11</td>\n",
       "      <td>8.814815e+02</td>\n",
       "      <td>1.146852e+04</td>\n",
       "      <td>1.485185e+04</td>\n",
       "      <td>0.000000</td>\n",
       "      <td>0.000000e+00</td>\n",
       "      <td>0.000000e+00</td>\n",
       "      <td>4.600000e+03</td>\n",
       "      <td>2.407407e+02</td>\n",
       "      <td>...</td>\n",
       "      <td>0.429906</td>\n",
       "      <td>46.467364</td>\n",
       "      <td>0.000000</td>\n",
       "      <td>0.000000</td>\n",
       "      <td>0.000000</td>\n",
       "      <td>0.000000</td>\n",
       "      <td>0.291667</td>\n",
       "      <td>0.000000</td>\n",
       "      <td>9.767982e+00</td>\n",
       "      <td>0.000596</td>\n",
       "    </tr>\n",
       "    <tr>\n",
       "      <th>75%</th>\n",
       "      <td>2012.0</td>\n",
       "      <td>2.556061e+11</td>\n",
       "      <td>4.070370e+03</td>\n",
       "      <td>4.023333e+04</td>\n",
       "      <td>4.803796e+04</td>\n",
       "      <td>0.000000</td>\n",
       "      <td>0.000000e+00</td>\n",
       "      <td>0.000000e+00</td>\n",
       "      <td>3.940926e+04</td>\n",
       "      <td>4.066667e+03</td>\n",
       "      <td>...</td>\n",
       "      <td>0.990197</td>\n",
       "      <td>53.000000</td>\n",
       "      <td>0.000000</td>\n",
       "      <td>0.000000</td>\n",
       "      <td>0.000000</td>\n",
       "      <td>1.000000</td>\n",
       "      <td>0.621691</td>\n",
       "      <td>0.000000</td>\n",
       "      <td>1.754330e+01</td>\n",
       "      <td>0.037886</td>\n",
       "    </tr>\n",
       "    <tr>\n",
       "      <th>max</th>\n",
       "      <td>2012.0</td>\n",
       "      <td>4.641050e+11</td>\n",
       "      <td>3.570863e+06</td>\n",
       "      <td>1.874527e+07</td>\n",
       "      <td>3.660118e+07</td>\n",
       "      <td>666300.000000</td>\n",
       "      <td>3.266667e+06</td>\n",
       "      <td>3.253704e+06</td>\n",
       "      <td>1.036673e+08</td>\n",
       "      <td>4.378226e+06</td>\n",
       "      <td>...</td>\n",
       "      <td>1.000000</td>\n",
       "      <td>75.000000</td>\n",
       "      <td>1.000000</td>\n",
       "      <td>1.000000</td>\n",
       "      <td>1.000000</td>\n",
       "      <td>1.000000</td>\n",
       "      <td>42.118057</td>\n",
       "      <td>1.000000</td>\n",
       "      <td>4.771708e+01</td>\n",
       "      <td>752.109993</td>\n",
       "    </tr>\n",
       "  </tbody>\n",
       "</table>\n",
       "<p>8 rows × 103 columns</p>\n",
       "</div>"
      ],
      "text/plain": [
       "          year       comp_id         amort   curr_assets     curr_liab  \\\n",
       "count  19036.0  1.903600e+04  1.903600e+04  1.903600e+04  1.903600e+04   \n",
       "mean    2012.0  1.529275e+11  9.274374e+03  9.914862e+04  8.567028e+04   \n",
       "std        0.0  1.377319e+11  4.975021e+04  4.377075e+05  4.202974e+05   \n",
       "min     2012.0  1.001541e+06 -1.489630e+04  0.000000e+00 -8.759259e+03   \n",
       "25%     2012.0  2.868348e+10  1.185185e+02  3.314815e+03  3.822222e+03   \n",
       "50%     2012.0  1.142688e+11  8.814815e+02  1.146852e+04  1.485185e+04   \n",
       "75%     2012.0  2.556061e+11  4.070370e+03  4.023333e+04  4.803796e+04   \n",
       "max     2012.0  4.641050e+11  3.570863e+06  1.874527e+07  3.660118e+07   \n",
       "\n",
       "           extra_exp     extra_inc  extra_profit_loss  fixed_assets  \\\n",
       "count   19036.000000  1.903600e+04       1.903600e+04  1.903600e+04   \n",
       "mean      418.017165  1.641894e+03       1.220200e+03  1.451590e+05   \n",
       "std      7141.930068  3.283540e+04       3.212567e+04  1.105861e+06   \n",
       "min     -1418.518555 -1.740741e+02      -2.484481e+05  0.000000e+00   \n",
       "25%         0.000000  0.000000e+00       0.000000e+00  1.074074e+02   \n",
       "50%         0.000000  0.000000e+00       0.000000e+00  4.600000e+03   \n",
       "75%         0.000000  0.000000e+00       0.000000e+00  3.940926e+04   \n",
       "max    666300.000000  3.266667e+06       3.253704e+06  1.036673e+08   \n",
       "\n",
       "        inc_bef_tax  ...  share_eq_bs_quad       ceo_age  flag_low_ceo_age  \\\n",
       "count  1.903600e+04  ...      19036.000000  19036.000000      19036.000000   \n",
       "mean   5.869079e+03  ...          0.489963     46.429850          0.011189   \n",
       "std    1.305634e+05  ...          0.393777     10.337327          0.105189   \n",
       "min   -1.091879e+07  ...          0.000000     25.000000          0.000000   \n",
       "25%   -6.519444e+03  ...          0.088205     39.000000          0.000000   \n",
       "50%    2.407407e+02  ...          0.429906     46.467364          0.000000   \n",
       "75%    4.066667e+03  ...          0.990197     53.000000          0.000000   \n",
       "max    4.378226e+06  ...          1.000000     75.000000          1.000000   \n",
       "\n",
       "       flag_high_ceo_age  flag_miss_ceo_age     ceo_young  labor_avg_mod  \\\n",
       "count       19036.000000       19036.000000  19036.000000   19036.000000   \n",
       "mean            0.004150           0.145619      0.267388       0.627548   \n",
       "std             0.064289           0.352733      0.442608       1.473032   \n",
       "min             0.000000           0.000000      0.000000       0.083333   \n",
       "25%             0.000000           0.000000      0.000000       0.125000   \n",
       "50%             0.000000           0.000000      0.000000       0.291667   \n",
       "75%             0.000000           0.000000      1.000000       0.621691   \n",
       "max             1.000000           1.000000      1.000000      42.118057   \n",
       "\n",
       "       flag_miss_labor_avg  sales_mil_log_sq  profit_margin  \n",
       "count         19036.000000      1.903600e+04   19036.000000  \n",
       "mean              0.135900      1.225573e+01      -0.202448  \n",
       "std               0.342692      1.042676e+01       5.821007  \n",
       "min               0.000000      2.074996e-07    -136.853061  \n",
       "25%               0.000000      4.049695e+00      -0.241560  \n",
       "50%               0.000000      9.767982e+00       0.000596  \n",
       "75%               0.000000      1.754330e+01       0.037886  \n",
       "max               1.000000      4.771708e+01     752.109993  \n",
       "\n",
       "[8 rows x 103 columns]"
      ]
     },
     "execution_count": 4,
     "metadata": {},
     "output_type": "execute_result"
    }
   ],
   "source": [
    "data.describe()"
   ]
  },
  {
   "cell_type": "code",
   "execution_count": 5,
   "metadata": {},
   "outputs": [
    {
     "data": {
      "text/plain": [
       "fast_growth\n",
       "0    0.683915\n",
       "1    0.316085\n",
       "Name: proportion, dtype: float64"
      ]
     },
     "execution_count": 5,
     "metadata": {},
     "output_type": "execute_result"
    }
   ],
   "source": [
    "data.fast_growth.value_counts(normalize=True)"
   ]
  },
  {
   "cell_type": "markdown",
   "metadata": {},
   "source": [
    "### Correlation and Multicollinearity Check\n",
    "\n",
    "There are many highly correlated variables in the dataset, but upon closer examination, most of these features are either **directly derived from each other** through feature engineering (e.g., binary variables, squared terms, and log transformations) or **conceptually related** (e.g., different representations of the same financial metric). Many correlations arise from **mathematical relationships**, such as `age` and `age²` or `sales` and `log(sales)`, while others come from **categorical encodings and flags** that capture similar information. Despite the high correlations, the Variance Inflation Factor (VIF) analysis did not identify multicollinearity issues, likely because the relationships do not create redundancy in the model."
   ]
  },
  {
   "cell_type": "code",
   "execution_count": 11,
   "metadata": {},
   "outputs": [
    {
     "name": "stdout",
     "output_type": "stream",
     "text": [
      "Highly correlated feature pairs (|correlation| > 0.8):\n",
      "[('amort', 'total_assets_bs'), ('extra_inc', 'extra_profit_loss'), ('fixed_assets', 'tang_assets'), ('fixed_assets', 'total_assets_bs'), ('inc_bef_tax', 'profit_loss_year'), ('material_exp', 'sales'), ('material_exp', 'sales_mil'), ('personnel_exp', 'sales'), ('personnel_exp', 'sales_mil'), ('personnel_exp', 'labor_avg_mod'), ('sales', 'sales_mil'), ('tang_assets', 'total_assets_bs'), ('balsheet_length', 'balsheet_notfullyear'), ('founded_year', 'age'), ('founded_year', 'age2'), ('foreign', 'foreign_management'), ('birth_year', 'ceo_age'), ('nace_main', 'ind2'), ('nace_main', 'ind'), ('nace_main', 'ind2_cat'), ('ind2', 'ind'), ('ind2', 'ind2_cat'), ('ind', 'ind2_cat'), ('ln_sales', 'sales_mil_log'), ('ln_sales', 'sales_mil_log_sq'), ('sales_mil_log', 'sales_mil_log_sq'), ('age', 'age2'), ('extra_inc_pl', 'extra_profit_loss_pl'), ('extra_inc_pl', 'extra_profit_loss_pl_quad'), ('inc_bef_tax_pl', 'profit_loss_year_pl'), ('fixed_assets_bs', 'curr_assets_bs'), ('fixed_assets_bs', 'tang_assets_bs'), ('curr_assets_bs', 'tang_assets_bs'), ('share_eq_bs', 'share_eq_bs_flag_low'), ('extra_inc_pl_flag_high', 'extra_profit_loss_pl_flag_high'), ('material_exp_pl_flag_error', 'personnel_exp_pl_flag_error'), ('inc_bef_tax_pl_flag_low', 'profit_loss_year_pl_flag_low'), ('inc_bef_tax_pl_flag_low', 'profit_loss_year_pl_quad'), ('profit_loss_year_pl_flag_low', 'profit_loss_year_pl_quad'), ('extra_profit_loss_pl_flag_high', 'extra_profit_loss_pl_quad'), ('inc_bef_tax_pl_flag_high', 'profit_loss_year_pl_flag_high'), ('inc_bef_tax_pl_quad', 'profit_loss_year_pl_quad')]\n",
      "\n",
      "Variance Inflation Factor (VIF):\n",
      "Empty DataFrame\n",
      "Columns: [Feature, VIF]\n",
      "Index: []\n"
     ]
    }
   ],
   "source": [
    "import numpy as np\n",
    "import pandas as pd\n",
    "import seaborn as sns\n",
    "import matplotlib.pyplot as plt\n",
    "from statsmodels.stats.outliers_influence import variance_inflation_factor\n",
    "\n",
    "# ----------------------------\n",
    "# 📌 Identify Categorical Variables 🏷️\n",
    "# ----------------------------\n",
    "categorical_vars = data.select_dtypes(include=['object', 'category']).columns.to_list()\n",
    "\n",
    "# 🛠️ Manually add 'begin' and 'end' (since they are causing issues)\n",
    "categorical_vars.extend(['begin', 'end'])\n",
    "\n",
    "# ----------------------------\n",
    "# 📌 Drop Categorical Variables 🗑️\n",
    "# ----------------------------\n",
    "df_filtered = data.drop(columns=categorical_vars)\n",
    "\n",
    "# ----------------------------\n",
    "# 📌 Compute Correlation Matrix 📊\n",
    "# ----------------------------\n",
    "corr_matrix = df_filtered.corr()\n",
    "\n",
    "# ----------------------------\n",
    "# 📌 Identify Highly Correlated Features 🔍\n",
    "# ----------------------------\n",
    "high_corr_pairs = [\n",
    "    (corr_matrix.index[x], corr_matrix.columns[y]) \n",
    "    for x, y in zip(*np.where(np.abs(corr_matrix) > 0.8)) \n",
    "    if x < y  # Avoid duplicates\n",
    "]\n",
    "\n",
    "# ✅ Print results\n",
    "print(\"Highly correlated feature pairs (|correlation| > 0.8):\")\n",
    "print(high_corr_pairs)\n",
    "\n",
    "# ----------------------------\n",
    "# 📌 Calculate Variance Inflation Factor (VIF) 📈\n",
    "# ----------------------------\n",
    "X = df_filtered.drop(columns=[target]).dropna()  # 🛠️ Drop NaNs\n",
    "\n",
    "# 🚨 Drop constant columns (zero variance)\n",
    "X = X.loc[:, X.nunique() > 1]\n",
    "\n",
    "# ✅ Compute VIF for each feature\n",
    "vif_data = pd.DataFrame({\n",
    "    'Feature': X.columns,\n",
    "    'VIF': [variance_inflation_factor(X.values, i) for i in range(X.shape[1])]\n",
    "})\n",
    "\n",
    "# ----------------------------\n",
    "# 📌 Print VIF Results 📢\n",
    "# ----------------------------\n",
    "print(\"\\nVariance Inflation Factor (VIF):\")\n",
    "print(vif_data.sort_values(by=\"VIF\", ascending=False))  # 🏆 Sort for better readability"
   ]
  },
  {
   "cell_type": "markdown",
   "metadata": {},
   "source": [
    "## Model building\n",
    "\n",
    "### Define variable sets "
   ]
  },
  {
   "cell_type": "markdown",
   "metadata": {},
   "source": [
    " Main firm variables"
   ]
  },
  {
   "cell_type": "code",
   "execution_count": 12,
   "metadata": {},
   "outputs": [],
   "source": [
    "rawvars = [\n",
    "    \"curr_assets\",\n",
    "    \"curr_liab\",\n",
    "    \"extra_exp\",\n",
    "    \"extra_inc\",\n",
    "    \"extra_profit_loss\",\n",
    "    \"fixed_assets\",\n",
    "    \"inc_bef_tax\",\n",
    "    \"intang_assets\",\n",
    "    \"inventories\",\n",
    "    \"liq_assets\",\n",
    "    \"material_exp\",\n",
    "    \"personnel_exp\",\n",
    "    \"profit_loss_year\",\n",
    "    #\"sales\",\n",
    "    \"share_eq\",\n",
    "    \"subscribed_cap\",\n",
    "]"
   ]
  },
  {
   "cell_type": "markdown",
   "metadata": {},
   "source": [
    "Further financial variables"
   ]
  },
  {
   "cell_type": "code",
   "execution_count": 13,
   "metadata": {},
   "outputs": [],
   "source": [
    "qualityvars = [\"balsheet_flag\", \"balsheet_length\", \"balsheet_notfullyear\"]\n",
    "engvar = [\n",
    "    \"total_assets_bs\",\n",
    "    \"fixed_assets_bs\",\n",
    "    \"liq_assets_bs\",\n",
    "    \"curr_assets_bs\",\n",
    "    \"share_eq_bs\",\n",
    "    \"subscribed_cap_bs\",\n",
    "    \"intang_assets_bs\",\n",
    "    \"extra_exp_pl\",\n",
    "    \"extra_inc_pl\",\n",
    "    \"extra_profit_loss_pl\",\n",
    "    \"inc_bef_tax_pl\",\n",
    "    \"inventories_pl\",\n",
    "    \"material_exp_pl\",\n",
    "    \"profit_loss_year_pl\",\n",
    "    \"personnel_exp_pl\",\n",
    "]\n",
    "engvar2 = [\n",
    "    \"extra_profit_loss_pl_quad\",\n",
    "    \"inc_bef_tax_pl_quad\",\n",
    "    \"profit_loss_year_pl_quad\",\n",
    "    \"share_eq_bs_quad\",\n",
    "]"
   ]
  },
  {
   "cell_type": "markdown",
   "metadata": {},
   "source": [
    " Flag variables"
   ]
  },
  {
   "cell_type": "code",
   "execution_count": 14,
   "metadata": {},
   "outputs": [],
   "source": [
    "engvar3 = []\n",
    "for col in data.columns:\n",
    "    if (\n",
    "        col.endswith(\"flag_low\")\n",
    "        or col.endswith(\"flag_high\")\n",
    "        or col.endswith(\"flag_error\")\n",
    "        or col.endswith(\"flag_zero\")\n",
    "    ):\n",
    "        engvar3.append(col)"
   ]
  },
  {
   "cell_type": "markdown",
   "metadata": {},
   "source": [
    "Growth variables - removed due to data leakage, added defaults metric instead "
   ]
  },
  {
   "cell_type": "code",
   "execution_count": 16,
   "metadata": {},
   "outputs": [],
   "source": [
    "# d1 = [\n",
    "#     \"d1_sales_mil_log_mod\",\n",
    "#     \"d1_sales_mil_log_mod_sq\",\n",
    "#     \"flag_low_d1_sales_mil_log\",\n",
    "#     \"flag_high_d1_sales_mil_log\",\n",
    "# ]\n"
   ]
  },
  {
   "cell_type": "markdown",
   "metadata": {},
   "source": [
    "Human capital related variables"
   ]
  },
  {
   "cell_type": "code",
   "execution_count": 17,
   "metadata": {},
   "outputs": [],
   "source": [
    "hr = [\n",
    "    \"female\",\n",
    "    \"ceo_age\",\n",
    "    \"flag_high_ceo_age\",\n",
    "    \"flag_low_ceo_age\",\n",
    "    \"flag_miss_ceo_age\",\n",
    "    \"ceo_count\",\n",
    "    \"labor_avg_mod\",\n",
    "    \"flag_miss_labor_avg\",\n",
    "    \"foreign_management\",\n",
    "]"
   ]
  },
  {
   "cell_type": "markdown",
   "metadata": {},
   "source": [
    " Firms history related variables"
   ]
  },
  {
   "cell_type": "code",
   "execution_count": 18,
   "metadata": {},
   "outputs": [],
   "source": [
    "firm = [\"age\", \"age2\", \"new\", \"C(ind2_cat)\", \"C(m_region_loc)\", \"C(urban_m)\"]"
   ]
  },
  {
   "cell_type": "markdown",
   "metadata": {},
   "source": [
    "interactions for logit, LASSO"
   ]
  },
  {
   "cell_type": "code",
   "execution_count": 19,
   "metadata": {},
   "outputs": [],
   "source": [
    "interactions1 = [\n",
    "    \"C(ind2_cat)*age\",\n",
    "    \"C(ind2_cat)*age2\",\n",
    "    \"C(ind2_cat)*ceo_age\",\n",
    "    \"C(ind2_cat)*foreign_management\",\n",
    "    \"C(ind2_cat)*female\",\n",
    "    \"C(ind2_cat)*C(urban_m)\",\n",
    "    \"C(ind2_cat)*labor_avg_mod\",\n",
    "]\n",
    "interactions2 = [\n",
    "    \"profit_loss_year_pl*age\",\n",
    "    \"profit_loss_year_pl*female\",\n",
    "    \"profit_loss_year_pl*foreign_management\",\n",
    "    \"profit_loss_year_pl*fixed_assets_bs\",\n",
    "    \"age*foreign_management\",\n",
    "    \"age*female\",\n",
    "    \"fixed_assets_bs*foreign_management\",\n",
    "    \"fixed_assets_bs*female\",\n",
    "]"
   ]
  },
  {
   "cell_type": "markdown",
   "metadata": {},
   "source": [
    "## Model setups"
   ]
  },
  {
   "cell_type": "markdown",
   "metadata": {},
   "source": [
    "1. Simple logit models"
   ]
  },
  {
   "cell_type": "code",
   "execution_count": 20,
   "metadata": {},
   "outputs": [],
   "source": [
    "target = \"fast_growth\"\n",
    "\n",
    "M1 = [\n",
    "    \"profit_loss_year_pl\",\n",
    "    \"C(ind2_cat)\",\n",
    "]\n",
    "M2 = [\n",
    "    \"profit_loss_year_pl\",\n",
    "    \"fixed_assets_bs\",\n",
    "    \"share_eq_bs\",\n",
    "    \"curr_liab_bs \",\n",
    "    \"curr_liab_bs_flag_high \",\n",
    "    \"curr_liab_bs_flag_error\",\n",
    "    \"age\",\n",
    "    \"foreign_management\",\n",
    "    \"C(ind2_cat)\",\n",
    "]\n",
    "M3 = firm + engvar\n",
    "M4 = ( firm\n",
    "    + engvar\n",
    "    + engvar2\n",
    "    + engvar3\n",
    "    + hr\n",
    "    + qualityvars\n",
    ")\n",
    "M5 = (firm\n",
    "    + engvar\n",
    "    + engvar2\n",
    "    + engvar3\n",
    "    + hr\n",
    "    + qualityvars\n",
    "    + interactions1\n",
    "    + interactions2\n",
    ")"
   ]
  },
  {
   "cell_type": "markdown",
   "metadata": {},
   "source": [
    "2. logit+LASSO"
   ]
  },
  {
   "cell_type": "code",
   "execution_count": 21,
   "metadata": {
    "scrolled": true
   },
   "outputs": [],
   "source": [
    "logit_lasso_vars = (engvar\n",
    "    + engvar2\n",
    "    + engvar3\n",
    "    + hr\n",
    "    + firm\n",
    "    + qualityvars\n",
    "    + interactions1\n",
    "    + interactions2\n",
    ")"
   ]
  },
  {
   "cell_type": "markdown",
   "metadata": {},
   "source": [
    "3. CART and RF (no interactions, no modified features)"
   ]
  },
  {
   "cell_type": "code",
   "execution_count": 22,
   "metadata": {},
   "outputs": [],
   "source": [
    "rfvars = rawvars + hr + firm + qualityvars"
   ]
  },
  {
   "cell_type": "markdown",
   "metadata": {},
   "source": [
    "## Quick reminder about probability models"
   ]
  },
  {
   "cell_type": "markdown",
   "metadata": {},
   "source": [
    " Linear probability model"
   ]
  },
  {
   "cell_type": "code",
   "execution_count": 24,
   "metadata": {},
   "outputs": [
    {
     "name": "stdout",
     "output_type": "stream",
     "text": [
      "                            OLS Regression Results                            \n",
      "==============================================================================\n",
      "Dep. Variable:            fast_growth   R-squared:                       0.076\n",
      "Model:                            OLS   Adj. R-squared:                  0.069\n",
      "Method:                 Least Squares   F-statistic:                     74.32\n",
      "Date:                Tue, 04 Mar 2025   Prob (F-statistic):               0.00\n",
      "Time:                        14:34:55   Log-Likelihood:                -11682.\n",
      "No. Observations:               19036   AIC:                         2.364e+04\n",
      "Df Residuals:                   18898   BIC:                         2.472e+04\n",
      "Df Model:                         137                                         \n",
      "Covariance Type:                  HC1                                         \n",
      "==========================================================================================================\n",
      "                                             coef    std err          z      P>|z|      [0.025      0.975]\n",
      "----------------------------------------------------------------------------------------------------------\n",
      "Intercept                                  0.6184      0.182      3.397      0.001       0.262       0.975\n",
      "C(ind2_cat)[T.27.0]                        0.0516      0.140      0.369      0.712      -0.223       0.326\n",
      "C(ind2_cat)[T.28.0]                        0.1732      0.108      1.609      0.108      -0.038       0.384\n",
      "C(ind2_cat)[T.29.0]                        0.0422      0.193      0.219      0.826      -0.335       0.420\n",
      "C(ind2_cat)[T.30.0]                        0.2057      0.232      0.888      0.374      -0.248       0.660\n",
      "C(ind2_cat)[T.33.0]                        0.1142      0.106      1.081      0.280      -0.093       0.321\n",
      "C(ind2_cat)[T.55.0]                        0.1281      0.100      1.277      0.201      -0.068       0.325\n",
      "C(ind2_cat)[T.56.0]                        0.0533      0.089      0.598      0.550      -0.121       0.228\n",
      "C(m_region_loc)[T.East]                   -0.0059      0.009     -0.654      0.513      -0.024       0.012\n",
      "C(m_region_loc)[T.West]                   -0.0115      0.010     -1.116      0.264      -0.032       0.009\n",
      "C(urban_m)[T.2.0]                         -0.0955      0.036     -2.652      0.008      -0.166      -0.025\n",
      "C(urban_m)[T.3.0]                         -0.0061      0.036     -0.171      0.864      -0.076       0.064\n",
      "C(ind2_cat)[T.27.0]:C(urban_m)[T.2.0]      0.1691      0.058      2.896      0.004       0.055       0.284\n",
      "C(ind2_cat)[T.28.0]:C(urban_m)[T.2.0]      0.1032      0.045      2.284      0.022       0.015       0.192\n",
      "C(ind2_cat)[T.29.0]:C(urban_m)[T.2.0]      0.0233      0.092      0.253      0.801      -0.157       0.204\n",
      "C(ind2_cat)[T.30.0]:C(urban_m)[T.2.0]      0.1885      0.106      1.775      0.076      -0.020       0.397\n",
      "C(ind2_cat)[T.33.0]:C(urban_m)[T.2.0]      0.1256      0.046      2.757      0.006       0.036       0.215\n",
      "C(ind2_cat)[T.55.0]:C(urban_m)[T.2.0]      0.0249      0.046      0.543      0.587      -0.065       0.115\n",
      "C(ind2_cat)[T.56.0]:C(urban_m)[T.2.0]      0.0781      0.037      2.085      0.037       0.005       0.151\n",
      "C(ind2_cat)[T.27.0]:C(urban_m)[T.3.0]      0.0406      0.056      0.729      0.466      -0.069       0.150\n",
      "C(ind2_cat)[T.28.0]:C(urban_m)[T.3.0]      0.0280      0.045      0.627      0.531      -0.059       0.115\n",
      "C(ind2_cat)[T.29.0]:C(urban_m)[T.3.0]     -0.0398      0.089     -0.448      0.654      -0.214       0.134\n",
      "C(ind2_cat)[T.30.0]:C(urban_m)[T.3.0]      0.1680      0.093      1.815      0.069      -0.013       0.349\n",
      "C(ind2_cat)[T.33.0]:C(urban_m)[T.3.0]     -0.0045      0.045     -0.099      0.921      -0.093       0.084\n",
      "C(ind2_cat)[T.55.0]:C(urban_m)[T.3.0]      0.0150      0.044      0.341      0.733      -0.071       0.101\n",
      "C(ind2_cat)[T.56.0]:C(urban_m)[T.3.0]     -0.0148      0.037     -0.400      0.689      -0.087       0.058\n",
      "age                                       -0.0088      0.009     -0.950      0.342      -0.027       0.009\n",
      "C(ind2_cat)[T.27.0]:age                    0.0053      0.015      0.360      0.719      -0.024       0.034\n",
      "C(ind2_cat)[T.28.0]:age                   -0.0177      0.011     -1.562      0.118      -0.040       0.005\n",
      "C(ind2_cat)[T.29.0]:age                   -0.0423      0.021     -2.058      0.040      -0.083      -0.002\n",
      "C(ind2_cat)[T.30.0]:age                   -0.0109      0.023     -0.467      0.640      -0.057       0.035\n",
      "C(ind2_cat)[T.33.0]:age                   -0.0092      0.011     -0.839      0.402      -0.031       0.012\n",
      "C(ind2_cat)[T.55.0]:age                   -0.0152      0.011     -1.414      0.157      -0.036       0.006\n",
      "C(ind2_cat)[T.56.0]:age                   -0.0130      0.010     -1.358      0.175      -0.032       0.006\n",
      "age2                                       0.0001      0.000      0.320      0.749      -0.001       0.001\n",
      "C(ind2_cat)[T.27.0]:age2                  -0.0002      0.001     -0.251      0.802      -0.001       0.001\n",
      "C(ind2_cat)[T.28.0]:age2                   0.0008      0.000      1.768      0.077   -8.84e-05       0.002\n",
      "C(ind2_cat)[T.29.0]:age2                   0.0018      0.001      2.046      0.041    7.38e-05       0.003\n",
      "C(ind2_cat)[T.30.0]:age2                   0.0006      0.001      0.586      0.558      -0.001       0.003\n",
      "C(ind2_cat)[T.33.0]:age2                   0.0003      0.000      0.734      0.463      -0.001       0.001\n",
      "C(ind2_cat)[T.55.0]:age2                   0.0007      0.000      1.481      0.139      -0.000       0.002\n",
      "C(ind2_cat)[T.56.0]:age2                   0.0006      0.000      1.509      0.131      -0.000       0.001\n",
      "new                                        0.0036      0.014      0.263      0.793      -0.023       0.030\n",
      "total_assets_bs                         1.076e-09   2.55e-09      0.422      0.673   -3.92e-09    6.07e-09\n",
      "fixed_assets_bs                           -0.0067      0.149     -0.045      0.964      -0.298       0.284\n",
      "liq_assets_bs                              0.0924      0.015      5.960      0.000       0.062       0.123\n",
      "curr_assets_bs                            -0.0459      0.148     -0.310      0.757      -0.336       0.244\n",
      "share_eq_bs                                0.0011      0.012      0.091      0.927      -0.023       0.025\n",
      "subscribed_cap_bs                          0.0113      0.016      0.707      0.480      -0.020       0.043\n",
      "intang_assets_bs                           0.0559      0.160      0.349      0.727      -0.258       0.369\n",
      "extra_exp_pl                               0.4533      0.155      2.919      0.004       0.149       0.758\n",
      "extra_inc_pl                              -0.1452      0.285     -0.510      0.610      -0.704       0.413\n",
      "extra_profit_loss_pl                       0.3364      0.180      1.867      0.062      -0.017       0.690\n",
      "inc_bef_tax_pl                            -0.0388      0.078     -0.500      0.617      -0.191       0.113\n",
      "inventories_pl                             0.1445      0.026      5.609      0.000       0.094       0.195\n",
      "material_exp_pl                            0.0063      0.023      0.271      0.786      -0.039       0.051\n",
      "profit_loss_year_pl                        0.0746      0.078      0.955      0.339      -0.078       0.228\n",
      "personnel_exp_pl                           0.0080      0.023      0.355      0.723      -0.036       0.052\n",
      "extra_profit_loss_pl_quad                 -0.1242      0.217     -0.573      0.566      -0.549       0.300\n",
      "inc_bef_tax_pl_quad                       -0.0659      0.085     -0.776      0.438      -0.232       0.100\n",
      "profit_loss_year_pl_quad                   0.2173      0.091      2.384      0.017       0.039       0.396\n",
      "share_eq_bs_quad                          -0.0199      0.015     -1.301      0.193      -0.050       0.010\n",
      "extra_exp_pl_flag_high                     0.3674      0.184      1.996      0.046       0.007       0.728\n",
      "extra_inc_pl_flag_high                    -0.4321      0.252     -1.714      0.087      -0.926       0.062\n",
      "inventories_pl_flag_high                  -0.0307      0.033     -0.936      0.349      -0.095       0.034\n",
      "material_exp_pl_flag_high                  0.0433      0.013      3.261      0.001       0.017       0.069\n",
      "personnel_exp_pl_flag_high                -0.0347      0.025     -1.404      0.160      -0.083       0.014\n",
      "curr_liab_bs_flag_high                    -0.0030      0.012     -0.248      0.804      -0.027       0.021\n",
      "liq_assets_bs_flag_high                   -0.2026      0.199     -1.019      0.308      -0.592       0.187\n",
      "subscribed_cap_bs_flag_high                0.0224      0.016      1.404      0.160      -0.009       0.054\n",
      "extra_exp_pl_flag_error                    0.1295      0.272      0.476      0.634      -0.403       0.662\n",
      "extra_inc_pl_flag_error                   -0.2873      0.063     -4.591      0.000      -0.410      -0.165\n",
      "inventories_pl_flag_error                 -0.0463      0.211     -0.219      0.826      -0.460       0.368\n",
      "material_exp_pl_flag_error                -0.2854      0.384     -0.743      0.458      -1.039       0.468\n",
      "personnel_exp_pl_flag_error                0.2452      0.341      0.719      0.472      -0.423       0.914\n",
      "curr_liab_bs_flag_error                    0.0069      0.144      0.047      0.962      -0.276       0.290\n",
      "liq_assets_bs_flag_error                   0.0844      0.101      0.836      0.403      -0.113       0.282\n",
      "subscribed_cap_bs_flag_error              -0.2436      0.135     -1.808      0.071      -0.508       0.021\n",
      "extra_profit_loss_pl_flag_low             -0.1903      0.368     -0.517      0.605      -0.912       0.531\n",
      "inc_bef_tax_pl_flag_low                    0.2153      0.198      1.090      0.276      -0.172       0.603\n",
      "profit_loss_year_pl_flag_low              -0.2097      0.199     -1.055      0.291      -0.599       0.180\n",
      "share_eq_bs_flag_low                      -0.0115      0.022     -0.530      0.596      -0.054       0.031\n",
      "extra_profit_loss_pl_flag_high             0.3916      0.323      1.211      0.226      -0.242       1.025\n",
      "inc_bef_tax_pl_flag_high                   0.1324      0.122      1.082      0.279      -0.107       0.372\n",
      "profit_loss_year_pl_flag_high             -0.0645      0.137     -0.469      0.639      -0.334       0.205\n",
      "share_eq_bs_flag_high                      0.1060      0.038      2.752      0.006       0.031       0.181\n",
      "extra_profit_loss_pl_flag_zero             0.0104      0.011      0.954      0.340      -0.011       0.032\n",
      "inc_bef_tax_pl_flag_zero                  -0.0564      0.081     -0.698      0.485      -0.215       0.102\n",
      "profit_loss_year_pl_flag_zero             -0.0186      0.021     -0.891      0.373      -0.060       0.022\n",
      "share_eq_bs_flag_zero                     -0.1020      0.132     -0.774      0.439      -0.360       0.156\n",
      "female                                    -0.0046      0.052     -0.089      0.929      -0.106       0.097\n",
      "C(ind2_cat)[T.27.0]:female                 0.0029      0.076      0.039      0.969      -0.146       0.152\n",
      "C(ind2_cat)[T.28.0]:female                 0.0030      0.062      0.049      0.961      -0.118       0.124\n",
      "C(ind2_cat)[T.29.0]:female                -0.0891      0.103     -0.865      0.387      -0.291       0.113\n",
      "C(ind2_cat)[T.30.0]:female                 0.0122      0.142      0.086      0.932      -0.267       0.291\n",
      "C(ind2_cat)[T.33.0]:female                 0.0198      0.061      0.323      0.747      -0.101       0.140\n",
      "C(ind2_cat)[T.55.0]:female                 0.0273      0.056      0.486      0.627      -0.083       0.137\n",
      "C(ind2_cat)[T.56.0]:female                -0.0171      0.051     -0.336      0.737      -0.116       0.082\n",
      "ceo_age                                   -0.0002      0.002     -0.119      0.906      -0.003       0.003\n",
      "C(ind2_cat)[T.27.0]:ceo_age               -0.0032      0.003     -1.267      0.205      -0.008       0.002\n",
      "C(ind2_cat)[T.28.0]:ceo_age               -0.0030      0.002     -1.561      0.119      -0.007       0.001\n",
      "C(ind2_cat)[T.29.0]:ceo_age                0.0044      0.003      1.277      0.202      -0.002       0.011\n",
      "C(ind2_cat)[T.30.0]:ceo_age               -0.0054      0.004     -1.355      0.175      -0.013       0.002\n",
      "C(ind2_cat)[T.33.0]:ceo_age               -0.0018      0.002     -0.927      0.354      -0.006       0.002\n",
      "C(ind2_cat)[T.55.0]:ceo_age               -0.0020      0.002     -1.113      0.266      -0.006       0.002\n",
      "C(ind2_cat)[T.56.0]:ceo_age               -0.0014      0.002     -0.870      0.384      -0.005       0.002\n",
      "flag_high_ceo_age                          0.0598      0.052      1.150      0.250      -0.042       0.162\n",
      "flag_low_ceo_age                           0.0038      0.035      0.111      0.912      -0.064       0.072\n",
      "flag_miss_ceo_age                         -0.0272      0.011     -2.469      0.014      -0.049      -0.006\n",
      "ceo_count                                 -0.0043      0.006     -0.683      0.495      -0.017       0.008\n",
      "labor_avg_mod                              0.0075      0.006      1.248      0.212      -0.004       0.019\n",
      "C(ind2_cat)[T.27.0]:labor_avg_mod         -0.0040      0.009     -0.427      0.670      -0.022       0.014\n",
      "C(ind2_cat)[T.28.0]:labor_avg_mod         -0.0133      0.009     -1.502      0.133      -0.031       0.004\n",
      "C(ind2_cat)[T.29.0]:labor_avg_mod         -0.0180      0.007     -2.539      0.011      -0.032      -0.004\n",
      "C(ind2_cat)[T.30.0]:labor_avg_mod         -0.0513      0.021     -2.390      0.017      -0.093      -0.009\n",
      "C(ind2_cat)[T.33.0]:labor_avg_mod         -0.0189      0.008     -2.313      0.021      -0.035      -0.003\n",
      "C(ind2_cat)[T.55.0]:labor_avg_mod         -0.0358      0.010     -3.718      0.000      -0.055      -0.017\n",
      "C(ind2_cat)[T.56.0]:labor_avg_mod         -0.0277      0.008     -3.694      0.000      -0.042      -0.013\n",
      "flag_miss_labor_avg                        0.0591      0.011      5.226      0.000       0.037       0.081\n",
      "foreign_management                        -0.0385      0.049     -0.784      0.433      -0.135       0.058\n",
      "C(ind2_cat)[T.27.0]:foreign_management     0.0467      0.069      0.680      0.496      -0.088       0.181\n",
      "C(ind2_cat)[T.28.0]:foreign_management     0.1060      0.054      1.946      0.052      -0.001       0.213\n",
      "C(ind2_cat)[T.29.0]:foreign_management     0.1474      0.083      1.778      0.075      -0.015       0.310\n",
      "C(ind2_cat)[T.30.0]:foreign_management     0.3979      0.143      2.792      0.005       0.119       0.677\n",
      "C(ind2_cat)[T.33.0]:foreign_management     0.0639      0.061      1.047      0.295      -0.056       0.183\n",
      "C(ind2_cat)[T.55.0]:foreign_management     0.0303      0.052      0.578      0.563      -0.072       0.133\n",
      "C(ind2_cat)[T.56.0]:foreign_management     0.0593      0.047      1.249      0.212      -0.034       0.152\n",
      "balsheet_flag                             -0.1614      0.075     -2.139      0.032      -0.309      -0.014\n",
      "balsheet_length                           -0.0006      0.000     -4.101      0.000      -0.001      -0.000\n",
      "balsheet_notfullyear                       0.0757      0.030      2.513      0.012       0.017       0.135\n",
      "profit_loss_year_pl:age                   -0.0056      0.002     -3.446      0.001      -0.009      -0.002\n",
      "profit_loss_year_pl:female                -0.0249      0.024     -1.021      0.307      -0.073       0.023\n",
      "profit_loss_year_pl:foreign_management     0.0460      0.031      1.470      0.142      -0.015       0.107\n",
      "profit_loss_year_pl:fixed_assets_bs       -0.0282      0.028     -1.024      0.306      -0.082       0.026\n",
      "age:foreign_management                    -0.0017      0.002     -1.039      0.299      -0.005       0.002\n",
      "age:female                                 0.0009      0.001      0.705      0.481      -0.002       0.004\n",
      "fixed_assets_bs:foreign_management         0.0109      0.035      0.309      0.757      -0.058       0.080\n",
      "fixed_assets_bs:female                    -0.0276      0.026     -1.079      0.281      -0.078       0.023\n",
      "==============================================================================\n",
      "Omnibus:                     9983.214   Durbin-Watson:                   1.991\n",
      "Prob(Omnibus):                  0.000   Jarque-Bera (JB):             2719.073\n",
      "Skew:                           0.739   Prob(JB):                         0.00\n",
      "Kurtosis:                       1.886   Cond. No.                     2.98e+08\n",
      "==============================================================================\n",
      "\n",
      "Notes:\n",
      "[1] Standard Errors are heteroscedasticity robust (HC1)\n",
      "[2] The condition number is large, 2.98e+08. This might indicate that there are\n",
      "strong multicollinearity or other numerical problems.\n"
     ]
    }
   ],
   "source": [
    "ols_modelx2 = smf.ols(\"fast_growth~\" + \"+\".join(M5), data).fit(cov_type=\"HC1\")\n",
    "print(ols_modelx2.summary().as_text())"
   ]
  },
  {
   "cell_type": "code",
   "execution_count": 25,
   "metadata": {},
   "outputs": [
    {
     "name": "stdout",
     "output_type": "stream",
     "text": [
      "Optimization terminated successfully.\n",
      "         Current function value: 0.605886\n",
      "         Iterations 5\n"
     ]
    }
   ],
   "source": [
    "logit_modelx2 = smf.logit(\"fast_growth~\" + \"+\".join(M2), data).fit()"
   ]
  },
  {
   "cell_type": "code",
   "execution_count": 26,
   "metadata": {},
   "outputs": [
    {
     "name": "stdout",
     "output_type": "stream",
     "text": [
      "Warning: Maximum number of iterations has been exceeded.\n",
      "         Current function value: 0.585903\n",
      "         Iterations: 35\n"
     ]
    }
   ],
   "source": [
    "logit_modelx2 = smf.logit(\"fast_growth~\" + \"+\".join(M5), data).fit()"
   ]
  },
  {
   "cell_type": "code",
   "execution_count": 27,
   "metadata": {},
   "outputs": [
    {
     "name": "stdout",
     "output_type": "stream",
     "text": [
      "                           Logit Regression Results                           \n",
      "==============================================================================\n",
      "Dep. Variable:            fast_growth   No. Observations:                19036\n",
      "Model:                          Logit   Df Residuals:                    18898\n",
      "Method:                           MLE   Df Model:                          137\n",
      "Date:                Tue, 04 Mar 2025   Pseudo R-squ.:                 0.06088\n",
      "Time:                        14:35:00   Log-Likelihood:                -11153.\n",
      "converged:                      False   LL-Null:                       -11876.\n",
      "Covariance Type:            nonrobust   LLR p-value:                3.695e-217\n",
      "==========================================================================================================\n",
      "                                             coef    std err          z      P>|z|      [0.025      0.975]\n",
      "----------------------------------------------------------------------------------------------------------\n",
      "Intercept                                  0.7558      1.300      0.581      0.561      -1.792       3.304\n",
      "C(ind2_cat)[T.27.0]                        0.2825      0.665      0.425      0.671      -1.021       1.586\n",
      "C(ind2_cat)[T.28.0]                        0.8321      0.500      1.665      0.096      -0.148       1.812\n",
      "C(ind2_cat)[T.29.0]                        0.1332      0.878      0.152      0.879      -1.588       1.855\n",
      "C(ind2_cat)[T.30.0]                        1.0224      1.217      0.840      0.401      -1.362       3.407\n",
      "C(ind2_cat)[T.33.0]                        0.5258      0.487      1.080      0.280      -0.428       1.480\n",
      "C(ind2_cat)[T.55.0]                        0.6930      0.472      1.468      0.142      -0.232       1.618\n",
      "C(ind2_cat)[T.56.0]                        0.3496      0.411      0.850      0.395      -0.456       1.155\n",
      "C(m_region_loc)[T.East]                   -0.0313      0.045     -0.694      0.488      -0.120       0.057\n",
      "C(m_region_loc)[T.West]                   -0.0612      0.053     -1.157      0.247      -0.165       0.042\n",
      "C(urban_m)[T.2.0]                         -0.4888      0.193     -2.530      0.011      -0.868      -0.110\n",
      "C(urban_m)[T.3.0]                         -0.0253      0.165     -0.153      0.878      -0.349       0.298\n",
      "C(ind2_cat)[T.27.0]:C(urban_m)[T.2.0]      0.8525      0.302      2.827      0.005       0.261       1.444\n",
      "C(ind2_cat)[T.28.0]:C(urban_m)[T.2.0]      0.5321      0.237      2.247      0.025       0.068       0.996\n",
      "C(ind2_cat)[T.29.0]:C(urban_m)[T.2.0]      0.1509      0.436      0.346      0.729      -0.703       1.005\n",
      "C(ind2_cat)[T.30.0]:C(urban_m)[T.2.0]      0.9644      0.543      1.777      0.075      -0.099       2.028\n",
      "C(ind2_cat)[T.33.0]:C(urban_m)[T.2.0]      0.6329      0.233      2.715      0.007       0.176       1.090\n",
      "C(ind2_cat)[T.55.0]:C(urban_m)[T.2.0]      0.1047      0.244      0.429      0.668      -0.374       0.584\n",
      "C(ind2_cat)[T.56.0]:C(urban_m)[T.2.0]      0.3961      0.200      1.982      0.047       0.004       0.788\n",
      "C(ind2_cat)[T.27.0]:C(urban_m)[T.3.0]      0.1991      0.275      0.725      0.469      -0.339       0.738\n",
      "C(ind2_cat)[T.28.0]:C(urban_m)[T.3.0]      0.1402      0.210      0.667      0.505      -0.272       0.552\n",
      "C(ind2_cat)[T.29.0]:C(urban_m)[T.3.0]     -0.1862      0.406     -0.459      0.646      -0.981       0.609\n",
      "C(ind2_cat)[T.30.0]:C(urban_m)[T.3.0]      0.8582      0.461      1.862      0.063      -0.045       1.762\n",
      "C(ind2_cat)[T.33.0]:C(urban_m)[T.3.0]     -0.0220      0.209     -0.105      0.916      -0.432       0.388\n",
      "C(ind2_cat)[T.55.0]:C(urban_m)[T.3.0]      0.0681      0.207      0.330      0.741      -0.337       0.473\n",
      "C(ind2_cat)[T.56.0]:C(urban_m)[T.3.0]     -0.0866      0.172     -0.505      0.614      -0.423       0.250\n",
      "age                                       -0.0395      0.043     -0.910      0.363      -0.125       0.046\n",
      "C(ind2_cat)[T.27.0]:age                    0.0227      0.069      0.328      0.743      -0.113       0.158\n",
      "C(ind2_cat)[T.28.0]:age                   -0.0839      0.053     -1.573      0.116      -0.188       0.021\n",
      "C(ind2_cat)[T.29.0]:age                   -0.2006      0.094     -2.129      0.033      -0.385      -0.016\n",
      "C(ind2_cat)[T.30.0]:age                   -0.0648      0.116     -0.560      0.575      -0.292       0.162\n",
      "C(ind2_cat)[T.33.0]:age                   -0.0400      0.052     -0.768      0.443      -0.142       0.062\n",
      "C(ind2_cat)[T.55.0]:age                   -0.0786      0.052     -1.517      0.129      -0.180       0.023\n",
      "C(ind2_cat)[T.56.0]:age                   -0.0704      0.045     -1.558      0.119      -0.159       0.018\n",
      "age2                                       0.0004      0.002      0.244      0.807      -0.003       0.004\n",
      "C(ind2_cat)[T.27.0]:age2                  -0.0006      0.003     -0.215      0.829      -0.006       0.005\n",
      "C(ind2_cat)[T.28.0]:age2                   0.0039      0.002      1.771      0.077      -0.000       0.008\n",
      "C(ind2_cat)[T.29.0]:age2                   0.0085      0.004      2.144      0.032       0.001       0.016\n",
      "C(ind2_cat)[T.30.0]:age2                   0.0033      0.005      0.654      0.513      -0.007       0.013\n",
      "C(ind2_cat)[T.33.0]:age2                   0.0015      0.002      0.659      0.510      -0.003       0.006\n",
      "C(ind2_cat)[T.55.0]:age2                   0.0034      0.002      1.515      0.130      -0.001       0.008\n",
      "C(ind2_cat)[T.56.0]:age2                   0.0031      0.002      1.607      0.108      -0.001       0.007\n",
      "new                                       -0.0097      0.061     -0.160      0.873      -0.129       0.109\n",
      "total_assets_bs                         6.997e-09   1.51e-08      0.465      0.642   -2.25e-08    3.65e-08\n",
      "fixed_assets_bs                           -0.1714      1.206     -0.142      0.887      -2.535       2.192\n",
      "liq_assets_bs                              0.4315      0.072      5.972      0.000       0.290       0.573\n",
      "curr_assets_bs                            -0.3594      1.205     -0.298      0.765      -2.721       2.002\n",
      "share_eq_bs                                0.0052      0.061      0.085      0.932      -0.114       0.125\n",
      "subscribed_cap_bs                          0.0434      0.080      0.545      0.586      -0.113       0.199\n",
      "intang_assets_bs                           0.1328      1.249      0.106      0.915      -2.316       2.581\n",
      "extra_exp_pl                               3.4347      2.460      1.396      0.163      -1.386       8.256\n",
      "extra_inc_pl                              -1.9841      2.631     -0.754      0.451      -7.141       3.173\n",
      "extra_profit_loss_pl                       2.8902      2.452      1.179      0.238      -1.915       7.696\n",
      "inc_bef_tax_pl                            -0.2113      0.338     -0.626      0.531      -0.873       0.450\n",
      "inventories_pl                             0.6709      0.118      5.662      0.000       0.439       0.903\n",
      "material_exp_pl                            0.0348      0.108      0.321      0.748      -0.177       0.247\n",
      "profit_loss_year_pl                        0.3967      0.341      1.164      0.244      -0.271       1.065\n",
      "personnel_exp_pl                           0.0456      0.104      0.440      0.660      -0.158       0.249\n",
      "extra_profit_loss_pl_quad                 -0.5715      1.024     -0.558      0.577      -2.579       1.436\n",
      "inc_bef_tax_pl_quad                       -0.3071      0.392     -0.783      0.434      -1.076       0.462\n",
      "profit_loss_year_pl_quad                   0.9940      0.420      2.369      0.018       0.172       1.817\n",
      "share_eq_bs_quad                          -0.1086      0.077     -1.417      0.157      -0.259       0.042\n",
      "extra_exp_pl_flag_high                    27.9989   6.27e+05   4.46e-05      1.000   -1.23e+06    1.23e+06\n",
      "extra_inc_pl_flag_high                   -27.5488   6.27e+05  -4.39e-05      1.000   -1.23e+06    1.23e+06\n",
      "inventories_pl_flag_high                  -0.1556      0.146     -1.064      0.287      -0.442       0.131\n",
      "material_exp_pl_flag_high                  0.1919      0.060      3.205      0.001       0.075       0.309\n",
      "personnel_exp_pl_flag_high                -0.1614      0.107     -1.509      0.131      -0.371       0.048\n",
      "curr_liab_bs_flag_high                    -0.0146      0.059     -0.248      0.804      -0.130       0.101\n",
      "liq_assets_bs_flag_high                   -1.0017      1.140     -0.878      0.380      -3.237       1.234\n",
      "subscribed_cap_bs_flag_high                0.1100      0.076      1.441      0.150      -0.040       0.260\n",
      "extra_exp_pl_flag_error                    0.8465      1.569      0.539      0.590      -2.229       3.922\n",
      "extra_inc_pl_flag_error                  -14.8402   1788.802     -0.008      0.993   -3520.829    3491.148\n",
      "inventories_pl_flag_error                 -0.2128      1.197     -0.178      0.859      -2.559       2.133\n",
      "material_exp_pl_flag_error                -1.4390      2.063     -0.698      0.485      -5.483       2.604\n",
      "personnel_exp_pl_flag_error                1.1170      1.424      0.784      0.433      -1.674       3.908\n",
      "curr_liab_bs_flag_error                    0.0237      0.737      0.032      0.974      -1.422       1.469\n",
      "liq_assets_bs_flag_error                   0.3872      0.406      0.953      0.341      -0.409       1.184\n",
      "subscribed_cap_bs_flag_error             -63.5092   1.17e+14  -5.45e-13      1.000   -2.28e+14    2.28e+14\n",
      "extra_profit_loss_pl_flag_low            -27.2416   6.27e+05  -4.34e-05      1.000   -1.23e+06    1.23e+06\n",
      "inc_bef_tax_pl_flag_low                    0.9008      0.886      1.017      0.309      -0.835       2.637\n",
      "profit_loss_year_pl_flag_low              -0.9101      0.890     -1.023      0.307      -2.655       0.834\n",
      "share_eq_bs_flag_low                      -0.0487      0.108     -0.452      0.651      -0.260       0.163\n",
      "extra_profit_loss_pl_flag_high            27.3428   6.27e+05   4.36e-05      1.000   -1.23e+06    1.23e+06\n",
      "inc_bef_tax_pl_flag_high                   0.6317      0.568      1.112      0.266      -0.481       1.745\n",
      "profit_loss_year_pl_flag_high             -0.3007      0.621     -0.484      0.628      -1.517       0.916\n",
      "share_eq_bs_flag_high                      0.5057      0.173      2.921      0.003       0.166       0.845\n",
      "extra_profit_loss_pl_flag_zero             0.0491      0.059      0.838      0.402      -0.066       0.164\n",
      "inc_bef_tax_pl_flag_zero                  -0.3067      0.425     -0.722      0.471      -1.140       0.526\n",
      "profit_loss_year_pl_flag_zero             -0.1006      0.119     -0.848      0.397      -0.333       0.132\n",
      "share_eq_bs_flag_zero                     -0.6170      1.167     -0.529      0.597      -2.905       1.671\n",
      "female                                    -0.0137      0.244     -0.056      0.955      -0.492       0.465\n",
      "C(ind2_cat)[T.27.0]:female                 0.0094      0.371      0.025      0.980      -0.718       0.737\n",
      "C(ind2_cat)[T.28.0]:female                 0.0198      0.294      0.067      0.946      -0.557       0.596\n",
      "C(ind2_cat)[T.29.0]:female                -0.4625      0.524     -0.882      0.378      -1.491       0.565\n",
      "C(ind2_cat)[T.30.0]:female                 0.0589      0.650      0.091      0.928      -1.215       1.333\n",
      "C(ind2_cat)[T.33.0]:female                 0.0919      0.287      0.320      0.749      -0.471       0.654\n",
      "C(ind2_cat)[T.55.0]:female                 0.1294      0.266      0.487      0.626      -0.391       0.650\n",
      "C(ind2_cat)[T.56.0]:female                -0.0961      0.240     -0.400      0.689      -0.567       0.374\n",
      "ceo_age                                   -0.0007      0.007     -0.103      0.918      -0.015       0.013\n",
      "C(ind2_cat)[T.27.0]:ceo_age               -0.0158      0.012     -1.290      0.197      -0.040       0.008\n",
      "C(ind2_cat)[T.28.0]:ceo_age               -0.0149      0.009     -1.639      0.101      -0.033       0.003\n",
      "C(ind2_cat)[T.29.0]:ceo_age                0.0220      0.016      1.334      0.182      -0.010       0.054\n",
      "C(ind2_cat)[T.30.0]:ceo_age               -0.0265      0.022     -1.223      0.221      -0.069       0.016\n",
      "C(ind2_cat)[T.33.0]:ceo_age               -0.0085      0.009     -0.921      0.357      -0.026       0.010\n",
      "C(ind2_cat)[T.55.0]:ceo_age               -0.0102      0.009     -1.153      0.249      -0.027       0.007\n",
      "C(ind2_cat)[T.56.0]:ceo_age               -0.0072      0.008     -0.941      0.347      -0.022       0.008\n",
      "flag_high_ceo_age                          0.3001      0.257      1.167      0.243      -0.204       0.804\n",
      "flag_low_ceo_age                          -0.0047      0.152     -0.031      0.975      -0.302       0.293\n",
      "flag_miss_ceo_age                         -0.1308      0.055     -2.377      0.017      -0.239      -0.023\n",
      "ceo_count                                 -0.0166      0.032     -0.518      0.605      -0.079       0.046\n",
      "labor_avg_mod                              0.0346      0.026      1.323      0.186      -0.017       0.086\n",
      "C(ind2_cat)[T.27.0]:labor_avg_mod         -0.0167      0.044     -0.381      0.703      -0.102       0.069\n",
      "C(ind2_cat)[T.28.0]:labor_avg_mod         -0.0692      0.041     -1.676      0.094      -0.150       0.012\n",
      "C(ind2_cat)[T.29.0]:labor_avg_mod         -0.1296      0.060     -2.151      0.032      -0.248      -0.011\n",
      "C(ind2_cat)[T.30.0]:labor_avg_mod         -0.2825      0.186     -1.521      0.128      -0.646       0.082\n",
      "C(ind2_cat)[T.33.0]:labor_avg_mod         -0.1417      0.084     -1.693      0.090      -0.306       0.022\n",
      "C(ind2_cat)[T.55.0]:labor_avg_mod         -0.2752      0.072     -3.802      0.000      -0.417      -0.133\n",
      "C(ind2_cat)[T.56.0]:labor_avg_mod         -0.2154      0.048     -4.488      0.000      -0.309      -0.121\n",
      "flag_miss_labor_avg                        0.2965      0.053      5.620      0.000       0.193       0.400\n",
      "foreign_management                        -0.1852      0.251     -0.737      0.461      -0.678       0.307\n",
      "C(ind2_cat)[T.27.0]:foreign_management     0.2221      0.364      0.610      0.542      -0.491       0.935\n",
      "C(ind2_cat)[T.28.0]:foreign_management     0.5327      0.278      1.918      0.055      -0.012       1.077\n",
      "C(ind2_cat)[T.29.0]:foreign_management     0.7470      0.405      1.845      0.065      -0.047       1.541\n",
      "C(ind2_cat)[T.30.0]:foreign_management     2.0123      0.806      2.497      0.013       0.433       3.592\n",
      "C(ind2_cat)[T.33.0]:foreign_management     0.3227      0.301      1.071      0.284      -0.268       0.913\n",
      "C(ind2_cat)[T.55.0]:foreign_management     0.1443      0.273      0.529      0.597      -0.391       0.679\n",
      "C(ind2_cat)[T.56.0]:foreign_management     0.2918      0.248      1.177      0.239      -0.194       0.778\n",
      "balsheet_flag                             -0.6605      0.391     -1.687      0.092      -1.428       0.107\n",
      "balsheet_length                           -0.0028      0.001     -4.129      0.000      -0.004      -0.001\n",
      "balsheet_notfullyear                       0.2859      0.130      2.202      0.028       0.031       0.540\n",
      "profit_loss_year_pl:age                   -0.0287      0.007     -4.036      0.000      -0.043      -0.015\n",
      "profit_loss_year_pl:female                -0.1337      0.109     -1.232      0.218      -0.347       0.079\n",
      "profit_loss_year_pl:foreign_management     0.1876      0.139      1.352      0.177      -0.084       0.460\n",
      "profit_loss_year_pl:fixed_assets_bs       -0.1391      0.121     -1.147      0.251      -0.377       0.099\n",
      "age:foreign_management                    -0.0101      0.009     -1.173      0.241      -0.027       0.007\n",
      "age:female                                 0.0039      0.007      0.567      0.571      -0.009       0.017\n",
      "fixed_assets_bs:foreign_management         0.0564      0.174      0.324      0.746      -0.285       0.398\n",
      "fixed_assets_bs:female                    -0.1506      0.128     -1.181      0.238      -0.401       0.099\n",
      "==========================================================================================================\n"
     ]
    }
   ],
   "source": [
    "print(logit_modelx2.summary())"
   ]
  },
  {
   "cell_type": "markdown",
   "metadata": {},
   "source": [
    "With Logit we need to calculate average marginal effects (dy/dx) to be able to interpret the coefficients (under some assumptions...)"
   ]
  },
  {
   "cell_type": "code",
   "execution_count": 28,
   "metadata": {},
   "outputs": [
    {
     "name": "stdout",
     "output_type": "stream",
     "text": [
      "        Logit Marginal Effects       \n",
      "=====================================\n",
      "Dep. Variable:            fast_growth\n",
      "Method:                          dydx\n",
      "At:                           overall\n",
      "==========================================================================================================\n",
      "                                            dy/dx    std err          z      P>|z|      [0.025      0.975]\n",
      "----------------------------------------------------------------------------------------------------------\n",
      "C(ind2_cat)[T.27.0]                        0.0564      0.133      0.425      0.671      -0.204       0.317\n",
      "C(ind2_cat)[T.28.0]                        0.1661      0.100      1.665      0.096      -0.029       0.362\n",
      "C(ind2_cat)[T.29.0]                        0.0266      0.175      0.152      0.879      -0.317       0.370\n",
      "C(ind2_cat)[T.30.0]                        0.2041      0.243      0.840      0.401      -0.272       0.680\n",
      "C(ind2_cat)[T.33.0]                        0.1050      0.097      1.080      0.280      -0.085       0.295\n",
      "C(ind2_cat)[T.55.0]                        0.1383      0.094      1.468      0.142      -0.046       0.323\n",
      "C(ind2_cat)[T.56.0]                        0.0698      0.082      0.850      0.395      -0.091       0.231\n",
      "C(m_region_loc)[T.East]                   -0.0062      0.009     -0.694      0.488      -0.024       0.011\n",
      "C(m_region_loc)[T.West]                   -0.0122      0.011     -1.157      0.247      -0.033       0.008\n",
      "C(urban_m)[T.2.0]                         -0.0976      0.039     -2.531      0.011      -0.173      -0.022\n",
      "C(urban_m)[T.3.0]                         -0.0050      0.033     -0.153      0.878      -0.070       0.060\n",
      "C(ind2_cat)[T.27.0]:C(urban_m)[T.2.0]      0.1702      0.060      2.829      0.005       0.052       0.288\n",
      "C(ind2_cat)[T.28.0]:C(urban_m)[T.2.0]      0.1062      0.047      2.248      0.025       0.014       0.199\n",
      "C(ind2_cat)[T.29.0]:C(urban_m)[T.2.0]      0.0301      0.087      0.346      0.729      -0.140       0.201\n",
      "C(ind2_cat)[T.30.0]:C(urban_m)[T.2.0]      0.1925      0.108      1.778      0.075      -0.020       0.405\n",
      "C(ind2_cat)[T.33.0]:C(urban_m)[T.2.0]      0.1263      0.047      2.717      0.007       0.035       0.218\n",
      "C(ind2_cat)[T.55.0]:C(urban_m)[T.2.0]      0.0209      0.049      0.429      0.668      -0.075       0.117\n",
      "C(ind2_cat)[T.56.0]:C(urban_m)[T.2.0]      0.0791      0.040      1.983      0.047       0.001       0.157\n",
      "C(ind2_cat)[T.27.0]:C(urban_m)[T.3.0]      0.0398      0.055      0.725      0.469      -0.068       0.147\n",
      "C(ind2_cat)[T.28.0]:C(urban_m)[T.3.0]      0.0280      0.042      0.667      0.505      -0.054       0.110\n",
      "C(ind2_cat)[T.29.0]:C(urban_m)[T.3.0]     -0.0372      0.081     -0.459      0.646      -0.196       0.121\n",
      "C(ind2_cat)[T.30.0]:C(urban_m)[T.3.0]      0.1713      0.092      1.862      0.063      -0.009       0.352\n",
      "C(ind2_cat)[T.33.0]:C(urban_m)[T.3.0]     -0.0044      0.042     -0.105      0.916      -0.086       0.078\n",
      "C(ind2_cat)[T.55.0]:C(urban_m)[T.3.0]      0.0136      0.041      0.330      0.741      -0.067       0.094\n",
      "C(ind2_cat)[T.56.0]:C(urban_m)[T.3.0]     -0.0173      0.034     -0.505      0.614      -0.084       0.050\n",
      "age                                       -0.0079      0.009     -0.910      0.363      -0.025       0.009\n",
      "C(ind2_cat)[T.27.0]:age                    0.0045      0.014      0.328      0.743      -0.023       0.032\n",
      "C(ind2_cat)[T.28.0]:age                   -0.0167      0.011     -1.573      0.116      -0.038       0.004\n",
      "C(ind2_cat)[T.29.0]:age                   -0.0401      0.019     -2.129      0.033      -0.077      -0.003\n",
      "C(ind2_cat)[T.30.0]:age                   -0.0129      0.023     -0.560      0.575      -0.058       0.032\n",
      "C(ind2_cat)[T.33.0]:age                   -0.0080      0.010     -0.768      0.443      -0.028       0.012\n",
      "C(ind2_cat)[T.55.0]:age                   -0.0157      0.010     -1.518      0.129      -0.036       0.005\n",
      "C(ind2_cat)[T.56.0]:age                   -0.0140      0.009     -1.558      0.119      -0.032       0.004\n",
      "age2                                    8.791e-05      0.000      0.244      0.807      -0.001       0.001\n",
      "C(ind2_cat)[T.27.0]:age2                  -0.0001      0.001     -0.215      0.829      -0.001       0.001\n",
      "C(ind2_cat)[T.28.0]:age2                   0.0008      0.000      1.771      0.077   -8.39e-05       0.002\n",
      "C(ind2_cat)[T.29.0]:age2                   0.0017      0.001      2.145      0.032       0.000       0.003\n",
      "C(ind2_cat)[T.30.0]:age2                   0.0007      0.001      0.654      0.513      -0.001       0.003\n",
      "C(ind2_cat)[T.33.0]:age2                   0.0003      0.000      0.659      0.510      -0.001       0.001\n",
      "C(ind2_cat)[T.55.0]:age2                   0.0007      0.000      1.515      0.130      -0.000       0.002\n",
      "C(ind2_cat)[T.56.0]:age2                   0.0006      0.000      1.608      0.108      -0.000       0.001\n",
      "new                                       -0.0019      0.012     -0.160      0.873      -0.026       0.022\n",
      "total_assets_bs                         1.397e-09   3.01e-09      0.465      0.642   -4.49e-09    7.29e-09\n",
      "fixed_assets_bs                           -0.0342      0.241     -0.142      0.887      -0.506       0.438\n",
      "liq_assets_bs                              0.0861      0.014      5.992      0.000       0.058       0.114\n",
      "curr_assets_bs                            -0.0718      0.241     -0.298      0.765      -0.543       0.400\n",
      "share_eq_bs                                0.0010      0.012      0.085      0.932      -0.023       0.025\n",
      "subscribed_cap_bs                          0.0087      0.016      0.545      0.586      -0.022       0.040\n",
      "intang_assets_bs                           0.0265      0.249      0.106      0.915      -0.462       0.515\n",
      "extra_exp_pl                               0.6857      0.491      1.397      0.163      -0.277       1.648\n",
      "extra_inc_pl                              -0.3961      0.525     -0.754      0.451      -1.426       0.633\n",
      "extra_profit_loss_pl                       0.5770      0.489      1.179      0.238      -0.382       1.536\n",
      "inc_bef_tax_pl                            -0.0422      0.067     -0.626      0.531      -0.174       0.090\n",
      "inventories_pl                             0.1339      0.024      5.679      0.000       0.088       0.180\n",
      "material_exp_pl                            0.0069      0.022      0.321      0.748      -0.035       0.049\n",
      "profit_loss_year_pl                        0.0792      0.068      1.164      0.244      -0.054       0.213\n",
      "personnel_exp_pl                           0.0091      0.021      0.440      0.660      -0.031       0.050\n",
      "extra_profit_loss_pl_quad                 -0.1141      0.204     -0.558      0.577      -0.515       0.287\n",
      "inc_bef_tax_pl_quad                       -0.0613      0.078     -0.783      0.434      -0.215       0.092\n",
      "profit_loss_year_pl_quad                   0.1984      0.084      2.370      0.018       0.034       0.363\n",
      "share_eq_bs_quad                          -0.0217      0.015     -1.417      0.156      -0.052       0.008\n",
      "extra_exp_pl_flag_high                     5.5895   1.25e+05   4.46e-05      1.000   -2.46e+05    2.46e+05\n",
      "extra_inc_pl_flag_high                    -5.4996   1.25e+05  -4.39e-05      1.000   -2.46e+05    2.46e+05\n",
      "inventories_pl_flag_high                  -0.0311      0.029     -1.064      0.287      -0.088       0.026\n",
      "material_exp_pl_flag_high                  0.0383      0.012      3.208      0.001       0.015       0.062\n",
      "personnel_exp_pl_flag_high                -0.0322      0.021     -1.509      0.131      -0.074       0.010\n",
      "curr_liab_bs_flag_high                    -0.0029      0.012     -0.248      0.804      -0.026       0.020\n",
      "liq_assets_bs_flag_high                   -0.2000      0.228     -0.878      0.380      -0.646       0.246\n",
      "subscribed_cap_bs_flag_high                0.0220      0.015      1.441      0.149      -0.008       0.052\n",
      "extra_exp_pl_flag_error                    0.1690      0.313      0.539      0.590      -0.445       0.783\n",
      "extra_inc_pl_flag_error                   -2.9626    357.103     -0.008      0.993    -702.872     696.947\n",
      "inventories_pl_flag_error                 -0.0425      0.239     -0.178      0.859      -0.511       0.426\n",
      "material_exp_pl_flag_error                -0.2873      0.412     -0.698      0.485      -1.094       0.520\n",
      "personnel_exp_pl_flag_error                0.2230      0.284      0.785      0.433      -0.334       0.780\n",
      "curr_liab_bs_flag_error                    0.0047      0.147      0.032      0.974      -0.284       0.293\n",
      "liq_assets_bs_flag_error                   0.0773      0.081      0.953      0.340      -0.082       0.236\n",
      "subscribed_cap_bs_flag_error             -12.6785   2.33e+13  -5.45e-13      1.000   -4.56e+13    4.56e+13\n",
      "extra_profit_loss_pl_flag_low             -5.4383   1.25e+05  -4.34e-05      1.000   -2.46e+05    2.46e+05\n",
      "inc_bef_tax_pl_flag_low                    0.1798      0.177      1.017      0.309      -0.167       0.526\n",
      "profit_loss_year_pl_flag_low              -0.1817      0.178     -1.023      0.306      -0.530       0.167\n",
      "share_eq_bs_flag_low                      -0.0097      0.022     -0.452      0.651      -0.052       0.032\n",
      "extra_profit_loss_pl_flag_high             5.4585   1.25e+05   4.36e-05      1.000   -2.46e+05    2.46e+05\n",
      "inc_bef_tax_pl_flag_high                   0.1261      0.113      1.113      0.266      -0.096       0.348\n",
      "profit_loss_year_pl_flag_high             -0.0600      0.124     -0.484      0.628      -0.303       0.183\n",
      "share_eq_bs_flag_high                      0.1009      0.035      2.923      0.003       0.033       0.169\n",
      "extra_profit_loss_pl_flag_zero             0.0098      0.012      0.839      0.402      -0.013       0.033\n",
      "inc_bef_tax_pl_flag_zero                  -0.0612      0.085     -0.722      0.471      -0.228       0.105\n",
      "profit_loss_year_pl_flag_zero             -0.0201      0.024     -0.848      0.397      -0.067       0.026\n",
      "share_eq_bs_flag_zero                     -0.1232      0.233     -0.529      0.597      -0.580       0.334\n",
      "female                                    -0.0027      0.049     -0.056      0.955      -0.098       0.093\n",
      "C(ind2_cat)[T.27.0]:female                 0.0019      0.074      0.025      0.980      -0.143       0.147\n",
      "C(ind2_cat)[T.28.0]:female                 0.0039      0.059      0.067      0.946      -0.111       0.119\n",
      "C(ind2_cat)[T.29.0]:female                -0.0923      0.105     -0.882      0.378      -0.298       0.113\n",
      "C(ind2_cat)[T.30.0]:female                 0.0118      0.130      0.091      0.928      -0.243       0.266\n",
      "C(ind2_cat)[T.33.0]:female                 0.0183      0.057      0.320      0.749      -0.094       0.131\n",
      "C(ind2_cat)[T.55.0]:female                 0.0258      0.053      0.487      0.626      -0.078       0.130\n",
      "C(ind2_cat)[T.56.0]:female                -0.0192      0.048     -0.400      0.689      -0.113       0.075\n",
      "ceo_age                                   -0.0001      0.001     -0.103      0.918      -0.003       0.003\n",
      "C(ind2_cat)[T.27.0]:ceo_age               -0.0032      0.002     -1.290      0.197      -0.008       0.002\n",
      "C(ind2_cat)[T.28.0]:ceo_age               -0.0030      0.002     -1.640      0.101      -0.007       0.001\n",
      "C(ind2_cat)[T.29.0]:ceo_age                0.0044      0.003      1.335      0.182      -0.002       0.011\n",
      "C(ind2_cat)[T.30.0]:ceo_age               -0.0053      0.004     -1.224      0.221      -0.014       0.003\n",
      "C(ind2_cat)[T.33.0]:ceo_age               -0.0017      0.002     -0.921      0.357      -0.005       0.002\n",
      "C(ind2_cat)[T.55.0]:ceo_age               -0.0020      0.002     -1.153      0.249      -0.005       0.001\n",
      "C(ind2_cat)[T.56.0]:ceo_age               -0.0014      0.002     -0.941      0.347      -0.004       0.002\n",
      "flag_high_ceo_age                          0.0599      0.051      1.167      0.243      -0.041       0.161\n",
      "flag_low_ceo_age                          -0.0009      0.030     -0.031      0.975      -0.060       0.058\n",
      "flag_miss_ceo_age                         -0.0261      0.011     -2.379      0.017      -0.048      -0.005\n",
      "ceo_count                                 -0.0033      0.006     -0.518      0.605      -0.016       0.009\n",
      "labor_avg_mod                              0.0069      0.005      1.323      0.186      -0.003       0.017\n",
      "C(ind2_cat)[T.27.0]:labor_avg_mod         -0.0033      0.009     -0.381      0.703      -0.020       0.014\n",
      "C(ind2_cat)[T.28.0]:labor_avg_mod         -0.0138      0.008     -1.676      0.094      -0.030       0.002\n",
      "C(ind2_cat)[T.29.0]:labor_avg_mod         -0.0259      0.012     -2.151      0.031      -0.049      -0.002\n",
      "C(ind2_cat)[T.30.0]:labor_avg_mod         -0.0564      0.037     -1.521      0.128      -0.129       0.016\n",
      "C(ind2_cat)[T.33.0]:labor_avg_mod         -0.0283      0.017     -1.694      0.090      -0.061       0.004\n",
      "C(ind2_cat)[T.55.0]:labor_avg_mod         -0.0549      0.014     -3.806      0.000      -0.083      -0.027\n",
      "C(ind2_cat)[T.56.0]:labor_avg_mod         -0.0430      0.010     -4.494      0.000      -0.062      -0.024\n",
      "flag_miss_labor_avg                        0.0592      0.011      5.635      0.000       0.039       0.080\n",
      "foreign_management                        -0.0370      0.050     -0.737      0.461      -0.135       0.061\n",
      "C(ind2_cat)[T.27.0]:foreign_management     0.0443      0.073      0.610      0.542      -0.098       0.187\n",
      "C(ind2_cat)[T.28.0]:foreign_management     0.1063      0.055      1.918      0.055      -0.002       0.215\n",
      "C(ind2_cat)[T.29.0]:foreign_management     0.1491      0.081      1.845      0.065      -0.009       0.308\n",
      "C(ind2_cat)[T.30.0]:foreign_management     0.4017      0.161      2.498      0.012       0.087       0.717\n",
      "C(ind2_cat)[T.33.0]:foreign_management     0.0644      0.060      1.071      0.284      -0.053       0.182\n",
      "C(ind2_cat)[T.55.0]:foreign_management     0.0288      0.054      0.529      0.597      -0.078       0.136\n",
      "C(ind2_cat)[T.56.0]:foreign_management     0.0583      0.049      1.177      0.239      -0.039       0.155\n",
      "balsheet_flag                             -0.1318      0.078     -1.688      0.091      -0.285       0.021\n",
      "balsheet_length                           -0.0006      0.000     -4.136      0.000      -0.001      -0.000\n",
      "balsheet_notfullyear                       0.0571      0.026      2.203      0.028       0.006       0.108\n",
      "profit_loss_year_pl:age                   -0.0057      0.001     -4.042      0.000      -0.009      -0.003\n",
      "profit_loss_year_pl:female                -0.0267      0.022     -1.232      0.218      -0.069       0.016\n",
      "profit_loss_year_pl:foreign_management     0.0374      0.028      1.352      0.176      -0.017       0.092\n",
      "profit_loss_year_pl:fixed_assets_bs       -0.0278      0.024     -1.147      0.251      -0.075       0.020\n",
      "age:foreign_management                    -0.0020      0.002     -1.173      0.241      -0.005       0.001\n",
      "age:female                                 0.0008      0.001      0.567      0.571      -0.002       0.003\n",
      "fixed_assets_bs:foreign_management         0.0113      0.035      0.324      0.746      -0.057       0.080\n",
      "fixed_assets_bs:female                    -0.0301      0.025     -1.181      0.238      -0.080       0.020\n",
      "==========================================================================================================\n"
     ]
    }
   ],
   "source": [
    "print(logit_modelx2.get_margeff().summary())"
   ]
  },
  {
   "cell_type": "markdown",
   "metadata": {},
   "source": [
    "## 0. Separate train and holdout data"
   ]
  },
  {
   "cell_type": "code",
   "execution_count": 29,
   "metadata": {},
   "outputs": [],
   "source": [
    "data_train, data_holdout = train_test_split(data, train_size=0.8, random_state=42)"
   ]
  },
  {
   "cell_type": "code",
   "execution_count": 30,
   "metadata": {},
   "outputs": [
    {
     "name": "stdout",
     "output_type": "stream",
     "text": [
      "Total\n",
      "fast_growth\n",
      "0    0.683915\n",
      "1    0.316085\n",
      "Name: proportion, dtype: float64\n",
      "Train\n",
      "fast_growth\n",
      "0    0.685579\n",
      "1    0.314421\n",
      "Name: proportion, dtype: float64\n",
      "Holdout\n",
      "fast_growth\n",
      "0    0.677258\n",
      "1    0.322742\n",
      "Name: proportion, dtype: float64\n"
     ]
    }
   ],
   "source": [
    "print(\"Total\")\n",
    "print(data[\"fast_growth\"].value_counts(normalize=True))\n",
    "print(\"Train\")\n",
    "print(data_train[\"fast_growth\"].value_counts(normalize=True))\n",
    "print(\"Holdout\")\n",
    "print(data_holdout[\"fast_growth\"].value_counts(normalize=True))\n"
   ]
  },
  {
   "cell_type": "markdown",
   "metadata": {},
   "source": [
    "## 1. Predict probabilities with logit and Lasso with CV\n",
    "\n",
    "Specify 5 fold cross-validation method"
   ]
  },
  {
   "cell_type": "code",
   "execution_count": 31,
   "metadata": {},
   "outputs": [],
   "source": [
    "k = KFold(n_splits=5, shuffle=True, random_state=42)"
   ]
  },
  {
   "cell_type": "markdown",
   "metadata": {},
   "source": [
    "### a) cross validate logit models"
   ]
  },
  {
   "cell_type": "markdown",
   "metadata": {},
   "source": [
    "Set up X-vars"
   ]
  },
  {
   "cell_type": "code",
   "execution_count": 32,
   "metadata": {},
   "outputs": [],
   "source": [
    "logit_model_vars = [M1, M2, M3, M4, M5]"
   ]
  },
  {
   "cell_type": "markdown",
   "metadata": {},
   "source": [
    "Set up Logit model object\n",
    "\n",
    "No regularisation needed so setting the paremeter to very high value"
   ]
  },
  {
   "cell_type": "code",
   "execution_count": 33,
   "metadata": {},
   "outputs": [],
   "source": [
    "C_value_logit = [1e20]"
   ]
  },
  {
   "cell_type": "code",
   "execution_count": 34,
   "metadata": {},
   "outputs": [],
   "source": [
    "logit_models = dict()\n",
    "CV_RMSE_folds = dict()\n",
    "\n",
    "for i, model_vars in enumerate(logit_model_vars):\n",
    "\n",
    "    model_equation = \"fast_growth~\" + \"+\".join(model_vars)\n",
    "    y_train, X_train = patsy.dmatrices(model_equation, data_train)\n",
    "\n",
    "    LRCV_brier = LogisticRegressionCV(\n",
    "        Cs=C_value_logit,\n",
    "        cv=k,\n",
    "        refit=True,\n",
    "        scoring=\"neg_brier_score\",\n",
    "        solver=\"newton-cg\",\n",
    "        tol=1e-7,\n",
    "        random_state=42,\n",
    "    )\n",
    "\n",
    "    logit_models[\"M\" + str(i + 1)] = LRCV_brier.fit(X_train, y_train)\n",
    "\n",
    "    # Calculate RMSE on test for each fold\n",
    "    CV_RMSE_folds[\"M\" + str(i + 1)] = np.sqrt(\n",
    "        -1 * logit_models[\"M\" + str(i + 1)].scores_[1].ravel()\n",
    "    )"
   ]
  },
  {
   "cell_type": "code",
   "execution_count": 35,
   "metadata": {},
   "outputs": [
    {
     "data": {
      "text/html": [
       "<div>\n",
       "<style scoped>\n",
       "    .dataframe tbody tr th:only-of-type {\n",
       "        vertical-align: middle;\n",
       "    }\n",
       "\n",
       "    .dataframe tbody tr th {\n",
       "        vertical-align: top;\n",
       "    }\n",
       "\n",
       "    .dataframe thead th {\n",
       "        text-align: right;\n",
       "    }\n",
       "</style>\n",
       "<table border=\"1\" class=\"dataframe\">\n",
       "  <thead>\n",
       "    <tr style=\"text-align: right;\">\n",
       "      <th></th>\n",
       "      <th>M1</th>\n",
       "      <th>M2</th>\n",
       "      <th>M3</th>\n",
       "      <th>M4</th>\n",
       "      <th>M5</th>\n",
       "    </tr>\n",
       "  </thead>\n",
       "  <tbody>\n",
       "    <tr>\n",
       "      <th>0</th>\n",
       "      <td>0.456846</td>\n",
       "      <td>0.453078</td>\n",
       "      <td>0.448873</td>\n",
       "      <td>0.446765</td>\n",
       "      <td>0.448038</td>\n",
       "    </tr>\n",
       "    <tr>\n",
       "      <th>1</th>\n",
       "      <td>0.458613</td>\n",
       "      <td>0.452692</td>\n",
       "      <td>0.450023</td>\n",
       "      <td>0.449302</td>\n",
       "      <td>0.449259</td>\n",
       "    </tr>\n",
       "    <tr>\n",
       "      <th>2</th>\n",
       "      <td>0.463213</td>\n",
       "      <td>0.457948</td>\n",
       "      <td>0.455673</td>\n",
       "      <td>0.450705</td>\n",
       "      <td>0.451947</td>\n",
       "    </tr>\n",
       "    <tr>\n",
       "      <th>3</th>\n",
       "      <td>0.463777</td>\n",
       "      <td>0.460507</td>\n",
       "      <td>0.456153</td>\n",
       "      <td>0.453535</td>\n",
       "      <td>0.456285</td>\n",
       "    </tr>\n",
       "    <tr>\n",
       "      <th>4</th>\n",
       "      <td>0.465352</td>\n",
       "      <td>0.459475</td>\n",
       "      <td>0.455135</td>\n",
       "      <td>0.451251</td>\n",
       "      <td>0.451530</td>\n",
       "    </tr>\n",
       "  </tbody>\n",
       "</table>\n",
       "</div>"
      ],
      "text/plain": [
       "         M1        M2        M3        M4        M5\n",
       "0  0.456846  0.453078  0.448873  0.446765  0.448038\n",
       "1  0.458613  0.452692  0.450023  0.449302  0.449259\n",
       "2  0.463213  0.457948  0.455673  0.450705  0.451947\n",
       "3  0.463777  0.460507  0.456153  0.453535  0.456285\n",
       "4  0.465352  0.459475  0.455135  0.451251  0.451530"
      ]
     },
     "execution_count": 35,
     "metadata": {},
     "output_type": "execute_result"
    }
   ],
   "source": [
    "pd.DataFrame(CV_RMSE_folds)"
   ]
  },
  {
   "cell_type": "markdown",
   "metadata": {},
   "source": [
    "### b) Logit + LASSO"
   ]
  },
  {
   "cell_type": "code",
   "execution_count": 36,
   "metadata": {},
   "outputs": [],
   "source": [
    "model_equation = \"fast_growth~\" + \"+\".join(logit_lasso_vars)\n",
    "y_train, X_train = patsy.dmatrices(model_equation, data_train)"
   ]
  },
  {
   "cell_type": "markdown",
   "metadata": {},
   "source": [
    "Normalise X vars for Lasso"
   ]
  },
  {
   "cell_type": "code",
   "execution_count": 37,
   "metadata": {},
   "outputs": [],
   "source": [
    "normalized_logitvars = pd.DataFrame(\n",
    "    StandardScaler().fit_transform(X_train),\n",
    "    columns=X_train.design_info.column_names,\n",
    ")"
   ]
  },
  {
   "cell_type": "markdown",
   "metadata": {},
   "source": [
    "Set regularization parameters"
   ]
  },
  {
   "cell_type": "code",
   "execution_count": 38,
   "metadata": {},
   "outputs": [],
   "source": [
    "lambdas = list(10 ** np.arange(-1, -4.01, -1 / 3))\n",
    "n_obs = normalized_logitvars.shape[0] * 4 / 5\n",
    "C_values = [\n",
    "    1 / (l * n_obs) for l in lambdas\n",
    "]  # Cs are the inverse of regularization strength"
   ]
  },
  {
   "cell_type": "markdown",
   "metadata": {},
   "source": [
    "Initialize and fit Logit Lasso"
   ]
  },
  {
   "cell_type": "code",
   "execution_count": 39,
   "metadata": {},
   "outputs": [],
   "source": [
    "logLasso_brier = LogisticRegressionCV(\n",
    "    Cs=C_values,\n",
    "    penalty=\"l1\",\n",
    "    cv=k,\n",
    "    refit=True,\n",
    "    scoring=\"neg_brier_score\",\n",
    "    solver=\"liblinear\",\n",
    "    random_state=42,\n",
    ")\n",
    "\n",
    "logit_models[\"LASSO\"] = logLasso_brier.fit(normalized_logitvars, y_train)"
   ]
  },
  {
   "cell_type": "markdown",
   "metadata": {},
   "source": [
    "See CV-fold RMSE-s (negative brier score)"
   ]
  },
  {
   "cell_type": "code",
   "execution_count": 43,
   "metadata": {
    "scrolled": true
   },
   "outputs": [
    {
     "data": {
      "text/html": [
       "<div>\n",
       "<style scoped>\n",
       "    .dataframe tbody tr th:only-of-type {\n",
       "        vertical-align: middle;\n",
       "    }\n",
       "\n",
       "    .dataframe tbody tr th {\n",
       "        vertical-align: top;\n",
       "    }\n",
       "\n",
       "    .dataframe thead th {\n",
       "        text-align: right;\n",
       "    }\n",
       "</style>\n",
       "<table border=\"1\" class=\"dataframe\">\n",
       "  <thead>\n",
       "    <tr style=\"text-align: right;\">\n",
       "      <th></th>\n",
       "      <th>lambdas</th>\n",
       "      <th>C_values</th>\n",
       "      <th>mean_cv_score</th>\n",
       "    </tr>\n",
       "  </thead>\n",
       "  <tbody>\n",
       "    <tr>\n",
       "      <th>0</th>\n",
       "      <td>0.100000</td>\n",
       "      <td>0.000821</td>\n",
       "      <td>0.474974</td>\n",
       "    </tr>\n",
       "    <tr>\n",
       "      <th>1</th>\n",
       "      <td>0.046416</td>\n",
       "      <td>0.001768</td>\n",
       "      <td>0.461319</td>\n",
       "    </tr>\n",
       "    <tr>\n",
       "      <th>2</th>\n",
       "      <td>0.021544</td>\n",
       "      <td>0.003810</td>\n",
       "      <td>0.454347</td>\n",
       "    </tr>\n",
       "    <tr>\n",
       "      <th>3</th>\n",
       "      <td>0.010000</td>\n",
       "      <td>0.008209</td>\n",
       "      <td>0.451586</td>\n",
       "    </tr>\n",
       "    <tr>\n",
       "      <th>4</th>\n",
       "      <td>0.004642</td>\n",
       "      <td>0.017685</td>\n",
       "      <td>0.450695</td>\n",
       "    </tr>\n",
       "    <tr>\n",
       "      <th>5</th>\n",
       "      <td>0.002154</td>\n",
       "      <td>0.038101</td>\n",
       "      <td>0.450444</td>\n",
       "    </tr>\n",
       "    <tr>\n",
       "      <th>6</th>\n",
       "      <td>0.001000</td>\n",
       "      <td>0.082086</td>\n",
       "      <td>0.450397</td>\n",
       "    </tr>\n",
       "    <tr>\n",
       "      <th>7</th>\n",
       "      <td>0.000464</td>\n",
       "      <td>0.176848</td>\n",
       "      <td>0.450832</td>\n",
       "    </tr>\n",
       "    <tr>\n",
       "      <th>8</th>\n",
       "      <td>0.000215</td>\n",
       "      <td>0.381008</td>\n",
       "      <td>0.451176</td>\n",
       "    </tr>\n",
       "    <tr>\n",
       "      <th>9</th>\n",
       "      <td>0.000100</td>\n",
       "      <td>0.820856</td>\n",
       "      <td>0.451372</td>\n",
       "    </tr>\n",
       "  </tbody>\n",
       "</table>\n",
       "</div>"
      ],
      "text/plain": [
       "    lambdas  C_values  mean_cv_score\n",
       "0  0.100000  0.000821       0.474974\n",
       "1  0.046416  0.001768       0.461319\n",
       "2  0.021544  0.003810       0.454347\n",
       "3  0.010000  0.008209       0.451586\n",
       "4  0.004642  0.017685       0.450695\n",
       "5  0.002154  0.038101       0.450444\n",
       "6  0.001000  0.082086       0.450397\n",
       "7  0.000464  0.176848       0.450832\n",
       "8  0.000215  0.381008       0.451176\n",
       "9  0.000100  0.820856       0.451372"
      ]
     },
     "execution_count": 43,
     "metadata": {},
     "output_type": "execute_result"
    }
   ],
   "source": [
    "cv_summary_lasso = cv_summary(lambdas, C_values, logit_models[\"LASSO\"])\n",
    "cv_summary_lasso[\"mean_cv_score\"] = np.sqrt(cv_summary_lasso[\"mean_cv_score\"] * -1)\n",
    "cv_summary_lasso"
   ]
  },
  {
   "cell_type": "markdown",
   "metadata": {},
   "source": [
    "Save best lambda's index for later use"
   ]
  },
  {
   "cell_type": "code",
   "execution_count": 44,
   "metadata": {},
   "outputs": [],
   "source": [
    "best_lambda_i = cv_summary_lasso[\"mean_cv_score\"].idxmin()"
   ]
  },
  {
   "cell_type": "markdown",
   "metadata": {},
   "source": [
    "Extract CV test RMSE for the Lasso with best lambda"
   ]
  },
  {
   "cell_type": "code",
   "execution_count": 45,
   "metadata": {},
   "outputs": [],
   "source": [
    "CV_RMSE_folds[\"LASSO\"] = np.sqrt(\n",
    "    -1 * logit_models[\"LASSO\"].scores_[1][:, best_lambda_i]\n",
    ")"
   ]
  },
  {
   "cell_type": "markdown",
   "metadata": {},
   "source": [
    "## 2.  AUC, Calibration Curve, Confusion Matrix, ROC\n",
    "\n",
    "0. Calculate AUC for folds\n",
    "\n",
    "\n",
    "First, for logits"
   ]
  },
  {
   "cell_type": "code",
   "execution_count": 46,
   "metadata": {},
   "outputs": [],
   "source": [
    "CV_AUC_folds = dict()\n",
    "for i, model_vars in enumerate(logit_model_vars):\n",
    "\n",
    "    model_equation = \"fast_growth~\" + \"+\".join(model_vars)\n",
    "    y_train, X_train = patsy.dmatrices(model_equation, data_train)\n",
    "\n",
    "    LRCV_auc = LogisticRegressionCV(\n",
    "        Cs=C_value_logit,\n",
    "        cv=k,\n",
    "        refit=True,\n",
    "        scoring=\"roc_auc\",\n",
    "        solver=\"newton-cg\",\n",
    "        tol=1e-7,\n",
    "        random_state=42,\n",
    "    )\n",
    "\n",
    "    logit_models[\"M\" + str(i + 1)] = LRCV_auc.fit(X_train, y_train)\n",
    "\n",
    "    # Calculate AUC on test for each fold\n",
    "    CV_AUC_folds[\"M\" + str(i + 1)] = logit_models[\"M\" + str(i + 1)].scores_[1].ravel()"
   ]
  },
  {
   "cell_type": "markdown",
   "metadata": {},
   "source": [
    "For Lasso"
   ]
  },
  {
   "cell_type": "code",
   "execution_count": 47,
   "metadata": {},
   "outputs": [],
   "source": [
    "logLasso_auc = LogisticRegressionCV(\n",
    "    Cs=C_values,\n",
    "    penalty=\"l1\",\n",
    "    cv=k,\n",
    "    refit=True,\n",
    "    scoring=\"roc_auc\",\n",
    "    solver=\"liblinear\",\n",
    "    random_state=42,\n",
    ")\n",
    "logLasso_auc_fitted = logLasso_auc.fit(normalized_logitvars, y_train)\n",
    "\n",
    "CV_AUC_folds[\"LASSO\"] = logLasso_auc_fitted.scores_[1][\n",
    "    :, cv_summary_lasso[\"mean_cv_score\"].idxmin()\n",
    "]"
   ]
  },
  {
   "cell_type": "markdown",
   "metadata": {},
   "source": [
    "Put a summary frame together"
   ]
  },
  {
   "cell_type": "code",
   "execution_count": 48,
   "metadata": {},
   "outputs": [],
   "source": [
    "model_fits = pd.DataFrame(logit_models, index=[\"Model fit\"]).T\n",
    "\n",
    "summary = (\n",
    "    model_fits[\"Model fit\"]\n",
    "    .apply(lambda x: x.n_features_in_)\n",
    "    .to_frame(name=\"Number of Coefficients\")\n",
    ")\n",
    "\n",
    "summary.loc[\"LASSO\", \"Number of Coefficients\"] = len(\n",
    "    [i for i in model_fits.loc[\"LASSO\"].values[0].coef_[0] if i != 0]\n",
    ")\n",
    "\n",
    "summary[\"CV RMSE\"] = pd.DataFrame(CV_RMSE_folds).T.mean(axis=1)\n",
    "summary[\"CV AUC\"] = pd.DataFrame(CV_AUC_folds).T.mean(axis=1)"
   ]
  },
  {
   "cell_type": "code",
   "execution_count": 49,
   "metadata": {},
   "outputs": [
    {
     "data": {
      "text/plain": [
       "99"
      ]
     },
     "execution_count": 49,
     "metadata": {},
     "output_type": "execute_result"
    }
   ],
   "source": [
    "sum(x != 0 for x in model_fits.loc[\"LASSO\"].values[0].coef_[0].tolist())"
   ]
  },
  {
   "cell_type": "code",
   "execution_count": 50,
   "metadata": {},
   "outputs": [
    {
     "data": {
      "text/plain": [
       "99"
      ]
     },
     "execution_count": 50,
     "metadata": {},
     "output_type": "execute_result"
    }
   ],
   "source": [
    "len(\n",
    "    [i for i in model_fits.loc[\"LASSO\"].values[0].coef_[0] if i != 0]\n",
    ")"
   ]
  },
  {
   "cell_type": "code",
   "execution_count": 51,
   "metadata": {},
   "outputs": [
    {
     "data": {
      "text/html": [
       "<div>\n",
       "<style scoped>\n",
       "    .dataframe tbody tr th:only-of-type {\n",
       "        vertical-align: middle;\n",
       "    }\n",
       "\n",
       "    .dataframe tbody tr th {\n",
       "        vertical-align: top;\n",
       "    }\n",
       "\n",
       "    .dataframe thead th {\n",
       "        text-align: right;\n",
       "    }\n",
       "</style>\n",
       "<table border=\"1\" class=\"dataframe\">\n",
       "  <thead>\n",
       "    <tr style=\"text-align: right;\">\n",
       "      <th></th>\n",
       "      <th>Number of Coefficients</th>\n",
       "      <th>CV RMSE</th>\n",
       "      <th>CV AUC</th>\n",
       "    </tr>\n",
       "  </thead>\n",
       "  <tbody>\n",
       "    <tr>\n",
       "      <th>M1</th>\n",
       "      <td>9</td>\n",
       "      <td>0.461560</td>\n",
       "      <td>0.556205</td>\n",
       "    </tr>\n",
       "    <tr>\n",
       "      <th>M2</th>\n",
       "      <td>16</td>\n",
       "      <td>0.456740</td>\n",
       "      <td>0.611014</td>\n",
       "    </tr>\n",
       "    <tr>\n",
       "      <th>M3</th>\n",
       "      <td>30</td>\n",
       "      <td>0.453171</td>\n",
       "      <td>0.628342</td>\n",
       "    </tr>\n",
       "    <tr>\n",
       "      <th>M4</th>\n",
       "      <td>74</td>\n",
       "      <td>0.450312</td>\n",
       "      <td>0.639959</td>\n",
       "    </tr>\n",
       "    <tr>\n",
       "      <th>M5</th>\n",
       "      <td>138</td>\n",
       "      <td>0.451412</td>\n",
       "      <td>0.637918</td>\n",
       "    </tr>\n",
       "    <tr>\n",
       "      <th>LASSO</th>\n",
       "      <td>99</td>\n",
       "      <td>0.450388</td>\n",
       "      <td>0.640982</td>\n",
       "    </tr>\n",
       "  </tbody>\n",
       "</table>\n",
       "</div>"
      ],
      "text/plain": [
       "       Number of Coefficients   CV RMSE    CV AUC\n",
       "M1                          9  0.461560  0.556205\n",
       "M2                         16  0.456740  0.611014\n",
       "M3                         30  0.453171  0.628342\n",
       "M4                         74  0.450312  0.639959\n",
       "M5                        138  0.451412  0.637918\n",
       "LASSO                      99  0.450388  0.640982"
      ]
     },
     "execution_count": 51,
     "metadata": {},
     "output_type": "execute_result"
    }
   ],
   "source": [
    "summary"
   ]
  },
  {
   "cell_type": "markdown",
   "metadata": {},
   "source": [
    "### Take best model and estimate RMSE on holdout  \n",
    "\n",
    "M4, M5 and LASSO are practically the same - go with the simplest model, M4"
   ]
  },
  {
   "cell_type": "code",
   "execution_count": 52,
   "metadata": {},
   "outputs": [],
   "source": [
    "best_logit = logit_models[\"M4\"]\n",
    "model_equation = \"fast_growth~\" + \"+\".join(M4)\n",
    "_, X_holdout = patsy.dmatrices(model_equation, data_holdout)"
   ]
  },
  {
   "cell_type": "markdown",
   "metadata": {},
   "source": [
    "Best logit holdout RMSE\n"
   ]
  },
  {
   "cell_type": "code",
   "execution_count": 53,
   "metadata": {},
   "outputs": [
    {
     "data": {
      "text/plain": [
       "0.452"
      ]
     },
     "execution_count": 53,
     "metadata": {},
     "output_type": "execute_result"
    }
   ],
   "source": [
    "data_holdout[\"best_logit_pred_proba\"] = best_logit.predict_proba(X_holdout)[:, 1]\n",
    "\n",
    "round(rmse(data_holdout[\"best_logit_pred_proba\"], data_holdout[\"fast_growth\"]), 3)"
   ]
  },
  {
   "cell_type": "markdown",
   "metadata": {},
   "source": [
    "### a) Calibration curve\n",
    "\n",
    "how well do estimated vs actual event probabilities relate to each other?\n"
   ]
  },
  {
   "cell_type": "code",
   "execution_count": 56,
   "metadata": {},
   "outputs": [
    {
     "data": {
      "image/png": "[encoded data removed]",
      "text/plain": [
       "<Figure size 800x600 with 1 Axes>"
      ]
     },
     "metadata": {},
     "output_type": "display_data"
    }
   ],
   "source": [
    "create_calibration_plot(\n",
    "    data_holdout,\n",
    "    file_name=\"ch17-figure-1-logit-m4-calibration\",\n",
    "    prob_var=\"best_logit_pred_proba\",\n",
    "    actual_var=\"fast_growth\",\n",
    "    y_lab=\"Actual event probability\",\n",
    "    n_bins=10,\n",
    "    breaks=None,\n",
    ")\n"
   ]
  },
  {
   "cell_type": "markdown",
   "metadata": {},
   "source": [
    "### b) Confusion table with different tresholds\n",
    "\n",
    "Default: the threshold 0.5 is used to convert probabilities to binary classes\n",
    "\n",
    "Your model is biased toward predicting “No Fast Growth” and misses most actual fast growth cases (recall = 8.8%)! If your goal is to detect fast growth, this model is not reliable yet. You need to improve recall while maintaining a reasonable precision"
   ]
  },
  {
   "cell_type": "code",
   "execution_count": 57,
   "metadata": {},
   "outputs": [
    {
     "name": "stdout",
     "output_type": "stream",
     "text": [
      "0.0  (not fast growing):  3476\n",
      "1.0  (fast growing):  332\n"
     ]
    }
   ],
   "source": [
    "logit_class_prediction = best_logit.predict(X_holdout)\n",
    "\n",
    "values, counts = np.unique(logit_class_prediction.tolist(), return_counts=True)\n",
    "print(values[0], \" (not fast growing): \", counts[0])\n",
    "print(values[1], \" (fast growing): \", counts[1])"
   ]
  },
  {
   "cell_type": "markdown",
   "metadata": {},
   "source": [
    "Confusion matrix: summarize different type of errors and successfully predicted cases\n",
    "\n",
    "positive = \"yes\": explicitly specify the positive case"
   ]
  },
  {
   "cell_type": "code",
   "execution_count": 58,
   "metadata": {},
   "outputs": [
    {
     "data": {
      "text/html": [
       "<div>\n",
       "<style scoped>\n",
       "    .dataframe tbody tr th:only-of-type {\n",
       "        vertical-align: middle;\n",
       "    }\n",
       "\n",
       "    .dataframe tbody tr th {\n",
       "        vertical-align: top;\n",
       "    }\n",
       "\n",
       "    .dataframe thead th {\n",
       "        text-align: right;\n",
       "    }\n",
       "</style>\n",
       "<table border=\"1\" class=\"dataframe\">\n",
       "  <thead>\n",
       "    <tr style=\"text-align: right;\">\n",
       "      <th></th>\n",
       "      <th>Predicted no fast growth</th>\n",
       "      <th>Predicted fast growth</th>\n",
       "    </tr>\n",
       "  </thead>\n",
       "  <tbody>\n",
       "    <tr>\n",
       "      <th>Actual no fast growth</th>\n",
       "      <td>2450</td>\n",
       "      <td>129</td>\n",
       "    </tr>\n",
       "    <tr>\n",
       "      <th>Actual fast growth</th>\n",
       "      <td>1026</td>\n",
       "      <td>203</td>\n",
       "    </tr>\n",
       "  </tbody>\n",
       "</table>\n",
       "</div>"
      ],
      "text/plain": [
       "                       Predicted no fast growth  Predicted fast growth\n",
       "Actual no fast growth                      2450                    129\n",
       "Actual fast growth                         1026                    203"
      ]
     },
     "execution_count": 58,
     "metadata": {},
     "output_type": "execute_result"
    }
   ],
   "source": [
    "cm_object1 = confusion_matrix(\n",
    "    data_holdout[\"fast_growth\"], logit_class_prediction, labels=[0, 1]\n",
    ")\n",
    "cm1 = pd.DataFrame(\n",
    "    cm_object1,\n",
    "    index=[\"Actual no fast growth\", \"Actual fast growth\"],\n",
    "    columns=[\"Predicted no fast growth\", \"Predicted fast growth\"],\n",
    ")\n",
    "cm1"
   ]
  },
  {
   "cell_type": "code",
   "execution_count": 59,
   "metadata": {},
   "outputs": [
    {
     "data": {
      "text/html": [
       "<div>\n",
       "<style scoped>\n",
       "    .dataframe tbody tr th:only-of-type {\n",
       "        vertical-align: middle;\n",
       "    }\n",
       "\n",
       "    .dataframe tbody tr th {\n",
       "        vertical-align: top;\n",
       "    }\n",
       "\n",
       "    .dataframe thead th {\n",
       "        text-align: right;\n",
       "    }\n",
       "</style>\n",
       "<table border=\"1\" class=\"dataframe\">\n",
       "  <thead>\n",
       "    <tr style=\"text-align: right;\">\n",
       "      <th></th>\n",
       "      <th>Predicted no fast growth</th>\n",
       "      <th>Predicted fast growth</th>\n",
       "    </tr>\n",
       "  </thead>\n",
       "  <tbody>\n",
       "    <tr>\n",
       "      <th>Actual no fast growth</th>\n",
       "      <td>2450</td>\n",
       "      <td>129</td>\n",
       "    </tr>\n",
       "    <tr>\n",
       "      <th>Actual fast growth</th>\n",
       "      <td>1026</td>\n",
       "      <td>203</td>\n",
       "    </tr>\n",
       "  </tbody>\n",
       "</table>\n",
       "</div>"
      ],
      "text/plain": [
       "                       Predicted no fast growth  Predicted fast growth\n",
       "Actual no fast growth                      2450                    129\n",
       "Actual fast growth                         1026                    203"
      ]
     },
     "execution_count": 59,
     "metadata": {},
     "output_type": "execute_result"
    }
   ],
   "source": [
    "# we can apply different thresholds\n",
    "\n",
    "# 0.5 same as before\n",
    "holdout_prediction = np.where(data_holdout[\"best_logit_pred_proba\"] < 0.5, 0, 1)\n",
    "cm_object1b = confusion_matrix(\n",
    "    data_holdout[\"fast_growth\"], holdout_prediction, labels=[0, 1]\n",
    ")\n",
    "cm1b = pd.DataFrame(\n",
    "    cm_object1b,\n",
    "    index=[\"Actual no fast growth\", \"Actual fast growth\"],\n",
    "    columns=[\"Predicted no fast growth\", \"Predicted fast growth\"],\n",
    ")\n",
    "cm1b"
   ]
  },
  {
   "cell_type": "markdown",
   "metadata": {},
   "source": [
    "A sensible choice: mean of predicted probabilities"
   ]
  },
  {
   "cell_type": "code",
   "execution_count": 60,
   "metadata": {},
   "outputs": [
    {
     "data": {
      "text/plain": [
       "0.318"
      ]
     },
     "execution_count": 60,
     "metadata": {},
     "output_type": "execute_result"
    }
   ],
   "source": [
    "mean_predicted_growth_prob = np.mean(data_holdout[\"best_logit_pred_proba\"])\n",
    "round(mean_predicted_growth_prob, 3)"
   ]
  },
  {
   "cell_type": "code",
   "execution_count": 61,
   "metadata": {},
   "outputs": [
    {
     "data": {
      "text/html": [
       "<div>\n",
       "<style scoped>\n",
       "    .dataframe tbody tr th:only-of-type {\n",
       "        vertical-align: middle;\n",
       "    }\n",
       "\n",
       "    .dataframe tbody tr th {\n",
       "        vertical-align: top;\n",
       "    }\n",
       "\n",
       "    .dataframe thead th {\n",
       "        text-align: right;\n",
       "    }\n",
       "</style>\n",
       "<table border=\"1\" class=\"dataframe\">\n",
       "  <thead>\n",
       "    <tr style=\"text-align: right;\">\n",
       "      <th></th>\n",
       "      <th>Predicted no fast growth</th>\n",
       "      <th>Predicted fast growth</th>\n",
       "    </tr>\n",
       "  </thead>\n",
       "  <tbody>\n",
       "    <tr>\n",
       "      <th>Actual no fast growth</th>\n",
       "      <td>1718</td>\n",
       "      <td>861</td>\n",
       "    </tr>\n",
       "    <tr>\n",
       "      <th>Actual fast growth</th>\n",
       "      <td>554</td>\n",
       "      <td>675</td>\n",
       "    </tr>\n",
       "  </tbody>\n",
       "</table>\n",
       "</div>"
      ],
      "text/plain": [
       "                       Predicted no fast growth  Predicted fast growth\n",
       "Actual no fast growth                      1718                    861\n",
       "Actual fast growth                          554                    675"
      ]
     },
     "execution_count": 61,
     "metadata": {},
     "output_type": "execute_result"
    }
   ],
   "source": [
    "holdout_prediction = np.where(\n",
    "    data_holdout[\"best_logit_pred_proba\"] < mean_predicted_growth_prob, 0, 1\n",
    ")\n",
    "cm_object2 = confusion_matrix(\n",
    "    data_holdout[\"fast_growth\"], holdout_prediction, labels=[0, 1]\n",
    ")\n",
    "cm2 = pd.DataFrame(\n",
    "    cm_object2,\n",
    "    index=[\"Actual no fast growth\", \"Actual fast growth\"],\n",
    "    columns=[\"Predicted no fast growth\", \"Predicted fast growth\"],\n",
    ")\n",
    "cm2"
   ]
  },
  {
   "cell_type": "markdown",
   "metadata": {},
   "source": [
    "### c) Visualize ROC (with thresholds in steps) on holdout\n",
    "\n",
    "What if we want to compare multiple thresholds?\n",
    "\n",
    "First, discrete ROC (with thresholds in steps) on holdout"
   ]
  },
  {
   "cell_type": "code",
   "execution_count": 62,
   "metadata": {},
   "outputs": [],
   "source": [
    "thresholds = np.arange(0.05, 0.76, 0.05)\n",
    "#thresholds = sorted(np.geomspace(0.95, 0.05, num=17)) # set these treshold values to get even points in the plot\n",
    "cm = dict()\n",
    "true_positive_rates = []\n",
    "false_positive_rates = []\n",
    "holdout_prediction = []\n",
    "for thr in thresholds:\n",
    "    holdout_prediction = np.where(data_holdout[\"best_logit_pred_proba\"] < thr, 0, 1)\n",
    "    cm_thr = confusion_matrix(data_holdout[\"fast_growth\"], holdout_prediction, labels=[0, 1])\n",
    "    cm[thr] = cm_thr\n",
    "    tn, fp, fn, tp = cm_thr.ravel()\n",
    "    true_positive_rates.append(tp / (tp + fn))\n",
    "    false_positive_rates.append(fp / (fp + tn))"
   ]
  },
  {
   "cell_type": "code",
   "execution_count": 63,
   "metadata": {},
   "outputs": [],
   "source": [
    "tpr_fpr_for_thresholds = pd.DataFrame(\n",
    "    {\n",
    "        \"thresholds\": thresholds,\n",
    "        \"true_positive_rates\": true_positive_rates,\n",
    "        \"false_positive_rates\": false_positive_rates,\n",
    "    }\n",
    ")"
   ]
  },
  {
   "cell_type": "code",
   "execution_count": 64,
   "metadata": {},
   "outputs": [
    {
     "data": {
      "image/png": "[encoded data removed]"
     },
     "metadata": {
      "image/png": {
       "height": 480,
       "width": 640
      }
     },
     "output_type": "display_data"
    }
   ],
   "source": [
    "(\n",
    "    ggplot(\n",
    "        tpr_fpr_for_thresholds,\n",
    "        aes(x=\"false_positive_rates\", y=\"true_positive_rates\", color=\"thresholds\"),\n",
    "    )\n",
    "    + labs(\n",
    "        x=\"False positive rate (1 - Specificity)\", y=\"True positive rate (Sensitivity)\"\n",
    "    )\n",
    "    + geom_point(size=4, alpha=0.8)\n",
    "    + scale_color_continuous(trans=\"reverse\", name=\"threshold\")\n",
    "    + scale_x_continuous(limits=(0, 1), breaks=np.arange(0, 1.01, 0.1))\n",
    "    + scale_y_continuous(limits=(0, 1), breaks=np.arange(0, 1.01, 0.1))\n",
    "    + theme_bw()\n",
    "    + theme(legend_position=\"right\")\n",
    ")"
   ]
  },
  {
   "cell_type": "markdown",
   "metadata": {},
   "source": [
    "Continuous ROC on holdout with best model"
   ]
  },
  {
   "cell_type": "code",
   "execution_count": 65,
   "metadata": {},
   "outputs": [
    {
     "data": {
      "image/png": "[encoded data removed]"
     },
     "metadata": {
      "image/png": {
       "height": 480,
       "width": 640
      }
     },
     "output_type": "display_data"
    }
   ],
   "source": [
    "create_roc_plot(data_holdout[\"fast_growth\"], data_holdout[\"best_logit_pred_proba\"])"
   ]
  },
  {
   "cell_type": "markdown",
   "metadata": {},
   "source": [
    "## 3. We have a loss function\n",
    "\n",
    "Introduce loss function\n",
    "\n",
    "Relative cost of of a false negative classification (as compared with a false positive classification)\n"
   ]
  },
  {
   "cell_type": "code",
   "execution_count": 66,
   "metadata": {},
   "outputs": [],
   "source": [
    "FP = 1\n",
    "FN = 10\n",
    "cost = FN / FP"
   ]
  },
  {
   "cell_type": "markdown",
   "metadata": {},
   "source": [
    "The prevalence, or the proportion of cases in the population (n.cases/(n.controls+n.cases))\n"
   ]
  },
  {
   "cell_type": "code",
   "execution_count": 67,
   "metadata": {},
   "outputs": [],
   "source": [
    "prevelance = y_train.sum() / len(y_train)"
   ]
  },
  {
   "cell_type": "markdown",
   "metadata": {},
   "source": [
    "Draw ROC Curve and find optimal threshold with loss function \n",
    "\n",
    "The optimal cut-off is the threshold that maximizes the distance to the identity (diagonal) line\n",
    "\n",
    "Iterate through:\n",
    " 1. models\n",
    " 2. Folds"
   ]
  },
  {
   "cell_type": "code",
   "execution_count": 68,
   "metadata": {},
   "outputs": [],
   "source": [
    "best_thresholds_cv = dict()\n",
    "expected_loss_cv = dict()\n",
    "fold5_threshold = dict()\n",
    "fold5_expected_loss = dict()\n",
    "fold5_all_coords = dict()\n",
    "\n",
    "for i, model_name in enumerate(logit_models):\n",
    "    best_thresholds = []\n",
    "    expected_loss = []\n",
    "\n",
    "    if model_name != \"LASSO\":\n",
    "        _, X = patsy.dmatrices(\"fast_growth ~\" + \"+\".join(logit_model_vars[i]), data_train)\n",
    "        X = pd.DataFrame(X)\n",
    "        c_index = 0\n",
    "    else:\n",
    "        X = normalized_logitvars\n",
    "        c_index = best_lambda_i\n",
    "    fold = 0\n",
    "    for train_index, test_index in k.split(X):\n",
    "        X_fold = X.iloc[test_index, :]\n",
    "        y_fold = data_train[\"fast_growth\"].iloc[test_index]\n",
    "        pred_fold = generate_fold_prediction(\n",
    "            logit_models[model_name], X_fold, fold, c_index\n",
    "        )\n",
    "        false_pos_rate, true_pos_rate, thresholds = roc_curve(y_fold, pred_fold)\n",
    "        optimal_threshold = sorted(\n",
    "            list(\n",
    "                zip(\n",
    "                    np.abs(\n",
    "                        true_pos_rate\n",
    "                        + (1 - prevelance) / (cost * prevelance) * (1 - false_pos_rate)\n",
    "                    ),\n",
    "                    thresholds,\n",
    "                )\n",
    "            ),\n",
    "            key=lambda i: i[0],\n",
    "            reverse=True,\n",
    "        )[0][1]\n",
    "        best_thresholds.append(optimal_threshold)\n",
    "        threshold_prediction = np.where(pred_fold < optimal_threshold, 0, 1)\n",
    "        tn, fp, fn, tp = confusion_matrix(\n",
    "            y_fold, threshold_prediction, labels=[0, 1]\n",
    "        ).ravel()\n",
    "        curr_exp_loss = (fp * FP + fn * FN) / len(y_fold)\n",
    "        expected_loss.append(curr_exp_loss)\n",
    "        fold = fold + 1\n",
    "\n",
    "    best_thresholds_cv[model_name] = np.mean(best_thresholds)\n",
    "    expected_loss_cv[model_name] = np.mean(expected_loss)\n",
    "\n",
    "    # for fold #5\n",
    "    fold5_threshold[model_name] = optimal_threshold\n",
    "    fold5_expected_loss[model_name] = curr_exp_loss\n",
    "\n",
    "    all_coords = pd.DataFrame(\n",
    "        {\n",
    "            \"false_pos\": false_pos_rate * sum(y_fold == 0),\n",
    "            \"true_pos\": true_pos_rate * sum(y_fold == 1),\n",
    "            \"false_neg\": sum(y_fold == 1) - true_pos_rate * sum(y_fold == 1),\n",
    "            \"true_neg\": sum(y_fold == 0) - false_pos_rate * sum(y_fold == 0),\n",
    "            \"pos\": sum(y_fold == 1),\n",
    "            \"neg\": sum(y_fold == 0),\n",
    "            \"n\": len(y_fold),\n",
    "            \"thresholds\": thresholds,\n",
    "        }\n",
    "    )\n",
    "\n",
    "    fold5_all_coords[model_name] = all_coords"
   ]
  },
  {
   "cell_type": "code",
   "execution_count": 69,
   "metadata": {},
   "outputs": [],
   "source": [
    "summary_with_lossfnc = pd.DataFrame(\n",
    "    best_thresholds_cv.items(), columns=[\"Model\", \"Avg of optimal thresholds\"]\n",
    ")\n",
    "summary_with_lossfnc[\"Threshold for Fold5\"] = fold5_threshold.values()\n",
    "summary_with_lossfnc[\"Avg expected loss\"] = expected_loss_cv.values()\n",
    "summary_with_lossfnc[\"Expected loss for Fold5\"] = fold5_expected_loss.values()\n"
   ]
  },
  {
   "cell_type": "code",
   "execution_count": 70,
   "metadata": {
    "scrolled": true
   },
   "outputs": [
    {
     "data": {
      "text/html": [
       "<div>\n",
       "<style scoped>\n",
       "    .dataframe tbody tr th:only-of-type {\n",
       "        vertical-align: middle;\n",
       "    }\n",
       "\n",
       "    .dataframe tbody tr th {\n",
       "        vertical-align: top;\n",
       "    }\n",
       "\n",
       "    .dataframe thead th {\n",
       "        text-align: right;\n",
       "    }\n",
       "</style>\n",
       "<table border=\"1\" class=\"dataframe\">\n",
       "  <thead>\n",
       "    <tr style=\"text-align: right;\">\n",
       "      <th></th>\n",
       "      <th>Model</th>\n",
       "      <th>Avg of optimal thresholds</th>\n",
       "      <th>Threshold for Fold5</th>\n",
       "      <th>Avg expected loss</th>\n",
       "      <th>Expected loss for Fold5</th>\n",
       "    </tr>\n",
       "  </thead>\n",
       "  <tbody>\n",
       "    <tr>\n",
       "      <th>0</th>\n",
       "      <td>M1</td>\n",
       "      <td>0.175087</td>\n",
       "      <td>0.186223</td>\n",
       "      <td>0.685381</td>\n",
       "      <td>0.673892</td>\n",
       "    </tr>\n",
       "    <tr>\n",
       "      <th>1</th>\n",
       "      <td>M2</td>\n",
       "      <td>0.106438</td>\n",
       "      <td>0.112699</td>\n",
       "      <td>0.685250</td>\n",
       "      <td>0.674877</td>\n",
       "    </tr>\n",
       "    <tr>\n",
       "      <th>2</th>\n",
       "      <td>M3</td>\n",
       "      <td>0.111675</td>\n",
       "      <td>0.126258</td>\n",
       "      <td>0.684068</td>\n",
       "      <td>0.673235</td>\n",
       "    </tr>\n",
       "    <tr>\n",
       "      <th>3</th>\n",
       "      <td>M4</td>\n",
       "      <td>0.094285</td>\n",
       "      <td>0.119534</td>\n",
       "      <td>0.684593</td>\n",
       "      <td>0.672250</td>\n",
       "    </tr>\n",
       "    <tr>\n",
       "      <th>4</th>\n",
       "      <td>M5</td>\n",
       "      <td>0.028650</td>\n",
       "      <td>0.023665</td>\n",
       "      <td>0.684790</td>\n",
       "      <td>0.674220</td>\n",
       "    </tr>\n",
       "    <tr>\n",
       "      <th>5</th>\n",
       "      <td>LASSO</td>\n",
       "      <td>0.047680</td>\n",
       "      <td>0.063861</td>\n",
       "      <td>0.684856</td>\n",
       "      <td>0.674220</td>\n",
       "    </tr>\n",
       "  </tbody>\n",
       "</table>\n",
       "</div>"
      ],
      "text/plain": [
       "   Model  Avg of optimal thresholds  Threshold for Fold5  Avg expected loss  \\\n",
       "0     M1                   0.175087             0.186223           0.685381   \n",
       "1     M2                   0.106438             0.112699           0.685250   \n",
       "2     M3                   0.111675             0.126258           0.684068   \n",
       "3     M4                   0.094285             0.119534           0.684593   \n",
       "4     M5                   0.028650             0.023665           0.684790   \n",
       "5  LASSO                   0.047680             0.063861           0.684856   \n",
       "\n",
       "   Expected loss for Fold5  \n",
       "0                 0.673892  \n",
       "1                 0.674877  \n",
       "2                 0.673235  \n",
       "3                 0.672250  \n",
       "4                 0.674220  \n",
       "5                 0.674220  "
      ]
     },
     "execution_count": 70,
     "metadata": {},
     "output_type": "execute_result"
    }
   ],
   "source": [
    "summary_with_lossfnc"
   ]
  },
  {
   "cell_type": "markdown",
   "metadata": {},
   "source": [
    "Create loss plot based on Fold5 in CV "
   ]
  },
  {
   "cell_type": "code",
   "execution_count": 71,
   "metadata": {},
   "outputs": [
    {
     "data": {
      "image/png": "[encoded data removed]"
     },
     "metadata": {
      "image/png": {
       "height": 480,
       "width": 640
      }
     },
     "output_type": "display_data"
    }
   ],
   "source": [
    "model_to_plot = \"M4\"  # select model to plot\n",
    "create_loss_plot(\n",
    "    fold5_all_coords[model_to_plot],\n",
    "    fold5_threshold[model_to_plot],\n",
    "    fold5_expected_loss[model_to_plot],\n",
    ")"
   ]
  },
  {
   "cell_type": "markdown",
   "metadata": {},
   "source": [
    "Create roc plot plot based on Fold5 in CV"
   ]
  },
  {
   "cell_type": "code",
   "execution_count": 72,
   "metadata": {},
   "outputs": [
    {
     "data": {
      "image/png": "[encoded data removed]"
     },
     "metadata": {
      "image/png": {
       "height": 480,
       "width": 640
      }
     },
     "output_type": "display_data"
    }
   ],
   "source": [
    "create_roc_plot_with_optimal(\n",
    "    fold5_all_coords[model_to_plot], fold5_threshold[model_to_plot]\n",
    ")\n"
   ]
  },
  {
   "cell_type": "markdown",
   "metadata": {},
   "source": [
    "Let's see our chosen model, M4's holdout expected loss"
   ]
  },
  {
   "cell_type": "code",
   "execution_count": 73,
   "metadata": {},
   "outputs": [
    {
     "data": {
      "text/plain": [
       "0.689"
      ]
     },
     "execution_count": 73,
     "metadata": {},
     "output_type": "execute_result"
    }
   ],
   "source": [
    "best_logit_optimal_treshold = best_thresholds_cv[\"M4\"]\n",
    "\n",
    "# Get expected loss on holdout\n",
    "holdout_treshold = np.where(\n",
    "    data_holdout[\"best_logit_pred_proba\"] < best_logit_optimal_treshold, 0, 1\n",
    ")\n",
    "tn, fp, fn, tp = confusion_matrix(\n",
    "    data_holdout[\"fast_growth\"], holdout_treshold, labels=[0, 1]\n",
    ").ravel()\n",
    "expected_loss_holdout = (fp * FP + fn * FN) / len(data_holdout[\"fast_growth\"])\n",
    "round(expected_loss_holdout, 3)"
   ]
  },
  {
   "cell_type": "markdown",
   "metadata": {},
   "source": [
    "CM on holdout"
   ]
  },
  {
   "cell_type": "code",
   "execution_count": 74,
   "metadata": {},
   "outputs": [
    {
     "data": {
      "text/html": [
       "<div>\n",
       "<style scoped>\n",
       "    .dataframe tbody tr th:only-of-type {\n",
       "        vertical-align: middle;\n",
       "    }\n",
       "\n",
       "    .dataframe tbody tr th {\n",
       "        vertical-align: top;\n",
       "    }\n",
       "\n",
       "    .dataframe thead th {\n",
       "        text-align: right;\n",
       "    }\n",
       "</style>\n",
       "<table border=\"1\" class=\"dataframe\">\n",
       "  <thead>\n",
       "    <tr style=\"text-align: right;\">\n",
       "      <th></th>\n",
       "      <th>Predicted no fast growth</th>\n",
       "      <th>Predicted fast growth</th>\n",
       "    </tr>\n",
       "  </thead>\n",
       "  <tbody>\n",
       "    <tr>\n",
       "      <th>Actual no fast growth</th>\n",
       "      <td>4</td>\n",
       "      <td>2575</td>\n",
       "    </tr>\n",
       "    <tr>\n",
       "      <th>Actual fast growth</th>\n",
       "      <td>5</td>\n",
       "      <td>1224</td>\n",
       "    </tr>\n",
       "  </tbody>\n",
       "</table>\n",
       "</div>"
      ],
      "text/plain": [
       "                       Predicted no fast growth  Predicted fast growth\n",
       "Actual no fast growth                         4                   2575\n",
       "Actual fast growth                            5                   1224"
      ]
     },
     "execution_count": 74,
     "metadata": {},
     "output_type": "execute_result"
    }
   ],
   "source": [
    "cm_object3 = confusion_matrix(data_holdout[\"fast_growth\"], holdout_treshold, labels=[0, 1])\n",
    "cm3 = pd.DataFrame(\n",
    "    cm_object3,\n",
    "    index=[\"Actual no fast growth\", \"Actual fast growth\"],\n",
    "    columns=[\"Predicted no fast growth\", \"Predicted fast growth\"],\n",
    ")\n",
    "cm3"
   ]
  },
  {
   "cell_type": "markdown",
   "metadata": {},
   "source": [
    "# PREDICTION WITH RANDOM FOREST"
   ]
  },
  {
   "cell_type": "code",
   "execution_count": 75,
   "metadata": {},
   "outputs": [],
   "source": [
    "y_train, rfvars_train = patsy.dmatrices(\"fast_growth~\" + \"+\".join(rfvars), data_train)\n",
    "y_holdout, rfvars_holdout = patsy.dmatrices(\"fast_growth~\" + \"+\".join(rfvars), data_holdout)"
   ]
  },
  {
   "cell_type": "markdown",
   "metadata": {},
   "source": [
    "## Graph example for decision tree"
   ]
  },
  {
   "cell_type": "code",
   "execution_count": 76,
   "metadata": {},
   "outputs": [
    {
     "data": {
      "text/plain": [
       "<Figure size 640x480 with 0 Axes>"
      ]
     },
     "metadata": {},
     "output_type": "display_data"
    },
    {
     "data": {
      "image/png": "[encoded data removed]",
      "text/plain": [
       "<Figure size 1100x1100 with 1 Axes>"
      ]
     },
     "metadata": {},
     "output_type": "display_data"
    }
   ],
   "source": [
    "from sklearn.tree import DecisionTreeClassifier\n",
    "from sklearn.tree import plot_tree\n",
    "\n",
    "data_for_graph = data_train[[ \"profit_loss_year\", \"foreign_management\", #\"sales_mil\"\n",
    "                             ]]\n",
    "rf_for_graph = DecisionTreeClassifier(\n",
    "    ccp_alpha=0.0028, min_samples_leaf=100, max_depth=3, random_state=41\n",
    ").fit(data_for_graph, y_train)\n",
    "\n",
    "plt.figure()\n",
    "plt.figure(figsize=(11, 11))\n",
    "plot_tree(\n",
    "    rf_for_graph,\n",
    "    feature_names=data_for_graph.columns,\n",
    "    filled=True,\n",
    "    rounded=True,\n",
    "    proportion=True,\n",
    "    fontsize=10,\n",
    ")\n",
    "plt.title(\"Decision tree\")\n",
    "plt.show()\n"
   ]
  },
  {
   "cell_type": "markdown",
   "metadata": {},
   "source": [
    "## Probability forest\n",
    "\n",
    "Split by gini, ratio of 1's in each tree, average over trees"
   ]
  },
  {
   "cell_type": "code",
   "execution_count": 77,
   "metadata": {},
   "outputs": [],
   "source": [
    "grid = {\n",
    "    \"max_features\": [5, 6, 7],\n",
    "    \"criterion\": [\"gini\"],\n",
    "    \"min_samples_split\": [11, 16],\n",
    "} "
   ]
  },
  {
   "cell_type": "markdown",
   "metadata": {},
   "source": [
    "5 fold cross validation"
   ]
  },
  {
   "cell_type": "code",
   "execution_count": 78,
   "metadata": {},
   "outputs": [],
   "source": [
    "prob_forest = RandomForestClassifier(random_state=42, n_estimators=500, oob_score=True)\n",
    "prob_forest_grid = GridSearchCV(\n",
    "    prob_forest,\n",
    "    grid,\n",
    "    cv=k,\n",
    "    refit=\"roc_auc\",\n",
    "    scoring=[\"roc_auc\", \"neg_brier_score\"],\n",
    ")"
   ]
  },
  {
   "cell_type": "code",
   "execution_count": null,
   "metadata": {},
   "outputs": [],
   "source": [
    "prob_forest_fit = prob_forest_grid.fit(rfvars_train, y_train)"
   ]
  },
  {
   "cell_type": "markdown",
   "metadata": {},
   "source": [
    "Create CV summary table"
   ]
  },
  {
   "cell_type": "code",
   "execution_count": null,
   "metadata": {},
   "outputs": [
    {
     "data": {
      "text/html": [
       "<div>\n",
       "<style scoped>\n",
       "    .dataframe tbody tr th:only-of-type {\n",
       "        vertical-align: middle;\n",
       "    }\n",
       "\n",
       "    .dataframe tbody tr th {\n",
       "        vertical-align: top;\n",
       "    }\n",
       "\n",
       "    .dataframe thead th {\n",
       "        text-align: right;\n",
       "    }\n",
       "</style>\n",
       "<table border=\"1\" class=\"dataframe\">\n",
       "  <thead>\n",
       "    <tr style=\"text-align: right;\">\n",
       "      <th></th>\n",
       "      <th>max_features</th>\n",
       "      <th>min_samples_split</th>\n",
       "      <th>cv_auc</th>\n",
       "      <th>cv_rmse</th>\n",
       "    </tr>\n",
       "  </thead>\n",
       "  <tbody>\n",
       "    <tr>\n",
       "      <th>0</th>\n",
       "      <td>5</td>\n",
       "      <td>11</td>\n",
       "      <td>0.883121</td>\n",
       "      <td>0.287441</td>\n",
       "    </tr>\n",
       "    <tr>\n",
       "      <th>1</th>\n",
       "      <td>5</td>\n",
       "      <td>16</td>\n",
       "      <td>0.883446</td>\n",
       "      <td>0.287353</td>\n",
       "    </tr>\n",
       "    <tr>\n",
       "      <th>2</th>\n",
       "      <td>6</td>\n",
       "      <td>11</td>\n",
       "      <td>0.883288</td>\n",
       "      <td>0.287337</td>\n",
       "    </tr>\n",
       "    <tr>\n",
       "      <th>3</th>\n",
       "      <td>6</td>\n",
       "      <td>16</td>\n",
       "      <td>0.883659</td>\n",
       "      <td>0.287157</td>\n",
       "    </tr>\n",
       "    <tr>\n",
       "      <th>4</th>\n",
       "      <td>7</td>\n",
       "      <td>11</td>\n",
       "      <td>0.883274</td>\n",
       "      <td>0.287267</td>\n",
       "    </tr>\n",
       "    <tr>\n",
       "      <th>5</th>\n",
       "      <td>7</td>\n",
       "      <td>16</td>\n",
       "      <td>0.883829</td>\n",
       "      <td>0.287113</td>\n",
       "    </tr>\n",
       "  </tbody>\n",
       "</table>\n",
       "</div>"
      ],
      "text/plain": [
       "  max_features min_samples_split    cv_auc   cv_rmse\n",
       "0            5                11  0.883121  0.287441\n",
       "1            5                16  0.883446  0.287353\n",
       "2            6                11  0.883288  0.287337\n",
       "3            6                16  0.883659  0.287157\n",
       "4            7                11  0.883274  0.287267\n",
       "5            7                16  0.883829  0.287113"
      ]
     },
     "execution_count": 147,
     "metadata": {},
     "output_type": "execute_result"
    }
   ],
   "source": [
    "prob_forest_cv_results = pd.DataFrame(\n",
    "    {\n",
    "        \"max_features\": prob_forest_fit.cv_results_[\"param_max_features\"],\n",
    "        \"min_samples_split\": prob_forest_fit.cv_results_[\"param_min_samples_split\"],\n",
    "        \"cv_auc\": prob_forest_fit.cv_results_[\"mean_test_roc_auc\"],\n",
    "        \"cv_rmse\": np.sqrt(\n",
    "            prob_forest_fit.cv_results_[\"mean_test_neg_brier_score\"] * -1\n",
    "        ),\n",
    "    }\n",
    ")\n",
    "\n",
    "prob_forest_cv_results"
   ]
  },
  {
   "cell_type": "markdown",
   "metadata": {},
   "source": [
    "Obtain optimal parameter values"
   ]
  },
  {
   "cell_type": "code",
   "execution_count": null,
   "metadata": {},
   "outputs": [
    {
     "data": {
      "text/plain": [
       "{'criterion': 'gini', 'max_features': 7, 'min_samples_split': 16}"
      ]
     },
     "execution_count": 148,
     "metadata": {},
     "output_type": "execute_result"
    }
   ],
   "source": [
    "best_mtry = prob_forest_fit.best_params_[\"max_features\"]\n",
    "best_min_node_size = prob_forest_fit.best_params_[\"min_samples_split\"]\n",
    "prob_forest_fit.best_params_\n"
   ]
  },
  {
   "cell_type": "markdown",
   "metadata": {},
   "source": [
    "Get average (ie over the folds) RMSE and AUC"
   ]
  },
  {
   "cell_type": "code",
   "execution_count": null,
   "metadata": {},
   "outputs": [],
   "source": [
    "prob_forest_best_results = prob_forest_cv_results[\n",
    "    (prob_forest_cv_results.max_features == best_mtry)\n",
    "    & (prob_forest_cv_results.min_samples_split == best_min_node_size)\n",
    "]\n",
    "prob_forest_best_results_index = prob_forest_best_results.index.values[0]"
   ]
  },
  {
   "cell_type": "code",
   "execution_count": null,
   "metadata": {},
   "outputs": [
    {
     "data": {
      "text/html": [
       "<div>\n",
       "<style scoped>\n",
       "    .dataframe tbody tr th:only-of-type {\n",
       "        vertical-align: middle;\n",
       "    }\n",
       "\n",
       "    .dataframe tbody tr th {\n",
       "        vertical-align: top;\n",
       "    }\n",
       "\n",
       "    .dataframe thead th {\n",
       "        text-align: right;\n",
       "    }\n",
       "</style>\n",
       "<table border=\"1\" class=\"dataframe\">\n",
       "  <thead>\n",
       "    <tr style=\"text-align: right;\">\n",
       "      <th></th>\n",
       "      <th>Number of Coefficients</th>\n",
       "      <th>CV RMSE</th>\n",
       "      <th>CV AUC</th>\n",
       "    </tr>\n",
       "  </thead>\n",
       "  <tbody>\n",
       "    <tr>\n",
       "      <th>M1</th>\n",
       "      <td>9.0</td>\n",
       "      <td>0.330690</td>\n",
       "      <td>0.592583</td>\n",
       "    </tr>\n",
       "    <tr>\n",
       "      <th>M2</th>\n",
       "      <td>16.0</td>\n",
       "      <td>0.330498</td>\n",
       "      <td>0.600141</td>\n",
       "    </tr>\n",
       "    <tr>\n",
       "      <th>M3</th>\n",
       "      <td>31.0</td>\n",
       "      <td>0.297007</td>\n",
       "      <td>0.871998</td>\n",
       "    </tr>\n",
       "    <tr>\n",
       "      <th>M4</th>\n",
       "      <td>75.0</td>\n",
       "      <td>0.299545</td>\n",
       "      <td>0.869751</td>\n",
       "    </tr>\n",
       "    <tr>\n",
       "      <th>M5</th>\n",
       "      <td>139.0</td>\n",
       "      <td>0.295515</td>\n",
       "      <td>0.873172</td>\n",
       "    </tr>\n",
       "    <tr>\n",
       "      <th>LASSO</th>\n",
       "      <td>98.0</td>\n",
       "      <td>0.290348</td>\n",
       "      <td>0.878262</td>\n",
       "    </tr>\n",
       "    <tr>\n",
       "      <th>RF</th>\n",
       "      <td>n.a.</td>\n",
       "      <td>0.287113</td>\n",
       "      <td>0.883829</td>\n",
       "    </tr>\n",
       "  </tbody>\n",
       "</table>\n",
       "</div>"
      ],
      "text/plain": [
       "      Number of Coefficients   CV RMSE    CV AUC\n",
       "M1                       9.0  0.330690  0.592583\n",
       "M2                      16.0  0.330498  0.600141\n",
       "M3                      31.0  0.297007  0.871998\n",
       "M4                      75.0  0.299545  0.869751\n",
       "M5                     139.0  0.295515  0.873172\n",
       "LASSO                   98.0  0.290348  0.878262\n",
       "RF                      n.a.  0.287113  0.883829"
      ]
     },
     "execution_count": 150,
     "metadata": {},
     "output_type": "execute_result"
    }
   ],
   "source": [
    "summary.loc[\"RF\", \"Number of Coefficients\"] = \"n.a.\"\n",
    "summary.loc[\"RF\", \"CV RMSE\"] = prob_forest_best_results[\"cv_rmse\"].values[0]\n",
    "summary.loc[\"RF\", \"CV AUC\"] = prob_forest_best_results[\"cv_auc\"].values[0]\n",
    "summary"
   ]
  },
  {
   "cell_type": "markdown",
   "metadata": {},
   "source": [
    "Extract fold level RMSE and AUC"
   ]
  },
  {
   "cell_type": "code",
   "execution_count": null,
   "metadata": {},
   "outputs": [],
   "source": [
    "CV_RMSE_folds[\"RF\"] = np.sqrt(\n",
    "    pd.DataFrame(prob_forest_fit.cv_results_)\n",
    "    .filter(like=\"_test_neg_brier_score\")\n",
    "    .loc[lambda x: x[\"rank_test_neg_brier_score\"] == 1]\n",
    "    .filter(like=\"split\")\n",
    "    .values[0]\n",
    "    * -1\n",
    ")\n",
    "CV_AUC_folds[\"RF\"] = (\n",
    "    pd.DataFrame(prob_forest_fit.cv_results_)\n",
    "    .filter(like=\"_test_roc_auc\")\n",
    "    .loc[lambda x: x[\"rank_test_roc_auc\"] == 1]\n",
    "    .filter(like=\"split\")\n",
    "    .values[0]\n",
    ")"
   ]
  },
  {
   "cell_type": "markdown",
   "metadata": {},
   "source": [
    "Take a look at foldwise RMSE and AUC"
   ]
  },
  {
   "cell_type": "code",
   "execution_count": null,
   "metadata": {},
   "outputs": [
    {
     "data": {
      "text/html": [
       "<div>\n",
       "<style scoped>\n",
       "    .dataframe tbody tr th:only-of-type {\n",
       "        vertical-align: middle;\n",
       "    }\n",
       "\n",
       "    .dataframe tbody tr th {\n",
       "        vertical-align: top;\n",
       "    }\n",
       "\n",
       "    .dataframe thead th {\n",
       "        text-align: right;\n",
       "    }\n",
       "</style>\n",
       "<table border=\"1\" class=\"dataframe\">\n",
       "  <thead>\n",
       "    <tr style=\"text-align: right;\">\n",
       "      <th></th>\n",
       "      <th>M1</th>\n",
       "      <th>M2</th>\n",
       "      <th>M3</th>\n",
       "      <th>M4</th>\n",
       "      <th>M5</th>\n",
       "      <th>LASSO</th>\n",
       "      <th>RF</th>\n",
       "    </tr>\n",
       "  </thead>\n",
       "  <tbody>\n",
       "    <tr>\n",
       "      <th>0</th>\n",
       "      <td>0.338682</td>\n",
       "      <td>0.338608</td>\n",
       "      <td>0.302766</td>\n",
       "      <td>0.307427</td>\n",
       "      <td>0.299002</td>\n",
       "      <td>0.293886</td>\n",
       "      <td>0.290783</td>\n",
       "    </tr>\n",
       "    <tr>\n",
       "      <th>1</th>\n",
       "      <td>0.327945</td>\n",
       "      <td>0.327660</td>\n",
       "      <td>0.295242</td>\n",
       "      <td>0.298070</td>\n",
       "      <td>0.293948</td>\n",
       "      <td>0.290570</td>\n",
       "      <td>0.287048</td>\n",
       "    </tr>\n",
       "    <tr>\n",
       "      <th>2</th>\n",
       "      <td>0.326816</td>\n",
       "      <td>0.326647</td>\n",
       "      <td>0.291840</td>\n",
       "      <td>0.293397</td>\n",
       "      <td>0.292977</td>\n",
       "      <td>0.287434</td>\n",
       "      <td>0.284499</td>\n",
       "    </tr>\n",
       "    <tr>\n",
       "      <th>3</th>\n",
       "      <td>0.334376</td>\n",
       "      <td>0.334353</td>\n",
       "      <td>0.300860</td>\n",
       "      <td>0.306227</td>\n",
       "      <td>0.300319</td>\n",
       "      <td>0.295070</td>\n",
       "      <td>0.291331</td>\n",
       "    </tr>\n",
       "    <tr>\n",
       "      <th>4</th>\n",
       "      <td>0.325631</td>\n",
       "      <td>0.325221</td>\n",
       "      <td>0.294327</td>\n",
       "      <td>0.292604</td>\n",
       "      <td>0.291326</td>\n",
       "      <td>0.284781</td>\n",
       "      <td>0.281788</td>\n",
       "    </tr>\n",
       "  </tbody>\n",
       "</table>\n",
       "</div>"
      ],
      "text/plain": [
       "         M1        M2        M3        M4        M5     LASSO        RF\n",
       "0  0.338682  0.338608  0.302766  0.307427  0.299002  0.293886  0.290783\n",
       "1  0.327945  0.327660  0.295242  0.298070  0.293948  0.290570  0.287048\n",
       "2  0.326816  0.326647  0.291840  0.293397  0.292977  0.287434  0.284499\n",
       "3  0.334376  0.334353  0.300860  0.306227  0.300319  0.295070  0.291331\n",
       "4  0.325631  0.325221  0.294327  0.292604  0.291326  0.284781  0.281788"
      ]
     },
     "execution_count": 152,
     "metadata": {},
     "output_type": "execute_result"
    }
   ],
   "source": [
    "pd.DataFrame(CV_RMSE_folds)"
   ]
  },
  {
   "cell_type": "code",
   "execution_count": null,
   "metadata": {},
   "outputs": [
    {
     "data": {
      "text/html": [
       "<div>\n",
       "<style scoped>\n",
       "    .dataframe tbody tr th:only-of-type {\n",
       "        vertical-align: middle;\n",
       "    }\n",
       "\n",
       "    .dataframe tbody tr th {\n",
       "        vertical-align: top;\n",
       "    }\n",
       "\n",
       "    .dataframe thead th {\n",
       "        text-align: right;\n",
       "    }\n",
       "</style>\n",
       "<table border=\"1\" class=\"dataframe\">\n",
       "  <thead>\n",
       "    <tr style=\"text-align: right;\">\n",
       "      <th></th>\n",
       "      <th>M1</th>\n",
       "      <th>M2</th>\n",
       "      <th>M3</th>\n",
       "      <th>M4</th>\n",
       "      <th>M5</th>\n",
       "      <th>LASSO</th>\n",
       "      <th>RF</th>\n",
       "    </tr>\n",
       "  </thead>\n",
       "  <tbody>\n",
       "    <tr>\n",
       "      <th>0</th>\n",
       "      <td>0.597311</td>\n",
       "      <td>0.600985</td>\n",
       "      <td>0.878251</td>\n",
       "      <td>0.865636</td>\n",
       "      <td>0.878178</td>\n",
       "      <td>0.883310</td>\n",
       "      <td>0.887644</td>\n",
       "    </tr>\n",
       "    <tr>\n",
       "      <th>1</th>\n",
       "      <td>0.590598</td>\n",
       "      <td>0.595940</td>\n",
       "      <td>0.871791</td>\n",
       "      <td>0.873316</td>\n",
       "      <td>0.871114</td>\n",
       "      <td>0.872677</td>\n",
       "      <td>0.880036</td>\n",
       "    </tr>\n",
       "    <tr>\n",
       "      <th>2</th>\n",
       "      <td>0.588190</td>\n",
       "      <td>0.594032</td>\n",
       "      <td>0.869112</td>\n",
       "      <td>0.869898</td>\n",
       "      <td>0.871594</td>\n",
       "      <td>0.878256</td>\n",
       "      <td>0.883313</td>\n",
       "    </tr>\n",
       "    <tr>\n",
       "      <th>3</th>\n",
       "      <td>0.598202</td>\n",
       "      <td>0.607358</td>\n",
       "      <td>0.868975</td>\n",
       "      <td>0.864181</td>\n",
       "      <td>0.868990</td>\n",
       "      <td>0.874124</td>\n",
       "      <td>0.878399</td>\n",
       "    </tr>\n",
       "    <tr>\n",
       "      <th>4</th>\n",
       "      <td>0.588617</td>\n",
       "      <td>0.602388</td>\n",
       "      <td>0.871861</td>\n",
       "      <td>0.875724</td>\n",
       "      <td>0.875985</td>\n",
       "      <td>0.882941</td>\n",
       "      <td>0.889753</td>\n",
       "    </tr>\n",
       "  </tbody>\n",
       "</table>\n",
       "</div>"
      ],
      "text/plain": [
       "         M1        M2        M3        M4        M5     LASSO        RF\n",
       "0  0.597311  0.600985  0.878251  0.865636  0.878178  0.883310  0.887644\n",
       "1  0.590598  0.595940  0.871791  0.873316  0.871114  0.872677  0.880036\n",
       "2  0.588190  0.594032  0.869112  0.869898  0.871594  0.878256  0.883313\n",
       "3  0.598202  0.607358  0.868975  0.864181  0.868990  0.874124  0.878399\n",
       "4  0.588617  0.602388  0.871861  0.875724  0.875985  0.882941  0.889753"
      ]
     },
     "execution_count": 153,
     "metadata": {},
     "output_type": "execute_result"
    }
   ],
   "source": [
    "pd.DataFrame(CV_AUC_folds)"
   ]
  },
  {
   "cell_type": "markdown",
   "metadata": {},
   "source": [
    "Now use loss function and search for best thresholds and expected loss over folds "
   ]
  },
  {
   "cell_type": "code",
   "execution_count": null,
   "metadata": {},
   "outputs": [],
   "source": [
    "best_thresholds = list()\n",
    "expected_loss = list()\n",
    "rfvars_train = pd.DataFrame(rfvars_train)\n",
    "\n",
    "fold = 0\n",
    "for train_index, test_index in k.split(rfvars_train):\n",
    "    X_fold = rfvars_train.iloc[test_index, :]\n",
    "    y_fold = data_train[\"fast_growth\"].iloc[test_index]\n",
    "\n",
    "    X_fold_train = rfvars_train.iloc[train_index, :]\n",
    "    y_fold_train = data_train[\"fast_growth\"].iloc[train_index]\n",
    "\n",
    "    prob_forest_best = RandomForestClassifier(\n",
    "        random_state=42,\n",
    "        n_estimators=500,\n",
    "        oob_score=True,\n",
    "        criterion=\"gini\",\n",
    "        max_features=best_mtry,\n",
    "        min_samples_split=best_min_node_size,\n",
    "    )\n",
    "    prob_forest_best_fold = prob_forest_best.fit(X_fold_train, y_fold_train)\n",
    "    pred_fold = prob_forest_best_fold.predict_proba(X_fold)[:, 1]\n",
    "\n",
    "    false_pos_rate, true_pos_rate, threshold = roc_curve(y_fold, pred_fold)\n",
    "    best_threshold = sorted(\n",
    "        list(\n",
    "            zip(\n",
    "                np.abs(\n",
    "                    true_pos_rate\n",
    "                    + (1 - prevelance) / (cost * prevelance) * (1 - false_pos_rate)\n",
    "                ),\n",
    "                threshold,\n",
    "            )\n",
    "        ),\n",
    "        key=lambda x: x[0],\n",
    "        reverse=True,\n",
    "    )[0][1]\n",
    "    best_thresholds.append(best_threshold)\n",
    "    threshold_prediction = np.where(pred_fold < best_threshold, 0, 1)\n",
    "    tn, fp, fn, tp = confusion_matrix(\n",
    "        y_fold, threshold_prediction, labels=[0, 1]\n",
    "    ).ravel()\n",
    "    curr_exp_loss = (fp * FP + fn * FN) / len(y_fold)\n",
    "    expected_loss.append(curr_exp_loss)\n",
    "\n",
    "fold5_threshold_rf = best_threshold\n",
    "fold5_expected_loss_rf = curr_exp_loss\n",
    "\n",
    "all_coords_rf = pd.DataFrame(\n",
    "    {\n",
    "        \"false_pos\": false_pos_rate * sum(y_fold == 0),\n",
    "        \"true_pos\": true_pos_rate * sum(y_fold == 1),\n",
    "        \"false_neg\": sum(y_fold == 1) - true_pos_rate * sum(y_fold == 1),\n",
    "        \"true_neg\": sum(y_fold == 0) - false_pos_rate * sum(y_fold == 0),\n",
    "        \"pos\": sum(y_fold == 1),\n",
    "        \"neg\": sum(y_fold == 0),\n",
    "        \"n\": len(y_fold),\n",
    "        \"thresholds\": threshold,\n",
    "    }\n",
    ")\n"
   ]
  },
  {
   "cell_type": "code",
   "execution_count": null,
   "metadata": {},
   "outputs": [],
   "source": [
    "expected_loss_cv[\"RF\"] = np.mean(expected_loss)\n",
    "best_thresholds_cv[\"RF\"] = np.mean(best_thresholds)\n"
   ]
  },
  {
   "cell_type": "code",
   "execution_count": null,
   "metadata": {},
   "outputs": [
    {
     "data": {
      "text/html": [
       "<div>\n",
       "<style scoped>\n",
       "    .dataframe tbody tr th:only-of-type {\n",
       "        vertical-align: middle;\n",
       "    }\n",
       "\n",
       "    .dataframe tbody tr th {\n",
       "        vertical-align: top;\n",
       "    }\n",
       "\n",
       "    .dataframe thead th {\n",
       "        text-align: right;\n",
       "    }\n",
       "</style>\n",
       "<table border=\"1\" class=\"dataframe\">\n",
       "  <thead>\n",
       "    <tr style=\"text-align: right;\">\n",
       "      <th></th>\n",
       "      <th>CV RMSE</th>\n",
       "      <th>CV AUC</th>\n",
       "      <th>Avg of optimal thresholds</th>\n",
       "      <th>Threshold for Fold5</th>\n",
       "      <th>Avg expected loss</th>\n",
       "      <th>Expected loss for Fold5</th>\n",
       "    </tr>\n",
       "  </thead>\n",
       "  <tbody>\n",
       "    <tr>\n",
       "      <th>0</th>\n",
       "      <td>0.287</td>\n",
       "      <td>0.884</td>\n",
       "      <td>0.119</td>\n",
       "      <td>0.154</td>\n",
       "      <td>0.298</td>\n",
       "      <td>0.292</td>\n",
       "    </tr>\n",
       "  </tbody>\n",
       "</table>\n",
       "</div>"
      ],
      "text/plain": [
       "   CV RMSE  CV AUC  Avg of optimal thresholds  Threshold for Fold5  \\\n",
       "0    0.287   0.884                      0.119                0.154   \n",
       "\n",
       "   Avg expected loss  Expected loss for Fold5  \n",
       "0              0.298                    0.292  "
      ]
     },
     "execution_count": 157,
     "metadata": {},
     "output_type": "execute_result"
    }
   ],
   "source": [
    "rf_summary = pd.DataFrame(\n",
    "    {\n",
    "        \"CV RMSE\": [round(prob_forest_best_results[\"cv_rmse\"].values[0], 3)],\n",
    "        \"CV AUC\": [round(prob_forest_best_results[\"cv_auc\"].values[0], 3)],\n",
    "        \"Avg of optimal thresholds\": [round(best_thresholds_cv[\"RF\"], 3)],\n",
    "        \"Threshold for Fold5\": [round(best_threshold, 3)],\n",
    "        \"Avg expected loss\": [round(expected_loss_cv[\"RF\"], 3)],\n",
    "        \"Expected loss for Fold5\": [round(curr_exp_loss, 3)],\n",
    "    }\n",
    ")\n",
    "\n",
    "rf_summary"
   ]
  },
  {
   "cell_type": "markdown",
   "metadata": {},
   "source": [
    "Create plots based on Fold5 in CV "
   ]
  },
  {
   "cell_type": "code",
   "execution_count": null,
   "metadata": {},
   "outputs": [
    {
     "data": {
      "image/png": "[encoded data removed]"
     },
     "metadata": {
      "image/png": {
       "height": 480,
       "width": 640
      }
     },
     "output_type": "display_data"
    }
   ],
   "source": [
    "create_loss_plot(all_coords_rf, fold5_threshold_rf, fold5_expected_loss_rf)"
   ]
  },
  {
   "cell_type": "code",
   "execution_count": null,
   "metadata": {},
   "outputs": [
    {
     "data": {
      "image/png": "[encoded data removed]"
     },
     "metadata": {
      "image/png": {
       "height": 480,
       "width": 640
      }
     },
     "output_type": "display_data"
    }
   ],
   "source": [
    "create_roc_plot_with_optimal(all_coords_rf, fold5_threshold_rf)"
   ]
  },
  {
   "cell_type": "markdown",
   "metadata": {},
   "source": [
    "Take model to holdout and estimate RMSE, AUC and expected loss "
   ]
  },
  {
   "cell_type": "code",
   "execution_count": null,
   "metadata": {},
   "outputs": [
    {
     "data": {
      "text/plain": [
       "0.288"
      ]
     },
     "execution_count": 160,
     "metadata": {},
     "output_type": "execute_result"
    }
   ],
   "source": [
    "prob_forest_fit_best = prob_forest_fit.best_estimator_\n",
    "rf_predicted_probabilities_holdout = prob_forest_fit_best.predict_proba(rfvars_holdout)[\n",
    "    :, 1\n",
    "]\n",
    "rmse_rf = np.sqrt(mean_squared_error(y_holdout, rf_predicted_probabilities_holdout))\n",
    "round(rmse_rf, 3)\n"
   ]
  },
  {
   "cell_type": "markdown",
   "metadata": {},
   "source": [
    "ROC AUC  on holdout"
   ]
  },
  {
   "cell_type": "code",
   "execution_count": null,
   "metadata": {},
   "outputs": [
    {
     "data": {
      "text/plain": [
       "0.886"
      ]
     },
     "execution_count": 161,
     "metadata": {},
     "output_type": "execute_result"
    }
   ],
   "source": [
    "auc_rf = roc_auc_score(y_holdout, rf_predicted_probabilities_holdout)\n",
    "round(auc_rf, 3)\n"
   ]
  },
  {
   "cell_type": "markdown",
   "metadata": {},
   "source": [
    " Get expected loss on holdout"
   ]
  },
  {
   "cell_type": "code",
   "execution_count": null,
   "metadata": {},
   "outputs": [
    {
     "data": {
      "text/plain": [
       "0.292"
      ]
     },
     "execution_count": 162,
     "metadata": {},
     "output_type": "execute_result"
    }
   ],
   "source": [
    "holdout_treshold = np.where(\n",
    "    rf_predicted_probabilities_holdout < best_thresholds_cv[\"RF\"], 0, 1\n",
    ")\n",
    "tn, fp, fn, tp = confusion_matrix(y_holdout, holdout_treshold, labels=[0, 1]).ravel()\n",
    "expected_loss_holdout = (fp * FP + fn * FN) / len(y_holdout)\n",
    "round(expected_loss_holdout, 3)\n"
   ]
  },
  {
   "cell_type": "markdown",
   "metadata": {},
   "source": [
    "## Final results"
   ]
  },
  {
   "cell_type": "code",
   "execution_count": null,
   "metadata": {},
   "outputs": [],
   "source": [
    "summary[\"CV treshold\"] = best_thresholds_cv\n",
    "summary[\"CV expected Loss\"] = expected_loss_cv"
   ]
  },
  {
   "cell_type": "code",
   "execution_count": null,
   "metadata": {},
   "outputs": [
    {
     "data": {
      "text/html": [
       "<div>\n",
       "<style scoped>\n",
       "    .dataframe tbody tr th:only-of-type {\n",
       "        vertical-align: middle;\n",
       "    }\n",
       "\n",
       "    .dataframe tbody tr th {\n",
       "        vertical-align: top;\n",
       "    }\n",
       "\n",
       "    .dataframe thead th {\n",
       "        text-align: right;\n",
       "    }\n",
       "</style>\n",
       "<table border=\"1\" class=\"dataframe\">\n",
       "  <thead>\n",
       "    <tr style=\"text-align: right;\">\n",
       "      <th></th>\n",
       "      <th>Number of Coefficients</th>\n",
       "      <th>CV RMSE</th>\n",
       "      <th>CV AUC</th>\n",
       "      <th>CV treshold</th>\n",
       "      <th>CV expected Loss</th>\n",
       "    </tr>\n",
       "  </thead>\n",
       "  <tbody>\n",
       "    <tr>\n",
       "      <th>M1</th>\n",
       "      <td>9.0</td>\n",
       "      <td>0.330690</td>\n",
       "      <td>0.592583</td>\n",
       "      <td>0.097844</td>\n",
       "      <td>0.820340</td>\n",
       "    </tr>\n",
       "    <tr>\n",
       "      <th>M2</th>\n",
       "      <td>16.0</td>\n",
       "      <td>0.330498</td>\n",
       "      <td>0.600141</td>\n",
       "      <td>0.101677</td>\n",
       "      <td>0.811769</td>\n",
       "    </tr>\n",
       "    <tr>\n",
       "      <th>M3</th>\n",
       "      <td>31.0</td>\n",
       "      <td>0.297007</td>\n",
       "      <td>0.871998</td>\n",
       "      <td>0.131759</td>\n",
       "      <td>0.298401</td>\n",
       "    </tr>\n",
       "    <tr>\n",
       "      <th>M4</th>\n",
       "      <td>75.0</td>\n",
       "      <td>0.299545</td>\n",
       "      <td>0.869751</td>\n",
       "      <td>0.102978</td>\n",
       "      <td>0.304632</td>\n",
       "    </tr>\n",
       "    <tr>\n",
       "      <th>M5</th>\n",
       "      <td>139.0</td>\n",
       "      <td>0.295515</td>\n",
       "      <td>0.873172</td>\n",
       "      <td>0.089899</td>\n",
       "      <td>0.302884</td>\n",
       "    </tr>\n",
       "    <tr>\n",
       "      <th>LASSO</th>\n",
       "      <td>98.0</td>\n",
       "      <td>0.290348</td>\n",
       "      <td>0.878262</td>\n",
       "      <td>0.053079</td>\n",
       "      <td>0.299885</td>\n",
       "    </tr>\n",
       "    <tr>\n",
       "      <th>RF</th>\n",
       "      <td>n.a.</td>\n",
       "      <td>0.287113</td>\n",
       "      <td>0.883829</td>\n",
       "      <td>0.118564</td>\n",
       "      <td>0.297643</td>\n",
       "    </tr>\n",
       "  </tbody>\n",
       "</table>\n",
       "</div>"
      ],
      "text/plain": [
       "      Number of Coefficients   CV RMSE    CV AUC  CV treshold  \\\n",
       "M1                       9.0  0.330690  0.592583     0.097844   \n",
       "M2                      16.0  0.330498  0.600141     0.101677   \n",
       "M3                      31.0  0.297007  0.871998     0.131759   \n",
       "M4                      75.0  0.299545  0.869751     0.102978   \n",
       "M5                     139.0  0.295515  0.873172     0.089899   \n",
       "LASSO                   98.0  0.290348  0.878262     0.053079   \n",
       "RF                      n.a.  0.287113  0.883829     0.118564   \n",
       "\n",
       "       CV expected Loss  \n",
       "M1             0.820340  \n",
       "M2             0.811769  \n",
       "M3             0.298401  \n",
       "M4             0.304632  \n",
       "M5             0.302884  \n",
       "LASSO          0.299885  \n",
       "RF             0.297643  "
      ]
     },
     "execution_count": 164,
     "metadata": {},
     "output_type": "execute_result"
    }
   ],
   "source": [
    "summary"
   ]
  }
 ],
 "metadata": {
  "kernelspec": {
   "display_name": "Python 3 (ipykernel)",
   "language": "python",
   "name": "python3"
  },
  "language_info": {
   "codemirror_mode": {
    "name": "ipython",
    "version": 3
   },
   "file_extension": ".py",
   "mimetype": "text/x-python",
   "name": "python",
   "nbconvert_exporter": "python",
   "pygments_lexer": "ipython3",
   "version": "3.12.7"
  }
 },
 "nbformat": 4,
 "nbformat_minor": 4
}
