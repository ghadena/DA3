{
 "cells": [
  {
   "cell_type": "markdown",
   "metadata": {},
   "source": [
    "#### Prepared for Gabor's Data Analysis\n",
    "\n",
    "# Data Analysis for Business, Economics, and Policy\n",
    "by Gabor Bekes and  Gabor Kezdi\n",
    " \n",
    "Cambridge University Press 2021\n",
    "\n",
    "**[gabors-data-analysis.com ](https://gabors-data-analysis.com/)**\n",
    "\n",
    " License: Free to share, modify and use for educational purposes. \n",
    " Not to be used for commercial purposes.\n",
    "\n",
    "# Chapter 17\n",
    "\n",
    "## Predicting firm exit"
   ]
  },
  {
   "cell_type": "code",
   "execution_count": 46,
   "metadata": {},
   "outputs": [],
   "source": [
    "import os\n",
    "import sys\n",
    "import warnings\n",
    "\n",
    "import matplotlib.pyplot as plt\n",
    "import numpy as np\n",
    "import seaborn as sns\n",
    "import pandas as pd\n",
    "import patsy\n",
    "import sklearn.metrics as metrics\n",
    "import statsmodels.formula.api as smf\n",
    "from plotnine import *\n",
    "from sklearn.ensemble import RandomForestClassifier\n",
    "from sklearn.linear_model import (\n",
    "    LinearRegression,\n",
    "    LogisticRegression,\n",
    "    LogisticRegressionCV,\n",
    ")\n",
    "from sklearn.metrics import (\n",
    "    auc,\n",
    "    brier_score_loss,\n",
    "    confusion_matrix,\n",
    "    mean_squared_error,\n",
    "    roc_auc_score,\n",
    "    roc_curve,\n",
    ")\n",
    "from sklearn.model_selection import GridSearchCV, KFold, train_test_split\n",
    "from sklearn.preprocessing import StandardScaler\n",
    "from statsmodels.tools.eval_measures import rmse\n",
    "\n",
    "warnings.filterwarnings(\"ignore\")"
   ]
  },
  {
   "cell_type": "markdown",
   "metadata": {},
   "source": [
    "## Import data \n",
    "\n",
    "### Importing and Cleaning Data\n",
    "\n",
    "We imported the **cleaned dataset** from the preprocessing step, ensuring it was free of missing values and well-structured for analysis. Below are the key **data cleaning and transformation steps** performed before this stage:\n",
    "\n",
    "#### 📌 Data Cleaning Steps:\n",
    "- **Dropped variables with excessive missing values** to maintain data integrity.\n",
    "- **Performed label engineering** to standardize categorical variables.\n",
    "- **Generated key status indicators:**\n",
    "  - `alive_status`: Firm's operational status.\n",
    "  - `default_in_two_years`: Whether the firm defaulted within two years.\n",
    "- **Replaced negative sales values with 1** to handle data inconsistencies.\n",
    "- **Created lagged variables for sales** to track historical trends.\n",
    "- **Generated a new dummy variable for firms with `age = 0`**.\n",
    "- **Implemented sample design criteria:**\n",
    "  - Focused on the **cross-section where `year` = 2012 or 2013** and the firm status is alive.\n",
    "  - **Filtered firms with revenue below €10 million but above €1,000**.\n",
    "  - Final dataset contains **43,187 observations**.\n",
    "\n",
    "#### 📌 Feature Engineering:\n",
    "- **Updated industry category codes** to align with standardized classifications.\n",
    "- **Enhanced firm characteristics** by creating:\n",
    "  - `age_squared` (capturing nonlinear age effects).\n",
    "  - `foreign_management`, `gender`, and `region` indicators.\n",
    "- **Processed financial variables**:\n",
    "  - Created **financial ratios** for key performance indicators.\n",
    "  - **Handled missing or zero asset values** by adding a **flag**.\n",
    "  - **Generated total assets** and normalized balance sheet & P&L elements by sales.\n",
    "  - **Winsorized** extreme values to reduce the impact of outliers.\n",
    "- **Performed imputation** for:\n",
    "  - **CEO age** (to handle missing values).\n",
    "  - **Number of employees**, which was a noisy measure.\n",
    "- **Sales-based transformations**:\n",
    "  - Computed **sales per million (log & squared)**.\n",
    "  - Generated **sales change flags and difference variables**.\n",
    "\n",
    "---\n",
    "\n",
    "### Creating the Target Variable\n",
    "\n",
    "Although the **fast-growth target variable** was initially created in the cleaning script, we decided to **drop and redefine it here** for transparency and clarity.  \n",
    "\n",
    "#### 📌 Target Variable Definition:\n",
    "- We classify a firm as **\"fast-growing\"** if its **log sales growth exceeds 20%** (`growth_threshold = log(1.2) ≈ 0.182`).\n",
    "- This threshold is based on the **OECD definition of high-growth firms**, ensuring comparability with economic research.\n",
    "- Growth is measured **year-over-year** (rather than over two years) to:\n",
    "  - Capture **more recent expansion trends**.\n",
    "  - Maintain **a larger sample size**, avoiding data loss from firm exits or structural changes.\n",
    "- We use the **winsorized version of sales growth (`d1_sales_mil_log_mod`)** to:\n",
    "  - Minimize the impact of **extreme outliers** that could distort firm classification.\n",
    "- Sales were **log-transformed** to:\n",
    "  - Stabilize variance.\n",
    "  - Handle **skewed distributions**.\n",
    "  - Enable a **linear and economically meaningful interpretation** of growth.\n",
    "\n",
    "#### 📊 Key Insights:\n",
    "- **12% of firms in our sample are classified as \"fast growers\".**\n",
    "- **Firms experiencing rapid expansion** show an **increased likelihood of default**, highlighting potential risks associated with aggressive growth strategies."
   ]
  },
  {
   "cell_type": "code",
   "execution_count": 53,
   "metadata": {},
   "outputs": [
    {
     "data": {
      "text/html": [
       "<div>\n",
       "<style scoped>\n",
       "    .dataframe tbody tr th:only-of-type {\n",
       "        vertical-align: middle;\n",
       "    }\n",
       "\n",
       "    .dataframe tbody tr th {\n",
       "        vertical-align: top;\n",
       "    }\n",
       "\n",
       "    .dataframe thead th {\n",
       "        text-align: right;\n",
       "    }\n",
       "</style>\n",
       "<table border=\"1\" class=\"dataframe\">\n",
       "  <thead>\n",
       "    <tr style=\"text-align: right;\">\n",
       "      <th></th>\n",
       "      <th>year</th>\n",
       "      <th>comp_id</th>\n",
       "      <th>begin</th>\n",
       "      <th>end</th>\n",
       "      <th>amort</th>\n",
       "      <th>curr_assets</th>\n",
       "      <th>curr_liab</th>\n",
       "      <th>extra_exp</th>\n",
       "      <th>extra_inc</th>\n",
       "      <th>extra_profit_loss</th>\n",
       "      <th>...</th>\n",
       "      <th>flag_miss_ceo_age</th>\n",
       "      <th>ceo_young</th>\n",
       "      <th>labor_avg_mod</th>\n",
       "      <th>flag_miss_labor_avg</th>\n",
       "      <th>default_f</th>\n",
       "      <th>sales_mil_log_sq</th>\n",
       "      <th>flag_low_d1_sales_mil_log</th>\n",
       "      <th>flag_high_d1_sales_mil_log</th>\n",
       "      <th>d1_sales_mil_log_mod</th>\n",
       "      <th>d1_sales_mil_log_mod_sq</th>\n",
       "    </tr>\n",
       "  </thead>\n",
       "  <tbody>\n",
       "    <tr>\n",
       "      <th>0</th>\n",
       "      <td>2012</td>\n",
       "      <td>1.001541e+06</td>\n",
       "      <td>2012-01-01</td>\n",
       "      <td>2012-12-31</td>\n",
       "      <td>481.481476</td>\n",
       "      <td>9.629630e+03</td>\n",
       "      <td>1.303704e+03</td>\n",
       "      <td>0.0</td>\n",
       "      <td>0.000000</td>\n",
       "      <td>0.000000</td>\n",
       "      <td>...</td>\n",
       "      <td>0</td>\n",
       "      <td>1</td>\n",
       "      <td>0.639393</td>\n",
       "      <td>1</td>\n",
       "      <td>no_default</td>\n",
       "      <td>45.190017</td>\n",
       "      <td>0</td>\n",
       "      <td>0</td>\n",
       "      <td>0.000000</td>\n",
       "      <td>0.000000</td>\n",
       "    </tr>\n",
       "    <tr>\n",
       "      <th>1</th>\n",
       "      <td>2012</td>\n",
       "      <td>1.002029e+06</td>\n",
       "      <td>2012-01-01</td>\n",
       "      <td>2012-12-31</td>\n",
       "      <td>14929.629883</td>\n",
       "      <td>2.038852e+05</td>\n",
       "      <td>1.204445e+05</td>\n",
       "      <td>0.0</td>\n",
       "      <td>0.000000</td>\n",
       "      <td>0.000000</td>\n",
       "      <td>...</td>\n",
       "      <td>0</td>\n",
       "      <td>1</td>\n",
       "      <td>0.458333</td>\n",
       "      <td>0</td>\n",
       "      <td>no_default</td>\n",
       "      <td>0.016375</td>\n",
       "      <td>0</td>\n",
       "      <td>0</td>\n",
       "      <td>0.000000</td>\n",
       "      <td>0.000000</td>\n",
       "    </tr>\n",
       "    <tr>\n",
       "      <th>2</th>\n",
       "      <td>2012</td>\n",
       "      <td>1.003200e+06</td>\n",
       "      <td>2012-01-01</td>\n",
       "      <td>2012-12-31</td>\n",
       "      <td>25.925926</td>\n",
       "      <td>2.222222e+01</td>\n",
       "      <td>1.099630e+04</td>\n",
       "      <td>0.0</td>\n",
       "      <td>0.000000</td>\n",
       "      <td>0.000000</td>\n",
       "      <td>...</td>\n",
       "      <td>1</td>\n",
       "      <td>0</td>\n",
       "      <td>0.639393</td>\n",
       "      <td>1</td>\n",
       "      <td>default</td>\n",
       "      <td>34.614876</td>\n",
       "      <td>0</td>\n",
       "      <td>0</td>\n",
       "      <td>0.000000</td>\n",
       "      <td>0.000000</td>\n",
       "    </tr>\n",
       "    <tr>\n",
       "      <th>3</th>\n",
       "      <td>2012</td>\n",
       "      <td>1.011889e+06</td>\n",
       "      <td>2012-01-01</td>\n",
       "      <td>2012-12-31</td>\n",
       "      <td>36625.925781</td>\n",
       "      <td>1.601667e+05</td>\n",
       "      <td>1.891111e+04</td>\n",
       "      <td>0.0</td>\n",
       "      <td>0.000000</td>\n",
       "      <td>0.000000</td>\n",
       "      <td>...</td>\n",
       "      <td>0</td>\n",
       "      <td>0</td>\n",
       "      <td>1.621212</td>\n",
       "      <td>0</td>\n",
       "      <td>no_default</td>\n",
       "      <td>0.698025</td>\n",
       "      <td>0</td>\n",
       "      <td>0</td>\n",
       "      <td>0.000000</td>\n",
       "      <td>0.000000</td>\n",
       "    </tr>\n",
       "    <tr>\n",
       "      <th>4</th>\n",
       "      <td>2012</td>\n",
       "      <td>1.014183e+06</td>\n",
       "      <td>2012-01-01</td>\n",
       "      <td>2012-12-31</td>\n",
       "      <td>12551.851562</td>\n",
       "      <td>1.999037e+05</td>\n",
       "      <td>8.274074e+03</td>\n",
       "      <td>0.0</td>\n",
       "      <td>7.407407</td>\n",
       "      <td>7.407407</td>\n",
       "      <td>...</td>\n",
       "      <td>0</td>\n",
       "      <td>0</td>\n",
       "      <td>0.715278</td>\n",
       "      <td>0</td>\n",
       "      <td>no_default</td>\n",
       "      <td>4.171000</td>\n",
       "      <td>0</td>\n",
       "      <td>0</td>\n",
       "      <td>0.000000</td>\n",
       "      <td>0.000000</td>\n",
       "    </tr>\n",
       "    <tr>\n",
       "      <th>...</th>\n",
       "      <td>...</td>\n",
       "      <td>...</td>\n",
       "      <td>...</td>\n",
       "      <td>...</td>\n",
       "      <td>...</td>\n",
       "      <td>...</td>\n",
       "      <td>...</td>\n",
       "      <td>...</td>\n",
       "      <td>...</td>\n",
       "      <td>...</td>\n",
       "      <td>...</td>\n",
       "      <td>...</td>\n",
       "      <td>...</td>\n",
       "      <td>...</td>\n",
       "      <td>...</td>\n",
       "      <td>...</td>\n",
       "      <td>...</td>\n",
       "      <td>...</td>\n",
       "      <td>...</td>\n",
       "      <td>...</td>\n",
       "      <td>...</td>\n",
       "    </tr>\n",
       "    <tr>\n",
       "      <th>37914</th>\n",
       "      <td>2013</td>\n",
       "      <td>4.638406e+11</td>\n",
       "      <td>2013-01-01</td>\n",
       "      <td>2013-12-31</td>\n",
       "      <td>2374.073975</td>\n",
       "      <td>6.485185e+03</td>\n",
       "      <td>2.250741e+04</td>\n",
       "      <td>0.0</td>\n",
       "      <td>0.000000</td>\n",
       "      <td>0.000000</td>\n",
       "      <td>...</td>\n",
       "      <td>0</td>\n",
       "      <td>1</td>\n",
       "      <td>0.639393</td>\n",
       "      <td>1</td>\n",
       "      <td>no_default</td>\n",
       "      <td>17.984252</td>\n",
       "      <td>0</td>\n",
       "      <td>0</td>\n",
       "      <td>-0.484815</td>\n",
       "      <td>0.235046</td>\n",
       "    </tr>\n",
       "    <tr>\n",
       "      <th>37915</th>\n",
       "      <td>2013</td>\n",
       "      <td>4.638739e+11</td>\n",
       "      <td>2013-01-01</td>\n",
       "      <td>2013-12-31</td>\n",
       "      <td>244.444443</td>\n",
       "      <td>1.912593e+04</td>\n",
       "      <td>5.674074e+03</td>\n",
       "      <td>0.0</td>\n",
       "      <td>0.000000</td>\n",
       "      <td>0.000000</td>\n",
       "      <td>...</td>\n",
       "      <td>1</td>\n",
       "      <td>0</td>\n",
       "      <td>0.305556</td>\n",
       "      <td>0</td>\n",
       "      <td>default</td>\n",
       "      <td>8.128331</td>\n",
       "      <td>0</td>\n",
       "      <td>0</td>\n",
       "      <td>0.496634</td>\n",
       "      <td>0.246645</td>\n",
       "    </tr>\n",
       "    <tr>\n",
       "      <th>37916</th>\n",
       "      <td>2013</td>\n",
       "      <td>4.639820e+11</td>\n",
       "      <td>2013-01-01</td>\n",
       "      <td>2013-12-31</td>\n",
       "      <td>12003.704102</td>\n",
       "      <td>1.091148e+05</td>\n",
       "      <td>1.506185e+05</td>\n",
       "      <td>0.0</td>\n",
       "      <td>0.000000</td>\n",
       "      <td>0.000000</td>\n",
       "      <td>...</td>\n",
       "      <td>0</td>\n",
       "      <td>0</td>\n",
       "      <td>0.506944</td>\n",
       "      <td>0</td>\n",
       "      <td>no_default</td>\n",
       "      <td>0.987503</td>\n",
       "      <td>0</td>\n",
       "      <td>0</td>\n",
       "      <td>0.662642</td>\n",
       "      <td>0.439095</td>\n",
       "    </tr>\n",
       "    <tr>\n",
       "      <th>37917</th>\n",
       "      <td>2013</td>\n",
       "      <td>4.640446e+11</td>\n",
       "      <td>2013-01-01</td>\n",
       "      <td>2013-12-31</td>\n",
       "      <td>77248.148438</td>\n",
       "      <td>6.055000e+06</td>\n",
       "      <td>1.930922e+06</td>\n",
       "      <td>0.0</td>\n",
       "      <td>0.000000</td>\n",
       "      <td>0.000000</td>\n",
       "      <td>...</td>\n",
       "      <td>1</td>\n",
       "      <td>0</td>\n",
       "      <td>1.993056</td>\n",
       "      <td>0</td>\n",
       "      <td>no_default</td>\n",
       "      <td>4.649264</td>\n",
       "      <td>0</td>\n",
       "      <td>0</td>\n",
       "      <td>0.012160</td>\n",
       "      <td>0.000148</td>\n",
       "    </tr>\n",
       "    <tr>\n",
       "      <th>37918</th>\n",
       "      <td>2013</td>\n",
       "      <td>4.641050e+11</td>\n",
       "      <td>2013-01-01</td>\n",
       "      <td>2013-12-31</td>\n",
       "      <td>633.333313</td>\n",
       "      <td>3.971482e+04</td>\n",
       "      <td>1.342963e+04</td>\n",
       "      <td>0.0</td>\n",
       "      <td>0.000000</td>\n",
       "      <td>0.000000</td>\n",
       "      <td>...</td>\n",
       "      <td>0</td>\n",
       "      <td>0</td>\n",
       "      <td>1.131944</td>\n",
       "      <td>0</td>\n",
       "      <td>no_default</td>\n",
       "      <td>3.406607</td>\n",
       "      <td>0</td>\n",
       "      <td>0</td>\n",
       "      <td>0.019419</td>\n",
       "      <td>0.000377</td>\n",
       "    </tr>\n",
       "  </tbody>\n",
       "</table>\n",
       "<p>37919 rows × 118 columns</p>\n",
       "</div>"
      ],
      "text/plain": [
       "       year       comp_id       begin         end         amort   curr_assets  \\\n",
       "0      2012  1.001541e+06  2012-01-01  2012-12-31    481.481476  9.629630e+03   \n",
       "1      2012  1.002029e+06  2012-01-01  2012-12-31  14929.629883  2.038852e+05   \n",
       "2      2012  1.003200e+06  2012-01-01  2012-12-31     25.925926  2.222222e+01   \n",
       "3      2012  1.011889e+06  2012-01-01  2012-12-31  36625.925781  1.601667e+05   \n",
       "4      2012  1.014183e+06  2012-01-01  2012-12-31  12551.851562  1.999037e+05   \n",
       "...     ...           ...         ...         ...           ...           ...   \n",
       "37914  2013  4.638406e+11  2013-01-01  2013-12-31   2374.073975  6.485185e+03   \n",
       "37915  2013  4.638739e+11  2013-01-01  2013-12-31    244.444443  1.912593e+04   \n",
       "37916  2013  4.639820e+11  2013-01-01  2013-12-31  12003.704102  1.091148e+05   \n",
       "37917  2013  4.640446e+11  2013-01-01  2013-12-31  77248.148438  6.055000e+06   \n",
       "37918  2013  4.641050e+11  2013-01-01  2013-12-31    633.333313  3.971482e+04   \n",
       "\n",
       "          curr_liab  extra_exp  extra_inc  extra_profit_loss  ...  \\\n",
       "0      1.303704e+03        0.0   0.000000           0.000000  ...   \n",
       "1      1.204445e+05        0.0   0.000000           0.000000  ...   \n",
       "2      1.099630e+04        0.0   0.000000           0.000000  ...   \n",
       "3      1.891111e+04        0.0   0.000000           0.000000  ...   \n",
       "4      8.274074e+03        0.0   7.407407           7.407407  ...   \n",
       "...             ...        ...        ...                ...  ...   \n",
       "37914  2.250741e+04        0.0   0.000000           0.000000  ...   \n",
       "37915  5.674074e+03        0.0   0.000000           0.000000  ...   \n",
       "37916  1.506185e+05        0.0   0.000000           0.000000  ...   \n",
       "37917  1.930922e+06        0.0   0.000000           0.000000  ...   \n",
       "37918  1.342963e+04        0.0   0.000000           0.000000  ...   \n",
       "\n",
       "       flag_miss_ceo_age  ceo_young  labor_avg_mod  flag_miss_labor_avg  \\\n",
       "0                      0          1       0.639393                    1   \n",
       "1                      0          1       0.458333                    0   \n",
       "2                      1          0       0.639393                    1   \n",
       "3                      0          0       1.621212                    0   \n",
       "4                      0          0       0.715278                    0   \n",
       "...                  ...        ...            ...                  ...   \n",
       "37914                  0          1       0.639393                    1   \n",
       "37915                  1          0       0.305556                    0   \n",
       "37916                  0          0       0.506944                    0   \n",
       "37917                  1          0       1.993056                    0   \n",
       "37918                  0          0       1.131944                    0   \n",
       "\n",
       "        default_f  sales_mil_log_sq  flag_low_d1_sales_mil_log  \\\n",
       "0      no_default         45.190017                          0   \n",
       "1      no_default          0.016375                          0   \n",
       "2         default         34.614876                          0   \n",
       "3      no_default          0.698025                          0   \n",
       "4      no_default          4.171000                          0   \n",
       "...           ...               ...                        ...   \n",
       "37914  no_default         17.984252                          0   \n",
       "37915     default          8.128331                          0   \n",
       "37916  no_default          0.987503                          0   \n",
       "37917  no_default          4.649264                          0   \n",
       "37918  no_default          3.406607                          0   \n",
       "\n",
       "       flag_high_d1_sales_mil_log  d1_sales_mil_log_mod  \\\n",
       "0                               0              0.000000   \n",
       "1                               0              0.000000   \n",
       "2                               0              0.000000   \n",
       "3                               0              0.000000   \n",
       "4                               0              0.000000   \n",
       "...                           ...                   ...   \n",
       "37914                           0             -0.484815   \n",
       "37915                           0              0.496634   \n",
       "37916                           0              0.662642   \n",
       "37917                           0              0.012160   \n",
       "37918                           0              0.019419   \n",
       "\n",
       "       d1_sales_mil_log_mod_sq  \n",
       "0                     0.000000  \n",
       "1                     0.000000  \n",
       "2                     0.000000  \n",
       "3                     0.000000  \n",
       "4                     0.000000  \n",
       "...                        ...  \n",
       "37914                 0.235046  \n",
       "37915                 0.246645  \n",
       "37916                 0.439095  \n",
       "37917                 0.000148  \n",
       "37918                 0.000377  \n",
       "\n",
       "[37919 rows x 118 columns]"
      ]
     },
     "execution_count": 53,
     "metadata": {},
     "output_type": "execute_result"
    }
   ],
   "source": [
    "# !!! make sure you have run ch17-firm-exit-data-prep.ipynb before\n",
    "data = pd.read_csv(path + \"/firms_clean.csv\")\n",
    "data.drop(columns='fast_growth')"
   ]
  },
  {
   "cell_type": "code",
   "execution_count": null,
   "metadata": {},
   "outputs": [
    {
     "name": "stdout",
     "output_type": "stream",
     "text": [
      "\n",
      "📊 Target Variable Distribution:\n",
      "fast_growth\n",
      "0    0.873441\n",
      "1    0.126559\n",
      "Name: proportion, dtype: float64\n"
     ]
    }
   ],
   "source": [
    "# ----------------------------\n",
    "# 📌 Creating the target variable \n",
    "# ----------------------------\n",
    "# Define the fast growth threshold (20% growth in log terms)\n",
    "growth_threshold = np.log(1.2)  # ≈ 0.182\n",
    "\n",
    "# Create the target variable using winsorized log sales growth\n",
    "data[\"fast_growth\"] = (data[\"d1_sales_mil_log_mod\"] > growth_threshold).astype(int)\n",
    "\n",
    "# ----------------------------\n",
    "# 📌 Check Target Distribution\n",
    "# ----------------------------\n",
    "print(\"\\n📊 Target Variable Distribution:\")\n",
    "print(data[\"fast_growth\"].value_counts(normalize=True))"
   ]
  },
  {
   "cell_type": "code",
   "execution_count": null,
   "metadata": {
    "scrolled": false
   },
   "outputs": [
    {
     "data": {
      "text/html": [
       "<div>\n",
       "<style scoped>\n",
       "    .dataframe tbody tr th:only-of-type {\n",
       "        vertical-align: middle;\n",
       "    }\n",
       "\n",
       "    .dataframe tbody tr th {\n",
       "        vertical-align: top;\n",
       "    }\n",
       "\n",
       "    .dataframe thead th {\n",
       "        text-align: right;\n",
       "    }\n",
       "</style>\n",
       "<table border=\"1\" class=\"dataframe\">\n",
       "  <thead>\n",
       "    <tr style=\"text-align: right;\">\n",
       "      <th></th>\n",
       "      <th>year</th>\n",
       "      <th>comp_id</th>\n",
       "      <th>amort</th>\n",
       "      <th>curr_assets</th>\n",
       "      <th>curr_liab</th>\n",
       "      <th>extra_exp</th>\n",
       "      <th>extra_inc</th>\n",
       "      <th>extra_profit_loss</th>\n",
       "      <th>fixed_assets</th>\n",
       "      <th>inc_bef_tax</th>\n",
       "      <th>...</th>\n",
       "      <th>flag_miss_ceo_age</th>\n",
       "      <th>ceo_young</th>\n",
       "      <th>labor_avg_mod</th>\n",
       "      <th>flag_miss_labor_avg</th>\n",
       "      <th>sales_mil_log_sq</th>\n",
       "      <th>flag_low_d1_sales_mil_log</th>\n",
       "      <th>flag_high_d1_sales_mil_log</th>\n",
       "      <th>d1_sales_mil_log_mod</th>\n",
       "      <th>d1_sales_mil_log_mod_sq</th>\n",
       "      <th>fast_growth</th>\n",
       "    </tr>\n",
       "  </thead>\n",
       "  <tbody>\n",
       "    <tr>\n",
       "      <th>count</th>\n",
       "      <td>37919.000000</td>\n",
       "      <td>3.791900e+04</td>\n",
       "      <td>3.791900e+04</td>\n",
       "      <td>3.791900e+04</td>\n",
       "      <td>3.791900e+04</td>\n",
       "      <td>3.791900e+04</td>\n",
       "      <td>3.791900e+04</td>\n",
       "      <td>3.791900e+04</td>\n",
       "      <td>3.791900e+04</td>\n",
       "      <td>3.791900e+04</td>\n",
       "      <td>...</td>\n",
       "      <td>37919.000000</td>\n",
       "      <td>37919.000000</td>\n",
       "      <td>37919.000000</td>\n",
       "      <td>37919.000000</td>\n",
       "      <td>3.791900e+04</td>\n",
       "      <td>37919.000000</td>\n",
       "      <td>37919.000000</td>\n",
       "      <td>37919.000000</td>\n",
       "      <td>37919.000000</td>\n",
       "      <td>37919.000000</td>\n",
       "    </tr>\n",
       "    <tr>\n",
       "      <th>mean</th>\n",
       "      <td>2012.497983</td>\n",
       "      <td>1.533930e+11</td>\n",
       "      <td>9.283308e+03</td>\n",
       "      <td>1.003280e+05</td>\n",
       "      <td>8.631877e+04</td>\n",
       "      <td>4.408223e+02</td>\n",
       "      <td>1.614706e+03</td>\n",
       "      <td>1.197270e+03</td>\n",
       "      <td>1.486464e+05</td>\n",
       "      <td>7.067494e+03</td>\n",
       "      <td>...</td>\n",
       "      <td>0.118542</td>\n",
       "      <td>0.269337</td>\n",
       "      <td>0.644089</td>\n",
       "      <td>0.172710</td>\n",
       "      <td>1.208128e+01</td>\n",
       "      <td>0.021625</td>\n",
       "      <td>0.013133</td>\n",
       "      <td>-0.003645</td>\n",
       "      <td>0.155700</td>\n",
       "      <td>0.126559</td>\n",
       "    </tr>\n",
       "    <tr>\n",
       "      <th>std</th>\n",
       "      <td>0.500003</td>\n",
       "      <td>1.378109e+11</td>\n",
       "      <td>4.834261e+04</td>\n",
       "      <td>4.317964e+05</td>\n",
       "      <td>4.229631e+05</td>\n",
       "      <td>8.591007e+03</td>\n",
       "      <td>3.132416e+04</td>\n",
       "      <td>3.091674e+04</td>\n",
       "      <td>1.131990e+06</td>\n",
       "      <td>1.205857e+05</td>\n",
       "      <td>...</td>\n",
       "      <td>0.323253</td>\n",
       "      <td>0.443621</td>\n",
       "      <td>1.442493</td>\n",
       "      <td>0.378002</td>\n",
       "      <td>1.039742e+01</td>\n",
       "      <td>0.145458</td>\n",
       "      <td>0.113847</td>\n",
       "      <td>0.394576</td>\n",
       "      <td>0.470027</td>\n",
       "      <td>0.332483</td>\n",
       "    </tr>\n",
       "    <tr>\n",
       "      <th>min</th>\n",
       "      <td>2012.000000</td>\n",
       "      <td>1.001541e+06</td>\n",
       "      <td>-1.489630e+04</td>\n",
       "      <td>0.000000e+00</td>\n",
       "      <td>-8.759259e+03</td>\n",
       "      <td>-3.703704e+03</td>\n",
       "      <td>-1.470000e+04</td>\n",
       "      <td>-3.909408e+05</td>\n",
       "      <td>0.000000e+00</td>\n",
       "      <td>-1.091879e+07</td>\n",
       "      <td>...</td>\n",
       "      <td>0.000000</td>\n",
       "      <td>0.000000</td>\n",
       "      <td>0.083333</td>\n",
       "      <td>0.000000</td>\n",
       "      <td>2.074996e-07</td>\n",
       "      <td>0.000000</td>\n",
       "      <td>0.000000</td>\n",
       "      <td>-1.500000</td>\n",
       "      <td>0.000000</td>\n",
       "      <td>0.000000</td>\n",
       "    </tr>\n",
       "    <tr>\n",
       "      <th>25%</th>\n",
       "      <td>2012.000000</td>\n",
       "      <td>2.901426e+10</td>\n",
       "      <td>1.148148e+02</td>\n",
       "      <td>3.500000e+03</td>\n",
       "      <td>3.829630e+03</td>\n",
       "      <td>0.000000e+00</td>\n",
       "      <td>0.000000e+00</td>\n",
       "      <td>0.000000e+00</td>\n",
       "      <td>1.851852e+02</td>\n",
       "      <td>-5.770371e+03</td>\n",
       "      <td>...</td>\n",
       "      <td>0.000000</td>\n",
       "      <td>0.000000</td>\n",
       "      <td>0.145833</td>\n",
       "      <td>0.000000</td>\n",
       "      <td>3.893756e+00</td>\n",
       "      <td>0.000000</td>\n",
       "      <td>0.000000</td>\n",
       "      <td>0.000000</td>\n",
       "      <td>0.000000</td>\n",
       "      <td>0.000000</td>\n",
       "    </tr>\n",
       "    <tr>\n",
       "      <th>50%</th>\n",
       "      <td>2012.000000</td>\n",
       "      <td>1.146923e+11</td>\n",
       "      <td>9.037037e+02</td>\n",
       "      <td>1.208889e+04</td>\n",
       "      <td>1.520741e+04</td>\n",
       "      <td>0.000000e+00</td>\n",
       "      <td>0.000000e+00</td>\n",
       "      <td>0.000000e+00</td>\n",
       "      <td>4.811111e+03</td>\n",
       "      <td>3.740741e+02</td>\n",
       "      <td>...</td>\n",
       "      <td>0.000000</td>\n",
       "      <td>0.000000</td>\n",
       "      <td>0.333333</td>\n",
       "      <td>0.000000</td>\n",
       "      <td>9.619330e+00</td>\n",
       "      <td>0.000000</td>\n",
       "      <td>0.000000</td>\n",
       "      <td>0.000000</td>\n",
       "      <td>0.000000</td>\n",
       "      <td>0.000000</td>\n",
       "    </tr>\n",
       "    <tr>\n",
       "      <th>75%</th>\n",
       "      <td>2013.000000</td>\n",
       "      <td>2.568984e+11</td>\n",
       "      <td>4.127778e+03</td>\n",
       "      <td>4.215370e+04</td>\n",
       "      <td>4.916296e+04</td>\n",
       "      <td>0.000000e+00</td>\n",
       "      <td>0.000000e+00</td>\n",
       "      <td>0.000000e+00</td>\n",
       "      <td>4.170185e+04</td>\n",
       "      <td>4.675926e+03</td>\n",
       "      <td>...</td>\n",
       "      <td>0.000000</td>\n",
       "      <td>1.000000</td>\n",
       "      <td>0.639393</td>\n",
       "      <td>0.000000</td>\n",
       "      <td>1.723107e+01</td>\n",
       "      <td>0.000000</td>\n",
       "      <td>0.000000</td>\n",
       "      <td>0.000000</td>\n",
       "      <td>0.031777</td>\n",
       "      <td>0.000000</td>\n",
       "    </tr>\n",
       "    <tr>\n",
       "      <th>max</th>\n",
       "      <td>2013.000000</td>\n",
       "      <td>4.641050e+11</td>\n",
       "      <td>3.570863e+06</td>\n",
       "      <td>1.874527e+07</td>\n",
       "      <td>3.660118e+07</td>\n",
       "      <td>1.007889e+06</td>\n",
       "      <td>3.266667e+06</td>\n",
       "      <td>3.253704e+06</td>\n",
       "      <td>1.036673e+08</td>\n",
       "      <td>4.378226e+06</td>\n",
       "      <td>...</td>\n",
       "      <td>1.000000</td>\n",
       "      <td>1.000000</td>\n",
       "      <td>42.118057</td>\n",
       "      <td>1.000000</td>\n",
       "      <td>4.771708e+01</td>\n",
       "      <td>1.000000</td>\n",
       "      <td>1.000000</td>\n",
       "      <td>1.500000</td>\n",
       "      <td>2.250000</td>\n",
       "      <td>1.000000</td>\n",
       "    </tr>\n",
       "  </tbody>\n",
       "</table>\n",
       "<p>8 rows × 109 columns</p>\n",
       "</div>"
      ],
      "text/plain": [
       "               year       comp_id         amort   curr_assets     curr_liab  \\\n",
       "count  37919.000000  3.791900e+04  3.791900e+04  3.791900e+04  3.791900e+04   \n",
       "mean    2012.497983  1.533930e+11  9.283308e+03  1.003280e+05  8.631877e+04   \n",
       "std        0.500003  1.378109e+11  4.834261e+04  4.317964e+05  4.229631e+05   \n",
       "min     2012.000000  1.001541e+06 -1.489630e+04  0.000000e+00 -8.759259e+03   \n",
       "25%     2012.000000  2.901426e+10  1.148148e+02  3.500000e+03  3.829630e+03   \n",
       "50%     2012.000000  1.146923e+11  9.037037e+02  1.208889e+04  1.520741e+04   \n",
       "75%     2013.000000  2.568984e+11  4.127778e+03  4.215370e+04  4.916296e+04   \n",
       "max     2013.000000  4.641050e+11  3.570863e+06  1.874527e+07  3.660118e+07   \n",
       "\n",
       "          extra_exp     extra_inc  extra_profit_loss  fixed_assets  \\\n",
       "count  3.791900e+04  3.791900e+04       3.791900e+04  3.791900e+04   \n",
       "mean   4.408223e+02  1.614706e+03       1.197270e+03  1.486464e+05   \n",
       "std    8.591007e+03  3.132416e+04       3.091674e+04  1.131990e+06   \n",
       "min   -3.703704e+03 -1.470000e+04      -3.909408e+05  0.000000e+00   \n",
       "25%    0.000000e+00  0.000000e+00       0.000000e+00  1.851852e+02   \n",
       "50%    0.000000e+00  0.000000e+00       0.000000e+00  4.811111e+03   \n",
       "75%    0.000000e+00  0.000000e+00       0.000000e+00  4.170185e+04   \n",
       "max    1.007889e+06  3.266667e+06       3.253704e+06  1.036673e+08   \n",
       "\n",
       "        inc_bef_tax  ...  flag_miss_ceo_age     ceo_young  labor_avg_mod  \\\n",
       "count  3.791900e+04  ...       37919.000000  37919.000000   37919.000000   \n",
       "mean   7.067494e+03  ...           0.118542      0.269337       0.644089   \n",
       "std    1.205857e+05  ...           0.323253      0.443621       1.442493   \n",
       "min   -1.091879e+07  ...           0.000000      0.000000       0.083333   \n",
       "25%   -5.770371e+03  ...           0.000000      0.000000       0.145833   \n",
       "50%    3.740741e+02  ...           0.000000      0.000000       0.333333   \n",
       "75%    4.675926e+03  ...           0.000000      1.000000       0.639393   \n",
       "max    4.378226e+06  ...           1.000000      1.000000      42.118057   \n",
       "\n",
       "       flag_miss_labor_avg  sales_mil_log_sq  flag_low_d1_sales_mil_log  \\\n",
       "count         37919.000000      3.791900e+04               37919.000000   \n",
       "mean              0.172710      1.208128e+01                   0.021625   \n",
       "std               0.378002      1.039742e+01                   0.145458   \n",
       "min               0.000000      2.074996e-07                   0.000000   \n",
       "25%               0.000000      3.893756e+00                   0.000000   \n",
       "50%               0.000000      9.619330e+00                   0.000000   \n",
       "75%               0.000000      1.723107e+01                   0.000000   \n",
       "max               1.000000      4.771708e+01                   1.000000   \n",
       "\n",
       "       flag_high_d1_sales_mil_log  d1_sales_mil_log_mod  \\\n",
       "count                37919.000000          37919.000000   \n",
       "mean                     0.013133             -0.003645   \n",
       "std                      0.113847              0.394576   \n",
       "min                      0.000000             -1.500000   \n",
       "25%                      0.000000              0.000000   \n",
       "50%                      0.000000              0.000000   \n",
       "75%                      0.000000              0.000000   \n",
       "max                      1.000000              1.500000   \n",
       "\n",
       "       d1_sales_mil_log_mod_sq   fast_growth  \n",
       "count             37919.000000  37919.000000  \n",
       "mean                  0.155700      0.126559  \n",
       "std                   0.470027      0.332483  \n",
       "min                   0.000000      0.000000  \n",
       "25%                   0.000000      0.000000  \n",
       "50%                   0.000000      0.000000  \n",
       "75%                   0.031777      0.000000  \n",
       "max                   2.250000      1.000000  \n",
       "\n",
       "[8 rows x 109 columns]"
      ]
     },
     "execution_count": 4,
     "metadata": {},
     "output_type": "execute_result"
    }
   ],
   "source": [
    "data.describe()"
   ]
  },
  {
   "cell_type": "markdown",
   "metadata": {},
   "source": [
    "## Define helper functions"
   ]
  },
  {
   "cell_type": "code",
   "execution_count": null,
   "metadata": {},
   "outputs": [],
   "source": [
    "color = ['blue', 'red', 'green','purple']\n",
    "\n",
    "def regression_results(y_true, y_pred):\n",
    "\n",
    "    # Regression metrics\n",
    "    explained_variance = metrics.explained_variance_score(y_true, y_pred)\n",
    "    mean_absolute_error = metrics.mean_absolute_error(y_true, y_pred)\n",
    "    mse = metrics.mean_squared_error(y_true, y_pred)\n",
    "    median_absolute_error = metrics.median_absolute_error(y_true, y_pred)\n",
    "    r2 = metrics.r2_score(y_true, y_pred)\n",
    "\n",
    "    print(\"explained_variance: \", round(explained_variance, 4))\n",
    "    print(\"r2: \", round(r2, 4))\n",
    "    print(\"MAE: \", round(mean_absolute_error, 4))\n",
    "    print(\"MSE: \", round(mse, 4))\n",
    "    print(\"RMSE: \", round(np.sqrt(mse), 4))\n",
    "\n",
    "\n",
    "def coef_matrix(X, model):\n",
    "\n",
    "    coef_matrix = pd.concat(\n",
    "        [pd.DataFrame(X.columns), pd.DataFrame(np.transpose(model.coef_))], axis=1\n",
    "    )\n",
    "    coef_matrix.columns = [\"variable\", \"coefficient\"]\n",
    "    coef_matrix = coef_matrix.append(\n",
    "        {\"variable\": \"Intercept\", \"coefficient\": model.intercept_},\n",
    "        ignore_index=True,\n",
    "    )\n",
    "    return coef_matrix\n",
    "\n",
    "\n",
    "def cv_summary(lambdas, C_values, model):\n",
    "    d = {\n",
    "        \"lambdas\": lambdas,\n",
    "        \"C_values\": C_values,\n",
    "        \"mean_cv_score\": model.scores_[1].mean(axis=0),\n",
    "    }\n",
    "    return pd.DataFrame(data=d)\n",
    "\n",
    "\n",
    "def create_roc_plot(y_true, y_pred):\n",
    "    fpr, tpr, thresholds = roc_curve(y_true, y_pred)\n",
    "    all_coords = pd.DataFrame({\"fpr\": fpr, \"tpr\": tpr, \"thresholds\": thresholds})\n",
    "\n",
    "    plot = (\n",
    "        ggplot(all_coords, aes(x=\"fpr\", y=\"tpr\"))\n",
    "        + geom_line(color=color[0], size=0.7)\n",
    "        + geom_area(position=\"identity\", fill=\"mediumaquamarine\", alpha=0.3)\n",
    "        + xlab(\"False Positive Rate (1-Specifity)\")\n",
    "        + ylab(\"True Positive Rate (Sensitivity)\")\n",
    "        + geom_abline(intercept=0, slope=1, linetype=\"dotted\", color=\"black\")\n",
    "        + scale_y_continuous(limits=(0, 1), breaks=np.arange(0, 1, 0.1), expand=(0, 0.01))\n",
    "        + scale_x_continuous(limits=(0, 1), breaks=np.arange(0, 1, 0.1), expand=(0.01, 0))\n",
    "        + theme_bw()\n",
    "    )\n",
    "    return plot\n",
    "\n",
    "\n",
    "def sigmoid_array(x):\n",
    "    return 1 / (1 + np.exp(-x))\n",
    "\n",
    "\n",
    "def generate_fold_prediction(model, X, fold, param_index):\n",
    "    fold_coef = model.coefs_paths_[1][fold, param_index, :]\n",
    "    return sigmoid_array(\n",
    "        np.dot(X, np.transpose(fold_coef)[:-1]) + np.transpose(fold_coef)[-1]\n",
    "    )\n",
    "\n",
    "\n",
    "def create_loss_plot(all_coords, optimal_threshold, curr_exp_loss):\n",
    "    all_coords_copy = all_coords.copy()\n",
    "    all_coords_copy[\"loss\"] = (\n",
    "        all_coords_copy.false_pos * FP + all_coords_copy.false_neg * FN\n",
    "    ) / all_coords_copy.n\n",
    "\n",
    "    t = optimal_threshold\n",
    "    l = curr_exp_loss\n",
    "\n",
    "    plot = (\n",
    "        ggplot(all_coords_copy, aes(x=\"thresholds\", y=\"loss\"))\n",
    "        + geom_line(color=color[0], size=0.7)\n",
    "        + scale_x_continuous(breaks=np.arange(0, 1.1, 0.1))\n",
    "        + coord_cartesian(xlim=(0, 1))\n",
    "        + geom_vline(xintercept=t, color=color[0])\n",
    "        + annotate(\n",
    "            geom=\"text\",\n",
    "            x=t - 0.01,\n",
    "            y=max(all_coords_copy.loss) - 0.4,\n",
    "            label=\"best threshold: \" + str(round(t, 2)),\n",
    "            colour=color[1],\n",
    "            angle=90,\n",
    "            size=7,\n",
    "        )\n",
    "        + annotate(geom=\"text\", x=t + 0.06, y=l, label=str(round(l, 2)), size=7)\n",
    "        + theme_bw()\n",
    "    )\n",
    "    return plot\n",
    "\n",
    "\n",
    "def create_roc_plot_with_optimal(all_coords, optimal_threshold):\n",
    "    all_coords_copy = all_coords.copy()\n",
    "    all_coords_copy[\"sp\"] = 1 - all_coords_copy.true_neg / all_coords_copy.neg\n",
    "    all_coords_copy[\"se\"] = all_coords_copy.true_pos / all_coords_copy.pos\n",
    "\n",
    "    best_coords = all_coords_copy[all_coords_copy.thresholds == optimal_threshold]\n",
    "    sp = best_coords.sp.values[0]\n",
    "    se = best_coords.se.values[0]\n",
    "\n",
    "    plot = (\n",
    "        ggplot(all_coords_copy, aes(x=\"sp\", y=\"se\"))\n",
    "        + geom_line(color=color[0], size=0.7)\n",
    "        + scale_y_continuous(breaks=np.arange(0, 1.1, 0.1))\n",
    "        + scale_x_continuous(breaks=np.arange(0, 1.1, 0.1))\n",
    "        + geom_point(data=pd.DataFrame({\"sp\": [sp], \"se\": [se]}))\n",
    "        + annotate(\n",
    "            geom=\"text\",\n",
    "            x=sp,\n",
    "            y=se + 0.03,\n",
    "            label=str(round(sp, 2)) + \", \" + str(round(se, 2)),\n",
    "            size=7,\n",
    "        )\n",
    "        + geom_area(position=\"identity\", fill=\"mediumaquamarine\", alpha=0.3)\n",
    "        + xlab(\"False Positive Rate (1-Specifity)\")\n",
    "        + ylab(\"True Positive Rate (Sensitivity)\")\n",
    "        + geom_abline(intercept=0, slope=1, linetype=\"dotted\", color=\"black\")\n",
    "        + theme_bw()\n",
    "    )\n",
    "    return plot\n"
   ]
  },
  {
   "cell_type": "markdown",
   "metadata": {},
   "source": [
    "## Check for Data Leakage"
   ]
  },
  {
   "cell_type": "code",
   "execution_count": null,
   "metadata": {},
   "outputs": [
    {
     "name": "stdout",
     "output_type": "stream",
     "text": [
      "⚠️ Warning: Target variable fast_growth is in the feature set! Potential data leakage!\n",
      "✅ No features show extreme correlation with the target variable.\n",
      "⚠️ Warning: The following predictors contain 'sales' and might be problematic for leakage:\n",
      "['sales', 'ln_sales', 'sales_mil', 'sales_mil_log', 'd1_sales_mil_log', 'sales_mil_log_sq', 'flag_low_d1_sales_mil_log', 'flag_high_d1_sales_mil_log', 'd1_sales_mil_log_mod', 'd1_sales_mil_log_mod_sq']\n",
      "\n",
      "📊 Target Variable Distribution:\n",
      "fast_growth\n",
      "0    0.873441\n",
      "1    0.126559\n",
      "Name: proportion, dtype: float64\n"
     ]
    }
   ],
   "source": [
    "# ----------------------------\n",
    "# 📌 Check for Data Leakage 🚨\n",
    "# ----------------------------\n",
    "\n",
    "# 1️⃣ Check if target variable is in the feature set\n",
    "target = \"fast_growth\"\n",
    "if target in data.columns:\n",
    "    print(f\"⚠️ Warning: Target variable {target} is in the feature set! Potential data leakage!\")\n",
    "else:\n",
    "    print(f\"✅ Target variable {target} is not in the feature set. No immediate data leakage detected.\")\n",
    "\n",
    "# 2️⃣ Check if any features are derived from the target\n",
    "# Exclude non-numeric columns for correlation analysis\n",
    "numeric_features = data.select_dtypes(include=[np.number]).columns.tolist()\n",
    "numeric_features.remove(target)  # Ensure we exclude the target variable\n",
    "\n",
    "# Compute correlation with target variable\n",
    "target_corr = data[numeric_features].corrwith(data[target]).abs().sort_values(ascending=False)\n",
    "\n",
    "# Identify highly correlated features (e.g., correlation > 0.8)\n",
    "high_corr_features = target_corr[target_corr > 0.8].index.tolist()\n",
    "\n",
    "if high_corr_features:\n",
    "    print(f\"⚠️ Warning: The following features are highly correlated with {target} (correlation > 0.8):\")\n",
    "    print(high_corr_features)\n",
    "else:\n",
    "    print(\"✅ No features show extreme correlation with the target variable.\")\n",
    "\n",
    "# 3️⃣ Check if any predictors contain sales-related information\n",
    "sales_related = [col for col in data.columns if \"sales\" in col.lower()]\n",
    "if sales_related:\n",
    "    print(f\"⚠️ Warning: The following predictors contain 'sales' and might be problematic for leakage:\")\n",
    "    print(sales_related)\n",
    "else:\n",
    "    print(\"✅ No direct 'sales' features detected.\")\n"
   ]
  },
  {
   "cell_type": "code",
   "execution_count": 58,
   "metadata": {},
   "outputs": [
    {
     "name": "stdout",
     "output_type": "stream",
     "text": [
      "          sales  d1_sales_mil_log_mod\n",
      "0  1.203704e+03                   0.0\n",
      "1  1.136515e+06                   0.0\n",
      "2  2.785185e+03                   0.0\n",
      "3  4.336667e+05                   0.0\n",
      "4  1.297296e+05                   0.0\n"
     ]
    }
   ],
   "source": [
    "print(data[['sales', 'd1_sales_mil_log_mod']].head())"
   ]
  },
  {
   "cell_type": "markdown",
   "metadata": {},
   "source": [
    "### Correlation and Multicollinearity Check\n",
    "\n",
    "There are many highly correlated variables in the dataset, but upon closer examination, most of these features are either **directly derived from each other** through feature engineering (e.g., binary variables, squared terms, and log transformations) or **conceptually related** (e.g., different representations of the same financial metric). Many correlations arise from **mathematical relationships**, such as `age` and `age²` or `sales` and `log(sales)`, while others come from **categorical encodings and flags** that capture similar information. Despite the high correlations, the Variance Inflation Factor (VIF) analysis did not identify multicollinearity issues, likely because the relationships do not create redundancy in the model."
   ]
  },
  {
   "cell_type": "code",
   "execution_count": 51,
   "metadata": {},
   "outputs": [
    {
     "name": "stdout",
     "output_type": "stream",
     "text": [
      "Highly correlated feature pairs (|correlation| > 0.8):\n",
      "[('year', 'new'), ('extra_inc', 'extra_profit_loss'), ('fixed_assets', 'tang_assets'), ('fixed_assets', 'total_assets_bs'), ('inc_bef_tax', 'profit_loss_year'), ('material_exp', 'sales'), ('material_exp', 'sales_mil'), ('personnel_exp', 'sales'), ('personnel_exp', 'sales_mil'), ('personnel_exp', 'labor_avg_mod'), ('sales', 'sales_mil'), ('tang_assets', 'total_assets_bs'), ('balsheet_length', 'balsheet_notfullyear'), ('founded_year', 'age'), ('founded_year', 'age2'), ('foreign', 'foreign_management'), ('birth_year', 'ceo_age'), ('nace_main', 'ind2'), ('nace_main', 'ind'), ('nace_main', 'ind2_cat'), ('ind2', 'ind'), ('ind2', 'ind2_cat'), ('ind', 'ind2_cat'), ('ln_sales', 'sales_mil_log'), ('ln_sales', 'sales_mil_log_sq'), ('sales_mil_log', 'sales_mil_log_sq'), ('d1_sales_mil_log', 'd1_sales_mil_log_mod'), ('age', 'age2'), ('extra_inc_pl', 'extra_profit_loss_pl'), ('extra_inc_pl', 'extra_profit_loss_pl_quad'), ('inc_bef_tax_pl', 'profit_loss_year_pl'), ('fixed_assets_bs', 'curr_assets_bs'), ('fixed_assets_bs', 'tang_assets_bs'), ('curr_assets_bs', 'tang_assets_bs'), ('share_eq_bs', 'share_eq_bs_flag_low'), ('extra_inc_pl_flag_high', 'extra_profit_loss_pl_flag_high'), ('inc_bef_tax_pl_flag_low', 'profit_loss_year_pl_flag_low'), ('inc_bef_tax_pl_flag_low', 'profit_loss_year_pl_quad'), ('profit_loss_year_pl_flag_low', 'profit_loss_year_pl_quad'), ('inc_bef_tax_pl_flag_high', 'profit_loss_year_pl_flag_high'), ('inc_bef_tax_pl_quad', 'profit_loss_year_pl_quad')]\n",
      "\n",
      "Variance Inflation Factor (VIF):\n",
      "Empty DataFrame\n",
      "Columns: [Feature, VIF]\n",
      "Index: []\n"
     ]
    }
   ],
   "source": [
    "import numpy as np\n",
    "import pandas as pd\n",
    "import seaborn as sns\n",
    "import matplotlib.pyplot as plt\n",
    "from statsmodels.stats.outliers_influence import variance_inflation_factor\n",
    "\n",
    "# ----------------------------\n",
    "# 📌 Identify Categorical Variables 🏷️\n",
    "# ----------------------------\n",
    "categorical_vars = data.select_dtypes(include=['object', 'category']).columns.to_list()\n",
    "\n",
    "# 🛠️ Manually add 'begin' and 'end' (since they are causing issues)\n",
    "categorical_vars.extend(['begin', 'end'])\n",
    "\n",
    "# ----------------------------\n",
    "# 📌 Drop Categorical Variables 🗑️\n",
    "# ----------------------------\n",
    "df_filtered = data.drop(columns=categorical_vars)\n",
    "\n",
    "# ----------------------------\n",
    "# 📌 Compute Correlation Matrix 📊\n",
    "# ----------------------------\n",
    "corr_matrix = df_filtered.corr()\n",
    "\n",
    "# ----------------------------\n",
    "# 📌 Identify Highly Correlated Features 🔍\n",
    "# ----------------------------\n",
    "high_corr_pairs = [\n",
    "    (corr_matrix.index[x], corr_matrix.columns[y]) \n",
    "    for x, y in zip(*np.where(np.abs(corr_matrix) > 0.8)) \n",
    "    if x < y  # Avoid duplicates\n",
    "]\n",
    "\n",
    "# ✅ Print results\n",
    "print(\"Highly correlated feature pairs (|correlation| > 0.8):\")\n",
    "print(high_corr_pairs)\n",
    "\n",
    "# ----------------------------\n",
    "# 📌 Calculate Variance Inflation Factor (VIF) 📈\n",
    "# ----------------------------\n",
    "X = df_filtered.drop(columns=[target]).dropna()  # 🛠️ Drop NaNs\n",
    "\n",
    "# 🚨 Drop constant columns (zero variance)\n",
    "X = X.loc[:, X.nunique() > 1]\n",
    "\n",
    "# ✅ Compute VIF for each feature\n",
    "vif_data = pd.DataFrame({\n",
    "    'Feature': X.columns,\n",
    "    'VIF': [variance_inflation_factor(X.values, i) for i in range(X.shape[1])]\n",
    "})\n",
    "\n",
    "# ----------------------------\n",
    "# 📌 Print VIF Results 📢\n",
    "# ----------------------------\n",
    "print(\"\\nVariance Inflation Factor (VIF):\")\n",
    "print(vif_data.sort_values(by=\"VIF\", ascending=False))  # 🏆 Sort for better readability"
   ]
  },
  {
   "cell_type": "markdown",
   "metadata": {},
   "source": [
    "## Model building\n",
    "\n",
    "### Define variable sets "
   ]
  },
  {
   "cell_type": "markdown",
   "metadata": {},
   "source": [
    " Main firm variables"
   ]
  },
  {
   "cell_type": "code",
   "execution_count": null,
   "metadata": {},
   "outputs": [],
   "source": [
    "rawvars = [\n",
    "    \"curr_assets\",\n",
    "    \"curr_liab\",\n",
    "    \"extra_exp\",\n",
    "    \"extra_inc\",\n",
    "    \"extra_profit_loss\",\n",
    "    \"fixed_assets\",\n",
    "    \"inc_bef_tax\",\n",
    "    \"intang_assets\",\n",
    "    \"inventories\",\n",
    "    \"liq_assets\",\n",
    "    \"material_exp\",\n",
    "    \"personnel_exp\",\n",
    "    \"profit_loss_year\",\n",
    "    #\"sales\",\n",
    "    \"share_eq\",\n",
    "    \"subscribed_cap\",\n",
    "]"
   ]
  },
  {
   "cell_type": "markdown",
   "metadata": {},
   "source": [
    "Further financial variables"
   ]
  },
  {
   "cell_type": "code",
   "execution_count": null,
   "metadata": {},
   "outputs": [],
   "source": [
    "qualityvars = [\"balsheet_flag\", \"balsheet_length\", \"balsheet_notfullyear\"]\n",
    "engvar = [\n",
    "    \"total_assets_bs\",\n",
    "    \"fixed_assets_bs\",\n",
    "    \"liq_assets_bs\",\n",
    "    \"curr_assets_bs\",\n",
    "    \"share_eq_bs\",\n",
    "    \"subscribed_cap_bs\",\n",
    "    \"intang_assets_bs\",\n",
    "    \"extra_exp_pl\",\n",
    "    \"extra_inc_pl\",\n",
    "    \"extra_profit_loss_pl\",\n",
    "    \"inc_bef_tax_pl\",\n",
    "    \"inventories_pl\",\n",
    "    \"material_exp_pl\",\n",
    "    \"profit_loss_year_pl\",\n",
    "    \"personnel_exp_pl\",\n",
    "]\n",
    "engvar2 = [\n",
    "    \"extra_profit_loss_pl_quad\",\n",
    "    \"inc_bef_tax_pl_quad\",\n",
    "    \"profit_loss_year_pl_quad\",\n",
    "    \"share_eq_bs_quad\",\n",
    "]"
   ]
  },
  {
   "cell_type": "markdown",
   "metadata": {},
   "source": [
    " Flag variables"
   ]
  },
  {
   "cell_type": "code",
   "execution_count": null,
   "metadata": {},
   "outputs": [],
   "source": [
    "engvar3 = []\n",
    "for col in data.columns:\n",
    "    if (\n",
    "        col.endswith(\"flag_low\")\n",
    "        or col.endswith(\"flag_high\")\n",
    "        or col.endswith(\"flag_error\")\n",
    "        or col.endswith(\"flag_zero\")\n",
    "    ):\n",
    "        engvar3.append(col)"
   ]
  },
  {
   "cell_type": "markdown",
   "metadata": {},
   "source": [
    "Growth variables - removed due to data leakage, added defaults metric instead "
   ]
  },
  {
   "cell_type": "code",
   "execution_count": null,
   "metadata": {},
   "outputs": [],
   "source": [
    "# d1 = [\n",
    "#     \"d1_sales_mil_log_mod\",\n",
    "#     \"d1_sales_mil_log_mod_sq\",\n",
    "#     \"flag_low_d1_sales_mil_log\",\n",
    "#     \"flag_high_d1_sales_mil_log\",\n",
    "# ]\n",
    "\n",
    "d1 = [\n",
    "    \"default\",\n",
    "]"
   ]
  },
  {
   "cell_type": "markdown",
   "metadata": {},
   "source": [
    "Human capital related variables"
   ]
  },
  {
   "cell_type": "code",
   "execution_count": null,
   "metadata": {},
   "outputs": [],
   "source": [
    "hr = [\n",
    "    \"female\",\n",
    "    \"ceo_age\",\n",
    "    \"flag_high_ceo_age\",\n",
    "    \"flag_low_ceo_age\",\n",
    "    \"flag_miss_ceo_age\",\n",
    "    \"ceo_count\",\n",
    "    \"labor_avg_mod\",\n",
    "    \"flag_miss_labor_avg\",\n",
    "    \"foreign_management\",\n",
    "]"
   ]
  },
  {
   "cell_type": "markdown",
   "metadata": {},
   "source": [
    " Firms history related variables"
   ]
  },
  {
   "cell_type": "code",
   "execution_count": null,
   "metadata": {},
   "outputs": [],
   "source": [
    "firm = [\"age\", \"age2\", \"new\", \"C(ind2_cat)\", \"C(m_region_loc)\", \"C(urban_m)\"]"
   ]
  },
  {
   "cell_type": "markdown",
   "metadata": {},
   "source": [
    "interactions for logit, LASSO"
   ]
  },
  {
   "cell_type": "code",
   "execution_count": null,
   "metadata": {},
   "outputs": [],
   "source": [
    "interactions1 = [\n",
    "    \"C(ind2_cat)*age\",\n",
    "    \"C(ind2_cat)*age2\",\n",
    "    \"C(ind2_cat)*ceo_age\",\n",
    "    \"C(ind2_cat)*foreign_management\",\n",
    "    \"C(ind2_cat)*female\",\n",
    "    \"C(ind2_cat)*C(urban_m)\",\n",
    "    \"C(ind2_cat)*labor_avg_mod\",\n",
    "]\n",
    "interactions2 = [\n",
    "    \"profit_loss_year_pl*age\",\n",
    "    \"profit_loss_year_pl*female\",\n",
    "    \"profit_loss_year_pl*foreign_management\",\n",
    "    \"profit_loss_year_pl*fixed_assets_bs\",\n",
    "    \"age*foreign_management\",\n",
    "    \"age*female\",\n",
    "    \"fixed_assets_bs*foreign_management\",\n",
    "    \"fixed_assets_bs*female\",\n",
    "]"
   ]
  },
  {
   "cell_type": "markdown",
   "metadata": {},
   "source": [
    "## Model setups"
   ]
  },
  {
   "cell_type": "markdown",
   "metadata": {},
   "source": [
    "1. Simple logit models"
   ]
  },
  {
   "cell_type": "code",
   "execution_count": null,
   "metadata": {},
   "outputs": [],
   "source": [
    "target = \"fast_growth\"\n",
    "\n",
    "M1 = [\n",
    "    \"profit_loss_year_pl\",\n",
    "    \"C(ind2_cat)\",\n",
    "]\n",
    "M2 = [\n",
    "    \"profit_loss_year_pl\",\n",
    "    \"fixed_assets_bs\",\n",
    "    \"share_eq_bs\",\n",
    "    \"curr_liab_bs \",\n",
    "    \"curr_liab_bs_flag_high \",\n",
    "    \"curr_liab_bs_flag_error\",\n",
    "    \"age\",\n",
    "    \"foreign_management\",\n",
    "    \"C(ind2_cat)\",\n",
    "]\n",
    "M3 = firm + engvar + d1\n",
    "M4 = ( firm\n",
    "    + engvar\n",
    "    + engvar2\n",
    "    + engvar3\n",
    "    + d1\n",
    "    + hr\n",
    "    + qualityvars\n",
    ")\n",
    "M5 = (firm\n",
    "    + engvar\n",
    "    + engvar2\n",
    "    + engvar3\n",
    "    + d1\n",
    "    + hr\n",
    "    + qualityvars\n",
    "    + interactions1\n",
    "    + interactions2\n",
    ")"
   ]
  },
  {
   "cell_type": "markdown",
   "metadata": {},
   "source": [
    "2. logit+LASSO"
   ]
  },
  {
   "cell_type": "code",
   "execution_count": null,
   "metadata": {
    "scrolled": true
   },
   "outputs": [],
   "source": [
    "logit_lasso_vars = (engvar\n",
    "    + engvar2\n",
    "    + engvar3\n",
    "    + d1\n",
    "    + hr\n",
    "    + firm\n",
    "    + qualityvars\n",
    "    + interactions1\n",
    "    + interactions2\n",
    ")"
   ]
  },
  {
   "cell_type": "markdown",
   "metadata": {},
   "source": [
    "3. CART and RF (no interactions, no modified features)"
   ]
  },
  {
   "cell_type": "code",
   "execution_count": null,
   "metadata": {},
   "outputs": [],
   "source": [
    "rfvars = rawvars + hr + firm + qualityvars"
   ]
  },
  {
   "cell_type": "markdown",
   "metadata": {},
   "source": [
    "## Quick reminder about probability models"
   ]
  },
  {
   "cell_type": "markdown",
   "metadata": {},
   "source": [
    " Linear probability model"
   ]
  },
  {
   "cell_type": "code",
   "execution_count": null,
   "metadata": {},
   "outputs": [
    {
     "name": "stdout",
     "output_type": "stream",
     "text": [
      "                            OLS Regression Results                            \n",
      "==============================================================================\n",
      "Dep. Variable:            fast_growth   R-squared:                       0.217\n",
      "Model:                            OLS   Adj. R-squared:                  0.214\n",
      "Method:                 Least Squares   F-statistic:                     53.13\n",
      "Date:                Tue, 04 Mar 2025   Prob (F-statistic):               0.00\n",
      "Time:                        11:23:50   Log-Likelihood:                -7421.0\n",
      "No. Observations:               37919   AIC:                         1.512e+04\n",
      "Df Residuals:                   37780   BIC:                         1.631e+04\n",
      "Df Model:                         138                                         \n",
      "Covariance Type:                  HC1                                         \n",
      "==========================================================================================================\n",
      "                                             coef    std err          z      P>|z|      [0.025      0.975]\n",
      "----------------------------------------------------------------------------------------------------------\n",
      "Intercept                                  0.3182      0.101      3.157      0.002       0.121       0.516\n",
      "C(ind2_cat)[T.27.0]                       -0.0195      0.064     -0.306      0.760      -0.144       0.105\n",
      "C(ind2_cat)[T.28.0]                        0.0734      0.049      1.490      0.136      -0.023       0.170\n",
      "C(ind2_cat)[T.29.0]                        0.0773      0.088      0.879      0.379      -0.095       0.249\n",
      "C(ind2_cat)[T.30.0]                       -0.0287      0.110     -0.262      0.793      -0.244       0.186\n",
      "C(ind2_cat)[T.33.0]                        0.0377      0.047      0.803      0.422      -0.054       0.130\n",
      "C(ind2_cat)[T.55.0]                        0.0523      0.045      1.153      0.249      -0.037       0.141\n",
      "C(ind2_cat)[T.56.0]                        0.0689      0.040      1.740      0.082      -0.009       0.146\n",
      "C(m_region_loc)[T.East]                   -0.0024      0.004     -0.575      0.565      -0.011       0.006\n",
      "C(m_region_loc)[T.West]                   -0.0067      0.005     -1.376      0.169      -0.016       0.003\n",
      "C(urban_m)[T.2.0]                         -0.0447      0.018     -2.536      0.011      -0.079      -0.010\n",
      "C(urban_m)[T.3.0]                         -0.0087      0.017     -0.509      0.611      -0.042       0.025\n",
      "C(ind2_cat)[T.27.0]:C(urban_m)[T.2.0]      0.0556      0.028      1.957      0.050   -8.18e-05       0.111\n",
      "C(ind2_cat)[T.28.0]:C(urban_m)[T.2.0]      0.0467      0.022      2.118      0.034       0.003       0.090\n",
      "C(ind2_cat)[T.29.0]:C(urban_m)[T.2.0]     -0.0112      0.044     -0.256      0.798      -0.097       0.075\n",
      "C(ind2_cat)[T.30.0]:C(urban_m)[T.2.0]      0.1104      0.056      1.973      0.048       0.001       0.220\n",
      "C(ind2_cat)[T.33.0]:C(urban_m)[T.2.0]      0.0519      0.022      2.363      0.018       0.009       0.095\n",
      "C(ind2_cat)[T.55.0]:C(urban_m)[T.2.0]      0.0150      0.022      0.671      0.502      -0.029       0.059\n",
      "C(ind2_cat)[T.56.0]:C(urban_m)[T.2.0]      0.0276      0.018      1.516      0.130      -0.008       0.063\n",
      "C(ind2_cat)[T.27.0]:C(urban_m)[T.3.0]      0.0261      0.027      0.971      0.331      -0.027       0.079\n",
      "C(ind2_cat)[T.28.0]:C(urban_m)[T.3.0]      0.0172      0.021      0.803      0.422      -0.025       0.059\n",
      "C(ind2_cat)[T.29.0]:C(urban_m)[T.3.0]     -0.0079      0.043     -0.184      0.854      -0.092       0.076\n",
      "C(ind2_cat)[T.30.0]:C(urban_m)[T.3.0]      0.0769      0.046      1.686      0.092      -0.013       0.166\n",
      "C(ind2_cat)[T.33.0]:C(urban_m)[T.3.0]      0.0022      0.021      0.102      0.919      -0.039       0.044\n",
      "C(ind2_cat)[T.55.0]:C(urban_m)[T.3.0]      0.0253      0.021      1.202      0.229      -0.016       0.066\n",
      "C(ind2_cat)[T.56.0]:C(urban_m)[T.3.0]     -0.0048      0.018     -0.272      0.786      -0.039       0.030\n",
      "age                                        0.0008      0.002      0.407      0.684      -0.003       0.005\n",
      "C(ind2_cat)[T.27.0]:age                    0.0050      0.005      0.991      0.321      -0.005       0.015\n",
      "C(ind2_cat)[T.28.0]:age                   -0.0085      0.003     -2.468      0.014      -0.015      -0.002\n",
      "C(ind2_cat)[T.29.0]:age                   -0.0181      0.008     -2.316      0.021      -0.033      -0.003\n",
      "C(ind2_cat)[T.30.0]:age                   -0.0039      0.010     -0.383      0.702      -0.024       0.016\n",
      "C(ind2_cat)[T.33.0]:age                    0.0013      0.003      0.411      0.681      -0.005       0.008\n",
      "C(ind2_cat)[T.55.0]:age                   -0.0071      0.003     -2.288      0.022      -0.013      -0.001\n",
      "C(ind2_cat)[T.56.0]:age                   -0.0086      0.002     -3.946      0.000      -0.013      -0.004\n",
      "age2                                   -8.012e-05   6.02e-05     -1.330      0.183      -0.000    3.79e-05\n",
      "C(ind2_cat)[T.27.0]:age2                  -0.0002      0.000     -0.944      0.345      -0.001       0.000\n",
      "C(ind2_cat)[T.28.0]:age2                   0.0003      0.000      2.418      0.016    6.21e-05       0.001\n",
      "C(ind2_cat)[T.29.0]:age2                   0.0007      0.000      2.123      0.034    5.68e-05       0.001\n",
      "C(ind2_cat)[T.30.0]:age2                   0.0003      0.000      0.566      0.571      -0.001       0.001\n",
      "C(ind2_cat)[T.33.0]:age2                  -0.0001      0.000     -0.935      0.350      -0.000       0.000\n",
      "C(ind2_cat)[T.55.0]:age2                   0.0002      0.000      1.881      0.060   -9.98e-06       0.000\n",
      "C(ind2_cat)[T.56.0]:age2                   0.0003   7.87e-05      3.377      0.001       0.000       0.000\n",
      "new                                       -0.3019      0.004    -83.096      0.000      -0.309      -0.295\n",
      "total_assets_bs                        -4.575e-10   1.21e-09     -0.379      0.705   -2.82e-09    1.91e-09\n",
      "fixed_assets_bs                            0.0579      0.092      0.628      0.530      -0.123       0.239\n",
      "liq_assets_bs                              0.0129      0.007      1.911      0.056      -0.000       0.026\n",
      "curr_assets_bs                             0.0756      0.092      0.821      0.412      -0.105       0.256\n",
      "share_eq_bs                               -0.0206      0.006     -3.689      0.000      -0.032      -0.010\n",
      "subscribed_cap_bs                         -0.0054      0.007     -0.739      0.460      -0.020       0.009\n",
      "intang_assets_bs                           0.0870      0.098      0.892      0.372      -0.104       0.278\n",
      "extra_exp_pl                              -0.1753      0.098     -1.796      0.073      -0.367       0.016\n",
      "extra_inc_pl                               0.0882      0.121      0.728      0.466      -0.149       0.326\n",
      "extra_profit_loss_pl                      -0.1748      0.096     -1.815      0.070      -0.364       0.014\n",
      "inc_bef_tax_pl                             0.0797      0.030      2.683      0.007       0.021       0.138\n",
      "inventories_pl                            -0.0387      0.011     -3.558      0.000      -0.060      -0.017\n",
      "material_exp_pl                            0.0163      0.010      1.635      0.102      -0.003       0.036\n",
      "profit_loss_year_pl                        0.0088      0.030      0.293      0.769      -0.050       0.068\n",
      "personnel_exp_pl                          -0.0764      0.009     -8.310      0.000      -0.094      -0.058\n",
      "extra_profit_loss_pl_quad                  0.0238      0.084      0.284      0.777      -0.140       0.188\n",
      "inc_bef_tax_pl_quad                       -0.0314      0.035     -0.900      0.368      -0.100       0.037\n",
      "profit_loss_year_pl_quad                   0.0547      0.038      1.457      0.145      -0.019       0.128\n",
      "share_eq_bs_quad                          -0.0261      0.007     -3.739      0.000      -0.040      -0.012\n",
      "extra_exp_pl_flag_high                     0.0813      0.124      0.657      0.511      -0.161       0.324\n",
      "extra_inc_pl_flag_high                    -0.0362      0.084     -0.430      0.668      -0.201       0.129\n",
      "inventories_pl_flag_high                   0.0114      0.013      0.861      0.389      -0.014       0.037\n",
      "material_exp_pl_flag_high                 -0.0208      0.005     -3.840      0.000      -0.031      -0.010\n",
      "personnel_exp_pl_flag_high                 0.0348      0.009      3.904      0.000       0.017       0.052\n",
      "curr_liab_bs_flag_high                     0.0014      0.005      0.255      0.799      -0.009       0.012\n",
      "liq_assets_bs_flag_high                    0.0167      0.117      0.142      0.887      -0.213       0.246\n",
      "subscribed_cap_bs_flag_high               -0.0027      0.007     -0.391      0.696      -0.016       0.011\n",
      "extra_exp_pl_flag_error                   -0.0359      0.100     -0.358      0.720      -0.232       0.160\n",
      "extra_inc_pl_flag_error                   -0.0007      0.032     -0.023      0.981      -0.063       0.062\n",
      "inventories_pl_flag_error                  0.0327      0.035      0.931      0.352      -0.036       0.101\n",
      "material_exp_pl_flag_error                 0.0131      0.143      0.091      0.927      -0.268       0.294\n",
      "personnel_exp_pl_flag_error               -0.0670      0.091     -0.736      0.462      -0.245       0.111\n",
      "curr_liab_bs_flag_error                   -0.0971      0.060     -1.614      0.107      -0.215       0.021\n",
      "liq_assets_bs_flag_error                  -0.0316      0.036     -0.874      0.382      -0.102       0.039\n",
      "subscribed_cap_bs_flag_error              -0.0421      0.090     -0.467      0.640      -0.219       0.135\n",
      "extra_profit_loss_pl_flag_low             -0.2514      0.149     -1.688      0.091      -0.543       0.040\n",
      "inc_bef_tax_pl_flag_low                    0.0925      0.053      1.732      0.083      -0.012       0.197\n",
      "profit_loss_year_pl_flag_low              -0.0689      0.054     -1.280      0.200      -0.174       0.037\n",
      "share_eq_bs_flag_low                       0.0143      0.010      1.462      0.144      -0.005       0.033\n",
      "extra_profit_loss_pl_flag_high             0.1061      0.100      1.060      0.289      -0.090       0.302\n",
      "inc_bef_tax_pl_flag_high                  -0.1279      0.046     -2.776      0.006      -0.218      -0.038\n",
      "profit_loss_year_pl_flag_high             -0.0092      0.052     -0.177      0.860      -0.111       0.093\n",
      "share_eq_bs_flag_high                      0.0386      0.018      2.162      0.031       0.004       0.074\n",
      "extra_profit_loss_pl_flag_zero            -0.0065      0.005     -1.229      0.219      -0.017       0.004\n",
      "inc_bef_tax_pl_flag_zero                  -0.0220      0.029     -0.759      0.448      -0.079       0.035\n",
      "profit_loss_year_pl_flag_zero             -0.0446      0.010     -4.396      0.000      -0.065      -0.025\n",
      "share_eq_bs_flag_zero                      0.0639      0.089      0.715      0.474      -0.111       0.239\n",
      "default                                   -0.0223      0.004     -5.731      0.000      -0.030      -0.015\n",
      "female                                     0.0004      0.025      0.015      0.988      -0.048       0.049\n",
      "C(ind2_cat)[T.27.0]:female                 0.0242      0.038      0.641      0.522      -0.050       0.098\n",
      "C(ind2_cat)[T.28.0]:female                -0.0079      0.030     -0.265      0.791      -0.066       0.051\n",
      "C(ind2_cat)[T.29.0]:female                -0.0254      0.047     -0.539      0.590      -0.118       0.067\n",
      "C(ind2_cat)[T.30.0]:female                 0.0030      0.070      0.043      0.965      -0.134       0.140\n",
      "C(ind2_cat)[T.33.0]:female                 0.0082      0.030      0.278      0.781      -0.050       0.066\n",
      "C(ind2_cat)[T.55.0]:female                 0.0030      0.027      0.109      0.913      -0.050       0.056\n",
      "C(ind2_cat)[T.56.0]:female                -0.0163      0.025     -0.661      0.509      -0.065       0.032\n",
      "ceo_age                                    0.0002      0.001      0.279      0.781      -0.001       0.002\n",
      "C(ind2_cat)[T.27.0]:ceo_age               -0.0010      0.001     -0.785      0.432      -0.003       0.001\n",
      "C(ind2_cat)[T.28.0]:ceo_age               -0.0012      0.001     -1.301      0.193      -0.003       0.001\n",
      "C(ind2_cat)[T.29.0]:ceo_age                0.0004      0.002      0.232      0.817      -0.003       0.004\n",
      "C(ind2_cat)[T.30.0]:ceo_age            -5.014e-06      0.002     -0.003      0.998      -0.004       0.004\n",
      "C(ind2_cat)[T.33.0]:ceo_age               -0.0011      0.001     -1.192      0.233      -0.003       0.001\n",
      "C(ind2_cat)[T.55.0]:ceo_age               -0.0006      0.001     -0.698      0.485      -0.002       0.001\n",
      "C(ind2_cat)[T.56.0]:ceo_age               -0.0009      0.001     -1.185      0.236      -0.002       0.001\n",
      "flag_high_ceo_age                         -0.0215      0.022     -0.983      0.325      -0.064       0.021\n",
      "flag_low_ceo_age                           0.0059      0.013      0.460      0.645      -0.019       0.031\n",
      "flag_miss_ceo_age                          0.0093      0.005      1.910      0.056      -0.000       0.019\n",
      "ceo_count                                 -0.0019      0.003     -0.618      0.536      -0.008       0.004\n",
      "labor_avg_mod                              0.0041      0.003      1.320      0.187      -0.002       0.010\n",
      "C(ind2_cat)[T.27.0]:labor_avg_mod         -0.0035      0.005     -0.728      0.466      -0.013       0.006\n",
      "C(ind2_cat)[T.28.0]:labor_avg_mod         -0.0124      0.004     -3.229      0.001      -0.020      -0.005\n",
      "C(ind2_cat)[T.29.0]:labor_avg_mod         -0.0104      0.004     -2.744      0.006      -0.018      -0.003\n",
      "C(ind2_cat)[T.30.0]:labor_avg_mod         -0.0197      0.007     -3.023      0.003      -0.032      -0.007\n",
      "C(ind2_cat)[T.33.0]:labor_avg_mod         -0.0076      0.005     -1.668      0.095      -0.016       0.001\n",
      "C(ind2_cat)[T.55.0]:labor_avg_mod         -0.0173      0.005     -3.536      0.000      -0.027      -0.008\n",
      "C(ind2_cat)[T.56.0]:labor_avg_mod         -0.0131      0.004     -3.467      0.001      -0.021      -0.006\n",
      "flag_miss_labor_avg                       -0.0086      0.005     -1.734      0.083      -0.018       0.001\n",
      "foreign_management                        -0.0524      0.022     -2.337      0.019      -0.096      -0.008\n",
      "C(ind2_cat)[T.27.0]:foreign_management     0.0340      0.032      1.061      0.289      -0.029       0.097\n",
      "C(ind2_cat)[T.28.0]:foreign_management     0.0760      0.026      2.927      0.003       0.025       0.127\n",
      "C(ind2_cat)[T.29.0]:foreign_management     0.1021      0.041      2.477      0.013       0.021       0.183\n",
      "C(ind2_cat)[T.30.0]:foreign_management     0.1163      0.072      1.618      0.106      -0.025       0.257\n",
      "C(ind2_cat)[T.33.0]:foreign_management     0.0411      0.028      1.484      0.138      -0.013       0.095\n",
      "C(ind2_cat)[T.55.0]:foreign_management     0.0284      0.025      1.152      0.249      -0.020       0.077\n",
      "C(ind2_cat)[T.56.0]:foreign_management     0.0394      0.022      1.783      0.075      -0.004       0.083\n",
      "balsheet_flag                              0.0438      0.011      3.842      0.000       0.021       0.066\n",
      "balsheet_length                        -5.955e-05   1.48e-05     -4.019      0.000   -8.86e-05   -3.05e-05\n",
      "balsheet_notfullyear                      -0.0279      0.003     -8.042      0.000      -0.035      -0.021\n",
      "profit_loss_year_pl:age                    0.0011      0.001      1.863      0.062   -5.95e-05       0.002\n",
      "profit_loss_year_pl:female                -0.0236      0.010     -2.428      0.015      -0.043      -0.005\n",
      "profit_loss_year_pl:foreign_management    -0.0278      0.012     -2.241      0.025      -0.052      -0.003\n",
      "profit_loss_year_pl:fixed_assets_bs       -0.0274      0.011     -2.463      0.014      -0.049      -0.006\n",
      "age:foreign_management                    -0.0005      0.001     -0.707      0.480      -0.002       0.001\n",
      "age:female                                 0.0003      0.001      0.440      0.660      -0.001       0.001\n",
      "fixed_assets_bs:foreign_management         0.0223      0.016      1.374      0.169      -0.010       0.054\n",
      "fixed_assets_bs:female                    -0.0004      0.012     -0.033      0.974      -0.023       0.023\n",
      "==============================================================================\n",
      "Omnibus:                     7427.187   Durbin-Watson:                   2.008\n",
      "Prob(Omnibus):                  0.000   Jarque-Bera (JB):            12751.946\n",
      "Skew:                           1.306   Prob(JB):                         0.00\n",
      "Kurtosis:                       4.119   Cond. No.                     2.97e+08\n",
      "==============================================================================\n",
      "\n",
      "Notes:\n",
      "[1] Standard Errors are heteroscedasticity robust (HC1)\n",
      "[2] The condition number is large, 2.97e+08. This might indicate that there are\n",
      "strong multicollinearity or other numerical problems.\n"
     ]
    }
   ],
   "source": [
    "ols_modelx2 = smf.ols(\"fast_growth~\" + \"+\".join(M2), data).fit(cov_type=\"HC1\")\n",
    "print(ols_modelx2.summary().as_text())"
   ]
  },
  {
   "cell_type": "code",
   "execution_count": null,
   "metadata": {},
   "outputs": [
    {
     "name": "stdout",
     "output_type": "stream",
     "text": [
      "Optimization terminated successfully.\n",
      "         Current function value: 0.373393\n",
      "         Iterations 7\n"
     ]
    }
   ],
   "source": [
    "logit_modelx2 = smf.logit(\"fast_growth~\" + \"+\".join(M2), data).fit()"
   ]
  },
  {
   "cell_type": "code",
   "execution_count": 19,
   "metadata": {},
   "outputs": [
    {
     "name": "stdout",
     "output_type": "stream",
     "text": [
      "Warning: Maximum number of iterations has been exceeded.\n",
      "         Current function value: 0.244183\n",
      "         Iterations: 35\n"
     ]
    }
   ],
   "source": [
    "logit_modelx2 = smf.logit(\"fast_growth~\" + \"+\".join(M5), data).fit()"
   ]
  },
  {
   "cell_type": "code",
   "execution_count": 99,
   "metadata": {},
   "outputs": [
    {
     "name": "stdout",
     "output_type": "stream",
     "text": [
      "                           Logit Regression Results                           \n",
      "==============================================================================\n",
      "Dep. Variable:            fast_growth   No. Observations:                37919\n",
      "Model:                          Logit   Df Residuals:                    37903\n",
      "Method:                           MLE   Df Model:                           15\n",
      "Date:                Sun, 23 Feb 2025   Pseudo R-squ.:                 0.01685\n",
      "Time:                        20:05:02   Log-Likelihood:                -14159.\n",
      "converged:                       True   LL-Null:                       -14401.\n",
      "Covariance Type:            nonrobust   LLR p-value:                 6.929e-94\n",
      "===========================================================================================\n",
      "                              coef    std err          z      P>|z|      [0.025      0.975]\n",
      "-------------------------------------------------------------------------------------------\n",
      "Intercept                  -1.7060      0.083    -20.662      0.000      -1.868      -1.544\n",
      "C(ind2_cat)[T.27.0]        -0.1482      0.108     -1.373      0.170      -0.360       0.063\n",
      "C(ind2_cat)[T.28.0]        -0.0703      0.080     -0.874      0.382      -0.228       0.087\n",
      "C(ind2_cat)[T.29.0]         0.0400      0.140      0.285      0.775      -0.235       0.315\n",
      "C(ind2_cat)[T.30.0]         0.1966      0.168      1.173      0.241      -0.132       0.525\n",
      "C(ind2_cat)[T.33.0]        -0.0737      0.081     -0.913      0.361      -0.232       0.084\n",
      "C(ind2_cat)[T.55.0]        -0.0414      0.081     -0.513      0.608      -0.200       0.117\n",
      "C(ind2_cat)[T.56.0]        -0.2694      0.070     -3.825      0.000      -0.408      -0.131\n",
      "profit_loss_year_pl         1.0558      0.054     19.382      0.000       0.949       1.163\n",
      "fixed_assets_bs            -0.0014      0.051     -0.028      0.977      -0.101       0.098\n",
      "share_eq_bs                -0.2046      0.040     -5.117      0.000      -0.283      -0.126\n",
      "curr_liab_bs                0.1969      0.068      2.876      0.004       0.063       0.331\n",
      "curr_liab_bs_flag_high     -0.1541      0.060     -2.563      0.010      -0.272      -0.036\n",
      "curr_liab_bs_flag_error    -0.8493      1.032     -0.823      0.411      -2.872       1.173\n",
      "age                        -0.0018      0.002     -0.738      0.461      -0.007       0.003\n",
      "foreign_management         -0.0737      0.052     -1.408      0.159      -0.176       0.029\n",
      "===========================================================================================\n"
     ]
    }
   ],
   "source": [
    "print(logit_modelx2.summary())"
   ]
  },
  {
   "cell_type": "markdown",
   "metadata": {},
   "source": [
    "With Logit we need to calculate average marginal effects (dy/dx) to be able to interpret the coefficients (under some assumptions...)"
   ]
  },
  {
   "cell_type": "code",
   "execution_count": 100,
   "metadata": {},
   "outputs": [
    {
     "name": "stdout",
     "output_type": "stream",
     "text": [
      "        Logit Marginal Effects       \n",
      "=====================================\n",
      "Dep. Variable:            fast_growth\n",
      "Method:                          dydx\n",
      "At:                           overall\n",
      "===========================================================================================\n",
      "                             dy/dx    std err          z      P>|z|      [0.025      0.975]\n",
      "-------------------------------------------------------------------------------------------\n",
      "C(ind2_cat)[T.27.0]        -0.0162      0.012     -1.373      0.170      -0.039       0.007\n",
      "C(ind2_cat)[T.28.0]        -0.0077      0.009     -0.874      0.382      -0.025       0.010\n",
      "C(ind2_cat)[T.29.0]         0.0044      0.015      0.285      0.775      -0.026       0.034\n",
      "C(ind2_cat)[T.30.0]         0.0215      0.018      1.173      0.241      -0.014       0.057\n",
      "C(ind2_cat)[T.33.0]        -0.0080      0.009     -0.913      0.361      -0.025       0.009\n",
      "C(ind2_cat)[T.55.0]        -0.0045      0.009     -0.513      0.608      -0.022       0.013\n",
      "C(ind2_cat)[T.56.0]        -0.0294      0.008     -3.824      0.000      -0.044      -0.014\n",
      "profit_loss_year_pl         0.1152      0.006     19.306      0.000       0.104       0.127\n",
      "fixed_assets_bs            -0.0002      0.006     -0.028      0.977      -0.011       0.011\n",
      "share_eq_bs                -0.0223      0.004     -5.116      0.000      -0.031      -0.014\n",
      "curr_liab_bs                0.0215      0.007      2.876      0.004       0.007       0.036\n",
      "curr_liab_bs_flag_high     -0.0168      0.007     -2.563      0.010      -0.030      -0.004\n",
      "curr_liab_bs_flag_error    -0.0927      0.113     -0.823      0.411      -0.313       0.128\n",
      "age                        -0.0002      0.000     -0.738      0.461      -0.001       0.000\n",
      "foreign_management         -0.0080      0.006     -1.408      0.159      -0.019       0.003\n",
      "===========================================================================================\n"
     ]
    }
   ],
   "source": [
    "print(logit_modelx2.get_margeff().summary())"
   ]
  },
  {
   "cell_type": "markdown",
   "metadata": {},
   "source": [
    "## 0. Separate train and holdout data"
   ]
  },
  {
   "cell_type": "code",
   "execution_count": 101,
   "metadata": {},
   "outputs": [],
   "source": [
    "data_train, data_holdout = train_test_split(data, train_size=0.8, random_state=42)"
   ]
  },
  {
   "cell_type": "code",
   "execution_count": 102,
   "metadata": {},
   "outputs": [
    {
     "name": "stdout",
     "output_type": "stream",
     "text": [
      "Total\n",
      "fast_growth\n",
      "0    0.873441\n",
      "1    0.126559\n",
      "Name: proportion, dtype: float64\n",
      "Train\n",
      "fast_growth\n",
      "0    0.873809\n",
      "1    0.126191\n",
      "Name: proportion, dtype: float64\n",
      "Holdout\n",
      "fast_growth\n",
      "0    0.871967\n",
      "1    0.128033\n",
      "Name: proportion, dtype: float64\n"
     ]
    }
   ],
   "source": [
    "print(\"Total\")\n",
    "print(data[\"fast_growth\"].value_counts(normalize=True))\n",
    "print(\"Train\")\n",
    "print(data_train[\"fast_growth\"].value_counts(normalize=True))\n",
    "print(\"Holdout\")\n",
    "print(data_holdout[\"fast_growth\"].value_counts(normalize=True))\n"
   ]
  },
  {
   "cell_type": "markdown",
   "metadata": {},
   "source": [
    "## 1. Predict probabilities with logit and Lasso with CV\n",
    "\n",
    "Specify 5 fold cross-validation method"
   ]
  },
  {
   "cell_type": "code",
   "execution_count": 103,
   "metadata": {},
   "outputs": [],
   "source": [
    "k = KFold(n_splits=5, shuffle=True, random_state=42)"
   ]
  },
  {
   "cell_type": "markdown",
   "metadata": {},
   "source": [
    "### a) cross validate logit models"
   ]
  },
  {
   "cell_type": "markdown",
   "metadata": {},
   "source": [
    "Set up X-vars"
   ]
  },
  {
   "cell_type": "code",
   "execution_count": 104,
   "metadata": {},
   "outputs": [],
   "source": [
    "logit_model_vars = [M1, M2, M3, M4, M5]"
   ]
  },
  {
   "cell_type": "markdown",
   "metadata": {},
   "source": [
    "Set up Logit model object\n",
    "\n",
    "No regularisation needed so setting the paremeter to very high value"
   ]
  },
  {
   "cell_type": "code",
   "execution_count": 105,
   "metadata": {},
   "outputs": [],
   "source": [
    "C_value_logit = [1e20]"
   ]
  },
  {
   "cell_type": "code",
   "execution_count": 106,
   "metadata": {},
   "outputs": [],
   "source": [
    "logit_models = dict()\n",
    "CV_RMSE_folds = dict()\n",
    "\n",
    "for i, model_vars in enumerate(logit_model_vars):\n",
    "\n",
    "    model_equation = \"fast_growth~\" + \"+\".join(model_vars)\n",
    "    y_train, X_train = patsy.dmatrices(model_equation, data_train)\n",
    "\n",
    "    LRCV_brier = LogisticRegressionCV(\n",
    "        Cs=C_value_logit,\n",
    "        cv=k,\n",
    "        refit=True,\n",
    "        scoring=\"neg_brier_score\",\n",
    "        solver=\"newton-cg\",\n",
    "        tol=1e-7,\n",
    "        random_state=42,\n",
    "    )\n",
    "\n",
    "    logit_models[\"M\" + str(i + 1)] = LRCV_brier.fit(X_train, y_train)\n",
    "\n",
    "    # Calculate RMSE on test for each fold\n",
    "    CV_RMSE_folds[\"M\" + str(i + 1)] = np.sqrt(\n",
    "        -1 * logit_models[\"M\" + str(i + 1)].scores_[1].ravel()\n",
    "    )"
   ]
  },
  {
   "cell_type": "code",
   "execution_count": 107,
   "metadata": {},
   "outputs": [
    {
     "data": {
      "text/html": [
       "<div>\n",
       "<style scoped>\n",
       "    .dataframe tbody tr th:only-of-type {\n",
       "        vertical-align: middle;\n",
       "    }\n",
       "\n",
       "    .dataframe tbody tr th {\n",
       "        vertical-align: top;\n",
       "    }\n",
       "\n",
       "    .dataframe thead th {\n",
       "        text-align: right;\n",
       "    }\n",
       "</style>\n",
       "<table border=\"1\" class=\"dataframe\">\n",
       "  <thead>\n",
       "    <tr style=\"text-align: right;\">\n",
       "      <th></th>\n",
       "      <th>M1</th>\n",
       "      <th>M2</th>\n",
       "      <th>M3</th>\n",
       "      <th>M4</th>\n",
       "      <th>M5</th>\n",
       "    </tr>\n",
       "  </thead>\n",
       "  <tbody>\n",
       "    <tr>\n",
       "      <th>0</th>\n",
       "      <td>0.338682</td>\n",
       "      <td>0.338608</td>\n",
       "      <td>0.302766</td>\n",
       "      <td>0.307427</td>\n",
       "      <td>0.299002</td>\n",
       "    </tr>\n",
       "    <tr>\n",
       "      <th>1</th>\n",
       "      <td>0.327945</td>\n",
       "      <td>0.327660</td>\n",
       "      <td>0.295242</td>\n",
       "      <td>0.298070</td>\n",
       "      <td>0.293948</td>\n",
       "    </tr>\n",
       "    <tr>\n",
       "      <th>2</th>\n",
       "      <td>0.326816</td>\n",
       "      <td>0.326647</td>\n",
       "      <td>0.291840</td>\n",
       "      <td>0.293397</td>\n",
       "      <td>0.292977</td>\n",
       "    </tr>\n",
       "    <tr>\n",
       "      <th>3</th>\n",
       "      <td>0.334376</td>\n",
       "      <td>0.334353</td>\n",
       "      <td>0.300860</td>\n",
       "      <td>0.306227</td>\n",
       "      <td>0.300319</td>\n",
       "    </tr>\n",
       "    <tr>\n",
       "      <th>4</th>\n",
       "      <td>0.325631</td>\n",
       "      <td>0.325221</td>\n",
       "      <td>0.294327</td>\n",
       "      <td>0.292604</td>\n",
       "      <td>0.291326</td>\n",
       "    </tr>\n",
       "  </tbody>\n",
       "</table>\n",
       "</div>"
      ],
      "text/plain": [
       "         M1        M2        M3        M4        M5\n",
       "0  0.338682  0.338608  0.302766  0.307427  0.299002\n",
       "1  0.327945  0.327660  0.295242  0.298070  0.293948\n",
       "2  0.326816  0.326647  0.291840  0.293397  0.292977\n",
       "3  0.334376  0.334353  0.300860  0.306227  0.300319\n",
       "4  0.325631  0.325221  0.294327  0.292604  0.291326"
      ]
     },
     "execution_count": 107,
     "metadata": {},
     "output_type": "execute_result"
    }
   ],
   "source": [
    "pd.DataFrame(CV_RMSE_folds)"
   ]
  },
  {
   "cell_type": "markdown",
   "metadata": {},
   "source": [
    "### b) Logit + LASSO"
   ]
  },
  {
   "cell_type": "code",
   "execution_count": 108,
   "metadata": {},
   "outputs": [],
   "source": [
    "model_equation = \"fast_growth~\" + \"+\".join(logit_lasso_vars)\n",
    "y_train, X_train = patsy.dmatrices(model_equation, data_train)"
   ]
  },
  {
   "cell_type": "markdown",
   "metadata": {},
   "source": [
    "Normalise X vars for Lasso"
   ]
  },
  {
   "cell_type": "code",
   "execution_count": 109,
   "metadata": {},
   "outputs": [],
   "source": [
    "normalized_logitvars = pd.DataFrame(\n",
    "    StandardScaler().fit_transform(X_train),\n",
    "    columns=X_train.design_info.column_names,\n",
    ")"
   ]
  },
  {
   "cell_type": "markdown",
   "metadata": {},
   "source": [
    "Set regularization parameters"
   ]
  },
  {
   "cell_type": "code",
   "execution_count": 110,
   "metadata": {},
   "outputs": [],
   "source": [
    "lambdas = list(10 ** np.arange(-1, -4.01, -1 / 3))\n",
    "n_obs = normalized_logitvars.shape[0] * 4 / 5\n",
    "C_values = [\n",
    "    1 / (l * n_obs) for l in lambdas\n",
    "]  # Cs are the inverse of regularization strength"
   ]
  },
  {
   "cell_type": "markdown",
   "metadata": {},
   "source": [
    "Initialize and fit Logit Lasso"
   ]
  },
  {
   "cell_type": "code",
   "execution_count": 111,
   "metadata": {},
   "outputs": [],
   "source": [
    "logLasso_brier = LogisticRegressionCV(\n",
    "    Cs=C_values,\n",
    "    penalty=\"l1\",\n",
    "    cv=k,\n",
    "    refit=True,\n",
    "    scoring=\"neg_brier_score\",\n",
    "    solver=\"liblinear\",\n",
    "    random_state=42,\n",
    ")\n",
    "\n",
    "logit_models[\"LASSO\"] = logLasso_brier.fit(normalized_logitvars, y_train)"
   ]
  },
  {
   "cell_type": "markdown",
   "metadata": {},
   "source": [
    "See CV-fold RMSE-s (negative brier score)"
   ]
  },
  {
   "cell_type": "code",
   "execution_count": 112,
   "metadata": {
    "scrolled": true
   },
   "outputs": [
    {
     "data": {
      "text/html": [
       "<div>\n",
       "<style scoped>\n",
       "    .dataframe tbody tr th:only-of-type {\n",
       "        vertical-align: middle;\n",
       "    }\n",
       "\n",
       "    .dataframe tbody tr th {\n",
       "        vertical-align: top;\n",
       "    }\n",
       "\n",
       "    .dataframe thead th {\n",
       "        text-align: right;\n",
       "    }\n",
       "</style>\n",
       "<table border=\"1\" class=\"dataframe\">\n",
       "  <thead>\n",
       "    <tr style=\"text-align: right;\">\n",
       "      <th></th>\n",
       "      <th>lambdas</th>\n",
       "      <th>C_values</th>\n",
       "      <th>mean_cv_score</th>\n",
       "    </tr>\n",
       "  </thead>\n",
       "  <tbody>\n",
       "    <tr>\n",
       "      <th>0</th>\n",
       "      <td>0.100000</td>\n",
       "      <td>0.000412</td>\n",
       "      <td>0.330009</td>\n",
       "    </tr>\n",
       "    <tr>\n",
       "      <th>1</th>\n",
       "      <td>0.046416</td>\n",
       "      <td>0.000888</td>\n",
       "      <td>0.305309</td>\n",
       "    </tr>\n",
       "    <tr>\n",
       "      <th>2</th>\n",
       "      <td>0.021544</td>\n",
       "      <td>0.001913</td>\n",
       "      <td>0.299197</td>\n",
       "    </tr>\n",
       "    <tr>\n",
       "      <th>3</th>\n",
       "      <td>0.010000</td>\n",
       "      <td>0.004121</td>\n",
       "      <td>0.294339</td>\n",
       "    </tr>\n",
       "    <tr>\n",
       "      <th>4</th>\n",
       "      <td>0.004642</td>\n",
       "      <td>0.008878</td>\n",
       "      <td>0.291960</td>\n",
       "    </tr>\n",
       "    <tr>\n",
       "      <th>5</th>\n",
       "      <td>0.002154</td>\n",
       "      <td>0.019126</td>\n",
       "      <td>0.290719</td>\n",
       "    </tr>\n",
       "    <tr>\n",
       "      <th>6</th>\n",
       "      <td>0.001000</td>\n",
       "      <td>0.041207</td>\n",
       "      <td>0.290454</td>\n",
       "    </tr>\n",
       "    <tr>\n",
       "      <th>7</th>\n",
       "      <td>0.000464</td>\n",
       "      <td>0.088777</td>\n",
       "      <td>0.290374</td>\n",
       "    </tr>\n",
       "    <tr>\n",
       "      <th>8</th>\n",
       "      <td>0.000215</td>\n",
       "      <td>0.191264</td>\n",
       "      <td>0.290427</td>\n",
       "    </tr>\n",
       "    <tr>\n",
       "      <th>9</th>\n",
       "      <td>0.000100</td>\n",
       "      <td>0.412065</td>\n",
       "      <td>0.290456</td>\n",
       "    </tr>\n",
       "  </tbody>\n",
       "</table>\n",
       "</div>"
      ],
      "text/plain": [
       "    lambdas  C_values  mean_cv_score\n",
       "0  0.100000  0.000412       0.330009\n",
       "1  0.046416  0.000888       0.305309\n",
       "2  0.021544  0.001913       0.299197\n",
       "3  0.010000  0.004121       0.294339\n",
       "4  0.004642  0.008878       0.291960\n",
       "5  0.002154  0.019126       0.290719\n",
       "6  0.001000  0.041207       0.290454\n",
       "7  0.000464  0.088777       0.290374\n",
       "8  0.000215  0.191264       0.290427\n",
       "9  0.000100  0.412065       0.290456"
      ]
     },
     "execution_count": 112,
     "metadata": {},
     "output_type": "execute_result"
    }
   ],
   "source": [
    "cv_summary_lasso = cv_summary(lambdas, C_values, logit_models[\"LASSO\"])\n",
    "cv_summary_lasso[\"mean_cv_score\"] = np.sqrt(cv_summary_lasso[\"mean_cv_score\"] * -1)\n",
    "cv_summary_lasso"
   ]
  },
  {
   "cell_type": "markdown",
   "metadata": {},
   "source": [
    "Save best lambda's index for later use"
   ]
  },
  {
   "cell_type": "code",
   "execution_count": 113,
   "metadata": {},
   "outputs": [],
   "source": [
    "best_lambda_i = cv_summary_lasso[\"mean_cv_score\"].idxmin()"
   ]
  },
  {
   "cell_type": "markdown",
   "metadata": {},
   "source": [
    "Extract CV test RMSE for the Lasso with best lambda"
   ]
  },
  {
   "cell_type": "code",
   "execution_count": 114,
   "metadata": {},
   "outputs": [],
   "source": [
    "CV_RMSE_folds[\"LASSO\"] = np.sqrt(\n",
    "    -1 * logit_models[\"LASSO\"].scores_[1][:, best_lambda_i]\n",
    ")"
   ]
  },
  {
   "cell_type": "markdown",
   "metadata": {},
   "source": [
    "## 2.  AUC, Calibration Curve, Confusion Matrix, ROC\n",
    "\n",
    "0. Calculate AUC for folds\n",
    "\n",
    "\n",
    "First, for logits"
   ]
  },
  {
   "cell_type": "code",
   "execution_count": 115,
   "metadata": {},
   "outputs": [],
   "source": [
    "CV_AUC_folds = dict()\n",
    "for i, model_vars in enumerate(logit_model_vars):\n",
    "\n",
    "    model_equation = \"fast_growth~\" + \"+\".join(model_vars)\n",
    "    y_train, X_train = patsy.dmatrices(model_equation, data_train)\n",
    "\n",
    "    LRCV_auc = LogisticRegressionCV(\n",
    "        Cs=C_value_logit,\n",
    "        cv=k,\n",
    "        refit=True,\n",
    "        scoring=\"roc_auc\",\n",
    "        solver=\"newton-cg\",\n",
    "        tol=1e-7,\n",
    "        random_state=42,\n",
    "    )\n",
    "\n",
    "    logit_models[\"M\" + str(i + 1)] = LRCV_auc.fit(X_train, y_train)\n",
    "\n",
    "    # Calculate AUC on test for each fold\n",
    "    CV_AUC_folds[\"M\" + str(i + 1)] = logit_models[\"M\" + str(i + 1)].scores_[1].ravel()"
   ]
  },
  {
   "cell_type": "markdown",
   "metadata": {},
   "source": [
    "For Lasso"
   ]
  },
  {
   "cell_type": "code",
   "execution_count": 116,
   "metadata": {},
   "outputs": [],
   "source": [
    "logLasso_auc = LogisticRegressionCV(\n",
    "    Cs=C_values,\n",
    "    penalty=\"l1\",\n",
    "    cv=k,\n",
    "    refit=True,\n",
    "    scoring=\"roc_auc\",\n",
    "    solver=\"liblinear\",\n",
    "    random_state=42,\n",
    ")\n",
    "logLasso_auc_fitted = logLasso_auc.fit(normalized_logitvars, y_train)\n",
    "\n",
    "CV_AUC_folds[\"LASSO\"] = logLasso_auc_fitted.scores_[1][\n",
    "    :, cv_summary_lasso[\"mean_cv_score\"].idxmin()\n",
    "]"
   ]
  },
  {
   "cell_type": "markdown",
   "metadata": {},
   "source": [
    "Put a summary frame together"
   ]
  },
  {
   "cell_type": "code",
   "execution_count": 117,
   "metadata": {},
   "outputs": [],
   "source": [
    "model_fits = pd.DataFrame(logit_models, index=[\"Model fit\"]).T\n",
    "\n",
    "summary = (\n",
    "    model_fits[\"Model fit\"]\n",
    "    .apply(lambda x: x.n_features_in_)\n",
    "    .to_frame(name=\"Number of Coefficients\")\n",
    ")\n",
    "\n",
    "summary.loc[\"LASSO\", \"Number of Coefficients\"] = len(\n",
    "    [i for i in model_fits.loc[\"LASSO\"].values[0].coef_[0] if i != 0]\n",
    ")\n",
    "\n",
    "summary[\"CV RMSE\"] = pd.DataFrame(CV_RMSE_folds).T.mean(axis=1)\n",
    "summary[\"CV AUC\"] = pd.DataFrame(CV_AUC_folds).T.mean(axis=1)"
   ]
  },
  {
   "cell_type": "code",
   "execution_count": 118,
   "metadata": {},
   "outputs": [
    {
     "data": {
      "text/plain": [
       "98"
      ]
     },
     "execution_count": 118,
     "metadata": {},
     "output_type": "execute_result"
    }
   ],
   "source": [
    "sum(x != 0 for x in model_fits.loc[\"LASSO\"].values[0].coef_[0].tolist())"
   ]
  },
  {
   "cell_type": "code",
   "execution_count": 119,
   "metadata": {},
   "outputs": [
    {
     "data": {
      "text/plain": [
       "98"
      ]
     },
     "execution_count": 119,
     "metadata": {},
     "output_type": "execute_result"
    }
   ],
   "source": [
    "len(\n",
    "    [i for i in model_fits.loc[\"LASSO\"].values[0].coef_[0] if i != 0]\n",
    ")"
   ]
  },
  {
   "cell_type": "code",
   "execution_count": 120,
   "metadata": {},
   "outputs": [
    {
     "data": {
      "text/html": [
       "<div>\n",
       "<style scoped>\n",
       "    .dataframe tbody tr th:only-of-type {\n",
       "        vertical-align: middle;\n",
       "    }\n",
       "\n",
       "    .dataframe tbody tr th {\n",
       "        vertical-align: top;\n",
       "    }\n",
       "\n",
       "    .dataframe thead th {\n",
       "        text-align: right;\n",
       "    }\n",
       "</style>\n",
       "<table border=\"1\" class=\"dataframe\">\n",
       "  <thead>\n",
       "    <tr style=\"text-align: right;\">\n",
       "      <th></th>\n",
       "      <th>Number of Coefficients</th>\n",
       "      <th>CV RMSE</th>\n",
       "      <th>CV AUC</th>\n",
       "    </tr>\n",
       "  </thead>\n",
       "  <tbody>\n",
       "    <tr>\n",
       "      <th>M1</th>\n",
       "      <td>9</td>\n",
       "      <td>0.330690</td>\n",
       "      <td>0.592583</td>\n",
       "    </tr>\n",
       "    <tr>\n",
       "      <th>M2</th>\n",
       "      <td>16</td>\n",
       "      <td>0.330498</td>\n",
       "      <td>0.600141</td>\n",
       "    </tr>\n",
       "    <tr>\n",
       "      <th>M3</th>\n",
       "      <td>31</td>\n",
       "      <td>0.297007</td>\n",
       "      <td>0.871998</td>\n",
       "    </tr>\n",
       "    <tr>\n",
       "      <th>M4</th>\n",
       "      <td>75</td>\n",
       "      <td>0.299545</td>\n",
       "      <td>0.869751</td>\n",
       "    </tr>\n",
       "    <tr>\n",
       "      <th>M5</th>\n",
       "      <td>139</td>\n",
       "      <td>0.295515</td>\n",
       "      <td>0.873172</td>\n",
       "    </tr>\n",
       "    <tr>\n",
       "      <th>LASSO</th>\n",
       "      <td>98</td>\n",
       "      <td>0.290348</td>\n",
       "      <td>0.878262</td>\n",
       "    </tr>\n",
       "  </tbody>\n",
       "</table>\n",
       "</div>"
      ],
      "text/plain": [
       "       Number of Coefficients   CV RMSE    CV AUC\n",
       "M1                          9  0.330690  0.592583\n",
       "M2                         16  0.330498  0.600141\n",
       "M3                         31  0.297007  0.871998\n",
       "M4                         75  0.299545  0.869751\n",
       "M5                        139  0.295515  0.873172\n",
       "LASSO                      98  0.290348  0.878262"
      ]
     },
     "execution_count": 120,
     "metadata": {},
     "output_type": "execute_result"
    }
   ],
   "source": [
    "summary"
   ]
  },
  {
   "cell_type": "markdown",
   "metadata": {},
   "source": [
    "### Take best model and estimate RMSE on holdout  \n",
    "\n",
    "M4, M5 and LASSO are practically the same - go with the simplest model, M4"
   ]
  },
  {
   "cell_type": "code",
   "execution_count": 121,
   "metadata": {},
   "outputs": [],
   "source": [
    "best_logit = logit_models[\"M4\"]\n",
    "model_equation = \"fast_growth~\" + \"+\".join(M4)\n",
    "_, X_holdout = patsy.dmatrices(model_equation, data_holdout)"
   ]
  },
  {
   "cell_type": "markdown",
   "metadata": {},
   "source": [
    "Best logit holdout RMSE\n"
   ]
  },
  {
   "cell_type": "code",
   "execution_count": 122,
   "metadata": {},
   "outputs": [
    {
     "data": {
      "text/plain": [
       "0.291"
      ]
     },
     "execution_count": 122,
     "metadata": {},
     "output_type": "execute_result"
    }
   ],
   "source": [
    "data_holdout[\"best_logit_pred_proba\"] = best_logit.predict_proba(X_holdout)[:, 1]\n",
    "\n",
    "round(rmse(data_holdout[\"best_logit_pred_proba\"], data_holdout[\"fast_growth\"]), 3)"
   ]
  },
  {
   "cell_type": "markdown",
   "metadata": {},
   "source": [
    "### a) Calibration curve\n",
    "\n",
    "how well do estimated vs actual event probabilities relate to each other?\n"
   ]
  },
  {
   "cell_type": "code",
   "execution_count": 166,
   "metadata": {},
   "outputs": [
    {
     "ename": "NameError",
     "evalue": "name 'create_calibration_plot' is not defined",
     "output_type": "error",
     "traceback": [
      "\u001b[0;31m---------------------------------------------------------------------------\u001b[0m",
      "\u001b[0;31mNameError\u001b[0m                                 Traceback (most recent call last)",
      "Cell \u001b[0;32mIn[166], line 1\u001b[0m\n\u001b[0;32m----> 1\u001b[0m create_calibration_plot(\n\u001b[1;32m      2\u001b[0m     data_holdout,\n\u001b[1;32m      3\u001b[0m     file_name\u001b[38;5;241m=\u001b[39m\u001b[38;5;124m\"\u001b[39m\u001b[38;5;124mch17-figure-1-logit-m4-calibration\u001b[39m\u001b[38;5;124m\"\u001b[39m,\n\u001b[1;32m      4\u001b[0m     prob_var\u001b[38;5;241m=\u001b[39m\u001b[38;5;124m\"\u001b[39m\u001b[38;5;124mbest_logit_pred_proba\u001b[39m\u001b[38;5;124m\"\u001b[39m,\n\u001b[1;32m      5\u001b[0m     actual_var\u001b[38;5;241m=\u001b[39m\u001b[38;5;124m\"\u001b[39m\u001b[38;5;124mfast_growth\u001b[39m\u001b[38;5;124m\"\u001b[39m,\n\u001b[1;32m      6\u001b[0m     y_lab\u001b[38;5;241m=\u001b[39m\u001b[38;5;124m\"\u001b[39m\u001b[38;5;124mActual event probability\u001b[39m\u001b[38;5;124m\"\u001b[39m,\n\u001b[1;32m      7\u001b[0m     n_bins\u001b[38;5;241m=\u001b[39m\u001b[38;5;241m10\u001b[39m,\n\u001b[1;32m      8\u001b[0m     breaks\u001b[38;5;241m=\u001b[39m\u001b[38;5;28;01mNone\u001b[39;00m,\n\u001b[1;32m      9\u001b[0m )\n",
      "\u001b[0;31mNameError\u001b[0m: name 'create_calibration_plot' is not defined"
     ]
    }
   ],
   "source": [
    "create_calibration_plot(\n",
    "    data_holdout,\n",
    "    file_name=\"ch17-figure-1-logit-m4-calibration\",\n",
    "    prob_var=\"best_logit_pred_proba\",\n",
    "    actual_var=\"fast_growth\",\n",
    "    y_lab=\"Actual event probability\",\n",
    "    n_bins=10,\n",
    "    breaks=None,\n",
    ")\n"
   ]
  },
  {
   "cell_type": "markdown",
   "metadata": {},
   "source": [
    "### b) Confusion table with different tresholds\n",
    "\n",
    "Default: the threshold 0.5 is used to convert probabilities to binary classes\n",
    "\n",
    "Your model is biased toward predicting “No Fast Growth” and misses most actual fast growth cases (recall = 8.8%)! If your goal is to detect fast growth, this model is not reliable yet. You need to improve recall while maintaining a reasonable precision"
   ]
  },
  {
   "cell_type": "code",
   "execution_count": 124,
   "metadata": {},
   "outputs": [
    {
     "name": "stdout",
     "output_type": "stream",
     "text": [
      "0.0  (not fast growing):  7428\n",
      "1.0  (fast growing):  156\n"
     ]
    }
   ],
   "source": [
    "logit_class_prediction = best_logit.predict(X_holdout)\n",
    "\n",
    "values, counts = np.unique(logit_class_prediction.tolist(), return_counts=True)\n",
    "print(values[0], \" (not fast growing): \", counts[0])\n",
    "print(values[1], \" (fast growing): \", counts[1])"
   ]
  },
  {
   "cell_type": "markdown",
   "metadata": {},
   "source": [
    "Confusion matrix: summarize different type of errors and successfully predicted cases\n",
    "\n",
    "positive = \"yes\": explicitly specify the positive case"
   ]
  },
  {
   "cell_type": "code",
   "execution_count": 125,
   "metadata": {},
   "outputs": [
    {
     "data": {
      "text/html": [
       "<div>\n",
       "<style scoped>\n",
       "    .dataframe tbody tr th:only-of-type {\n",
       "        vertical-align: middle;\n",
       "    }\n",
       "\n",
       "    .dataframe tbody tr th {\n",
       "        vertical-align: top;\n",
       "    }\n",
       "\n",
       "    .dataframe thead th {\n",
       "        text-align: right;\n",
       "    }\n",
       "</style>\n",
       "<table border=\"1\" class=\"dataframe\">\n",
       "  <thead>\n",
       "    <tr style=\"text-align: right;\">\n",
       "      <th></th>\n",
       "      <th>Predicted no fast growth</th>\n",
       "      <th>Predicted fast growth</th>\n",
       "    </tr>\n",
       "  </thead>\n",
       "  <tbody>\n",
       "    <tr>\n",
       "      <th>Actual no fast growth</th>\n",
       "      <td>6542</td>\n",
       "      <td>71</td>\n",
       "    </tr>\n",
       "    <tr>\n",
       "      <th>Actual fast growth</th>\n",
       "      <td>886</td>\n",
       "      <td>85</td>\n",
       "    </tr>\n",
       "  </tbody>\n",
       "</table>\n",
       "</div>"
      ],
      "text/plain": [
       "                       Predicted no fast growth  Predicted fast growth\n",
       "Actual no fast growth                      6542                     71\n",
       "Actual fast growth                          886                     85"
      ]
     },
     "execution_count": 125,
     "metadata": {},
     "output_type": "execute_result"
    }
   ],
   "source": [
    "cm_object1 = confusion_matrix(\n",
    "    data_holdout[\"fast_growth\"], logit_class_prediction, labels=[0, 1]\n",
    ")\n",
    "cm1 = pd.DataFrame(\n",
    "    cm_object1,\n",
    "    index=[\"Actual no fast growth\", \"Actual fast growth\"],\n",
    "    columns=[\"Predicted no fast growth\", \"Predicted fast growth\"],\n",
    ")\n",
    "cm1"
   ]
  },
  {
   "cell_type": "code",
   "execution_count": 126,
   "metadata": {},
   "outputs": [
    {
     "data": {
      "text/html": [
       "<div>\n",
       "<style scoped>\n",
       "    .dataframe tbody tr th:only-of-type {\n",
       "        vertical-align: middle;\n",
       "    }\n",
       "\n",
       "    .dataframe tbody tr th {\n",
       "        vertical-align: top;\n",
       "    }\n",
       "\n",
       "    .dataframe thead th {\n",
       "        text-align: right;\n",
       "    }\n",
       "</style>\n",
       "<table border=\"1\" class=\"dataframe\">\n",
       "  <thead>\n",
       "    <tr style=\"text-align: right;\">\n",
       "      <th></th>\n",
       "      <th>Predicted no fast growth</th>\n",
       "      <th>Predicted fast growth</th>\n",
       "    </tr>\n",
       "  </thead>\n",
       "  <tbody>\n",
       "    <tr>\n",
       "      <th>Actual no fast growth</th>\n",
       "      <td>6542</td>\n",
       "      <td>71</td>\n",
       "    </tr>\n",
       "    <tr>\n",
       "      <th>Actual fast growth</th>\n",
       "      <td>886</td>\n",
       "      <td>85</td>\n",
       "    </tr>\n",
       "  </tbody>\n",
       "</table>\n",
       "</div>"
      ],
      "text/plain": [
       "                       Predicted no fast growth  Predicted fast growth\n",
       "Actual no fast growth                      6542                     71\n",
       "Actual fast growth                          886                     85"
      ]
     },
     "execution_count": 126,
     "metadata": {},
     "output_type": "execute_result"
    }
   ],
   "source": [
    "# we can apply different thresholds\n",
    "\n",
    "# 0.5 same as before\n",
    "holdout_prediction = np.where(data_holdout[\"best_logit_pred_proba\"] < 0.5, 0, 1)\n",
    "cm_object1b = confusion_matrix(\n",
    "    data_holdout[\"fast_growth\"], holdout_prediction, labels=[0, 1]\n",
    ")\n",
    "cm1b = pd.DataFrame(\n",
    "    cm_object1b,\n",
    "    index=[\"Actual no fast growth\", \"Actual fast growth\"],\n",
    "    columns=[\"Predicted no fast growth\", \"Predicted fast growth\"],\n",
    ")\n",
    "cm1b"
   ]
  },
  {
   "cell_type": "markdown",
   "metadata": {},
   "source": [
    "A sensible choice: mean of predicted probabilities"
   ]
  },
  {
   "cell_type": "code",
   "execution_count": 127,
   "metadata": {},
   "outputs": [
    {
     "data": {
      "text/plain": [
       "0.127"
      ]
     },
     "execution_count": 127,
     "metadata": {},
     "output_type": "execute_result"
    }
   ],
   "source": [
    "mean_predicted_growth_prob = np.mean(data_holdout[\"best_logit_pred_proba\"])\n",
    "round(mean_predicted_growth_prob, 3)"
   ]
  },
  {
   "cell_type": "code",
   "execution_count": 128,
   "metadata": {},
   "outputs": [
    {
     "data": {
      "text/html": [
       "<div>\n",
       "<style scoped>\n",
       "    .dataframe tbody tr th:only-of-type {\n",
       "        vertical-align: middle;\n",
       "    }\n",
       "\n",
       "    .dataframe tbody tr th {\n",
       "        vertical-align: top;\n",
       "    }\n",
       "\n",
       "    .dataframe thead th {\n",
       "        text-align: right;\n",
       "    }\n",
       "</style>\n",
       "<table border=\"1\" class=\"dataframe\">\n",
       "  <thead>\n",
       "    <tr style=\"text-align: right;\">\n",
       "      <th></th>\n",
       "      <th>Predicted no fast growth</th>\n",
       "      <th>Predicted fast growth</th>\n",
       "    </tr>\n",
       "  </thead>\n",
       "  <tbody>\n",
       "    <tr>\n",
       "      <th>Actual no fast growth</th>\n",
       "      <td>4485</td>\n",
       "      <td>2128</td>\n",
       "    </tr>\n",
       "    <tr>\n",
       "      <th>Actual fast growth</th>\n",
       "      <td>22</td>\n",
       "      <td>949</td>\n",
       "    </tr>\n",
       "  </tbody>\n",
       "</table>\n",
       "</div>"
      ],
      "text/plain": [
       "                       Predicted no fast growth  Predicted fast growth\n",
       "Actual no fast growth                      4485                   2128\n",
       "Actual fast growth                           22                    949"
      ]
     },
     "execution_count": 128,
     "metadata": {},
     "output_type": "execute_result"
    }
   ],
   "source": [
    "holdout_prediction = np.where(\n",
    "    data_holdout[\"best_logit_pred_proba\"] < mean_predicted_growth_prob, 0, 1\n",
    ")\n",
    "cm_object2 = confusion_matrix(\n",
    "    data_holdout[\"fast_growth\"], holdout_prediction, labels=[0, 1]\n",
    ")\n",
    "cm2 = pd.DataFrame(\n",
    "    cm_object2,\n",
    "    index=[\"Actual no fast growth\", \"Actual fast growth\"],\n",
    "    columns=[\"Predicted no fast growth\", \"Predicted fast growth\"],\n",
    ")\n",
    "cm2"
   ]
  },
  {
   "cell_type": "markdown",
   "metadata": {},
   "source": [
    "### c) Visualize ROC (with thresholds in steps) on holdout\n",
    "\n",
    "What if we want to compare multiple thresholds?\n",
    "\n",
    "First, discrete ROC (with thresholds in steps) on holdout"
   ]
  },
  {
   "cell_type": "code",
   "execution_count": 129,
   "metadata": {},
   "outputs": [],
   "source": [
    "thresholds = np.arange(0.05, 0.76, 0.05)\n",
    "#thresholds = sorted(np.geomspace(0.95, 0.05, num=17)) # set these treshold values to get even points in the plot\n",
    "cm = dict()\n",
    "true_positive_rates = []\n",
    "false_positive_rates = []\n",
    "holdout_prediction = []\n",
    "for thr in thresholds:\n",
    "    holdout_prediction = np.where(data_holdout[\"best_logit_pred_proba\"] < thr, 0, 1)\n",
    "    cm_thr = confusion_matrix(data_holdout[\"fast_growth\"], holdout_prediction, labels=[0, 1])\n",
    "    cm[thr] = cm_thr\n",
    "    tn, fp, fn, tp = cm_thr.ravel()\n",
    "    true_positive_rates.append(tp / (tp + fn))\n",
    "    false_positive_rates.append(fp / (fp + tn))"
   ]
  },
  {
   "cell_type": "code",
   "execution_count": 130,
   "metadata": {},
   "outputs": [],
   "source": [
    "tpr_fpr_for_thresholds = pd.DataFrame(\n",
    "    {\n",
    "        \"thresholds\": thresholds,\n",
    "        \"true_positive_rates\": true_positive_rates,\n",
    "        \"false_positive_rates\": false_positive_rates,\n",
    "    }\n",
    ")"
   ]
  },
  {
   "cell_type": "code",
   "execution_count": 131,
   "metadata": {},
   "outputs": [
    {
     "data": {
      "image/png": "[encoded data removed]"
     },
     "metadata": {
      "image/png": {
       "height": 480,
       "width": 640
      }
     },
     "output_type": "display_data"
    }
   ],
   "source": [
    "(\n",
    "    ggplot(\n",
    "        tpr_fpr_for_thresholds,\n",
    "        aes(x=\"false_positive_rates\", y=\"true_positive_rates\", color=\"thresholds\"),\n",
    "    )\n",
    "    + labs(\n",
    "        x=\"False positive rate (1 - Specificity)\", y=\"True positive rate (Sensitivity)\"\n",
    "    )\n",
    "    + geom_point(size=4, alpha=0.8)\n",
    "    + scale_color_continuous(trans=\"reverse\", name=\"threshold\")\n",
    "    + scale_x_continuous(limits=(0, 1), breaks=np.arange(0, 1.01, 0.1))\n",
    "    + scale_y_continuous(limits=(0, 1), breaks=np.arange(0, 1.01, 0.1))\n",
    "    + theme_bw()\n",
    "    + theme(legend_position=\"right\")\n",
    ")"
   ]
  },
  {
   "cell_type": "markdown",
   "metadata": {},
   "source": [
    "Continuous ROC on holdout with best model"
   ]
  },
  {
   "cell_type": "code",
   "execution_count": 171,
   "metadata": {},
   "outputs": [
    {
     "data": {
      "image/png": "[encoded data removed]"
     },
     "metadata": {
      "image/png": {
       "height": 480,
       "width": 640
      }
     },
     "output_type": "display_data"
    }
   ],
   "source": [
    "create_roc_plot(data_holdout[\"fast_growth\"], data_holdout[\"best_logit_pred_proba\"])"
   ]
  },
  {
   "cell_type": "markdown",
   "metadata": {},
   "source": [
    "## 3. We have a loss function\n",
    "\n",
    "Introduce loss function\n",
    "\n",
    "Relative cost of of a false negative classification (as compared with a false positive classification)\n"
   ]
  },
  {
   "cell_type": "code",
   "execution_count": 133,
   "metadata": {},
   "outputs": [],
   "source": [
    "FP = 1\n",
    "FN = 10\n",
    "cost = FN / FP"
   ]
  },
  {
   "cell_type": "markdown",
   "metadata": {},
   "source": [
    "The prevalence, or the proportion of cases in the population (n.cases/(n.controls+n.cases))\n"
   ]
  },
  {
   "cell_type": "code",
   "execution_count": 134,
   "metadata": {},
   "outputs": [],
   "source": [
    "prevelance = y_train.sum() / len(y_train)"
   ]
  },
  {
   "cell_type": "markdown",
   "metadata": {},
   "source": [
    "Draw ROC Curve and find optimal threshold with loss function \n",
    "\n",
    "The optimal cut-off is the threshold that maximizes the distance to the identity (diagonal) line\n",
    "\n",
    "Iterate through:\n",
    " 1. models\n",
    " 2. Folds"
   ]
  },
  {
   "cell_type": "code",
   "execution_count": 135,
   "metadata": {},
   "outputs": [],
   "source": [
    "best_thresholds_cv = dict()\n",
    "expected_loss_cv = dict()\n",
    "fold5_threshold = dict()\n",
    "fold5_expected_loss = dict()\n",
    "fold5_all_coords = dict()\n",
    "\n",
    "for i, model_name in enumerate(logit_models):\n",
    "    best_thresholds = []\n",
    "    expected_loss = []\n",
    "\n",
    "    if model_name != \"LASSO\":\n",
    "        _, X = patsy.dmatrices(\"fast_growth ~\" + \"+\".join(logit_model_vars[i]), data_train)\n",
    "        X = pd.DataFrame(X)\n",
    "        c_index = 0\n",
    "    else:\n",
    "        X = normalized_logitvars\n",
    "        c_index = best_lambda_i\n",
    "    fold = 0\n",
    "    for train_index, test_index in k.split(X):\n",
    "        X_fold = X.iloc[test_index, :]\n",
    "        y_fold = data_train[\"fast_growth\"].iloc[test_index]\n",
    "        pred_fold = generate_fold_prediction(\n",
    "            logit_models[model_name], X_fold, fold, c_index\n",
    "        )\n",
    "        false_pos_rate, true_pos_rate, thresholds = roc_curve(y_fold, pred_fold)\n",
    "        optimal_threshold = sorted(\n",
    "            list(\n",
    "                zip(\n",
    "                    np.abs(\n",
    "                        true_pos_rate\n",
    "                        + (1 - prevelance) / (cost * prevelance) * (1 - false_pos_rate)\n",
    "                    ),\n",
    "                    thresholds,\n",
    "                )\n",
    "            ),\n",
    "            key=lambda i: i[0],\n",
    "            reverse=True,\n",
    "        )[0][1]\n",
    "        best_thresholds.append(optimal_threshold)\n",
    "        threshold_prediction = np.where(pred_fold < optimal_threshold, 0, 1)\n",
    "        tn, fp, fn, tp = confusion_matrix(\n",
    "            y_fold, threshold_prediction, labels=[0, 1]\n",
    "        ).ravel()\n",
    "        curr_exp_loss = (fp * FP + fn * FN) / len(y_fold)\n",
    "        expected_loss.append(curr_exp_loss)\n",
    "        fold = fold + 1\n",
    "\n",
    "    best_thresholds_cv[model_name] = np.mean(best_thresholds)\n",
    "    expected_loss_cv[model_name] = np.mean(expected_loss)\n",
    "\n",
    "    # for fold #5\n",
    "    fold5_threshold[model_name] = optimal_threshold\n",
    "    fold5_expected_loss[model_name] = curr_exp_loss\n",
    "\n",
    "    all_coords = pd.DataFrame(\n",
    "        {\n",
    "            \"false_pos\": false_pos_rate * sum(y_fold == 0),\n",
    "            \"true_pos\": true_pos_rate * sum(y_fold == 1),\n",
    "            \"false_neg\": sum(y_fold == 1) - true_pos_rate * sum(y_fold == 1),\n",
    "            \"true_neg\": sum(y_fold == 0) - false_pos_rate * sum(y_fold == 0),\n",
    "            \"pos\": sum(y_fold == 1),\n",
    "            \"neg\": sum(y_fold == 0),\n",
    "            \"n\": len(y_fold),\n",
    "            \"thresholds\": thresholds,\n",
    "        }\n",
    "    )\n",
    "\n",
    "    fold5_all_coords[model_name] = all_coords"
   ]
  },
  {
   "cell_type": "code",
   "execution_count": 136,
   "metadata": {},
   "outputs": [],
   "source": [
    "summary_with_lossfnc = pd.DataFrame(\n",
    "    best_thresholds_cv.items(), columns=[\"Model\", \"Avg of optimal thresholds\"]\n",
    ")\n",
    "summary_with_lossfnc[\"Threshold for Fold5\"] = fold5_threshold.values()\n",
    "summary_with_lossfnc[\"Avg expected loss\"] = expected_loss_cv.values()\n",
    "summary_with_lossfnc[\"Expected loss for Fold5\"] = fold5_expected_loss.values()\n"
   ]
  },
  {
   "cell_type": "code",
   "execution_count": 137,
   "metadata": {
    "scrolled": true
   },
   "outputs": [
    {
     "data": {
      "text/html": [
       "<div>\n",
       "<style scoped>\n",
       "    .dataframe tbody tr th:only-of-type {\n",
       "        vertical-align: middle;\n",
       "    }\n",
       "\n",
       "    .dataframe tbody tr th {\n",
       "        vertical-align: top;\n",
       "    }\n",
       "\n",
       "    .dataframe thead th {\n",
       "        text-align: right;\n",
       "    }\n",
       "</style>\n",
       "<table border=\"1\" class=\"dataframe\">\n",
       "  <thead>\n",
       "    <tr style=\"text-align: right;\">\n",
       "      <th></th>\n",
       "      <th>Model</th>\n",
       "      <th>Avg of optimal thresholds</th>\n",
       "      <th>Threshold for Fold5</th>\n",
       "      <th>Avg expected loss</th>\n",
       "      <th>Expected loss for Fold5</th>\n",
       "    </tr>\n",
       "  </thead>\n",
       "  <tbody>\n",
       "    <tr>\n",
       "      <th>0</th>\n",
       "      <td>M1</td>\n",
       "      <td>0.097844</td>\n",
       "      <td>0.105275</td>\n",
       "      <td>0.820340</td>\n",
       "      <td>0.826603</td>\n",
       "    </tr>\n",
       "    <tr>\n",
       "      <th>1</th>\n",
       "      <td>M2</td>\n",
       "      <td>0.101677</td>\n",
       "      <td>0.111048</td>\n",
       "      <td>0.811769</td>\n",
       "      <td>0.814900</td>\n",
       "    </tr>\n",
       "    <tr>\n",
       "      <th>2</th>\n",
       "      <td>M3</td>\n",
       "      <td>0.131759</td>\n",
       "      <td>0.156905</td>\n",
       "      <td>0.298401</td>\n",
       "      <td>0.294874</td>\n",
       "    </tr>\n",
       "    <tr>\n",
       "      <th>3</th>\n",
       "      <td>M4</td>\n",
       "      <td>0.102978</td>\n",
       "      <td>0.099067</td>\n",
       "      <td>0.304632</td>\n",
       "      <td>0.297841</td>\n",
       "    </tr>\n",
       "    <tr>\n",
       "      <th>4</th>\n",
       "      <td>M5</td>\n",
       "      <td>0.089899</td>\n",
       "      <td>0.089948</td>\n",
       "      <td>0.302884</td>\n",
       "      <td>0.298665</td>\n",
       "    </tr>\n",
       "    <tr>\n",
       "      <th>5</th>\n",
       "      <td>LASSO</td>\n",
       "      <td>0.053079</td>\n",
       "      <td>0.107917</td>\n",
       "      <td>0.299885</td>\n",
       "      <td>0.296193</td>\n",
       "    </tr>\n",
       "  </tbody>\n",
       "</table>\n",
       "</div>"
      ],
      "text/plain": [
       "   Model  Avg of optimal thresholds  Threshold for Fold5  Avg expected loss  \\\n",
       "0     M1                   0.097844             0.105275           0.820340   \n",
       "1     M2                   0.101677             0.111048           0.811769   \n",
       "2     M3                   0.131759             0.156905           0.298401   \n",
       "3     M4                   0.102978             0.099067           0.304632   \n",
       "4     M5                   0.089899             0.089948           0.302884   \n",
       "5  LASSO                   0.053079             0.107917           0.299885   \n",
       "\n",
       "   Expected loss for Fold5  \n",
       "0                 0.826603  \n",
       "1                 0.814900  \n",
       "2                 0.294874  \n",
       "3                 0.297841  \n",
       "4                 0.298665  \n",
       "5                 0.296193  "
      ]
     },
     "execution_count": 137,
     "metadata": {},
     "output_type": "execute_result"
    }
   ],
   "source": [
    "summary_with_lossfnc"
   ]
  },
  {
   "cell_type": "markdown",
   "metadata": {},
   "source": [
    "Create loss plot based on Fold5 in CV "
   ]
  },
  {
   "cell_type": "code",
   "execution_count": 177,
   "metadata": {},
   "outputs": [
    {
     "data": {
      "image/png": "[encoded data removed]"
     },
     "metadata": {
      "image/png": {
       "height": 480,
       "width": 640
      }
     },
     "output_type": "display_data"
    }
   ],
   "source": [
    "model_to_plot = \"M4\"  # select model to plot\n",
    "create_loss_plot(\n",
    "    fold5_all_coords[model_to_plot],\n",
    "    fold5_threshold[model_to_plot],\n",
    "    fold5_expected_loss[model_to_plot],\n",
    ")"
   ]
  },
  {
   "cell_type": "markdown",
   "metadata": {},
   "source": [
    "Create roc plot plot based on Fold5 in CV"
   ]
  },
  {
   "cell_type": "code",
   "execution_count": 178,
   "metadata": {},
   "outputs": [
    {
     "data": {
      "image/png": "[encoded data removed]"
     },
     "metadata": {
      "image/png": {
       "height": 480,
       "width": 640
      }
     },
     "output_type": "display_data"
    }
   ],
   "source": [
    "create_roc_plot_with_optimal(\n",
    "    fold5_all_coords[model_to_plot], fold5_threshold[model_to_plot]\n",
    ")\n"
   ]
  },
  {
   "cell_type": "markdown",
   "metadata": {},
   "source": [
    "Let's see our chosen model, M4's holdout expected loss"
   ]
  },
  {
   "cell_type": "code",
   "execution_count": 140,
   "metadata": {},
   "outputs": [
    {
     "data": {
      "text/plain": [
       "0.302"
      ]
     },
     "execution_count": 140,
     "metadata": {},
     "output_type": "execute_result"
    }
   ],
   "source": [
    "best_logit_optimal_treshold = best_thresholds_cv[\"M4\"]\n",
    "\n",
    "# Get expected loss on holdout\n",
    "holdout_treshold = np.where(\n",
    "    data_holdout[\"best_logit_pred_proba\"] < best_logit_optimal_treshold, 0, 1\n",
    ")\n",
    "tn, fp, fn, tp = confusion_matrix(\n",
    "    data_holdout[\"fast_growth\"], holdout_treshold, labels=[0, 1]\n",
    ").ravel()\n",
    "expected_loss_holdout = (fp * FP + fn * FN) / len(data_holdout[\"fast_growth\"])\n",
    "round(expected_loss_holdout, 3)"
   ]
  },
  {
   "cell_type": "markdown",
   "metadata": {},
   "source": [
    "CM on holdout"
   ]
  },
  {
   "cell_type": "code",
   "execution_count": 141,
   "metadata": {},
   "outputs": [
    {
     "data": {
      "text/html": [
       "<div>\n",
       "<style scoped>\n",
       "    .dataframe tbody tr th:only-of-type {\n",
       "        vertical-align: middle;\n",
       "    }\n",
       "\n",
       "    .dataframe tbody tr th {\n",
       "        vertical-align: top;\n",
       "    }\n",
       "\n",
       "    .dataframe thead th {\n",
       "        text-align: right;\n",
       "    }\n",
       "</style>\n",
       "<table border=\"1\" class=\"dataframe\">\n",
       "  <thead>\n",
       "    <tr style=\"text-align: right;\">\n",
       "      <th></th>\n",
       "      <th>Predicted no fast growth</th>\n",
       "      <th>Predicted fast growth</th>\n",
       "    </tr>\n",
       "  </thead>\n",
       "  <tbody>\n",
       "    <tr>\n",
       "      <th>Actual no fast growth</th>\n",
       "      <td>4415</td>\n",
       "      <td>2198</td>\n",
       "    </tr>\n",
       "    <tr>\n",
       "      <th>Actual fast growth</th>\n",
       "      <td>9</td>\n",
       "      <td>962</td>\n",
       "    </tr>\n",
       "  </tbody>\n",
       "</table>\n",
       "</div>"
      ],
      "text/plain": [
       "                       Predicted no fast growth  Predicted fast growth\n",
       "Actual no fast growth                      4415                   2198\n",
       "Actual fast growth                            9                    962"
      ]
     },
     "execution_count": 141,
     "metadata": {},
     "output_type": "execute_result"
    }
   ],
   "source": [
    "cm_object3 = confusion_matrix(data_holdout[\"fast_growth\"], holdout_treshold, labels=[0, 1])\n",
    "cm3 = pd.DataFrame(\n",
    "    cm_object3,\n",
    "    index=[\"Actual no fast growth\", \"Actual fast growth\"],\n",
    "    columns=[\"Predicted no fast growth\", \"Predicted fast growth\"],\n",
    ")\n",
    "cm3"
   ]
  },
  {
   "cell_type": "markdown",
   "metadata": {},
   "source": [
    "# PREDICTION WITH RANDOM FOREST"
   ]
  },
  {
   "cell_type": "code",
   "execution_count": 142,
   "metadata": {},
   "outputs": [],
   "source": [
    "y_train, rfvars_train = patsy.dmatrices(\"fast_growth~\" + \"+\".join(rfvars), data_train)\n",
    "y_holdout, rfvars_holdout = patsy.dmatrices(\"fast_growth~\" + \"+\".join(rfvars), data_holdout)"
   ]
  },
  {
   "cell_type": "markdown",
   "metadata": {},
   "source": [
    "## Graph example for decision tree"
   ]
  },
  {
   "cell_type": "code",
   "execution_count": 143,
   "metadata": {},
   "outputs": [
    {
     "data": {
      "text/plain": [
       "<Figure size 640x480 with 0 Axes>"
      ]
     },
     "metadata": {},
     "output_type": "display_data"
    },
    {
     "data": {
      "image/png": "[encoded data removed]",
      "text/plain": [
       "<Figure size 1100x1100 with 1 Axes>"
      ]
     },
     "metadata": {},
     "output_type": "display_data"
    }
   ],
   "source": [
    "from sklearn.tree import DecisionTreeClassifier\n",
    "from sklearn.tree import plot_tree\n",
    "\n",
    "data_for_graph = data_train[[ \"profit_loss_year\", \"foreign_management\", #\"sales_mil\"\n",
    "                             ]]\n",
    "rf_for_graph = DecisionTreeClassifier(\n",
    "    ccp_alpha=0.0028, min_samples_leaf=100, max_depth=3, random_state=41\n",
    ").fit(data_for_graph, y_train)\n",
    "\n",
    "plt.figure()\n",
    "plt.figure(figsize=(11, 11))\n",
    "plot_tree(\n",
    "    rf_for_graph,\n",
    "    feature_names=data_for_graph.columns,\n",
    "    filled=True,\n",
    "    rounded=True,\n",
    "    proportion=True,\n",
    "    fontsize=10,\n",
    ")\n",
    "plt.title(\"Decision tree\")\n",
    "plt.show()\n"
   ]
  },
  {
   "cell_type": "markdown",
   "metadata": {},
   "source": [
    "## Probability forest\n",
    "\n",
    "Split by gini, ratio of 1's in each tree, average over trees"
   ]
  },
  {
   "cell_type": "code",
   "execution_count": 144,
   "metadata": {},
   "outputs": [],
   "source": [
    "grid = {\n",
    "    \"max_features\": [5, 6, 7],\n",
    "    \"criterion\": [\"gini\"],\n",
    "    \"min_samples_split\": [11, 16],\n",
    "} "
   ]
  },
  {
   "cell_type": "markdown",
   "metadata": {},
   "source": [
    "5 fold cross validation"
   ]
  },
  {
   "cell_type": "code",
   "execution_count": 145,
   "metadata": {},
   "outputs": [],
   "source": [
    "prob_forest = RandomForestClassifier(random_state=42, n_estimators=500, oob_score=True)\n",
    "prob_forest_grid = GridSearchCV(\n",
    "    prob_forest,\n",
    "    grid,\n",
    "    cv=k,\n",
    "    refit=\"roc_auc\",\n",
    "    scoring=[\"roc_auc\", \"neg_brier_score\"],\n",
    ")"
   ]
  },
  {
   "cell_type": "code",
   "execution_count": 146,
   "metadata": {},
   "outputs": [],
   "source": [
    "prob_forest_fit = prob_forest_grid.fit(rfvars_train, y_train)"
   ]
  },
  {
   "cell_type": "markdown",
   "metadata": {},
   "source": [
    "Create CV summary table"
   ]
  },
  {
   "cell_type": "code",
   "execution_count": 147,
   "metadata": {},
   "outputs": [
    {
     "data": {
      "text/html": [
       "<div>\n",
       "<style scoped>\n",
       "    .dataframe tbody tr th:only-of-type {\n",
       "        vertical-align: middle;\n",
       "    }\n",
       "\n",
       "    .dataframe tbody tr th {\n",
       "        vertical-align: top;\n",
       "    }\n",
       "\n",
       "    .dataframe thead th {\n",
       "        text-align: right;\n",
       "    }\n",
       "</style>\n",
       "<table border=\"1\" class=\"dataframe\">\n",
       "  <thead>\n",
       "    <tr style=\"text-align: right;\">\n",
       "      <th></th>\n",
       "      <th>max_features</th>\n",
       "      <th>min_samples_split</th>\n",
       "      <th>cv_auc</th>\n",
       "      <th>cv_rmse</th>\n",
       "    </tr>\n",
       "  </thead>\n",
       "  <tbody>\n",
       "    <tr>\n",
       "      <th>0</th>\n",
       "      <td>5</td>\n",
       "      <td>11</td>\n",
       "      <td>0.883121</td>\n",
       "      <td>0.287441</td>\n",
       "    </tr>\n",
       "    <tr>\n",
       "      <th>1</th>\n",
       "      <td>5</td>\n",
       "      <td>16</td>\n",
       "      <td>0.883446</td>\n",
       "      <td>0.287353</td>\n",
       "    </tr>\n",
       "    <tr>\n",
       "      <th>2</th>\n",
       "      <td>6</td>\n",
       "      <td>11</td>\n",
       "      <td>0.883288</td>\n",
       "      <td>0.287337</td>\n",
       "    </tr>\n",
       "    <tr>\n",
       "      <th>3</th>\n",
       "      <td>6</td>\n",
       "      <td>16</td>\n",
       "      <td>0.883659</td>\n",
       "      <td>0.287157</td>\n",
       "    </tr>\n",
       "    <tr>\n",
       "      <th>4</th>\n",
       "      <td>7</td>\n",
       "      <td>11</td>\n",
       "      <td>0.883274</td>\n",
       "      <td>0.287267</td>\n",
       "    </tr>\n",
       "    <tr>\n",
       "      <th>5</th>\n",
       "      <td>7</td>\n",
       "      <td>16</td>\n",
       "      <td>0.883829</td>\n",
       "      <td>0.287113</td>\n",
       "    </tr>\n",
       "  </tbody>\n",
       "</table>\n",
       "</div>"
      ],
      "text/plain": [
       "  max_features min_samples_split    cv_auc   cv_rmse\n",
       "0            5                11  0.883121  0.287441\n",
       "1            5                16  0.883446  0.287353\n",
       "2            6                11  0.883288  0.287337\n",
       "3            6                16  0.883659  0.287157\n",
       "4            7                11  0.883274  0.287267\n",
       "5            7                16  0.883829  0.287113"
      ]
     },
     "execution_count": 147,
     "metadata": {},
     "output_type": "execute_result"
    }
   ],
   "source": [
    "prob_forest_cv_results = pd.DataFrame(\n",
    "    {\n",
    "        \"max_features\": prob_forest_fit.cv_results_[\"param_max_features\"],\n",
    "        \"min_samples_split\": prob_forest_fit.cv_results_[\"param_min_samples_split\"],\n",
    "        \"cv_auc\": prob_forest_fit.cv_results_[\"mean_test_roc_auc\"],\n",
    "        \"cv_rmse\": np.sqrt(\n",
    "            prob_forest_fit.cv_results_[\"mean_test_neg_brier_score\"] * -1\n",
    "        ),\n",
    "    }\n",
    ")\n",
    "\n",
    "prob_forest_cv_results"
   ]
  },
  {
   "cell_type": "markdown",
   "metadata": {},
   "source": [
    "Obtain optimal parameter values"
   ]
  },
  {
   "cell_type": "code",
   "execution_count": 148,
   "metadata": {},
   "outputs": [
    {
     "data": {
      "text/plain": [
       "{'criterion': 'gini', 'max_features': 7, 'min_samples_split': 16}"
      ]
     },
     "execution_count": 148,
     "metadata": {},
     "output_type": "execute_result"
    }
   ],
   "source": [
    "best_mtry = prob_forest_fit.best_params_[\"max_features\"]\n",
    "best_min_node_size = prob_forest_fit.best_params_[\"min_samples_split\"]\n",
    "prob_forest_fit.best_params_\n"
   ]
  },
  {
   "cell_type": "markdown",
   "metadata": {},
   "source": [
    "Get average (ie over the folds) RMSE and AUC"
   ]
  },
  {
   "cell_type": "code",
   "execution_count": 149,
   "metadata": {},
   "outputs": [],
   "source": [
    "prob_forest_best_results = prob_forest_cv_results[\n",
    "    (prob_forest_cv_results.max_features == best_mtry)\n",
    "    & (prob_forest_cv_results.min_samples_split == best_min_node_size)\n",
    "]\n",
    "prob_forest_best_results_index = prob_forest_best_results.index.values[0]"
   ]
  },
  {
   "cell_type": "code",
   "execution_count": 150,
   "metadata": {},
   "outputs": [
    {
     "data": {
      "text/html": [
       "<div>\n",
       "<style scoped>\n",
       "    .dataframe tbody tr th:only-of-type {\n",
       "        vertical-align: middle;\n",
       "    }\n",
       "\n",
       "    .dataframe tbody tr th {\n",
       "        vertical-align: top;\n",
       "    }\n",
       "\n",
       "    .dataframe thead th {\n",
       "        text-align: right;\n",
       "    }\n",
       "</style>\n",
       "<table border=\"1\" class=\"dataframe\">\n",
       "  <thead>\n",
       "    <tr style=\"text-align: right;\">\n",
       "      <th></th>\n",
       "      <th>Number of Coefficients</th>\n",
       "      <th>CV RMSE</th>\n",
       "      <th>CV AUC</th>\n",
       "    </tr>\n",
       "  </thead>\n",
       "  <tbody>\n",
       "    <tr>\n",
       "      <th>M1</th>\n",
       "      <td>9.0</td>\n",
       "      <td>0.330690</td>\n",
       "      <td>0.592583</td>\n",
       "    </tr>\n",
       "    <tr>\n",
       "      <th>M2</th>\n",
       "      <td>16.0</td>\n",
       "      <td>0.330498</td>\n",
       "      <td>0.600141</td>\n",
       "    </tr>\n",
       "    <tr>\n",
       "      <th>M3</th>\n",
       "      <td>31.0</td>\n",
       "      <td>0.297007</td>\n",
       "      <td>0.871998</td>\n",
       "    </tr>\n",
       "    <tr>\n",
       "      <th>M4</th>\n",
       "      <td>75.0</td>\n",
       "      <td>0.299545</td>\n",
       "      <td>0.869751</td>\n",
       "    </tr>\n",
       "    <tr>\n",
       "      <th>M5</th>\n",
       "      <td>139.0</td>\n",
       "      <td>0.295515</td>\n",
       "      <td>0.873172</td>\n",
       "    </tr>\n",
       "    <tr>\n",
       "      <th>LASSO</th>\n",
       "      <td>98.0</td>\n",
       "      <td>0.290348</td>\n",
       "      <td>0.878262</td>\n",
       "    </tr>\n",
       "    <tr>\n",
       "      <th>RF</th>\n",
       "      <td>n.a.</td>\n",
       "      <td>0.287113</td>\n",
       "      <td>0.883829</td>\n",
       "    </tr>\n",
       "  </tbody>\n",
       "</table>\n",
       "</div>"
      ],
      "text/plain": [
       "      Number of Coefficients   CV RMSE    CV AUC\n",
       "M1                       9.0  0.330690  0.592583\n",
       "M2                      16.0  0.330498  0.600141\n",
       "M3                      31.0  0.297007  0.871998\n",
       "M4                      75.0  0.299545  0.869751\n",
       "M5                     139.0  0.295515  0.873172\n",
       "LASSO                   98.0  0.290348  0.878262\n",
       "RF                      n.a.  0.287113  0.883829"
      ]
     },
     "execution_count": 150,
     "metadata": {},
     "output_type": "execute_result"
    }
   ],
   "source": [
    "summary.loc[\"RF\", \"Number of Coefficients\"] = \"n.a.\"\n",
    "summary.loc[\"RF\", \"CV RMSE\"] = prob_forest_best_results[\"cv_rmse\"].values[0]\n",
    "summary.loc[\"RF\", \"CV AUC\"] = prob_forest_best_results[\"cv_auc\"].values[0]\n",
    "summary"
   ]
  },
  {
   "cell_type": "markdown",
   "metadata": {},
   "source": [
    "Extract fold level RMSE and AUC"
   ]
  },
  {
   "cell_type": "code",
   "execution_count": 151,
   "metadata": {},
   "outputs": [],
   "source": [
    "CV_RMSE_folds[\"RF\"] = np.sqrt(\n",
    "    pd.DataFrame(prob_forest_fit.cv_results_)\n",
    "    .filter(like=\"_test_neg_brier_score\")\n",
    "    .loc[lambda x: x[\"rank_test_neg_brier_score\"] == 1]\n",
    "    .filter(like=\"split\")\n",
    "    .values[0]\n",
    "    * -1\n",
    ")\n",
    "CV_AUC_folds[\"RF\"] = (\n",
    "    pd.DataFrame(prob_forest_fit.cv_results_)\n",
    "    .filter(like=\"_test_roc_auc\")\n",
    "    .loc[lambda x: x[\"rank_test_roc_auc\"] == 1]\n",
    "    .filter(like=\"split\")\n",
    "    .values[0]\n",
    ")"
   ]
  },
  {
   "cell_type": "markdown",
   "metadata": {},
   "source": [
    "Take a look at foldwise RMSE and AUC"
   ]
  },
  {
   "cell_type": "code",
   "execution_count": 152,
   "metadata": {},
   "outputs": [
    {
     "data": {
      "text/html": [
       "<div>\n",
       "<style scoped>\n",
       "    .dataframe tbody tr th:only-of-type {\n",
       "        vertical-align: middle;\n",
       "    }\n",
       "\n",
       "    .dataframe tbody tr th {\n",
       "        vertical-align: top;\n",
       "    }\n",
       "\n",
       "    .dataframe thead th {\n",
       "        text-align: right;\n",
       "    }\n",
       "</style>\n",
       "<table border=\"1\" class=\"dataframe\">\n",
       "  <thead>\n",
       "    <tr style=\"text-align: right;\">\n",
       "      <th></th>\n",
       "      <th>M1</th>\n",
       "      <th>M2</th>\n",
       "      <th>M3</th>\n",
       "      <th>M4</th>\n",
       "      <th>M5</th>\n",
       "      <th>LASSO</th>\n",
       "      <th>RF</th>\n",
       "    </tr>\n",
       "  </thead>\n",
       "  <tbody>\n",
       "    <tr>\n",
       "      <th>0</th>\n",
       "      <td>0.338682</td>\n",
       "      <td>0.338608</td>\n",
       "      <td>0.302766</td>\n",
       "      <td>0.307427</td>\n",
       "      <td>0.299002</td>\n",
       "      <td>0.293886</td>\n",
       "      <td>0.290783</td>\n",
       "    </tr>\n",
       "    <tr>\n",
       "      <th>1</th>\n",
       "      <td>0.327945</td>\n",
       "      <td>0.327660</td>\n",
       "      <td>0.295242</td>\n",
       "      <td>0.298070</td>\n",
       "      <td>0.293948</td>\n",
       "      <td>0.290570</td>\n",
       "      <td>0.287048</td>\n",
       "    </tr>\n",
       "    <tr>\n",
       "      <th>2</th>\n",
       "      <td>0.326816</td>\n",
       "      <td>0.326647</td>\n",
       "      <td>0.291840</td>\n",
       "      <td>0.293397</td>\n",
       "      <td>0.292977</td>\n",
       "      <td>0.287434</td>\n",
       "      <td>0.284499</td>\n",
       "    </tr>\n",
       "    <tr>\n",
       "      <th>3</th>\n",
       "      <td>0.334376</td>\n",
       "      <td>0.334353</td>\n",
       "      <td>0.300860</td>\n",
       "      <td>0.306227</td>\n",
       "      <td>0.300319</td>\n",
       "      <td>0.295070</td>\n",
       "      <td>0.291331</td>\n",
       "    </tr>\n",
       "    <tr>\n",
       "      <th>4</th>\n",
       "      <td>0.325631</td>\n",
       "      <td>0.325221</td>\n",
       "      <td>0.294327</td>\n",
       "      <td>0.292604</td>\n",
       "      <td>0.291326</td>\n",
       "      <td>0.284781</td>\n",
       "      <td>0.281788</td>\n",
       "    </tr>\n",
       "  </tbody>\n",
       "</table>\n",
       "</div>"
      ],
      "text/plain": [
       "         M1        M2        M3        M4        M5     LASSO        RF\n",
       "0  0.338682  0.338608  0.302766  0.307427  0.299002  0.293886  0.290783\n",
       "1  0.327945  0.327660  0.295242  0.298070  0.293948  0.290570  0.287048\n",
       "2  0.326816  0.326647  0.291840  0.293397  0.292977  0.287434  0.284499\n",
       "3  0.334376  0.334353  0.300860  0.306227  0.300319  0.295070  0.291331\n",
       "4  0.325631  0.325221  0.294327  0.292604  0.291326  0.284781  0.281788"
      ]
     },
     "execution_count": 152,
     "metadata": {},
     "output_type": "execute_result"
    }
   ],
   "source": [
    "pd.DataFrame(CV_RMSE_folds)"
   ]
  },
  {
   "cell_type": "code",
   "execution_count": 153,
   "metadata": {},
   "outputs": [
    {
     "data": {
      "text/html": [
       "<div>\n",
       "<style scoped>\n",
       "    .dataframe tbody tr th:only-of-type {\n",
       "        vertical-align: middle;\n",
       "    }\n",
       "\n",
       "    .dataframe tbody tr th {\n",
       "        vertical-align: top;\n",
       "    }\n",
       "\n",
       "    .dataframe thead th {\n",
       "        text-align: right;\n",
       "    }\n",
       "</style>\n",
       "<table border=\"1\" class=\"dataframe\">\n",
       "  <thead>\n",
       "    <tr style=\"text-align: right;\">\n",
       "      <th></th>\n",
       "      <th>M1</th>\n",
       "      <th>M2</th>\n",
       "      <th>M3</th>\n",
       "      <th>M4</th>\n",
       "      <th>M5</th>\n",
       "      <th>LASSO</th>\n",
       "      <th>RF</th>\n",
       "    </tr>\n",
       "  </thead>\n",
       "  <tbody>\n",
       "    <tr>\n",
       "      <th>0</th>\n",
       "      <td>0.597311</td>\n",
       "      <td>0.600985</td>\n",
       "      <td>0.878251</td>\n",
       "      <td>0.865636</td>\n",
       "      <td>0.878178</td>\n",
       "      <td>0.883310</td>\n",
       "      <td>0.887644</td>\n",
       "    </tr>\n",
       "    <tr>\n",
       "      <th>1</th>\n",
       "      <td>0.590598</td>\n",
       "      <td>0.595940</td>\n",
       "      <td>0.871791</td>\n",
       "      <td>0.873316</td>\n",
       "      <td>0.871114</td>\n",
       "      <td>0.872677</td>\n",
       "      <td>0.880036</td>\n",
       "    </tr>\n",
       "    <tr>\n",
       "      <th>2</th>\n",
       "      <td>0.588190</td>\n",
       "      <td>0.594032</td>\n",
       "      <td>0.869112</td>\n",
       "      <td>0.869898</td>\n",
       "      <td>0.871594</td>\n",
       "      <td>0.878256</td>\n",
       "      <td>0.883313</td>\n",
       "    </tr>\n",
       "    <tr>\n",
       "      <th>3</th>\n",
       "      <td>0.598202</td>\n",
       "      <td>0.607358</td>\n",
       "      <td>0.868975</td>\n",
       "      <td>0.864181</td>\n",
       "      <td>0.868990</td>\n",
       "      <td>0.874124</td>\n",
       "      <td>0.878399</td>\n",
       "    </tr>\n",
       "    <tr>\n",
       "      <th>4</th>\n",
       "      <td>0.588617</td>\n",
       "      <td>0.602388</td>\n",
       "      <td>0.871861</td>\n",
       "      <td>0.875724</td>\n",
       "      <td>0.875985</td>\n",
       "      <td>0.882941</td>\n",
       "      <td>0.889753</td>\n",
       "    </tr>\n",
       "  </tbody>\n",
       "</table>\n",
       "</div>"
      ],
      "text/plain": [
       "         M1        M2        M3        M4        M5     LASSO        RF\n",
       "0  0.597311  0.600985  0.878251  0.865636  0.878178  0.883310  0.887644\n",
       "1  0.590598  0.595940  0.871791  0.873316  0.871114  0.872677  0.880036\n",
       "2  0.588190  0.594032  0.869112  0.869898  0.871594  0.878256  0.883313\n",
       "3  0.598202  0.607358  0.868975  0.864181  0.868990  0.874124  0.878399\n",
       "4  0.588617  0.602388  0.871861  0.875724  0.875985  0.882941  0.889753"
      ]
     },
     "execution_count": 153,
     "metadata": {},
     "output_type": "execute_result"
    }
   ],
   "source": [
    "pd.DataFrame(CV_AUC_folds)"
   ]
  },
  {
   "cell_type": "markdown",
   "metadata": {},
   "source": [
    "Now use loss function and search for best thresholds and expected loss over folds "
   ]
  },
  {
   "cell_type": "code",
   "execution_count": 154,
   "metadata": {},
   "outputs": [],
   "source": [
    "best_thresholds = list()\n",
    "expected_loss = list()\n",
    "rfvars_train = pd.DataFrame(rfvars_train)\n",
    "\n",
    "fold = 0\n",
    "for train_index, test_index in k.split(rfvars_train):\n",
    "    X_fold = rfvars_train.iloc[test_index, :]\n",
    "    y_fold = data_train[\"fast_growth\"].iloc[test_index]\n",
    "\n",
    "    X_fold_train = rfvars_train.iloc[train_index, :]\n",
    "    y_fold_train = data_train[\"fast_growth\"].iloc[train_index]\n",
    "\n",
    "    prob_forest_best = RandomForestClassifier(\n",
    "        random_state=42,\n",
    "        n_estimators=500,\n",
    "        oob_score=True,\n",
    "        criterion=\"gini\",\n",
    "        max_features=best_mtry,\n",
    "        min_samples_split=best_min_node_size,\n",
    "    )\n",
    "    prob_forest_best_fold = prob_forest_best.fit(X_fold_train, y_fold_train)\n",
    "    pred_fold = prob_forest_best_fold.predict_proba(X_fold)[:, 1]\n",
    "\n",
    "    false_pos_rate, true_pos_rate, threshold = roc_curve(y_fold, pred_fold)\n",
    "    best_threshold = sorted(\n",
    "        list(\n",
    "            zip(\n",
    "                np.abs(\n",
    "                    true_pos_rate\n",
    "                    + (1 - prevelance) / (cost * prevelance) * (1 - false_pos_rate)\n",
    "                ),\n",
    "                threshold,\n",
    "            )\n",
    "        ),\n",
    "        key=lambda x: x[0],\n",
    "        reverse=True,\n",
    "    )[0][1]\n",
    "    best_thresholds.append(best_threshold)\n",
    "    threshold_prediction = np.where(pred_fold < best_threshold, 0, 1)\n",
    "    tn, fp, fn, tp = confusion_matrix(\n",
    "        y_fold, threshold_prediction, labels=[0, 1]\n",
    "    ).ravel()\n",
    "    curr_exp_loss = (fp * FP + fn * FN) / len(y_fold)\n",
    "    expected_loss.append(curr_exp_loss)\n",
    "\n",
    "fold5_threshold_rf = best_threshold\n",
    "fold5_expected_loss_rf = curr_exp_loss\n",
    "\n",
    "all_coords_rf = pd.DataFrame(\n",
    "    {\n",
    "        \"false_pos\": false_pos_rate * sum(y_fold == 0),\n",
    "        \"true_pos\": true_pos_rate * sum(y_fold == 1),\n",
    "        \"false_neg\": sum(y_fold == 1) - true_pos_rate * sum(y_fold == 1),\n",
    "        \"true_neg\": sum(y_fold == 0) - false_pos_rate * sum(y_fold == 0),\n",
    "        \"pos\": sum(y_fold == 1),\n",
    "        \"neg\": sum(y_fold == 0),\n",
    "        \"n\": len(y_fold),\n",
    "        \"thresholds\": threshold,\n",
    "    }\n",
    ")\n"
   ]
  },
  {
   "cell_type": "code",
   "execution_count": 156,
   "metadata": {},
   "outputs": [],
   "source": [
    "expected_loss_cv[\"RF\"] = np.mean(expected_loss)\n",
    "best_thresholds_cv[\"RF\"] = np.mean(best_thresholds)\n"
   ]
  },
  {
   "cell_type": "code",
   "execution_count": 157,
   "metadata": {},
   "outputs": [
    {
     "data": {
      "text/html": [
       "<div>\n",
       "<style scoped>\n",
       "    .dataframe tbody tr th:only-of-type {\n",
       "        vertical-align: middle;\n",
       "    }\n",
       "\n",
       "    .dataframe tbody tr th {\n",
       "        vertical-align: top;\n",
       "    }\n",
       "\n",
       "    .dataframe thead th {\n",
       "        text-align: right;\n",
       "    }\n",
       "</style>\n",
       "<table border=\"1\" class=\"dataframe\">\n",
       "  <thead>\n",
       "    <tr style=\"text-align: right;\">\n",
       "      <th></th>\n",
       "      <th>CV RMSE</th>\n",
       "      <th>CV AUC</th>\n",
       "      <th>Avg of optimal thresholds</th>\n",
       "      <th>Threshold for Fold5</th>\n",
       "      <th>Avg expected loss</th>\n",
       "      <th>Expected loss for Fold5</th>\n",
       "    </tr>\n",
       "  </thead>\n",
       "  <tbody>\n",
       "    <tr>\n",
       "      <th>0</th>\n",
       "      <td>0.287</td>\n",
       "      <td>0.884</td>\n",
       "      <td>0.119</td>\n",
       "      <td>0.154</td>\n",
       "      <td>0.298</td>\n",
       "      <td>0.292</td>\n",
       "    </tr>\n",
       "  </tbody>\n",
       "</table>\n",
       "</div>"
      ],
      "text/plain": [
       "   CV RMSE  CV AUC  Avg of optimal thresholds  Threshold for Fold5  \\\n",
       "0    0.287   0.884                      0.119                0.154   \n",
       "\n",
       "   Avg expected loss  Expected loss for Fold5  \n",
       "0              0.298                    0.292  "
      ]
     },
     "execution_count": 157,
     "metadata": {},
     "output_type": "execute_result"
    }
   ],
   "source": [
    "rf_summary = pd.DataFrame(\n",
    "    {\n",
    "        \"CV RMSE\": [round(prob_forest_best_results[\"cv_rmse\"].values[0], 3)],\n",
    "        \"CV AUC\": [round(prob_forest_best_results[\"cv_auc\"].values[0], 3)],\n",
    "        \"Avg of optimal thresholds\": [round(best_thresholds_cv[\"RF\"], 3)],\n",
    "        \"Threshold for Fold5\": [round(best_threshold, 3)],\n",
    "        \"Avg expected loss\": [round(expected_loss_cv[\"RF\"], 3)],\n",
    "        \"Expected loss for Fold5\": [round(curr_exp_loss, 3)],\n",
    "    }\n",
    ")\n",
    "\n",
    "rf_summary"
   ]
  },
  {
   "cell_type": "markdown",
   "metadata": {},
   "source": [
    "Create plots based on Fold5 in CV "
   ]
  },
  {
   "cell_type": "code",
   "execution_count": 179,
   "metadata": {},
   "outputs": [
    {
     "data": {
      "image/png": "[encoded data removed]"
     },
     "metadata": {
      "image/png": {
       "height": 480,
       "width": 640
      }
     },
     "output_type": "display_data"
    }
   ],
   "source": [
    "create_loss_plot(all_coords_rf, fold5_threshold_rf, fold5_expected_loss_rf)"
   ]
  },
  {
   "cell_type": "code",
   "execution_count": 180,
   "metadata": {},
   "outputs": [
    {
     "data": {
      "image/png": "[encoded data removed]"
     },
     "metadata": {
      "image/png": {
       "height": 480,
       "width": 640
      }
     },
     "output_type": "display_data"
    }
   ],
   "source": [
    "create_roc_plot_with_optimal(all_coords_rf, fold5_threshold_rf)"
   ]
  },
  {
   "cell_type": "markdown",
   "metadata": {},
   "source": [
    "Take model to holdout and estimate RMSE, AUC and expected loss "
   ]
  },
  {
   "cell_type": "code",
   "execution_count": 160,
   "metadata": {},
   "outputs": [
    {
     "data": {
      "text/plain": [
       "0.288"
      ]
     },
     "execution_count": 160,
     "metadata": {},
     "output_type": "execute_result"
    }
   ],
   "source": [
    "prob_forest_fit_best = prob_forest_fit.best_estimator_\n",
    "rf_predicted_probabilities_holdout = prob_forest_fit_best.predict_proba(rfvars_holdout)[\n",
    "    :, 1\n",
    "]\n",
    "rmse_rf = np.sqrt(mean_squared_error(y_holdout, rf_predicted_probabilities_holdout))\n",
    "round(rmse_rf, 3)\n"
   ]
  },
  {
   "cell_type": "markdown",
   "metadata": {},
   "source": [
    "ROC AUC  on holdout"
   ]
  },
  {
   "cell_type": "code",
   "execution_count": 161,
   "metadata": {},
   "outputs": [
    {
     "data": {
      "text/plain": [
       "0.886"
      ]
     },
     "execution_count": 161,
     "metadata": {},
     "output_type": "execute_result"
    }
   ],
   "source": [
    "auc_rf = roc_auc_score(y_holdout, rf_predicted_probabilities_holdout)\n",
    "round(auc_rf, 3)\n"
   ]
  },
  {
   "cell_type": "markdown",
   "metadata": {},
   "source": [
    " Get expected loss on holdout"
   ]
  },
  {
   "cell_type": "code",
   "execution_count": 162,
   "metadata": {},
   "outputs": [
    {
     "data": {
      "text/plain": [
       "0.292"
      ]
     },
     "execution_count": 162,
     "metadata": {},
     "output_type": "execute_result"
    }
   ],
   "source": [
    "holdout_treshold = np.where(\n",
    "    rf_predicted_probabilities_holdout < best_thresholds_cv[\"RF\"], 0, 1\n",
    ")\n",
    "tn, fp, fn, tp = confusion_matrix(y_holdout, holdout_treshold, labels=[0, 1]).ravel()\n",
    "expected_loss_holdout = (fp * FP + fn * FN) / len(y_holdout)\n",
    "round(expected_loss_holdout, 3)\n"
   ]
  },
  {
   "cell_type": "markdown",
   "metadata": {},
   "source": [
    "## Final results"
   ]
  },
  {
   "cell_type": "code",
   "execution_count": 163,
   "metadata": {},
   "outputs": [],
   "source": [
    "summary[\"CV treshold\"] = best_thresholds_cv\n",
    "summary[\"CV expected Loss\"] = expected_loss_cv"
   ]
  },
  {
   "cell_type": "code",
   "execution_count": 164,
   "metadata": {},
   "outputs": [
    {
     "data": {
      "text/html": [
       "<div>\n",
       "<style scoped>\n",
       "    .dataframe tbody tr th:only-of-type {\n",
       "        vertical-align: middle;\n",
       "    }\n",
       "\n",
       "    .dataframe tbody tr th {\n",
       "        vertical-align: top;\n",
       "    }\n",
       "\n",
       "    .dataframe thead th {\n",
       "        text-align: right;\n",
       "    }\n",
       "</style>\n",
       "<table border=\"1\" class=\"dataframe\">\n",
       "  <thead>\n",
       "    <tr style=\"text-align: right;\">\n",
       "      <th></th>\n",
       "      <th>Number of Coefficients</th>\n",
       "      <th>CV RMSE</th>\n",
       "      <th>CV AUC</th>\n",
       "      <th>CV treshold</th>\n",
       "      <th>CV expected Loss</th>\n",
       "    </tr>\n",
       "  </thead>\n",
       "  <tbody>\n",
       "    <tr>\n",
       "      <th>M1</th>\n",
       "      <td>9.0</td>\n",
       "      <td>0.330690</td>\n",
       "      <td>0.592583</td>\n",
       "      <td>0.097844</td>\n",
       "      <td>0.820340</td>\n",
       "    </tr>\n",
       "    <tr>\n",
       "      <th>M2</th>\n",
       "      <td>16.0</td>\n",
       "      <td>0.330498</td>\n",
       "      <td>0.600141</td>\n",
       "      <td>0.101677</td>\n",
       "      <td>0.811769</td>\n",
       "    </tr>\n",
       "    <tr>\n",
       "      <th>M3</th>\n",
       "      <td>31.0</td>\n",
       "      <td>0.297007</td>\n",
       "      <td>0.871998</td>\n",
       "      <td>0.131759</td>\n",
       "      <td>0.298401</td>\n",
       "    </tr>\n",
       "    <tr>\n",
       "      <th>M4</th>\n",
       "      <td>75.0</td>\n",
       "      <td>0.299545</td>\n",
       "      <td>0.869751</td>\n",
       "      <td>0.102978</td>\n",
       "      <td>0.304632</td>\n",
       "    </tr>\n",
       "    <tr>\n",
       "      <th>M5</th>\n",
       "      <td>139.0</td>\n",
       "      <td>0.295515</td>\n",
       "      <td>0.873172</td>\n",
       "      <td>0.089899</td>\n",
       "      <td>0.302884</td>\n",
       "    </tr>\n",
       "    <tr>\n",
       "      <th>LASSO</th>\n",
       "      <td>98.0</td>\n",
       "      <td>0.290348</td>\n",
       "      <td>0.878262</td>\n",
       "      <td>0.053079</td>\n",
       "      <td>0.299885</td>\n",
       "    </tr>\n",
       "    <tr>\n",
       "      <th>RF</th>\n",
       "      <td>n.a.</td>\n",
       "      <td>0.287113</td>\n",
       "      <td>0.883829</td>\n",
       "      <td>0.118564</td>\n",
       "      <td>0.297643</td>\n",
       "    </tr>\n",
       "  </tbody>\n",
       "</table>\n",
       "</div>"
      ],
      "text/plain": [
       "      Number of Coefficients   CV RMSE    CV AUC  CV treshold  \\\n",
       "M1                       9.0  0.330690  0.592583     0.097844   \n",
       "M2                      16.0  0.330498  0.600141     0.101677   \n",
       "M3                      31.0  0.297007  0.871998     0.131759   \n",
       "M4                      75.0  0.299545  0.869751     0.102978   \n",
       "M5                     139.0  0.295515  0.873172     0.089899   \n",
       "LASSO                   98.0  0.290348  0.878262     0.053079   \n",
       "RF                      n.a.  0.287113  0.883829     0.118564   \n",
       "\n",
       "       CV expected Loss  \n",
       "M1             0.820340  \n",
       "M2             0.811769  \n",
       "M3             0.298401  \n",
       "M4             0.304632  \n",
       "M5             0.302884  \n",
       "LASSO          0.299885  \n",
       "RF             0.297643  "
      ]
     },
     "execution_count": 164,
     "metadata": {},
     "output_type": "execute_result"
    }
   ],
   "source": [
    "summary"
   ]
  },
  {
   "cell_type": "code",
   "execution_count": null,
   "metadata": {},
   "outputs": [],
   "source": []
  }
 ],
 "metadata": {
  "kernelspec": {
   "display_name": "base",
   "language": "python",
   "name": "python3"
  },
  "language_info": {
   "codemirror_mode": {
    "name": "ipython",
    "version": 3
   },
   "file_extension": ".py",
   "mimetype": "text/x-python",
   "name": "python",
   "nbconvert_exporter": "python",
   "pygments_lexer": "ipython3",
   "version": "3.12.4"
  }
 },
 "nbformat": 4,
 "nbformat_minor": 4
}
