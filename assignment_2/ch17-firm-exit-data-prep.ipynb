{
 "cells": [
  {
   "cell_type": "markdown",
   "metadata": {},
   "source": [
    "# cleaning script for Assignment 2 \n",
    "## predicting fast growing firms \n",
    "\n",
    "by: ghadena and peter "
   ]
  },
  {
   "cell_type": "code",
   "execution_count": 1,
   "metadata": {},
   "outputs": [],
   "source": [
    "import os\n",
    "import sys\n",
    "import warnings\n",
    "\n",
    "import numpy as np\n",
    "import pandas as pd\n",
    "import statsmodels.formula.api as smf\n",
    "from plotnine import *\n",
    "\n",
    "warnings.filterwarnings(\"ignore\")\n"
   ]
  },
  {
   "cell_type": "code",
   "execution_count": 2,
   "metadata": {},
   "outputs": [
    {
     "data": {
      "text/plain": [
       "'/Users/ghadena/Desktop/Business analytics/DA3/DA3/assignment_2'"
      ]
     },
     "execution_count": 2,
     "metadata": {},
     "output_type": "execute_result"
    }
   ],
   "source": [
    "# Current script folder\n",
    "path = os.getcwd()\n",
    "path"
   ]
  },
  {
   "cell_type": "markdown",
   "metadata": {},
   "source": [
    "# Import data"
   ]
  },
  {
   "cell_type": "code",
   "execution_count": 4,
   "metadata": {},
   "outputs": [],
   "source": [
    "# csv_path = os.path.join(data_in, \"cs_bisnode_panel.csv\")\n",
    "\n",
    "# data = pd.read_csv(csv_path)\n",
    "df = pd.read_csv(\"https://osf.io/download/3qyut/\")\n"
   ]
  },
  {
   "cell_type": "code",
   "execution_count": 5,
   "metadata": {},
   "outputs": [],
   "source": [
    "# drop variables with many NAs\n",
    "df = df.drop(\n",
    "    columns=[\"COGS\", \"finished_prod\", \"net_dom_sales\", \"net_exp_sales\", \"wages\"]\n",
    ")\n"
   ]
  },
  {
   "cell_type": "code",
   "execution_count": 6,
   "metadata": {},
   "outputs": [],
   "source": [
    "# ----------------------------\n",
    "# 📌 Ensure All Year-Firm Combinations Exist\n",
    "# ----------------------------\n",
    "# This step ensures that every firm (comp_id) has an entry for every year.\n",
    "# Missing firm-year combinations will be explicitly represented as NaN.\n",
    "\n",
    "df = (\n",
    "    df.set_index([\"year\", \"comp_id\"])  # 🔹 Set 'year' and 'comp_id' as index to structure the panel data\n",
    "    .unstack(fill_value=\"toReplace\")    # 🔹 Expands missing firm-year combinations, filling them with \"toReplace\"\n",
    "    .stack()                            # 🔹 Reshapes the data back into a tidy format\n",
    "    .reset_index()                      # 🔹 Resets the index so 'year' and 'comp_id' return as normal columns\n",
    ")\n",
    "\n",
    "# ----------------------------\n",
    "# 📌 Convert Placeholder Values to NaN\n",
    "# ----------------------------\n",
    "# \"toReplace\" was a temporary placeholder for missing values.\n",
    "# This step ensures that those entries are correctly recognized as NaN.\n",
    "df = df.replace(\"toReplace\", np.nan)"
   ]
  },
  {
   "cell_type": "markdown",
   "metadata": {},
   "source": [
    "\n",
    "# Label engineering\n"
   ]
  },
  {
   "cell_type": "code",
   "execution_count": null,
   "metadata": {},
   "outputs": [],
   "source": [
    "# ----------------------------\n",
    "# 📌 Step 1: Filter the Relevant Years\n",
    "# ----------------------------\n",
    "# Keep both 2012 and 2013 because we need 2013 for the target variable\n",
    "df = df[df[\"year\"].isin([2012, 2013])]\n",
    "\n",
    "# ----------------------------\n",
    "# 📌 Step 2: Handle Negative and Missing Sales Values\n",
    "# ----------------------------\n",
    "# Replace negative sales values with 1\n",
    "df[\"sales\"] = np.where(df[\"sales\"] < 0, 1, df[\"sales\"])\n",
    "\n",
    "# ----------------------------\n",
    "# 📌 Step 3: Create Log Sales Variables\n",
    "# ----------------------------\n",
    "df = df.assign(\n",
    "    ln_sales=np.where(\n",
    "        df[\"sales\"] > 0,\n",
    "        np.log(df[\"sales\"]),\n",
    "        np.where(df[\"sales\"].isna(), np.nan, 0),  # Preserve NaNs\n",
    "    ),\n",
    "    sales_mil=df[\"sales\"] / 1_000_000,  # Convert sales to millions\n",
    "    sales_mil_log=np.where(\n",
    "        df[\"sales\"] > 0,\n",
    "        np.log(df[\"sales\"] / 1_000_000),\n",
    "        np.where(df[\"sales\"].isna(), np.nan, 0),\n",
    "    ),\n",
    ")\n",
    "\n",
    "# ----------------------------\n",
    "# 📌 Step 4: Compute Lagged Sales Growth\n",
    "# ----------------------------\n",
    "# Ensure that sales_mil_log is defined before using it\n",
    "df[\"d1_sales_mil_log\"] = df[\"sales_mil_log\"] - df.groupby(\"comp_id\")[\"sales_mil_log\"].shift(1)\n",
    "\n",
    "# Winsorize extreme values in sales growth\n",
    "df[\"d1_sales_mil_log_mod\"] = np.where(\n",
    "    df[\"d1_sales_mil_log\"] < -1.5, -1.5,\n",
    "    np.where(df[\"d1_sales_mil_log\"] > 1.5, 1.5, df[\"d1_sales_mil_log\"])\n",
    ")\n",
    "\n",
    "# ----------------------------\n",
    "# 📌 Step 5: Define the Target Variable (Fast Growth)\n",
    "# ----------------------------\n",
    "# Shift (-1) ensures we are predicting 2013 growth based on 2012 data\n",
    "# Define the fast growth threshold (20% growth in log terms) np.log(1.2)  # ≈ 0.182\n",
    "\n",
    "df[\"fast_growth\"] = (df.groupby(\"comp_id\")[\"d1_sales_mil_log_mod\"].shift(-1) > np.log(1.2)).astype(int)\n",
    "\n",
    "# ----------------------------\n",
    "# 📌 Step 6: Keep Only 2012 Data for Training\n",
    "# ----------------------------\n",
    "data = df[df[\"year\"] == 2012] # Drop year column if not needed\n",
    "\n",
    "# ----------------------------\n",
    "# 📌 Step 7: Drop d1_sales_mil_log and d1_sales_mil_log_mod to avoid data leakage \n",
    "# ----------------------------\n",
    "data.drop(columns=['d1_sales_mil_log', 'd1_sales_mil_log_mod'], inplace = True )"
   ]
  },
  {
   "cell_type": "code",
   "execution_count": 8,
   "metadata": {},
   "outputs": [
    {
     "data": {
      "text/plain": [
       "fast_growth\n",
       "0    0.834008\n",
       "1    0.165992\n",
       "Name: proportion, dtype: float64"
      ]
     },
     "execution_count": 8,
     "metadata": {},
     "output_type": "execute_result"
    }
   ],
   "source": [
    "data[\"fast_growth\"].value_counts(normalize=True)"
   ]
  },
  {
   "cell_type": "code",
   "execution_count": 9,
   "metadata": {},
   "outputs": [
    {
     "data": {
      "text/plain": [
       "(92824, 49)"
      ]
     },
     "execution_count": 9,
     "metadata": {},
     "output_type": "execute_result"
    }
   ],
   "source": [
    "df.head()\n",
    "df.shape"
   ]
  },
  {
   "cell_type": "code",
   "execution_count": 10,
   "metadata": {},
   "outputs": [
    {
     "name": "stdout",
     "output_type": "stream",
     "text": [
      "(46412, 47)\n"
     ]
    },
    {
     "data": {
      "text/html": [
       "<div>\n",
       "<style scoped>\n",
       "    .dataframe tbody tr th:only-of-type {\n",
       "        vertical-align: middle;\n",
       "    }\n",
       "\n",
       "    .dataframe tbody tr th {\n",
       "        vertical-align: top;\n",
       "    }\n",
       "\n",
       "    .dataframe thead th {\n",
       "        text-align: right;\n",
       "    }\n",
       "</style>\n",
       "<table border=\"1\" class=\"dataframe\">\n",
       "  <thead>\n",
       "    <tr style=\"text-align: right;\">\n",
       "      <th></th>\n",
       "      <th>year</th>\n",
       "      <th>comp_id</th>\n",
       "      <th>begin</th>\n",
       "      <th>end</th>\n",
       "      <th>amort</th>\n",
       "      <th>curr_assets</th>\n",
       "      <th>curr_liab</th>\n",
       "      <th>extra_exp</th>\n",
       "      <th>extra_inc</th>\n",
       "      <th>extra_profit_loss</th>\n",
       "      <th>...</th>\n",
       "      <th>ind</th>\n",
       "      <th>urban_m</th>\n",
       "      <th>region_m</th>\n",
       "      <th>founded_date</th>\n",
       "      <th>exit_date</th>\n",
       "      <th>labor_avg</th>\n",
       "      <th>ln_sales</th>\n",
       "      <th>sales_mil</th>\n",
       "      <th>sales_mil_log</th>\n",
       "      <th>fast_growth</th>\n",
       "    </tr>\n",
       "  </thead>\n",
       "  <tbody>\n",
       "    <tr>\n",
       "      <th>324884</th>\n",
       "      <td>2012</td>\n",
       "      <td>1001034.0</td>\n",
       "      <td>2012-01-01</td>\n",
       "      <td>2012-12-31</td>\n",
       "      <td>140.740738</td>\n",
       "      <td>148.148148</td>\n",
       "      <td>21429.628906</td>\n",
       "      <td>0.0</td>\n",
       "      <td>0.0</td>\n",
       "      <td>0.0</td>\n",
       "      <td>...</td>\n",
       "      <td>3.0</td>\n",
       "      <td>1.0</td>\n",
       "      <td>Central</td>\n",
       "      <td>1990-11-19</td>\n",
       "      <td>NaN</td>\n",
       "      <td>0.083333</td>\n",
       "      <td>0.000000</td>\n",
       "      <td>0.000000</td>\n",
       "      <td>0.000000</td>\n",
       "      <td>0</td>\n",
       "    </tr>\n",
       "    <tr>\n",
       "      <th>324885</th>\n",
       "      <td>2012</td>\n",
       "      <td>1001541.0</td>\n",
       "      <td>2012-01-01</td>\n",
       "      <td>2012-12-31</td>\n",
       "      <td>481.481476</td>\n",
       "      <td>9629.629883</td>\n",
       "      <td>1303.703735</td>\n",
       "      <td>0.0</td>\n",
       "      <td>0.0</td>\n",
       "      <td>0.0</td>\n",
       "      <td>...</td>\n",
       "      <td>3.0</td>\n",
       "      <td>3.0</td>\n",
       "      <td>Central</td>\n",
       "      <td>2008-02-24</td>\n",
       "      <td>NaN</td>\n",
       "      <td>NaN</td>\n",
       "      <td>7.093159</td>\n",
       "      <td>0.001204</td>\n",
       "      <td>-6.722352</td>\n",
       "      <td>1</td>\n",
       "    </tr>\n",
       "    <tr>\n",
       "      <th>324886</th>\n",
       "      <td>2012</td>\n",
       "      <td>1002029.0</td>\n",
       "      <td>2012-01-01</td>\n",
       "      <td>2012-12-31</td>\n",
       "      <td>14929.629883</td>\n",
       "      <td>203885.187500</td>\n",
       "      <td>120444.453125</td>\n",
       "      <td>0.0</td>\n",
       "      <td>0.0</td>\n",
       "      <td>0.0</td>\n",
       "      <td>...</td>\n",
       "      <td>2.0</td>\n",
       "      <td>3.0</td>\n",
       "      <td>East</td>\n",
       "      <td>2006-07-03</td>\n",
       "      <td>NaN</td>\n",
       "      <td>0.458333</td>\n",
       "      <td>13.943477</td>\n",
       "      <td>1.136515</td>\n",
       "      <td>0.127966</td>\n",
       "      <td>0</td>\n",
       "    </tr>\n",
       "    <tr>\n",
       "      <th>324887</th>\n",
       "      <td>2012</td>\n",
       "      <td>1003200.0</td>\n",
       "      <td>2012-01-01</td>\n",
       "      <td>2012-12-31</td>\n",
       "      <td>25.925926</td>\n",
       "      <td>22.222221</td>\n",
       "      <td>10996.295898</td>\n",
       "      <td>0.0</td>\n",
       "      <td>0.0</td>\n",
       "      <td>0.0</td>\n",
       "      <td>...</td>\n",
       "      <td>3.0</td>\n",
       "      <td>1.0</td>\n",
       "      <td>Central</td>\n",
       "      <td>2003-10-21</td>\n",
       "      <td>2014-08-09</td>\n",
       "      <td>NaN</td>\n",
       "      <td>7.932070</td>\n",
       "      <td>0.002785</td>\n",
       "      <td>-5.883441</td>\n",
       "      <td>0</td>\n",
       "    </tr>\n",
       "    <tr>\n",
       "      <th>324888</th>\n",
       "      <td>2012</td>\n",
       "      <td>1004012.0</td>\n",
       "      <td>NaN</td>\n",
       "      <td>NaN</td>\n",
       "      <td>NaN</td>\n",
       "      <td>NaN</td>\n",
       "      <td>NaN</td>\n",
       "      <td>NaN</td>\n",
       "      <td>NaN</td>\n",
       "      <td>NaN</td>\n",
       "      <td>...</td>\n",
       "      <td>NaN</td>\n",
       "      <td>NaN</td>\n",
       "      <td>NaN</td>\n",
       "      <td>NaN</td>\n",
       "      <td>NaN</td>\n",
       "      <td>NaN</td>\n",
       "      <td>NaN</td>\n",
       "      <td>NaN</td>\n",
       "      <td>NaN</td>\n",
       "      <td>0</td>\n",
       "    </tr>\n",
       "  </tbody>\n",
       "</table>\n",
       "<p>5 rows × 47 columns</p>\n",
       "</div>"
      ],
      "text/plain": [
       "        year    comp_id       begin         end         amort    curr_assets  \\\n",
       "324884  2012  1001034.0  2012-01-01  2012-12-31    140.740738     148.148148   \n",
       "324885  2012  1001541.0  2012-01-01  2012-12-31    481.481476    9629.629883   \n",
       "324886  2012  1002029.0  2012-01-01  2012-12-31  14929.629883  203885.187500   \n",
       "324887  2012  1003200.0  2012-01-01  2012-12-31     25.925926      22.222221   \n",
       "324888  2012  1004012.0         NaN         NaN           NaN            NaN   \n",
       "\n",
       "            curr_liab  extra_exp  extra_inc  extra_profit_loss  ...  ind  \\\n",
       "324884   21429.628906        0.0        0.0                0.0  ...  3.0   \n",
       "324885    1303.703735        0.0        0.0                0.0  ...  3.0   \n",
       "324886  120444.453125        0.0        0.0                0.0  ...  2.0   \n",
       "324887   10996.295898        0.0        0.0                0.0  ...  3.0   \n",
       "324888            NaN        NaN        NaN                NaN  ...  NaN   \n",
       "\n",
       "        urban_m  region_m  founded_date   exit_date  labor_avg   ln_sales  \\\n",
       "324884      1.0   Central    1990-11-19         NaN   0.083333   0.000000   \n",
       "324885      3.0   Central    2008-02-24         NaN        NaN   7.093159   \n",
       "324886      3.0      East    2006-07-03         NaN   0.458333  13.943477   \n",
       "324887      1.0   Central    2003-10-21  2014-08-09        NaN   7.932070   \n",
       "324888      NaN       NaN           NaN         NaN        NaN        NaN   \n",
       "\n",
       "        sales_mil  sales_mil_log  fast_growth  \n",
       "324884   0.000000       0.000000            0  \n",
       "324885   0.001204      -6.722352            1  \n",
       "324886   1.136515       0.127966            0  \n",
       "324887   0.002785      -5.883441            0  \n",
       "324888        NaN            NaN            0  \n",
       "\n",
       "[5 rows x 47 columns]"
      ]
     },
     "execution_count": 10,
     "metadata": {},
     "output_type": "execute_result"
    }
   ],
   "source": [
    "print(data.shape)\n",
    "data.head()\n"
   ]
  },
  {
   "cell_type": "code",
   "execution_count": 11,
   "metadata": {},
   "outputs": [
    {
     "data": {
      "text/plain": [
       "count    46412.000000\n",
       "mean         0.165992\n",
       "std          0.372077\n",
       "min          0.000000\n",
       "25%          0.000000\n",
       "50%          0.000000\n",
       "75%          0.000000\n",
       "max          1.000000\n",
       "Name: fast_growth, dtype: float64"
      ]
     },
     "execution_count": 11,
     "metadata": {},
     "output_type": "execute_result"
    }
   ],
   "source": [
    "data[\"fast_growth\"].describe()\n"
   ]
  },
  {
   "cell_type": "markdown",
   "metadata": {},
   "source": [
    "# Sample design"
   ]
  },
  {
   "cell_type": "code",
   "execution_count": 12,
   "metadata": {},
   "outputs": [],
   "source": [
    "# look at cross section\n",
    "data = data.query(\"year==2012\")\n",
    "# look at firms below 10m euro revenues and above 1000 euros\n",
    "data = data.query(\"sales_mil<=10 & sales_mil>=0.001\")\n"
   ]
  },
  {
   "cell_type": "code",
   "execution_count": 13,
   "metadata": {},
   "outputs": [
    {
     "data": {
      "text/html": [
       "<div>\n",
       "<style scoped>\n",
       "    .dataframe tbody tr th:only-of-type {\n",
       "        vertical-align: middle;\n",
       "    }\n",
       "\n",
       "    .dataframe tbody tr th {\n",
       "        vertical-align: top;\n",
       "    }\n",
       "\n",
       "    .dataframe thead th {\n",
       "        text-align: right;\n",
       "    }\n",
       "</style>\n",
       "<table border=\"1\" class=\"dataframe\">\n",
       "  <thead>\n",
       "    <tr style=\"text-align: right;\">\n",
       "      <th></th>\n",
       "      <th>year</th>\n",
       "      <th>comp_id</th>\n",
       "      <th>begin</th>\n",
       "      <th>end</th>\n",
       "      <th>amort</th>\n",
       "      <th>curr_assets</th>\n",
       "      <th>curr_liab</th>\n",
       "      <th>extra_exp</th>\n",
       "      <th>extra_inc</th>\n",
       "      <th>extra_profit_loss</th>\n",
       "      <th>...</th>\n",
       "      <th>ind</th>\n",
       "      <th>urban_m</th>\n",
       "      <th>region_m</th>\n",
       "      <th>founded_date</th>\n",
       "      <th>exit_date</th>\n",
       "      <th>labor_avg</th>\n",
       "      <th>ln_sales</th>\n",
       "      <th>sales_mil</th>\n",
       "      <th>sales_mil_log</th>\n",
       "      <th>fast_growth</th>\n",
       "    </tr>\n",
       "  </thead>\n",
       "  <tbody>\n",
       "    <tr>\n",
       "      <th>324885</th>\n",
       "      <td>2012</td>\n",
       "      <td>1.001541e+06</td>\n",
       "      <td>2012-01-01</td>\n",
       "      <td>2012-12-31</td>\n",
       "      <td>481.481476</td>\n",
       "      <td>9.629630e+03</td>\n",
       "      <td>1.303704e+03</td>\n",
       "      <td>0.000000</td>\n",
       "      <td>0.000000</td>\n",
       "      <td>0.000000</td>\n",
       "      <td>...</td>\n",
       "      <td>3.0</td>\n",
       "      <td>3.0</td>\n",
       "      <td>Central</td>\n",
       "      <td>2008-02-24</td>\n",
       "      <td>NaN</td>\n",
       "      <td>NaN</td>\n",
       "      <td>7.093159</td>\n",
       "      <td>0.001204</td>\n",
       "      <td>-6.722352</td>\n",
       "      <td>1</td>\n",
       "    </tr>\n",
       "    <tr>\n",
       "      <th>324886</th>\n",
       "      <td>2012</td>\n",
       "      <td>1.002029e+06</td>\n",
       "      <td>2012-01-01</td>\n",
       "      <td>2012-12-31</td>\n",
       "      <td>14929.629883</td>\n",
       "      <td>2.038852e+05</td>\n",
       "      <td>1.204445e+05</td>\n",
       "      <td>0.000000</td>\n",
       "      <td>0.000000</td>\n",
       "      <td>0.000000</td>\n",
       "      <td>...</td>\n",
       "      <td>2.0</td>\n",
       "      <td>3.0</td>\n",
       "      <td>East</td>\n",
       "      <td>2006-07-03</td>\n",
       "      <td>NaN</td>\n",
       "      <td>0.458333</td>\n",
       "      <td>13.943477</td>\n",
       "      <td>1.136515</td>\n",
       "      <td>0.127966</td>\n",
       "      <td>0</td>\n",
       "    </tr>\n",
       "    <tr>\n",
       "      <th>324887</th>\n",
       "      <td>2012</td>\n",
       "      <td>1.003200e+06</td>\n",
       "      <td>2012-01-01</td>\n",
       "      <td>2012-12-31</td>\n",
       "      <td>25.925926</td>\n",
       "      <td>2.222222e+01</td>\n",
       "      <td>1.099630e+04</td>\n",
       "      <td>0.000000</td>\n",
       "      <td>0.000000</td>\n",
       "      <td>0.000000</td>\n",
       "      <td>...</td>\n",
       "      <td>3.0</td>\n",
       "      <td>1.0</td>\n",
       "      <td>Central</td>\n",
       "      <td>2003-10-21</td>\n",
       "      <td>2014-08-09</td>\n",
       "      <td>NaN</td>\n",
       "      <td>7.932070</td>\n",
       "      <td>0.002785</td>\n",
       "      <td>-5.883441</td>\n",
       "      <td>0</td>\n",
       "    </tr>\n",
       "    <tr>\n",
       "      <th>324891</th>\n",
       "      <td>2012</td>\n",
       "      <td>1.011889e+06</td>\n",
       "      <td>2012-01-01</td>\n",
       "      <td>2012-12-31</td>\n",
       "      <td>36625.925781</td>\n",
       "      <td>1.601667e+05</td>\n",
       "      <td>1.891111e+04</td>\n",
       "      <td>0.000000</td>\n",
       "      <td>0.000000</td>\n",
       "      <td>0.000000</td>\n",
       "      <td>...</td>\n",
       "      <td>3.0</td>\n",
       "      <td>2.0</td>\n",
       "      <td>West</td>\n",
       "      <td>1992-11-09</td>\n",
       "      <td>NaN</td>\n",
       "      <td>1.621212</td>\n",
       "      <td>12.980031</td>\n",
       "      <td>0.433667</td>\n",
       "      <td>-0.835479</td>\n",
       "      <td>0</td>\n",
       "    </tr>\n",
       "    <tr>\n",
       "      <th>324892</th>\n",
       "      <td>2012</td>\n",
       "      <td>1.014183e+06</td>\n",
       "      <td>2012-01-01</td>\n",
       "      <td>2012-12-31</td>\n",
       "      <td>12551.851562</td>\n",
       "      <td>1.999037e+05</td>\n",
       "      <td>8.274074e+03</td>\n",
       "      <td>0.000000</td>\n",
       "      <td>7.407407</td>\n",
       "      <td>7.407407</td>\n",
       "      <td>...</td>\n",
       "      <td>3.0</td>\n",
       "      <td>2.0</td>\n",
       "      <td>Central</td>\n",
       "      <td>2001-12-21</td>\n",
       "      <td>NaN</td>\n",
       "      <td>0.715278</td>\n",
       "      <td>11.773208</td>\n",
       "      <td>0.129730</td>\n",
       "      <td>-2.042303</td>\n",
       "      <td>0</td>\n",
       "    </tr>\n",
       "    <tr>\n",
       "      <th>...</th>\n",
       "      <td>...</td>\n",
       "      <td>...</td>\n",
       "      <td>...</td>\n",
       "      <td>...</td>\n",
       "      <td>...</td>\n",
       "      <td>...</td>\n",
       "      <td>...</td>\n",
       "      <td>...</td>\n",
       "      <td>...</td>\n",
       "      <td>...</td>\n",
       "      <td>...</td>\n",
       "      <td>...</td>\n",
       "      <td>...</td>\n",
       "      <td>...</td>\n",
       "      <td>...</td>\n",
       "      <td>...</td>\n",
       "      <td>...</td>\n",
       "      <td>...</td>\n",
       "      <td>...</td>\n",
       "      <td>...</td>\n",
       "      <td>...</td>\n",
       "    </tr>\n",
       "    <tr>\n",
       "      <th>371285</th>\n",
       "      <td>2012</td>\n",
       "      <td>4.638854e+11</td>\n",
       "      <td>2012-01-01</td>\n",
       "      <td>2012-12-31</td>\n",
       "      <td>544.444458</td>\n",
       "      <td>1.437407e+04</td>\n",
       "      <td>1.330000e+04</td>\n",
       "      <td>0.000000</td>\n",
       "      <td>0.000000</td>\n",
       "      <td>0.000000</td>\n",
       "      <td>...</td>\n",
       "      <td>NaN</td>\n",
       "      <td>3.0</td>\n",
       "      <td>East</td>\n",
       "      <td>2009-02-25</td>\n",
       "      <td>NaN</td>\n",
       "      <td>0.121212</td>\n",
       "      <td>11.958560</td>\n",
       "      <td>0.156148</td>\n",
       "      <td>-1.856950</td>\n",
       "      <td>1</td>\n",
       "    </tr>\n",
       "    <tr>\n",
       "      <th>371288</th>\n",
       "      <td>2012</td>\n",
       "      <td>4.639820e+11</td>\n",
       "      <td>2012-01-01</td>\n",
       "      <td>2012-12-31</td>\n",
       "      <td>16337.037109</td>\n",
       "      <td>3.140000e+04</td>\n",
       "      <td>8.300000e+03</td>\n",
       "      <td>0.000000</td>\n",
       "      <td>0.000000</td>\n",
       "      <td>0.000000</td>\n",
       "      <td>...</td>\n",
       "      <td>2.0</td>\n",
       "      <td>1.0</td>\n",
       "      <td>Central</td>\n",
       "      <td>1995-05-14</td>\n",
       "      <td>NaN</td>\n",
       "      <td>0.548611</td>\n",
       "      <td>12.159136</td>\n",
       "      <td>0.190830</td>\n",
       "      <td>-1.656374</td>\n",
       "      <td>1</td>\n",
       "    </tr>\n",
       "    <tr>\n",
       "      <th>371290</th>\n",
       "      <td>2012</td>\n",
       "      <td>4.640212e+11</td>\n",
       "      <td>2012-01-01</td>\n",
       "      <td>2012-12-31</td>\n",
       "      <td>3566.666748</td>\n",
       "      <td>3.149630e+04</td>\n",
       "      <td>1.783704e+04</td>\n",
       "      <td>0.000000</td>\n",
       "      <td>0.000000</td>\n",
       "      <td>0.000000</td>\n",
       "      <td>...</td>\n",
       "      <td>2.0</td>\n",
       "      <td>2.0</td>\n",
       "      <td>Central</td>\n",
       "      <td>2006-05-09</td>\n",
       "      <td>NaN</td>\n",
       "      <td>0.083333</td>\n",
       "      <td>10.546608</td>\n",
       "      <td>0.038048</td>\n",
       "      <td>-3.268903</td>\n",
       "      <td>1</td>\n",
       "    </tr>\n",
       "    <tr>\n",
       "      <th>371291</th>\n",
       "      <td>2012</td>\n",
       "      <td>4.640446e+11</td>\n",
       "      <td>2012-01-01</td>\n",
       "      <td>2012-12-31</td>\n",
       "      <td>76059.257812</td>\n",
       "      <td>4.776548e+06</td>\n",
       "      <td>1.297552e+06</td>\n",
       "      <td>0.000000</td>\n",
       "      <td>0.000000</td>\n",
       "      <td>0.000000</td>\n",
       "      <td>...</td>\n",
       "      <td>2.0</td>\n",
       "      <td>3.0</td>\n",
       "      <td>Central</td>\n",
       "      <td>2008-10-09</td>\n",
       "      <td>NaN</td>\n",
       "      <td>1.840278</td>\n",
       "      <td>15.959566</td>\n",
       "      <td>8.533974</td>\n",
       "      <td>2.144055</td>\n",
       "      <td>0</td>\n",
       "    </tr>\n",
       "    <tr>\n",
       "      <th>371294</th>\n",
       "      <td>2012</td>\n",
       "      <td>4.641050e+11</td>\n",
       "      <td>2012-01-01</td>\n",
       "      <td>2012-12-31</td>\n",
       "      <td>1311.111084</td>\n",
       "      <td>3.261481e+04</td>\n",
       "      <td>1.104815e+04</td>\n",
       "      <td>22.222221</td>\n",
       "      <td>0.000000</td>\n",
       "      <td>-22.222221</td>\n",
       "      <td>...</td>\n",
       "      <td>3.0</td>\n",
       "      <td>3.0</td>\n",
       "      <td>West</td>\n",
       "      <td>1989-04-28</td>\n",
       "      <td>NaN</td>\n",
       "      <td>1.060606</td>\n",
       "      <td>11.950392</td>\n",
       "      <td>0.154878</td>\n",
       "      <td>-1.865119</td>\n",
       "      <td>0</td>\n",
       "    </tr>\n",
       "  </tbody>\n",
       "</table>\n",
       "<p>21723 rows × 47 columns</p>\n",
       "</div>"
      ],
      "text/plain": [
       "        year       comp_id       begin         end         amort  \\\n",
       "324885  2012  1.001541e+06  2012-01-01  2012-12-31    481.481476   \n",
       "324886  2012  1.002029e+06  2012-01-01  2012-12-31  14929.629883   \n",
       "324887  2012  1.003200e+06  2012-01-01  2012-12-31     25.925926   \n",
       "324891  2012  1.011889e+06  2012-01-01  2012-12-31  36625.925781   \n",
       "324892  2012  1.014183e+06  2012-01-01  2012-12-31  12551.851562   \n",
       "...      ...           ...         ...         ...           ...   \n",
       "371285  2012  4.638854e+11  2012-01-01  2012-12-31    544.444458   \n",
       "371288  2012  4.639820e+11  2012-01-01  2012-12-31  16337.037109   \n",
       "371290  2012  4.640212e+11  2012-01-01  2012-12-31   3566.666748   \n",
       "371291  2012  4.640446e+11  2012-01-01  2012-12-31  76059.257812   \n",
       "371294  2012  4.641050e+11  2012-01-01  2012-12-31   1311.111084   \n",
       "\n",
       "         curr_assets     curr_liab  extra_exp  extra_inc  extra_profit_loss  \\\n",
       "324885  9.629630e+03  1.303704e+03   0.000000   0.000000           0.000000   \n",
       "324886  2.038852e+05  1.204445e+05   0.000000   0.000000           0.000000   \n",
       "324887  2.222222e+01  1.099630e+04   0.000000   0.000000           0.000000   \n",
       "324891  1.601667e+05  1.891111e+04   0.000000   0.000000           0.000000   \n",
       "324892  1.999037e+05  8.274074e+03   0.000000   7.407407           7.407407   \n",
       "...              ...           ...        ...        ...                ...   \n",
       "371285  1.437407e+04  1.330000e+04   0.000000   0.000000           0.000000   \n",
       "371288  3.140000e+04  8.300000e+03   0.000000   0.000000           0.000000   \n",
       "371290  3.149630e+04  1.783704e+04   0.000000   0.000000           0.000000   \n",
       "371291  4.776548e+06  1.297552e+06   0.000000   0.000000           0.000000   \n",
       "371294  3.261481e+04  1.104815e+04  22.222221   0.000000         -22.222221   \n",
       "\n",
       "        ...  ind  urban_m  region_m  founded_date   exit_date  labor_avg  \\\n",
       "324885  ...  3.0      3.0   Central    2008-02-24         NaN        NaN   \n",
       "324886  ...  2.0      3.0      East    2006-07-03         NaN   0.458333   \n",
       "324887  ...  3.0      1.0   Central    2003-10-21  2014-08-09        NaN   \n",
       "324891  ...  3.0      2.0      West    1992-11-09         NaN   1.621212   \n",
       "324892  ...  3.0      2.0   Central    2001-12-21         NaN   0.715278   \n",
       "...     ...  ...      ...       ...           ...         ...        ...   \n",
       "371285  ...  NaN      3.0      East    2009-02-25         NaN   0.121212   \n",
       "371288  ...  2.0      1.0   Central    1995-05-14         NaN   0.548611   \n",
       "371290  ...  2.0      2.0   Central    2006-05-09         NaN   0.083333   \n",
       "371291  ...  2.0      3.0   Central    2008-10-09         NaN   1.840278   \n",
       "371294  ...  3.0      3.0      West    1989-04-28         NaN   1.060606   \n",
       "\n",
       "         ln_sales  sales_mil  sales_mil_log  fast_growth  \n",
       "324885   7.093159   0.001204      -6.722352            1  \n",
       "324886  13.943477   1.136515       0.127966            0  \n",
       "324887   7.932070   0.002785      -5.883441            0  \n",
       "324891  12.980031   0.433667      -0.835479            0  \n",
       "324892  11.773208   0.129730      -2.042303            0  \n",
       "...           ...        ...            ...          ...  \n",
       "371285  11.958560   0.156148      -1.856950            1  \n",
       "371288  12.159136   0.190830      -1.656374            1  \n",
       "371290  10.546608   0.038048      -3.268903            1  \n",
       "371291  15.959566   8.533974       2.144055            0  \n",
       "371294  11.950392   0.154878      -1.865119            0  \n",
       "\n",
       "[21723 rows x 47 columns]"
      ]
     },
     "execution_count": 13,
     "metadata": {},
     "output_type": "execute_result"
    }
   ],
   "source": [
    "data"
   ]
  },
  {
   "cell_type": "code",
   "execution_count": 14,
   "metadata": {},
   "outputs": [
    {
     "data": {
      "text/plain": [
       "fast_growth\n",
       "0    0.676104\n",
       "1    0.323896\n",
       "Name: proportion, dtype: float64"
      ]
     },
     "execution_count": 14,
     "metadata": {},
     "output_type": "execute_result"
    }
   ],
   "source": [
    "data.fast_growth.value_counts(normalize=True)"
   ]
  },
  {
   "cell_type": "code",
   "execution_count": 15,
   "metadata": {},
   "outputs": [
    {
     "data": {
      "text/plain": [
       "(21723, 47)"
      ]
     },
     "execution_count": 15,
     "metadata": {},
     "output_type": "execute_result"
    }
   ],
   "source": [
    "data.shape"
   ]
  },
  {
   "cell_type": "code",
   "execution_count": null,
   "metadata": {},
   "outputs": [],
   "source": [
    "\n",
    "#data.to_csv(path + \"/firm_exit.csv\", index=False)\n"
   ]
  },
  {
   "cell_type": "markdown",
   "metadata": {},
   "source": [
    "# Feature engineering"
   ]
  },
  {
   "cell_type": "code",
   "execution_count": null,
   "metadata": {},
   "outputs": [],
   "source": [
    "# current_csv_path = os.path.join(path, \"firm_exit.csv\")\n",
    "# data = pd.read_csv(current_csv_path)\n"
   ]
  },
  {
   "cell_type": "code",
   "execution_count": 16,
   "metadata": {},
   "outputs": [],
   "source": [
    "# change some industry category codes\n",
    "data[\"ind2_cat\"] = data[\"ind2\"].copy()\n",
    "data[\"ind2_cat\"] = np.where(data[\"ind2\"] > 56, 60, data[\"ind2_cat\"])\n",
    "data[\"ind2_cat\"] = np.where(data[\"ind2\"] < 26, 20, data[\"ind2_cat\"])\n",
    "data[\"ind2_cat\"] = np.where(\n",
    "    (data[\"ind2\"] < 55) & (data[\"ind2\"] > 35), 40, data[\"ind2_cat\"]\n",
    ")\n",
    "data[\"ind2_cat\"] = np.where(data[\"ind2\"] == 31, 30, data[\"ind2_cat\"])\n",
    "data[\"ind2_cat\"] = np.where(data[\"ind2\"].isna(), 99, data[\"ind2_cat\"])\n"
   ]
  },
  {
   "cell_type": "code",
   "execution_count": 17,
   "metadata": {},
   "outputs": [
    {
     "data": {
      "text/plain": [
       "ind2_cat\n",
       "20.0       50\n",
       "26.0     1080\n",
       "27.0      660\n",
       "28.0     1954\n",
       "29.0      287\n",
       "30.0      168\n",
       "32.0      148\n",
       "33.0     1944\n",
       "40.0      208\n",
       "55.0     2266\n",
       "56.0    12711\n",
       "60.0      242\n",
       "99.0        5\n",
       "Name: comp_id, dtype: int64"
      ]
     },
     "execution_count": 17,
     "metadata": {},
     "output_type": "execute_result"
    }
   ],
   "source": [
    "data.groupby(\"ind2_cat\").count()[\"comp_id\"]"
   ]
  },
  {
   "cell_type": "code",
   "execution_count": 19,
   "metadata": {},
   "outputs": [],
   "source": [
    "# Firm characteristics\n",
    "data[\"age\"] = np.where(\n",
    "    data[\"year\"] - data[\"founded_year\"] < 0, 0, data[\"year\"] - data[\"founded_year\"]\n",
    ")\n",
    "data[\"new\"] = np.where(\n",
    "    ((data[\"age\"] <= 1) | (data[\"balsheet_notfullyear\"] == 1)),\n",
    "    1,\n",
    "    (np.where(data[\"age\"].isna(), np.nan, 0)),\n",
    ")\n",
    "data[\"age2\"] = data[\"age\"] ** 2\n",
    "data[\"foreign_management\"] = np.where(\n",
    "    data[\"foreign\"] >= 0.5, 1, np.where(data[\"foreign\"].isna(), np.nan, 0)\n",
    ")\n",
    "data[\"gender_m\"] = data[\"gender\"].astype(\"category\")\n",
    "data[\"m_region_loc\"] = data[\"region_m\"].astype(\"category\")\n"
   ]
  },
  {
   "cell_type": "code",
   "execution_count": 20,
   "metadata": {},
   "outputs": [
    {
     "data": {
      "text/plain": [
       "flag_asset_problem\n",
       "0.0    21700\n",
       "1.0       13\n",
       "Name: comp_id, dtype: int64"
      ]
     },
     "execution_count": 20,
     "metadata": {},
     "output_type": "execute_result"
    }
   ],
   "source": [
    "###########################################################\n",
    "# look at more financial variables, create ratios\n",
    "###########################################################\n",
    "\n",
    "# assets can't be negative. Change them to 0 and add a flag.\n",
    "data[\"flag_asset_problem\"] = np.where(\n",
    "    (\n",
    "        (data[\"intang_assets\"] < 0)\n",
    "        | (data[\"curr_assets\"] < 0)\n",
    "        | (data[\"fixed_assets\"] < 0)\n",
    "    ),\n",
    "    1,\n",
    "    0,\n",
    ")\n",
    "data[\"flag_asset_problem\"] = np.where(\n",
    "    (\n",
    "        (data[\"intang_assets\"].isna())\n",
    "        | (data[\"curr_assets\"].isna())\n",
    "        | (data[\"fixed_assets\"].isna())\n",
    "    ),\n",
    "    np.nan,\n",
    "    data[\"flag_asset_problem\"],\n",
    ")\n",
    "data.groupby(\"flag_asset_problem\").count()[\"comp_id\"]\n"
   ]
  },
  {
   "cell_type": "code",
   "execution_count": 21,
   "metadata": {},
   "outputs": [],
   "source": [
    "data[\"intang_assets\"] = np.where(data[\"intang_assets\"] < 0, 0, data[\"intang_assets\"])\n",
    "data[\"curr_assets\"] = np.where(data[\"curr_assets\"] < 0, 0, data[\"curr_assets\"])\n",
    "data[\"fixed_assets\"] = np.where(data[\"fixed_assets\"] < 0, 0, data[\"fixed_assets\"])\n"
   ]
  },
  {
   "cell_type": "code",
   "execution_count": 22,
   "metadata": {},
   "outputs": [
    {
     "data": {
      "text/plain": [
       "count    2.171300e+04\n",
       "mean     2.525889e+05\n",
       "std      1.383198e+06\n",
       "min      0.000000e+00\n",
       "25%      6.466667e+03\n",
       "50%      2.382963e+04\n",
       "75%      9.346296e+04\n",
       "max      1.046833e+08\n",
       "Name: total_assets_bs, dtype: float64"
      ]
     },
     "execution_count": 22,
     "metadata": {},
     "output_type": "execute_result"
    }
   ],
   "source": [
    "# generate total assets\n",
    "data[\"total_assets_bs\"] = (\n",
    "    data[\"intang_assets\"] + data[\"curr_assets\"] + data[\"fixed_assets\"]\n",
    ")\n",
    "data[\"total_assets_bs\"].describe()\n"
   ]
  },
  {
   "cell_type": "code",
   "execution_count": 23,
   "metadata": {},
   "outputs": [],
   "source": [
    "pl_names = [\n",
    "    \"extra_exp\",\n",
    "    \"extra_inc\",\n",
    "    \"extra_profit_loss\",\n",
    "    \"inc_bef_tax\",\n",
    "    \"inventories\",\n",
    "    \"material_exp\",\n",
    "    \"profit_loss_year\",\n",
    "    \"personnel_exp\",\n",
    "]\n",
    "bs_names = [\n",
    "    \"intang_assets\",\n",
    "    \"curr_liab\",\n",
    "    \"fixed_assets\",\n",
    "    \"liq_assets\",\n",
    "    \"curr_assets\",\n",
    "    \"share_eq\",\n",
    "    \"subscribed_cap\",\n",
    "    \"tang_assets\",\n",
    "]\n"
   ]
  },
  {
   "cell_type": "code",
   "execution_count": 24,
   "metadata": {},
   "outputs": [],
   "source": [
    "# divide all pl_names elements by sales and create new column for it\n",
    "data[[col + \"_pl\" for col in pl_names]] = data[pl_names].div(\n",
    "    data[\"sales\"], axis=\"index\"\n",
    ")\n"
   ]
  },
  {
   "cell_type": "code",
   "execution_count": 25,
   "metadata": {},
   "outputs": [],
   "source": [
    "# divide all bs_names elements by total_assets_bs and create new column for it\n",
    "data[[col + \"_bs\" for col in bs_names]] = (\n",
    "    data[bs_names]\n",
    "    .div(data[\"total_assets_bs\"], axis=\"index\")\n",
    "    .replace((np.inf, -np.inf, np.nan), (0, 0, 0))\n",
    ")\n",
    "# get Nan values where total_assets_bs is NaN\n",
    "for col in bs_names:\n",
    "    data[col + \"_bs\"] = np.where(\n",
    "        data[\"total_assets_bs\"].isna(), np.nan, data[col + \"_bs\"]\n",
    "    )\n"
   ]
  },
  {
   "cell_type": "code",
   "execution_count": 26,
   "metadata": {},
   "outputs": [],
   "source": [
    "########################################################################\n",
    "# creating flags, and winsorizing tails\n",
    "########################################################################\n",
    "\n",
    "# Variables that represent accounting items that cannot be negative (e.g. materials)\n",
    "zero = [\n",
    "    \"extra_exp_pl\",\n",
    "    \"extra_inc_pl\",\n",
    "    \"inventories_pl\",\n",
    "    \"material_exp_pl\",\n",
    "    \"personnel_exp_pl\",\n",
    "    \"curr_liab_bs\",\n",
    "    \"fixed_assets_bs\",\n",
    "    \"liq_assets_bs\",\n",
    "    \"curr_assets_bs\",\n",
    "    \"subscribed_cap_bs\",\n",
    "    \"intang_assets_bs\",\n",
    "]\n",
    "\n",
    "data[[col + \"_flag_high\" for col in zero]] = np.where(\n",
    "    data[zero].isna(), np.nan, (data[zero] > 1).astype(int)\n",
    ")\n",
    "data[[col for col in zero]] = np.where(\n",
    "    data[zero].isna(), np.nan, np.where(data[zero] > 1, 1, data[zero])\n",
    ")\n",
    "data[[col + \"_flag_error\" for col in zero]] = np.where(\n",
    "    data[zero].isna(), np.nan, (data[zero] < 0).astype(int)\n",
    ")\n",
    "data[[col for col in zero]] = np.where(\n",
    "    data[zero].isna(), np.nan, np.where(data[zero] < 0, 0, data[zero])\n",
    ")\n"
   ]
  },
  {
   "cell_type": "code",
   "execution_count": 27,
   "metadata": {},
   "outputs": [],
   "source": [
    "# for vars that could be any, but are mostly between -1 and 1\n",
    "anyof = [\"extra_profit_loss_pl\", \"inc_bef_tax_pl\", \"profit_loss_year_pl\", \"share_eq_bs\"]\n",
    "\n",
    "data[[col + \"_flag_low\" for col in anyof]] = np.where(\n",
    "    data[anyof].isna(), np.nan, (data[anyof] < -1).astype(int)\n",
    ")\n",
    "data[[col for col in anyof]] = np.where(\n",
    "    data[anyof].isna(), np.nan, np.where((data[anyof] < -1), -1, data[anyof])\n",
    ")\n",
    "data[[col + \"_flag_high\" for col in anyof]] = np.where(\n",
    "    data[anyof].isna(), np.nan, (data[anyof] > 1).astype(int)\n",
    ")\n",
    "data[[col for col in anyof]] = np.where(\n",
    "    data[anyof].isna(), np.nan, np.where((data[anyof] > 1), 1, data[anyof])\n",
    ")\n",
    "data[[col + \"_flag_zero\" for col in anyof]] = np.where(\n",
    "    data[anyof].isna(), np.nan, (data[anyof] == 0).astype(int)\n",
    ")\n",
    "data[[col + \"_quad\" for col in anyof]] = np.where(\n",
    "    data[anyof].isna(), np.nan, data[anyof] ** 2\n",
    ")\n"
   ]
  },
  {
   "cell_type": "code",
   "execution_count": 28,
   "metadata": {},
   "outputs": [],
   "source": [
    "# dropping flags with no variation\n",
    "flag_columns = [col for col in data.columns if \"flag\" in col]\n",
    "data = data.drop(\n",
    "    data[flag_columns].std()[(data[flag_columns].std() == 0)].index, axis=1\n",
    ")\n"
   ]
  },
  {
   "cell_type": "code",
   "execution_count": 29,
   "metadata": {},
   "outputs": [],
   "source": [
    "########################################################################\n",
    "# additional\n",
    "# including some imputation\n",
    "########################################################################\n",
    "\n",
    "# CEO age\n",
    "data[\"ceo_age\"] = data[\"year\"] - data[\"birth_year\"]\n",
    "data = data.assign(\n",
    "    flag_low_ceo_age=(data[\"ceo_age\"] < 25).astype(int),\n",
    "    flag_high_ceo_age=(data[\"ceo_age\"] > 75).astype(int),\n",
    "    flag_miss_ceo_age=(data[\"ceo_age\"].isna()).astype(int),\n",
    ")\n",
    "\n",
    "\n",
    "data[\"ceo_age\"] = np.where(data[\"ceo_age\"] < 25, 25, data[\"ceo_age\"])\n",
    "data[\"ceo_age\"] = np.where(data[\"ceo_age\"] > 75, 75, data[\"ceo_age\"])\n",
    "data[\"ceo_age\"] = np.where(\n",
    "    data[\"ceo_age\"].isna(), data[\"ceo_age\"].mean(), data[\"ceo_age\"]\n",
    ")\n",
    "data[\"ceo_young\"] = (data[\"ceo_age\"] < 40).astype(int)\n"
   ]
  },
  {
   "cell_type": "code",
   "execution_count": 30,
   "metadata": {},
   "outputs": [],
   "source": [
    "# number emp, very noisy measure\n",
    "data[\"labor_avg_mod\"] = np.where(\n",
    "    data[\"labor_avg\"].isna(), data[\"labor_avg\"].mean(), data[\"labor_avg\"]\n",
    ")\n",
    "data[\"flag_miss_labor_avg\"] = (data[\"labor_avg\"].isna()).astype(int)\n"
   ]
  },
  {
   "cell_type": "code",
   "execution_count": 31,
   "metadata": {},
   "outputs": [
    {
     "data": {
      "text/plain": [
       "count    18569.000000\n",
       "mean         0.621691\n",
       "std          1.586800\n",
       "min          0.083333\n",
       "25%          0.097222\n",
       "50%          0.229167\n",
       "75%          0.513889\n",
       "max         42.118057\n",
       "Name: labor_avg, dtype: float64"
      ]
     },
     "execution_count": 31,
     "metadata": {},
     "output_type": "execute_result"
    }
   ],
   "source": [
    "data[\"labor_avg\"].describe()\n"
   ]
  },
  {
   "cell_type": "code",
   "execution_count": 32,
   "metadata": {},
   "outputs": [
    {
     "data": {
      "text/plain": [
       "count    21723.000000\n",
       "mean         0.621691\n",
       "std          1.467084\n",
       "min          0.083333\n",
       "25%          0.125000\n",
       "50%          0.284722\n",
       "75%          0.621691\n",
       "max         42.118057\n",
       "Name: labor_avg_mod, dtype: float64"
      ]
     },
     "execution_count": 32,
     "metadata": {},
     "output_type": "execute_result"
    }
   ],
   "source": [
    "data[\"labor_avg_mod\"].describe()\n"
   ]
  },
  {
   "cell_type": "code",
   "execution_count": 33,
   "metadata": {},
   "outputs": [],
   "source": [
    "data = data.drop([\"labor_avg\"], axis=1)\n"
   ]
  },
  {
   "cell_type": "code",
   "execution_count": 35,
   "metadata": {},
   "outputs": [],
   "source": [
    "# create category type variables\n",
    "data[\"urban_m\"] = data[\"urban_m\"].astype(\"category\")\n",
    "data[\"ind2_cat\"] = data[\"ind2_cat\"].astype(\"category\")"
   ]
  },
  {
   "cell_type": "code",
   "execution_count": 36,
   "metadata": {},
   "outputs": [],
   "source": [
    "########################################################################\n",
    "# sales\n",
    "########################################################################\n",
    "data[\"sales_mil_log_sq\"] = data[\"sales_mil_log\"] ** 2\n"
   ]
  },
  {
   "cell_type": "code",
   "execution_count": 38,
   "metadata": {},
   "outputs": [
    {
     "data": {
      "image/png": "[encoded data removed]"
     },
     "metadata": {
      "image/png": {
       "height": 480,
       "width": 640
      }
     },
     "output_type": "display_data"
    }
   ],
   "source": [
    "color = ['blue', 'red', 'green']\n",
    "\n",
    "(\n",
    "    ggplot(data, aes(x=\"sales_mil_log\", y=\"fast_growth\"))\n",
    "    + geom_point(color=color[0])\n",
    "    + geom_smooth(method=\"lm\", formula=\"y ~ x + I(x**2)\", color=color[1], se=False)\n",
    "    + geom_smooth(method=\"loess\", color=color[2], se=False, size=1.5, span=0.9)\n",
    "    + labs(x=\"sales_mil_log\", y=\"default\")\n",
    "    + theme_bw()\n",
    ")\n"
   ]
  },
  {
   "cell_type": "code",
   "execution_count": 51,
   "metadata": {},
   "outputs": [
    {
     "name": "stdout",
     "output_type": "stream",
     "text": [
      "                            OLS Regression Results                            \n",
      "==============================================================================\n",
      "Dep. Variable:            fast_growth   R-squared:                       0.041\n",
      "Model:                            OLS   Adj. R-squared:                  0.041\n",
      "Method:                 Least Squares   F-statistic:                     410.9\n",
      "Date:                Tue, 04 Mar 2025   Prob (F-statistic):          2.03e-175\n",
      "Time:                        13:55:37   Log-Likelihood:                -12030.\n",
      "No. Observations:               19036   AIC:                         2.407e+04\n",
      "Df Residuals:                   19033   BIC:                         2.409e+04\n",
      "Df Model:                           2                                         \n",
      "Covariance Type:            nonrobust                                         \n",
      "====================================================================================\n",
      "                       coef    std err          t      P>|t|      [0.025      0.975]\n",
      "------------------------------------------------------------------------------------\n",
      "Intercept            0.2031      0.008     25.794      0.000       0.188       0.219\n",
      "sales_mil_log       -0.0015      0.005     -0.303      0.762      -0.011       0.008\n",
      "sales_mil_log_sq     0.0088      0.001     10.924      0.000       0.007       0.010\n",
      "==============================================================================\n",
      "Omnibus:                    23043.190   Durbin-Watson:                   1.987\n",
      "Prob(Omnibus):                  0.000   Jarque-Bera (JB):             3016.063\n",
      "Skew:                           0.758   Prob(JB):                         0.00\n",
      "Kurtosis:                       1.774   Cond. No.                         44.2\n",
      "==============================================================================\n",
      "\n",
      "Notes:\n",
      "[1] Standard Errors assume that the covariance matrix of the errors is correctly specified.\n"
     ]
    }
   ],
   "source": [
    "# Linear regressions\n",
    "ols_s = smf.ols(\"fast_growth ~ sales_mil_log + sales_mil_log_sq\", data=data).fit()\n",
    "print(ols_s.summary())\n"
   ]
  },
  {
   "cell_type": "code",
   "execution_count": 40,
   "metadata": {},
   "outputs": [],
   "source": [
    "# no more imputation, drop obs if key vars missing\n",
    "data = data.dropna(subset=[\"liq_assets_bs\", \"foreign\", \"ind\"])\n"
   ]
  },
  {
   "cell_type": "code",
   "execution_count": 41,
   "metadata": {},
   "outputs": [
    {
     "data": {
      "text/plain": [
       "count    19036.000000\n",
       "mean         8.701828\n",
       "std          6.924531\n",
       "min          0.000000\n",
       "25%          2.000000\n",
       "50%          7.000000\n",
       "75%         15.000000\n",
       "max         34.000000\n",
       "Name: age, dtype: float64"
      ]
     },
     "execution_count": 41,
     "metadata": {},
     "output_type": "execute_result"
    }
   ],
   "source": [
    "# drop missing\n",
    "data = data.dropna(subset=[\"age\", \"foreign\", \"material_exp_pl\", \"m_region_loc\"])\n",
    "data[\"age\"].describe()\n"
   ]
  },
  {
   "cell_type": "code",
   "execution_count": 42,
   "metadata": {},
   "outputs": [],
   "source": [
    "# drop unused factor levels\n",
    "for col in data.select_dtypes(include=[\"category\"]).columns:\n",
    "    data[col] = data[col].cat.remove_unused_categories()\n"
   ]
  },
  {
   "cell_type": "code",
   "execution_count": null,
   "metadata": {},
   "outputs": [],
   "source": [
    "data[\"profit_margin\"] = data[\"profit_loss_year\"] / data[\"sales\"]"
   ]
  },
  {
   "cell_type": "code",
   "execution_count": 49,
   "metadata": {},
   "outputs": [
    {
     "data": {
      "image/png": "[encoded data removed]"
     },
     "metadata": {
      "image/png": {
       "height": 480,
       "width": 640
      }
     },
     "output_type": "display_data"
    }
   ],
   "source": [
    "(\n",
    "    ggplot(data, aes(x=\"profit_margin\", y=\"fast_growth\"))\n",
    "    + geom_point(size=0.1, color=color[1])\n",
    "    + geom_smooth(method=\"loess\", color=color[0], se=False, size=1.5, span=0.9)\n",
    "    + labs(x=\"Growth rate (Diff of ln sales)\", y=\"fast growth\")\n",
    "    + scale_x_continuous(limits=(-1.5, 1.5), breaks=np.arange(-1.5, 1.5, 0.5))\n",
    "    + theme_bw()\n",
    ")\n"
   ]
  },
  {
   "cell_type": "code",
   "execution_count": 52,
   "metadata": {},
   "outputs": [],
   "source": [
    "data.to_csv(path + \"/firms_clean.csv\", index=False)\n"
   ]
  },
  {
   "cell_type": "code",
   "execution_count": 44,
   "metadata": {},
   "outputs": [
    {
     "data": {
      "text/plain": [
       "['year',\n",
       " 'comp_id',\n",
       " 'begin',\n",
       " 'end',\n",
       " 'amort',\n",
       " 'curr_assets',\n",
       " 'curr_liab',\n",
       " 'extra_exp',\n",
       " 'extra_inc',\n",
       " 'extra_profit_loss',\n",
       " 'fixed_assets',\n",
       " 'inc_bef_tax',\n",
       " 'intang_assets',\n",
       " 'inventories',\n",
       " 'liq_assets',\n",
       " 'material_exp',\n",
       " 'personnel_exp',\n",
       " 'profit_loss_year',\n",
       " 'sales',\n",
       " 'share_eq',\n",
       " 'subscribed_cap',\n",
       " 'tang_assets',\n",
       " 'D',\n",
       " 'balsheet_flag',\n",
       " 'balsheet_length',\n",
       " 'balsheet_notfullyear',\n",
       " 'founded_year',\n",
       " 'exit_year',\n",
       " 'ceo_count',\n",
       " 'foreign',\n",
       " 'female',\n",
       " 'birth_year',\n",
       " 'inoffice_days',\n",
       " 'gender',\n",
       " 'origin',\n",
       " 'nace_main',\n",
       " 'ind2',\n",
       " 'ind',\n",
       " 'urban_m',\n",
       " 'region_m',\n",
       " 'founded_date',\n",
       " 'exit_date',\n",
       " 'ln_sales',\n",
       " 'sales_mil',\n",
       " 'sales_mil_log',\n",
       " 'fast_growth',\n",
       " 'ind2_cat',\n",
       " 'age',\n",
       " 'new',\n",
       " 'age2',\n",
       " 'foreign_management',\n",
       " 'gender_m',\n",
       " 'm_region_loc',\n",
       " 'flag_asset_problem',\n",
       " 'total_assets_bs',\n",
       " 'extra_exp_pl',\n",
       " 'extra_inc_pl',\n",
       " 'extra_profit_loss_pl',\n",
       " 'inc_bef_tax_pl',\n",
       " 'inventories_pl',\n",
       " 'material_exp_pl',\n",
       " 'profit_loss_year_pl',\n",
       " 'personnel_exp_pl',\n",
       " 'intang_assets_bs',\n",
       " 'curr_liab_bs',\n",
       " 'fixed_assets_bs',\n",
       " 'liq_assets_bs',\n",
       " 'curr_assets_bs',\n",
       " 'share_eq_bs',\n",
       " 'subscribed_cap_bs',\n",
       " 'tang_assets_bs',\n",
       " 'extra_exp_pl_flag_high',\n",
       " 'extra_inc_pl_flag_high',\n",
       " 'inventories_pl_flag_high',\n",
       " 'material_exp_pl_flag_high',\n",
       " 'personnel_exp_pl_flag_high',\n",
       " 'curr_liab_bs_flag_high',\n",
       " 'liq_assets_bs_flag_high',\n",
       " 'subscribed_cap_bs_flag_high',\n",
       " 'extra_exp_pl_flag_error',\n",
       " 'extra_inc_pl_flag_error',\n",
       " 'inventories_pl_flag_error',\n",
       " 'material_exp_pl_flag_error',\n",
       " 'personnel_exp_pl_flag_error',\n",
       " 'curr_liab_bs_flag_error',\n",
       " 'liq_assets_bs_flag_error',\n",
       " 'subscribed_cap_bs_flag_error',\n",
       " 'extra_profit_loss_pl_flag_low',\n",
       " 'inc_bef_tax_pl_flag_low',\n",
       " 'profit_loss_year_pl_flag_low',\n",
       " 'share_eq_bs_flag_low',\n",
       " 'extra_profit_loss_pl_flag_high',\n",
       " 'inc_bef_tax_pl_flag_high',\n",
       " 'profit_loss_year_pl_flag_high',\n",
       " 'share_eq_bs_flag_high',\n",
       " 'extra_profit_loss_pl_flag_zero',\n",
       " 'inc_bef_tax_pl_flag_zero',\n",
       " 'profit_loss_year_pl_flag_zero',\n",
       " 'share_eq_bs_flag_zero',\n",
       " 'extra_profit_loss_pl_quad',\n",
       " 'inc_bef_tax_pl_quad',\n",
       " 'profit_loss_year_pl_quad',\n",
       " 'share_eq_bs_quad',\n",
       " 'ceo_age',\n",
       " 'flag_low_ceo_age',\n",
       " 'flag_high_ceo_age',\n",
       " 'flag_miss_ceo_age',\n",
       " 'ceo_young',\n",
       " 'labor_avg_mod',\n",
       " 'flag_miss_labor_avg',\n",
       " 'sales_mil_log_sq']"
      ]
     },
     "execution_count": 44,
     "metadata": {},
     "output_type": "execute_result"
    }
   ],
   "source": [
    "data.columns.to_list()"
   ]
  },
  {
   "cell_type": "code",
   "execution_count": null,
   "metadata": {},
   "outputs": [],
   "source": []
  }
 ],
 "metadata": {
  "kernelspec": {
   "display_name": "base",
   "language": "python",
   "name": "python3"
  },
  "language_info": {
   "name": "python",
   "version": "3.12.4"
  }
 },
 "nbformat": 4,
 "nbformat_minor": 2
}
