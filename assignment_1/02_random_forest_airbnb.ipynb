{
 "cells": [
  {
   "cell_type": "markdown",
   "metadata": {},
   "source": [
    "## Prediction with Random Forest      \n",
    "                                     \n",
    "Topics covered:                     \n",
    "   - Data cleaning & refactoring & feature engineering in a separate file            \n",
    "   - Run random forest  \n",
    "     - set mytr                      \n",
    "     - autotune                       \n",
    "   - Understanding RF output:        \n",
    "     - variable importance plots:    \n",
    "       - all, top 10 and permutation importance for categorical features      \n",
    "     - partial dependence plot       \n",
    "     - sub-sample analysis    \n",
    "     - SHAP values\n",
    "   - \"Horse-race\": model comparison  \n",
    "     - OLS, Lasso, CART, RF and XGBoost model          \n",
    "                                \n",
    "Case studies:                  \n",
    "  - CH16A Predicting apartment prices with random forest  \n",
    "                                \n",
    "Dataset:\n",
    "\n",
    "    airbnb"
   ]
  },
  {
   "cell_type": "code",
   "execution_count": 2,
   "metadata": {},
   "outputs": [],
   "source": [
    "import os\n",
    "import sys\n",
    "import warnings\n",
    "from pathlib import Path\n",
    "\n",
    "import matplotlib.pyplot as plt\n",
    "import numpy as np\n",
    "import pandas as pd\n",
    "import pickle\n",
    "from mizani.formatters import percent_format\n",
    "from patsy import dmatrices\n",
    "from plotnine import *\n",
    "from sklearn.compose import ColumnTransformer\n",
    "from sklearn.ensemble import RandomForestRegressor\n",
    "from sklearn.inspection import PartialDependenceDisplay\n",
    "from sklearn.inspection import permutation_importance\n",
    "from sklearn.metrics import mean_squared_error\n",
    "from sklearn.model_selection import GridSearchCV, RandomizedSearchCV, train_test_split\n",
    "from sklearn.pipeline import Pipeline\n",
    "from sklearn.preprocessing import OneHotEncoder\n",
    "from statsmodels.tools.eval_measures import rmse\n",
    "\n",
    "warnings.filterwarnings(\"ignore\")\n"
   ]
  },
  {
   "cell_type": "code",
   "execution_count": 3,
   "metadata": {},
   "outputs": [
    {
     "ename": "NameError",
     "evalue": "name 'data' is not defined",
     "output_type": "error",
     "traceback": [
      "\u001b[0;31m---------------------------------------------------------------------------\u001b[0m",
      "\u001b[0;31mNameError\u001b[0m                                 Traceback (most recent call last)",
      "Cell \u001b[0;32mIn[3], line 1\u001b[0m\n\u001b[0;32m----> 1\u001b[0m data \u001b[38;5;241m=\u001b[39m data\u001b[38;5;241m.\u001b[39massign(\n\u001b[1;32m      2\u001b[0m     n_bathrooms\u001b[38;5;241m=\u001b[39m\u001b[38;5;28;01mlambda\u001b[39;00m x: x[\u001b[38;5;124m\"\u001b[39m\u001b[38;5;124mn_bathrooms\u001b[39m\u001b[38;5;124m\"\u001b[39m]\u001b[38;5;241m.\u001b[39mfillna(np\u001b[38;5;241m.\u001b[39mmedian(x[\u001b[38;5;124m\"\u001b[39m\u001b[38;5;124mn_bathrooms\u001b[39m\u001b[38;5;124m\"\u001b[39m]\u001b[38;5;241m.\u001b[39mdropna())),\n\u001b[1;32m      3\u001b[0m     n_beds\u001b[38;5;241m=\u001b[39m\u001b[38;5;28;01mlambda\u001b[39;00m x: np\u001b[38;5;241m.\u001b[39mwhere(x[\u001b[38;5;124m\"\u001b[39m\u001b[38;5;124mn_beds\u001b[39m\u001b[38;5;124m\"\u001b[39m]\u001b[38;5;241m.\u001b[39misnull(), x[\u001b[38;5;124m\"\u001b[39m\u001b[38;5;124mn_accommodates\u001b[39m\u001b[38;5;124m\"\u001b[39m], x[\u001b[38;5;124m\"\u001b[39m\u001b[38;5;124mn_beds\u001b[39m\u001b[38;5;124m\"\u001b[39m]),\n\u001b[1;32m      4\u001b[0m     f_bathroom\u001b[38;5;241m=\u001b[39m\u001b[38;5;28;01mlambda\u001b[39;00m x: x[\u001b[38;5;124m\"\u001b[39m\u001b[38;5;124mf_bathroom\u001b[39m\u001b[38;5;124m\"\u001b[39m]\u001b[38;5;241m.\u001b[39mfillna(\u001b[38;5;241m1\u001b[39m),\n\u001b[1;32m      5\u001b[0m     f_minimum_nights\u001b[38;5;241m=\u001b[39m\u001b[38;5;28;01mlambda\u001b[39;00m x: x[\u001b[38;5;124m\"\u001b[39m\u001b[38;5;124mf_minimum_nights\u001b[39m\u001b[38;5;124m\"\u001b[39m]\u001b[38;5;241m.\u001b[39mfillna(\u001b[38;5;241m1\u001b[39m),\n\u001b[1;32m      6\u001b[0m     f_number_of_reviews\u001b[38;5;241m=\u001b[39m\u001b[38;5;28;01mlambda\u001b[39;00m x: x[\u001b[38;5;124m\"\u001b[39m\u001b[38;5;124mf_number_of_reviews\u001b[39m\u001b[38;5;124m\"\u001b[39m]\u001b[38;5;241m.\u001b[39mfillna(\u001b[38;5;241m1\u001b[39m),\n\u001b[1;32m      7\u001b[0m     ln_beds\u001b[38;5;241m=\u001b[39m\u001b[38;5;28;01mlambda\u001b[39;00m x: x[\u001b[38;5;124m\"\u001b[39m\u001b[38;5;124mln_beds\u001b[39m\u001b[38;5;124m\"\u001b[39m]\u001b[38;5;241m.\u001b[39mfillna(\u001b[38;5;241m0\u001b[39m),\n\u001b[1;32m      8\u001b[0m )\n",
      "\u001b[0;31mNameError\u001b[0m: name 'data' is not defined"
     ]
    }
   ],
   "source": [
    "data = data.assign(\n",
    "    n_bathrooms=lambda x: x[\"n_bathrooms\"].fillna(np.median(x[\"n_bathrooms\"].dropna())),\n",
    "    n_beds=lambda x: np.where(x[\"n_beds\"].isnull(), x[\"n_accommodates\"], x[\"n_beds\"]),\n",
    "    f_bathroom=lambda x: x[\"f_bathroom\"].fillna(1),\n",
    "    f_minimum_nights=lambda x: x[\"f_minimum_nights\"].fillna(1),\n",
    "    f_number_of_reviews=lambda x: x[\"f_number_of_reviews\"].fillna(1),\n",
    "    ln_beds=lambda x: x[\"ln_beds\"].fillna(0),\n",
    ")\n"
   ]
  },
  {
   "cell_type": "markdown",
   "metadata": {},
   "source": [
    "## PART I\n",
    "### Loading and preparing data \n",
    "----------------------------------------------"
   ]
  },
  {
   "cell_type": "code",
   "execution_count": 5,
   "metadata": {},
   "outputs": [],
   "source": [
    "data = pd.read_csv(\"data/clean/airbnb_madrid_workfile_adj.csv\")"
   ]
  },
  {
   "cell_type": "code",
   "execution_count": 6,
   "metadata": {},
   "outputs": [
    {
     "data": {
      "text/plain": [
       "0"
      ]
     },
     "execution_count": 6,
     "metadata": {},
     "output_type": "execute_result"
    }
   ],
   "source": [
    "data.isnull().sum().sum()"
   ]
  },
  {
   "cell_type": "markdown",
   "metadata": {},
   "source": [
    "### Sample definition and preparation"
   ]
  },
  {
   "cell_type": "markdown",
   "metadata": {},
   "source": [
    "We focus on normal apartments, n<8"
   ]
  },
  {
   "cell_type": "code",
   "execution_count": 7,
   "metadata": {},
   "outputs": [],
   "source": [
    "data = data.loc[lambda x: x[\"n_accommodates\"] < 8]"
   ]
  },
  {
   "cell_type": "markdown",
   "metadata": {},
   "source": [
    "Copy a variable - purpose later, see at variable importance"
   ]
  },
  {
   "cell_type": "code",
   "execution_count": 8,
   "metadata": {},
   "outputs": [],
   "source": [
    "data = data.assign(n_accommodates_copy=data.n_accommodates)"
   ]
  },
  {
   "cell_type": "code",
   "execution_count": 9,
   "metadata": {},
   "outputs": [
    {
     "data": {
      "text/html": [
       "<div>\n",
       "<style scoped>\n",
       "    .dataframe tbody tr th:only-of-type {\n",
       "        vertical-align: middle;\n",
       "    }\n",
       "\n",
       "    .dataframe tbody tr th {\n",
       "        vertical-align: top;\n",
       "    }\n",
       "\n",
       "    .dataframe thead th {\n",
       "        text-align: right;\n",
       "    }\n",
       "</style>\n",
       "<table border=\"1\" class=\"dataframe\">\n",
       "  <thead>\n",
       "    <tr style=\"text-align: right;\">\n",
       "      <th></th>\n",
       "      <th>usd_price_day</th>\n",
       "      <th>p_host_response_rate</th>\n",
       "      <th>n_accommodates</th>\n",
       "      <th>n_bathrooms</th>\n",
       "      <th>n_review_scores_rating</th>\n",
       "      <th>n_number_of_reviews</th>\n",
       "      <th>n_reviews_per_month</th>\n",
       "      <th>n_minimum_nights</th>\n",
       "      <th>n_beds</th>\n",
       "      <th>n_days_since</th>\n",
       "      <th>...</th>\n",
       "      <th>flag_review_scores_rating</th>\n",
       "      <th>flag_reviews_per_month</th>\n",
       "      <th>flag_n_number_of_reviews</th>\n",
       "      <th>ln_days_since</th>\n",
       "      <th>ln_days_since2</th>\n",
       "      <th>ln_days_since3</th>\n",
       "      <th>n_days_since2</th>\n",
       "      <th>n_days_since3</th>\n",
       "      <th>ln_review_scores_rating</th>\n",
       "      <th>n_accommodates_copy</th>\n",
       "    </tr>\n",
       "  </thead>\n",
       "  <tbody>\n",
       "    <tr>\n",
       "      <th>count</th>\n",
       "      <td>20233.000000</td>\n",
       "      <td>20233.0</td>\n",
       "      <td>20233.000000</td>\n",
       "      <td>20233.000000</td>\n",
       "      <td>20233.000000</td>\n",
       "      <td>20233.000000</td>\n",
       "      <td>20233.000000</td>\n",
       "      <td>20233.000000</td>\n",
       "      <td>20233.000000</td>\n",
       "      <td>20233.000000</td>\n",
       "      <td>...</td>\n",
       "      <td>20233.000000</td>\n",
       "      <td>20233.000000</td>\n",
       "      <td>20233.0</td>\n",
       "      <td>20233.000000</td>\n",
       "      <td>20233.000000</td>\n",
       "      <td>20233.000000</td>\n",
       "      <td>2.023300e+04</td>\n",
       "      <td>2.023300e+04</td>\n",
       "      <td>20233.000000</td>\n",
       "      <td>20233.000000</td>\n",
       "    </tr>\n",
       "    <tr>\n",
       "      <th>mean</th>\n",
       "      <td>117.980626</td>\n",
       "      <td>0.0</td>\n",
       "      <td>3.019473</td>\n",
       "      <td>1.253398</td>\n",
       "      <td>4.669453</td>\n",
       "      <td>53.026442</td>\n",
       "      <td>1.940280</td>\n",
       "      <td>7.060940</td>\n",
       "      <td>1.829931</td>\n",
       "      <td>6.282932</td>\n",
       "      <td>...</td>\n",
       "      <td>0.170415</td>\n",
       "      <td>0.170415</td>\n",
       "      <td>0.0</td>\n",
       "      <td>6.282932</td>\n",
       "      <td>40.894425</td>\n",
       "      <td>273.354686</td>\n",
       "      <td>1.725053e+06</td>\n",
       "      <td>4.461300e+09</td>\n",
       "      <td>1.534179</td>\n",
       "      <td>3.019473</td>\n",
       "    </tr>\n",
       "    <tr>\n",
       "      <th>std</th>\n",
       "      <td>91.768908</td>\n",
       "      <td>0.0</td>\n",
       "      <td>1.521987</td>\n",
       "      <td>0.595112</td>\n",
       "      <td>0.427763</td>\n",
       "      <td>93.815632</td>\n",
       "      <td>1.826741</td>\n",
       "      <td>17.356968</td>\n",
       "      <td>1.243126</td>\n",
       "      <td>1.191328</td>\n",
       "      <td>...</td>\n",
       "      <td>0.376006</td>\n",
       "      <td>0.376006</td>\n",
       "      <td>0.0</td>\n",
       "      <td>1.191328</td>\n",
       "      <td>13.978358</td>\n",
       "      <td>131.588942</td>\n",
       "      <td>3.234207e+06</td>\n",
       "      <td>1.158312e+10</td>\n",
       "      <td>0.135768</td>\n",
       "      <td>1.521987</td>\n",
       "    </tr>\n",
       "    <tr>\n",
       "      <th>min</th>\n",
       "      <td>1.000000</td>\n",
       "      <td>0.0</td>\n",
       "      <td>1.000000</td>\n",
       "      <td>0.000000</td>\n",
       "      <td>1.000000</td>\n",
       "      <td>0.000000</td>\n",
       "      <td>0.010000</td>\n",
       "      <td>1.000000</td>\n",
       "      <td>0.000000</td>\n",
       "      <td>0.000000</td>\n",
       "      <td>...</td>\n",
       "      <td>0.000000</td>\n",
       "      <td>0.000000</td>\n",
       "      <td>0.0</td>\n",
       "      <td>0.000000</td>\n",
       "      <td>0.000000</td>\n",
       "      <td>0.000000</td>\n",
       "      <td>0.000000e+00</td>\n",
       "      <td>0.000000e+00</td>\n",
       "      <td>0.000000</td>\n",
       "      <td>1.000000</td>\n",
       "    </tr>\n",
       "    <tr>\n",
       "      <th>25%</th>\n",
       "      <td>60.000000</td>\n",
       "      <td>0.0</td>\n",
       "      <td>2.000000</td>\n",
       "      <td>1.000000</td>\n",
       "      <td>4.610000</td>\n",
       "      <td>2.000000</td>\n",
       "      <td>0.730000</td>\n",
       "      <td>1.000000</td>\n",
       "      <td>1.000000</td>\n",
       "      <td>5.710427</td>\n",
       "      <td>...</td>\n",
       "      <td>0.000000</td>\n",
       "      <td>0.000000</td>\n",
       "      <td>0.0</td>\n",
       "      <td>5.710427</td>\n",
       "      <td>32.608977</td>\n",
       "      <td>186.211182</td>\n",
       "      <td>9.060100e+04</td>\n",
       "      <td>2.727090e+07</td>\n",
       "      <td>1.528228</td>\n",
       "      <td>2.000000</td>\n",
       "    </tr>\n",
       "    <tr>\n",
       "      <th>50%</th>\n",
       "      <td>100.000000</td>\n",
       "      <td>0.0</td>\n",
       "      <td>3.000000</td>\n",
       "      <td>1.000000</td>\n",
       "      <td>4.760000</td>\n",
       "      <td>15.000000</td>\n",
       "      <td>1.460000</td>\n",
       "      <td>2.000000</td>\n",
       "      <td>2.000000</td>\n",
       "      <td>6.388561</td>\n",
       "      <td>...</td>\n",
       "      <td>0.000000</td>\n",
       "      <td>0.000000</td>\n",
       "      <td>0.0</td>\n",
       "      <td>6.388561</td>\n",
       "      <td>40.813717</td>\n",
       "      <td>260.740936</td>\n",
       "      <td>3.528360e+05</td>\n",
       "      <td>2.095846e+08</td>\n",
       "      <td>1.560248</td>\n",
       "      <td>3.000000</td>\n",
       "    </tr>\n",
       "    <tr>\n",
       "      <th>75%</th>\n",
       "      <td>147.000000</td>\n",
       "      <td>0.0</td>\n",
       "      <td>4.000000</td>\n",
       "      <td>1.000000</td>\n",
       "      <td>4.880000</td>\n",
       "      <td>61.000000</td>\n",
       "      <td>2.540000</td>\n",
       "      <td>3.000000</td>\n",
       "      <td>2.000000</td>\n",
       "      <td>7.023759</td>\n",
       "      <td>...</td>\n",
       "      <td>0.000000</td>\n",
       "      <td>0.000000</td>\n",
       "      <td>0.0</td>\n",
       "      <td>7.023759</td>\n",
       "      <td>49.333190</td>\n",
       "      <td>346.504434</td>\n",
       "      <td>1.258884e+06</td>\n",
       "      <td>1.412468e+09</td>\n",
       "      <td>1.585145</td>\n",
       "      <td>4.000000</td>\n",
       "    </tr>\n",
       "    <tr>\n",
       "      <th>max</th>\n",
       "      <td>999.000000</td>\n",
       "      <td>0.0</td>\n",
       "      <td>7.000000</td>\n",
       "      <td>12.000000</td>\n",
       "      <td>5.000000</td>\n",
       "      <td>1092.000000</td>\n",
       "      <td>41.220000</td>\n",
       "      <td>364.000000</td>\n",
       "      <td>40.000000</td>\n",
       "      <td>8.546364</td>\n",
       "      <td>...</td>\n",
       "      <td>1.000000</td>\n",
       "      <td>1.000000</td>\n",
       "      <td>0.0</td>\n",
       "      <td>8.546364</td>\n",
       "      <td>73.040330</td>\n",
       "      <td>624.229217</td>\n",
       "      <td>2.649161e+07</td>\n",
       "      <td>1.363523e+11</td>\n",
       "      <td>1.609438</td>\n",
       "      <td>7.000000</td>\n",
       "    </tr>\n",
       "  </tbody>\n",
       "</table>\n",
       "<p>8 rows × 3051 columns</p>\n",
       "</div>"
      ],
      "text/plain": [
       "       usd_price_day  p_host_response_rate  n_accommodates   n_bathrooms  \\\n",
       "count   20233.000000               20233.0    20233.000000  20233.000000   \n",
       "mean      117.980626                   0.0        3.019473      1.253398   \n",
       "std        91.768908                   0.0        1.521987      0.595112   \n",
       "min         1.000000                   0.0        1.000000      0.000000   \n",
       "25%        60.000000                   0.0        2.000000      1.000000   \n",
       "50%       100.000000                   0.0        3.000000      1.000000   \n",
       "75%       147.000000                   0.0        4.000000      1.000000   \n",
       "max       999.000000                   0.0        7.000000     12.000000   \n",
       "\n",
       "       n_review_scores_rating  n_number_of_reviews  n_reviews_per_month  \\\n",
       "count            20233.000000         20233.000000         20233.000000   \n",
       "mean                 4.669453            53.026442             1.940280   \n",
       "std                  0.427763            93.815632             1.826741   \n",
       "min                  1.000000             0.000000             0.010000   \n",
       "25%                  4.610000             2.000000             0.730000   \n",
       "50%                  4.760000            15.000000             1.460000   \n",
       "75%                  4.880000            61.000000             2.540000   \n",
       "max                  5.000000          1092.000000            41.220000   \n",
       "\n",
       "       n_minimum_nights        n_beds  n_days_since  ...  \\\n",
       "count      20233.000000  20233.000000  20233.000000  ...   \n",
       "mean           7.060940      1.829931      6.282932  ...   \n",
       "std           17.356968      1.243126      1.191328  ...   \n",
       "min            1.000000      0.000000      0.000000  ...   \n",
       "25%            1.000000      1.000000      5.710427  ...   \n",
       "50%            2.000000      2.000000      6.388561  ...   \n",
       "75%            3.000000      2.000000      7.023759  ...   \n",
       "max          364.000000     40.000000      8.546364  ...   \n",
       "\n",
       "       flag_review_scores_rating  flag_reviews_per_month  \\\n",
       "count               20233.000000            20233.000000   \n",
       "mean                    0.170415                0.170415   \n",
       "std                     0.376006                0.376006   \n",
       "min                     0.000000                0.000000   \n",
       "25%                     0.000000                0.000000   \n",
       "50%                     0.000000                0.000000   \n",
       "75%                     0.000000                0.000000   \n",
       "max                     1.000000                1.000000   \n",
       "\n",
       "       flag_n_number_of_reviews  ln_days_since  ln_days_since2  \\\n",
       "count                   20233.0   20233.000000    20233.000000   \n",
       "mean                        0.0       6.282932       40.894425   \n",
       "std                         0.0       1.191328       13.978358   \n",
       "min                         0.0       0.000000        0.000000   \n",
       "25%                         0.0       5.710427       32.608977   \n",
       "50%                         0.0       6.388561       40.813717   \n",
       "75%                         0.0       7.023759       49.333190   \n",
       "max                         0.0       8.546364       73.040330   \n",
       "\n",
       "       ln_days_since3  n_days_since2  n_days_since3  ln_review_scores_rating  \\\n",
       "count    20233.000000   2.023300e+04   2.023300e+04             20233.000000   \n",
       "mean       273.354686   1.725053e+06   4.461300e+09                 1.534179   \n",
       "std        131.588942   3.234207e+06   1.158312e+10                 0.135768   \n",
       "min          0.000000   0.000000e+00   0.000000e+00                 0.000000   \n",
       "25%        186.211182   9.060100e+04   2.727090e+07                 1.528228   \n",
       "50%        260.740936   3.528360e+05   2.095846e+08                 1.560248   \n",
       "75%        346.504434   1.258884e+06   1.412468e+09                 1.585145   \n",
       "max        624.229217   2.649161e+07   1.363523e+11                 1.609438   \n",
       "\n",
       "       n_accommodates_copy  \n",
       "count         20233.000000  \n",
       "mean              3.019473  \n",
       "std               1.521987  \n",
       "min               1.000000  \n",
       "25%               2.000000  \n",
       "50%               3.000000  \n",
       "75%               4.000000  \n",
       "max               7.000000  \n",
       "\n",
       "[8 rows x 3051 columns]"
      ]
     },
     "execution_count": 9,
     "metadata": {},
     "output_type": "execute_result"
    }
   ],
   "source": [
    "data.describe()"
   ]
  },
  {
   "cell_type": "code",
   "execution_count": 10,
   "metadata": {},
   "outputs": [
    {
     "data": {
      "text/plain": [
       "count    20233.000000\n",
       "mean       117.980626\n",
       "std         91.768908\n",
       "min          1.000000\n",
       "25%         60.000000\n",
       "50%        100.000000\n",
       "75%        147.000000\n",
       "max        999.000000\n",
       "Name: price, dtype: float64"
      ]
     },
     "execution_count": 10,
     "metadata": {},
     "output_type": "execute_result"
    }
   ],
   "source": [
    "data.price.describe()"
   ]
  },
  {
   "cell_type": "code",
   "execution_count": 11,
   "metadata": {},
   "outputs": [
    {
     "data": {
      "text/plain": [
       "f_room_type\n",
       "Entire          13805\n",
       "Private room     5926\n",
       "Shared room       260\n",
       "Unknown           242\n",
       "Name: count, dtype: int64"
      ]
     },
     "execution_count": 11,
     "metadata": {},
     "output_type": "execute_result"
    }
   ],
   "source": [
    "data.f_room_type.value_counts()"
   ]
  },
  {
   "cell_type": "code",
   "execution_count": 12,
   "metadata": {},
   "outputs": [
    {
     "data": {
      "text/plain": [
       "f_property_type\n",
       "Apartment              18087\n",
       "House                    995\n",
       "Hotel/Serviced Stay      610\n",
       "Hostel                   268\n",
       "Traditional Stay         191\n",
       "Unknown                   54\n",
       "Alternative Stay          28\n",
       "Name: count, dtype: int64"
      ]
     },
     "execution_count": 12,
     "metadata": {},
     "output_type": "execute_result"
    }
   ],
   "source": [
    "data.f_property_type.value_counts()"
   ]
  },
  {
   "cell_type": "code",
   "execution_count": 13,
   "metadata": {},
   "outputs": [
    {
     "data": {
      "text/plain": [
       "f_number_of_reviews\n",
       "[1, 51)       11039\n",
       "[51, 1092)     5745\n",
       "[0, 1)         3448\n",
       "99                1\n",
       "Name: count, dtype: int64"
      ]
     },
     "execution_count": 13,
     "metadata": {},
     "output_type": "execute_result"
    }
   ],
   "source": [
    "data.f_number_of_reviews.value_counts()"
   ]
  },
  {
   "cell_type": "markdown",
   "metadata": {},
   "source": [
    "### Create train and holdout samples"
   ]
  },
  {
   "cell_type": "markdown",
   "metadata": {},
   "source": [
    "train is where we do it all, incl CV"
   ]
  },
  {
   "cell_type": "code",
   "execution_count": 14,
   "metadata": {},
   "outputs": [],
   "source": [
    "data_train, data_holdout = train_test_split(data, train_size=0.7, random_state=42)\n"
   ]
  },
  {
   "cell_type": "code",
   "execution_count": 15,
   "metadata": {},
   "outputs": [
    {
     "data": {
      "text/plain": [
       "((14163, 3062), (6070, 3062))"
      ]
     },
     "execution_count": 15,
     "metadata": {},
     "output_type": "execute_result"
    }
   ],
   "source": [
    "data_train.shape, data_holdout.shape\n"
   ]
  },
  {
   "cell_type": "markdown",
   "metadata": {},
   "source": [
    "Basic Variables inc neighbourhood"
   ]
  },
  {
   "cell_type": "code",
   "execution_count": 16,
   "metadata": {},
   "outputs": [],
   "source": [
    "basic_vars = [\n",
    "    \"n_accommodates\",\n",
    "    \"n_beds\",\n",
    "    \"n_days_since\",\n",
    "    \"f_property_type\",\n",
    "    \"f_room_type\",\n",
    "    \"f_bathroom\",\n",
    "    \"f_cancellation_policy\",\n",
    "    \"f_bed_type\",\n",
    "    \"f_neighbourhood_cleansed\",\n",
    "]"
   ]
  },
  {
   "cell_type": "markdown",
   "metadata": {},
   "source": [
    "Reviews"
   ]
  },
  {
   "cell_type": "code",
   "execution_count": 17,
   "metadata": {},
   "outputs": [],
   "source": [
    "reviews = [\n",
    "    \"n_number_of_reviews\",\n",
    "    \"flag_n_number_of_reviews\",\n",
    "    \"n_review_scores_rating\",\n",
    "    \"flag_review_scores_rating\",\n",
    "]\n"
   ]
  },
  {
   "cell_type": "markdown",
   "metadata": {},
   "source": [
    "Dummy variables"
   ]
  },
  {
   "cell_type": "code",
   "execution_count": 18,
   "metadata": {},
   "outputs": [],
   "source": [
    "amenities = [col for col in data if col.startswith(\"d_\")]"
   ]
  },
  {
   "cell_type": "markdown",
   "metadata": {},
   "source": [
    "Interactions for the LASSO from lecture 19"
   ]
  },
  {
   "cell_type": "code",
   "execution_count": 19,
   "metadata": {},
   "outputs": [],
   "source": [
    "X1 = [\n",
    "    \"n_accommodates:f_property_type\",\n",
    "    \"f_room_type:f_property_type\",\n",
    "    \"f_room_type:d_familykidfriendly\",\n",
    "    \"d_airconditioning:f_property_type\",\n",
    "    \"d_cats:f_property_type\",\n",
    "    \"d_dogs:f_property_type\",\n",
    "]\n",
    "# with boroughs\n",
    "X2 = [\n",
    "    \"f_property_type:f_neighbourhood_cleansed\",\n",
    "    \"f_room_type:f_neighbourhood_cleansed\",\n",
    "    \"n_accommodates:f_neighbourhood_cleansed\",\n",
    "]"
   ]
  },
  {
   "cell_type": "code",
   "execution_count": 20,
   "metadata": {},
   "outputs": [],
   "source": [
    "predictors_1 = basic_vars\n",
    "predictors_2 = basic_vars + reviews + amenities\n",
    "predictors_E = basic_vars + reviews + amenities + X1 + X2\n"
   ]
  },
  {
   "cell_type": "markdown",
   "metadata": {},
   "source": [
    "## PART II\n",
    "### RANDOM FORESTS \n",
    "-------------------------------------------------------"
   ]
  },
  {
   "cell_type": "markdown",
   "metadata": {},
   "source": [
    "Initialize RandomForestRegressor"
   ]
  },
  {
   "cell_type": "code",
   "execution_count": 21,
   "metadata": {},
   "outputs": [],
   "source": [
    "rfr = RandomForestRegressor(\n",
    "    random_state=42,\n",
    "    criterion=\"squared_error\",\n",
    "    n_estimators=500,\n",
    "    oob_score=True,\n",
    "    n_jobs=-1\n",
    ")"
   ]
  },
  {
   "cell_type": "markdown",
   "metadata": {},
   "source": [
    "Define tune grid"
   ]
  },
  {
   "cell_type": "code",
   "execution_count": 22,
   "metadata": {},
   "outputs": [],
   "source": [
    "tune_grid = {\"max_features\": [5, 7, 9], \"min_samples_split\": [6, 11]}"
   ]
  },
  {
   "cell_type": "markdown",
   "metadata": {},
   "source": [
    "Add all of this to GridSearchCV which will iterate through all combinations of the tunegrid's parameter options"
   ]
  },
  {
   "cell_type": "code",
   "execution_count": 23,
   "metadata": {},
   "outputs": [],
   "source": [
    "rf_random = GridSearchCV(\n",
    "    rfr, tune_grid, cv=5, scoring=\"neg_root_mean_squared_error\", verbose=3\n",
    ")\n"
   ]
  },
  {
   "cell_type": "markdown",
   "metadata": {},
   "source": [
    "One hot encode data\n",
    "\n",
    "I GOT AN ERROR HERE! HELP!"
   ]
  },
  {
   "cell_type": "code",
   "execution_count": 49,
   "metadata": {},
   "outputs": [
    {
     "name": "stdout",
     "output_type": "stream",
     "text": [
      "Generated Formula: price ~ ``n_accommodates`` + ``n_beds`` + ``n_days_since`` + ``f_property_type`` + ``f_room_type`` + ``f_bathroom`` + ``f_cancellation_policy`` + ``f_bed_type`` + ``f_neighbourhood_cleansed`` + ``n_number_of_reviews`` + ``flag_n_number_of_reviews`` + ``n_review_scores_rating`` + ``flag_review_scores_rating`` + ``d_\"children'splayroom\"`` + ``d_\"elvivedel'orealconditioner\"`` + ``d_\"elvivedel'orealshampoo\"`` + ``d_\"johnson'sbabyshampoo\"`` + ``d_\"l'occitanebodysoap\"`` + ``d_\"l'occitaneenprovencebodysoap\"`` + ``d_\"l'occitaneenprovenceconditioner\"`` + ``d_\"l'occitaneenprovenceshampoo\"`` + ``d_\"l'or\\\\u00e9alprimerasmarcasbodysoap\"`` + ``d_\"l'or\\\\u00e9alprimerasmarcasshampoo\"`` + ``d_\"l'or\\\\u00e9alshampoo\"`` + ``d_\"l'orealconditioner\"`` + ``d_\"lov'ycbodysoap\"`` + ``d_''`` + ``d_'(contienealimentosnuestros'`` + ``d_'bodysoap'`` + ``d_'.bodysoap'`` + ``d_'.conditioner'`` + ``d_'.doubleoven'`` + ``d_'.refrigerator'`` + ``d_'.shampoo'`` + ``d_'.singleoven'`` + ``d_'.stainlesssteeloven'`` + ``d_'..bodysoap'`` + ``d_'..shampoo'`` + ``d_'...refrigerator'`` + ``d_'0%bodysoap'`` + ``d_'1dayaweekavailableatextracost'`` + ``d_'1inchhdtvwithstandardcable'`` + ``d_'1inchhdtv'`` + ``d_'1inchtvwithstandardcable'`` + ``d_'100inchhdtvwithchromecast'`` + ``d_'100inchtvwithamazonprimevideo'`` + ``d_'100inchtvwithchromecast'`` + ``d_'106inchhdtvwithappletv'`` + ``d_'127inchhdtvwithstandardcable'`` + ``d_'14inchhdtvwithstandardcable'``\n"
     ]
    },
    {
     "ename": "SyntaxError",
     "evalue": "invalid syntax (<unknown>, line 1)",
     "output_type": "error",
     "traceback": [
      "Traceback \u001b[0;36m(most recent call last)\u001b[0m:\n",
      "\u001b[0m  File \u001b[1;32m/opt/anaconda3/lib/python3.12/site-packages/IPython/core/interactiveshell.py:3577\u001b[0m in \u001b[1;35mrun_code\u001b[0m\n    exec(code_obj, self.user_global_ns, self.user_ns)\u001b[0m\n",
      "\u001b[0m  Cell \u001b[1;32mIn[49], line 6\u001b[0m\n    y, X = dmatrices(formula, data_train)\u001b[0m\n",
      "\u001b[0m  File \u001b[1;32m/opt/anaconda3/lib/python3.12/site-packages/patsy/highlevel.py:309\u001b[0m in \u001b[1;35mdmatrices\u001b[0m\n    (lhs, rhs) = _do_highlevel_design(formula_like, data, eval_env,\u001b[0m\n",
      "\u001b[0m  File \u001b[1;32m/opt/anaconda3/lib/python3.12/site-packages/patsy/highlevel.py:164\u001b[0m in \u001b[1;35m_do_highlevel_design\u001b[0m\n    design_infos = _try_incr_builders(formula_like, data_iter_maker, eval_env,\u001b[0m\n",
      "\u001b[0m  File \u001b[1;32m/opt/anaconda3/lib/python3.12/site-packages/patsy/highlevel.py:66\u001b[0m in \u001b[1;35m_try_incr_builders\u001b[0m\n    return design_matrix_builders([formula_like.lhs_termlist,\u001b[0m\n",
      "\u001b[0m  File \u001b[1;32m/opt/anaconda3/lib/python3.12/site-packages/patsy/build.py:689\u001b[0m in \u001b[1;35mdesign_matrix_builders\u001b[0m\n    factor_states = _factors_memorize(all_factors, data_iter_maker, eval_env)\u001b[0m\n",
      "\u001b[0m  File \u001b[1;32m/opt/anaconda3/lib/python3.12/site-packages/patsy/build.py:354\u001b[0m in \u001b[1;35m_factors_memorize\u001b[0m\n    which_pass = factor.memorize_passes_needed(state, eval_env)\u001b[0m\n",
      "\u001b[0m  File \u001b[1;32m/opt/anaconda3/lib/python3.12/site-packages/patsy/eval.py:478\u001b[0m in \u001b[1;35mmemorize_passes_needed\u001b[0m\n    subset_names = [name for name in ast_names(self.code)\u001b[0m\n",
      "\u001b[0m  File \u001b[1;32m/opt/anaconda3/lib/python3.12/site-packages/patsy/eval.py:109\u001b[0m in \u001b[1;35mast_names\u001b[0m\n    for node in ast.walk(ast.parse(code)):\u001b[0m\n",
      "\u001b[0;36m  File \u001b[0;32m/opt/anaconda3/lib/python3.12/ast.py:52\u001b[0;36m in \u001b[0;35mparse\u001b[0;36m\n\u001b[0;31m    return compile(source, filename, mode, flags,\u001b[0;36m\n",
      "\u001b[0;36m  File \u001b[0;32m<unknown>:1\u001b[0;36m\u001b[0m\n\u001b[0;31m    ``n_days_since``\u001b[0m\n\u001b[0m    ^\u001b[0m\n\u001b[0;31mSyntaxError\u001b[0m\u001b[0;31m:\u001b[0m invalid syntax\n"
     ]
    }
   ],
   "source": [
    "y, X = dmatrices(\"price ~ \" + \" + \".join(predictors_2), data_train)"
   ]
  },
  {
   "cell_type": "markdown",
   "metadata": {},
   "source": [
    "Fit the model (**NOTE:** load fitted model below)"
   ]
  },
  {
   "cell_type": "code",
   "execution_count": 46,
   "metadata": {},
   "outputs": [
    {
     "name": "stdout",
     "output_type": "stream",
     "text": [
      "Index(['f_room_type', 'f_property_type', 'f_room_type2',\n",
      "       'f_neighbourhood_cleansed', 'usd_price_day', 'p_host_response_rate',\n",
      "       'n_accommodates', 'n_bathrooms', 'n_review_scores_rating',\n",
      "       'n_number_of_reviews',\n",
      "       ...\n",
      "       'flag_review_scores_rating', 'flag_reviews_per_month',\n",
      "       'flag_n_number_of_reviews', 'ln_days_since', 'ln_days_since2',\n",
      "       'ln_days_since3', 'n_days_since2', 'n_days_since3',\n",
      "       'ln_review_scores_rating', 'n_accommodates_copy'],\n",
      "      dtype='object', length=3062)\n"
     ]
    }
   ],
   "source": [
    "data_train.columns = data_train.columns.astype(str)\n",
    "# Remove unwanted characters\n",
    "data_train = data_train.rename(columns=lambda x: x.replace(\".\", \"_\"))\n",
    "data_train = data_train.rename(columns=lambda x: x.replace(\"-\", \"_\").replace(\" \", \"_\"))\n",
    "data_train = data_train.rename(columns=lambda x: f\"var_{x}\" if x[0].isdigit() else x)\n",
    "data_train.columns = data_train.columns.str.replace(r\"[\\'\\\"]\", \"\", regex=True)  # Remove apostrophes and quotes\n",
    "data_train.columns = data_train.columns.str.replace(r\"[^a-zA-Z0-9_]\", \"_\", regex=True)  # Replace other special characters\n",
    "data_train.columns = [\"var_\" + col if col[0].isdigit() else col for col in data_train.columns]  # Prefix numbers\n",
    "data_train.columns = data_train.columns.str.replace(r\"[^\\w]\", \"_\", regex=True)\n",
    "print(data_train.columns)"
   ]
  },
  {
   "cell_type": "code",
   "execution_count": 43,
   "metadata": {},
   "outputs": [
    {
     "name": "stdout",
     "output_type": "stream",
     "text": [
      "['f_room_type', 'f_property_type', 'f_room_type2', 'f_neighbourhood_cleansed', 'usd_price_day', 'p_host_response_rate', 'n_accommodates', 'n_bathrooms', 'n_review_scores_rating', 'n_number_of_reviews', 'n_reviews_per_month', 'n_minimum_nights', 'n_beds', 'n_days_since', 'd_childrensplayroom', 'd_elvivedelorealconditioner', 'd_elvivedelorealshampoo', 'd_johnsonsbabyshampoo', 'd_loccitanebodysoap', 'd_loccitaneenprovencebodysoap', 'd_loccitaneenprovenceconditioner', 'd_loccitaneenprovenceshampoo', 'd_lor__u00e9alprimerasmarcasbodysoap', 'd_lor__u00e9alprimerasmarcasshampoo', 'd_lor__u00e9alshampoo', 'd_lorealconditioner', 'd_lovycbodysoap', 'd_', 'd__contienealimentosnuestros', 'd_bodysoap', 'd__bodysoap', 'd__conditioner', 'd__doubleoven', 'd__refrigerator', 'd__shampoo', 'd__singleoven', 'd__stainlesssteeloven', 'd___bodysoap', 'd___shampoo', 'd____refrigerator', 'd_0_bodysoap', 'd_1dayaweekavailableatextracost', 'd_1inchhdtvwithstandardcable', 'd_1inchhdtv', 'd_1inchtvwithstandardcable', 'd_100inchhdtvwithchromecast', 'd_100inchtvwithamazonprimevideo', 'd_100inchtvwithchromecast', 'd_106inchhdtvwithappletv', 'd_127inchhdtvwithstandardcable', 'd_14inchhdtvwithstandardcable', 'd_14inchtvwithstandardcable', 'd_149inchhdtv', 'd_15inchhdtvwithchromecast', 'd_15inchhdtv', 'd_15inchtvwithstandardcable', 'd_155inchhdtvwithnetflix', 'd_16inchhdtvwithstandardcable', 'd_16inchtvwithamazonprimevideo', 'd_16inchtv', 'd_160inchhdtvwithamazonprimevideo', 'd_17inchhdtvwithamazonprimevideo', 'd_18inchhdtv', 'd_18inchtvwithdvdplayer', 'd_18inchtv', 'd_19inchhdtvwithstandardcable', 'd_19inchtv', 'd_2daysaweekavailableatextracost', 'd_2inchhdtvwithstandardcable', 'd_2puertasconcongeladorrefrigerator', 'd_25yearsold', 'd_20inchhdtvwithstandardcable', 'd_20inchhdtv', 'd_20inchtvwithamazonprimevideo', 'd_20inchtv', 'd_200inchhdtvwithchromecast', 'd_21inchhdtvwithnetflix', 'd_21inchhdtvwithstandardcable', 'd_21inchhdtv', 'd_21inchtvwithdisney_', 'd_21inchtvwithstandardcable', 'd_21inchtv', 'd_215inchhdtvwithstandardcable', 'd_22inchhdtvwithchromecast', 'd_22inchhdtvwithnetflix', 'd_22inchhdtvwithstandardcable', 'd_22inchhdtv', 'd_22inchtvwithstandardcable', 'd_22inchtv', 'd_23inchhdtvwithamazonprimevideo', 'd_23inchhdtvwithhbomax', 'd_23inchhdtv', 'd_23inchtvwithamazonprimevideo', 'd_23inchtv', 'd_24inchhdtvwithamazonprimevideo', 'd_24inchhdtvwithdvdplayer', 'd_24inchhdtvwithnetflix', 'd_24inchhdtvwithstandardcable', 'd_24inchhdtv', 'd_24inchtvwithamazonprimevideo', 'd_24inchtvwithstandardcable', 'd_24inchtv', 'd_25inchhdtvwithdvdplayer', 'd_25inchhdtv', 'd_25inchtvwithnetflix', 'd_25inchtv', 'd_26inchhdtvwithnetflix', 'd_26inchhdtvwithstandardcable', 'd_26inchtv', 'd_27inchhdtvwithamazonprimevideo', 'd_27inchhdtvwithappletv', 'd_27inchhdtvwithchromecast', 'd_27inchhdtv', 'd_27inchtv', 'd_28inchhdtvwithamazonprimevideo', 'd_28inchhdtvwithchromecast', 'd_28inchhdtvwithstandardcable', 'd_28inchhdtv', 'd_28inchtv', 'd_29inchtvwithnetflix', 'd_3daysaweekavailableatextracost', 'd_3daysaweekincludedwithyourstay', 'd_3inchhdtv', 'd_3marcasdistintasshampoo', 'd_30inchhdtvwithamazonprimevideo', 'd_30inchhdtvwithappletv', 'd_30inchhdtvwithchromecast', 'd_30inchhdtvwithnetflix', 'd_30inchhdtvwithstandardcable', 'd_30inchhdtv', 'd_30inchtvwithnetflix', 'd_30inchtvwithstandardcable', 'd_30inchtv', 'd_32inchhdtvwithamazonprimevideo', 'd_32inchhdtvwithappletv', 'd_32inchhdtvwithchromecast', 'd_32inchhdtvwithdisney_', 'd_32inchhdtvwithdvdplayer', 'd_32inchhdtvwithfiretv', 'd_32inchhdtvwithhbomax', 'd_32inchhdtvwithnetflix', 'd_32inchhdtvwithpremiumcable', 'd_32inchhdtvwithroku', 'd_32inchhdtvwithstandardcable', 'd_32inchhdtv', 'd_32inchtvwithamazonprimevideo', 'd_32inchtvwithchromecast', 'd_32inchtvwithfiretv', 'd_32inchtvwithnetflix', 'd_32inchtvwithpremiumcable', 'd_32inchtvwithstandardcable', 'd_32inchtv', 'd_33inchhdtvwithhbomax', 'd_33inchhdtvwithnetflix', 'd_33inchhdtvwithpremiumcable', 'd_33inchhdtv', 'd_33inchtv', 'd_34inchhdtv', 'd_34inchtvwithstandardcable', 'd_34inchtv', 'd_35inchhdtvwithamazonprimevideo', 'd_35inchhdtvwithchromecast', 'd_35inchhdtvwithnetflix', 'd_35inchhdtvwithstandardcable', 'd_35inchhdtv', 'd_35inchtvwithstandardcable', 'd_35inchtv', 'd_36inchhdtvwithamazonprimevideo', 'd_36inchhdtvwithstandardcable', 'd_36inchhdtv', 'd_36inchtvwithstandardcable', 'd_36inchtv', 'd_37inchhdtvwithamazonprimevideo', 'd_37inchhdtvwithchromecast', 'd_37inchhdtvwithnetflix', 'd_37inchhdtvwithpremiumcable', 'd_37inchhdtvwithstandardcable', 'd_37inchhdtv', 'd_37inchtvwithchromecast', 'd_37inchtvwithnetflix', 'd_37inchtvwithpremiumcable', 'd_37inchtvwithstandardcable', 'd_37inchtv', 'd_38inchhdtvwithamazonprimevideo', 'd_38inchhdtvwithdvdplayer', 'd_38inchhdtvwithnetflix', 'd_38inchhdtvwithpremiumcable', 'd_38inchhdtvwithstandardcable', 'd_38inchhdtv', 'd_38inchtv', 'd_39inchhdtvwithstandardcable', 'd_4daysaweekavailableatextracost', 'd_4inchhdtv', 'd_40inchhdtvwithamazonprimevideo', 'd_40inchhdtvwithappletv', 'd_40inchhdtvwithchromecast', 'd_40inchhdtvwithdisney_', 'd_40inchhdtvwithdvdplayer', 'd_40inchhdtvwithfiretv', 'd_40inchhdtvwithhbomax', 'd_40inchhdtvwithnetflix', 'd_40inchhdtvwithpremiumcable', 'd_40inchhdtvwithstandardcable', 'd_40inchhdtv', 'd_40inchtvwithamazonprimevideo', 'd_40inchtvwithchromecast', 'd_40inchtvwithnetflix', 'd_40inchtvwithpremiumcable', 'd_40inchtvwithstandardcable', 'd_40inchtv', 'd_41inchhdtvwithamazonprimevideo', 'd_41inchhdtvwithnetflix', 'd_41inchhdtvwithstandardcable', 'd_41inchtvwithchromecast', 'd_42inchhdtvwithamazonprimevideo', 'd_42inchhdtvwithappletv', 'd_42inchhdtvwithchromecast', 'd_42inchhdtvwithdisney_', 'd_42inchhdtvwithdvdplayer', 'd_42inchhdtvwithfiretv', 'd_42inchhdtvwithhbomax', 'd_42inchhdtvwithnetflix', 'd_42inchhdtvwithpremiumcable', 'd_42inchhdtvwithstandardcable', 'd_42inchhdtv', 'd_42inchtvwithamazonprimevideo', 'd_42inchtvwithchromecast', 'd_42inchtvwithfiretv', 'd_42inchtvwithnetflix', 'd_42inchtvwithpremiumcable', 'd_42inchtvwithstandardcable', 'd_42inchtv', 'd_43inchhdtvwithamazonprimevideo', 'd_43inchhdtvwithappletv', 'd_43inchhdtvwithchromecast', 'd_43inchhdtvwithdisney_', 'd_43inchhdtvwithfiretv', 'd_43inchhdtvwithhbomax', 'd_43inchhdtvwithnetflix', 'd_43inchhdtvwithpremiumcable', 'd_43inchhdtvwithstandardcable', 'd_43inchhdtv', 'd_43inchtvwithamazonprimevideo', 'd_43inchtvwithchromecast', 'd_43inchtvwithfiretv', 'd_43inchtvwithstandardcable', 'd_43inchtv', 'd_44inchhdtvwithamazonprimevideo', 'd_44inchhdtvwithappletv', 'd_44inchhdtvwithnetflix', 'd_44inchhdtvwithstandardcable', 'd_45inchhdtvwithamazonprimevideo', 'd_45inchhdtvwithchromecast', 'd_45inchhdtvwithnetflix', 'd_45inchhdtvwithstandardcable', 'd_45inchhdtv', 'd_45inchtvwithfiretv', 'd_45inchtvwithstandardcable', 'd_45inchtv', 'd_46inchhdtvwithamazonprimevideo', 'd_46inchhdtvwithappletv', 'd_46inchhdtvwithchromecast', 'd_46inchhdtvwithnetflix', 'd_46inchhdtvwithpremiumcable', 'd_46inchhdtvwithstandardcable', 'd_46inchhdtv', 'd_47inchhdtvwithamazonprimevideo', 'd_47inchhdtvwithnetflix', 'd_47inchhdtvwithstandardcable', 'd_47inchhdtv', 'd_47inchtv', 'd_48inchhdtvwithamazonprimevideo', 'd_48inchhdtvwithchromecast', 'd_48inchhdtvwithnetflix', 'd_48inchhdtvwithstandardcable', 'd_48inchhdtv', 'd_48inchtvwithappletv', 'd_48inchtvwithstandardcable', 'd_48inchtv', 'd_49inchhdtvwithamazonprimevideo', 'd_49inchhdtvwithdisney_', 'd_49inchhdtvwithnetflix', 'd_49inchhdtvwithpremiumcable', 'd_49inchhdtvwithstandardcable', 'd_49inchhdtv', 'd_49inchtvwithnetflix', 'd_5daysaweekavailableatextracost', 'd_5inchhdtvwithamazonprimevideo', 'd_5starshotelbrandsbodysoap', 'd_510yearsold', 'd_50inchhdtvwithamazonprimevideo', 'd_50inchhdtvwithappletv', 'd_50inchhdtvwithchromecast', 'd_50inchhdtvwithdisney_', 'd_50inchhdtvwithdvdplayer', 'd_50inchhdtvwithfiretv', 'd_50inchhdtvwithhbomax', 'd_50inchhdtvwithnetflix', 'd_50inchhdtvwithpremiumcable', 'd_50inchhdtvwithroku', 'd_50inchhdtvwithstandardcable', 'd_50inchhdtv', 'd_50inchtvwithamazonprimevideo', 'd_50inchtvwithnetflix', 'd_50inchtvwithstandardcable', 'd_50inchtv', 'd_51inchhdtvwithamazonprimevideo', 'd_51inchhdtvwithchromecast', 'd_52inchhdtvwithamazonprimevideo', 'd_52inchhdtvwithnetflix', 'd_52inchhdtvwithpremiumcable', 'd_52inchhdtvwithstandardcable', 'd_52inchhdtv', 'd_52inchtvwithnetflix', 'd_52inchtv', 'd_53inchhdtvwithnetflix', 'd_53inchhdtvwithstandardcable', 'd_53inchhdtv', 'd_54inchhdtvwithamazonprimevideo', 'd_54inchhdtv', 'd_55inchhdtvwithamazonprimevideo', 'd_55inchhdtvwithappletv', 'd_55inchhdtvwithchromecast', 'd_55inchhdtvwithdisney_', 'd_55inchhdtvwithfiretv', 'd_55inchhdtvwithhbomax', 'd_55inchhdtvwithhulu', 'd_55inchhdtvwithnetflix', 'd_55inchhdtvwithpremiumcable', 'd_55inchhdtvwithstandardcable', 'd_55inchhdtv', 'd_55inchtvwithamazonprimevideo', 'd_55inchtvwithchromecast', 'd_55inchtvwithdisney_', 'd_55inchtvwithnetflix', 'd_55inchtvwithstandardcable', 'd_55inchtv', 'd_56inchhdtvwithfiretv', 'd_56inchhdtvwithnetflix', 'd_56inchhdtv', 'd_58inchhdtvwithchromecast', 'd_58inchhdtvwithnetflix', 'd_58inchhdtvwithstandardcable', 'd_6daysaweekavailableatextracost', 'd_60inchhdtvwithamazonprimevideo', 'd_60inchhdtvwithappletv', 'd_60inchhdtvwithdisney_', 'd_60inchhdtvwithnetflix', 'd_60inchhdtvwithstandardcable', 'd_60inchhdtv', 'd_60inchtvwithfiretv', 'd_60inchtv', 'd_62inchhdtvwithnetflix', 'd_62inchhdtvwithstandardcable', 'd_62inchtv', 'd_65inchhdtvwithamazonprimevideo', 'd_65inchhdtvwithappletv', 'd_65inchhdtvwithchromecast', 'd_65inchhdtvwithdisney_', 'd_65inchhdtvwithfiretv', 'd_65inchhdtvwithnetflix', 'd_65inchhdtvwithpremiumcable', 'd_65inchhdtvwithstandardcable', 'd_65inchhdtv', 'd_65inchtvwithamazonprimevideo', 'd_65inchtvwithdisney_', 'd_65inchtv', 'd_66inchhdtv', 'd_68inchhdtvwithappletv', 'd_7daysaweekavailableatextracost', 'd_70inchhdtvwithamazonprimevideo', 'd_70inchhdtvwithnetflix', 'd_70inchhdtvwithstandardcable', 'd_70inchhdtv', 'd_71inchhdtvwithamazonprimevideo', 'd_74inchhdtvwithpremiumcable', 'd_75inchhdtvwithamazonprimevideo', 'd_75inchhdtvwithchromecast', 'd_75inchhdtvwithdisney_', 'd_75inchhdtvwithnetflix', 'd_75inchhdtvwithroku', 'd_75inchhdtvwithstandardcable', 'd_75inchhdtv', 'd_75inchtv', 'd_77inchhdtvwithamazonprimevideo', 'd_80inchhdtvwithamazonprimevideo', 'd_80inchhdtvwithchromecast', 'd_80inchhdtvwithnetflix', 'd_80inchhdtvwithstandardcable', 'd_80inchhdtv', 'd_80inchtvwithhbomax', 'd_85inchhdtvwithamazonprimevideo', 'd_85inchhdtvwithchromecast', 'd_85inchhdtvwithhbomax', 'd_85inchhdtvwithstandardcable', 'd_85inchhdtv', 'd_91inchhdtv', 'd_92inchhdtv', 'd_92inchtv', 'd__boschrefrigerator', 'd___________________refrigerator', 'd___u00c1rticarefrigerator', 'd___u05d0__u05d7__u05e8inductionstove', 'd___u2014bodysoap', 'd___u2014shampoo', 'd___u2014__u2014conditioner', 'd___u2026refrigerator', 'd___u2026_bodysoap', 'd___u4e09__u661fsamsungrefrigerator', 'd___u5176__u4ed6inductionstove', 'd___u6f58__u5a77conditioner', 'd___u6f58__u5a77shampoo', 'd_ademandabodysoap', 'd_ademandaconditioner', 'd_ademandashampoo', 'd_arefrigerator', 'd_asingleoven', 'd_acsplittypeductlesssystem', 'd_acofarbodysoap', 'd_acondicionadorconditioner', 'd_acondicionadordeintensahidrataci__u00f3ntresemm__u00e9conditioner', 'd_acondicionadordepeloconditioner', 'd_acondicionadorespecialhidrataci__u00f3nconditioner', 'd_acondicionadorparacabelloconditioner', 'd_acondicionadorygeldeduchashampoo', 'd_acuamarinbodysoap', 'd_adidasbodysoap', 'd_aegelectricstove', 'd_aeggasstove', 'd_aeginductionstove', 'd_aegoven', 'd_aegrefrigerator', 'd_aegstainlesssteelelectricstove', 'd_aegstainlesssteelgasstove', 'd_aegstainlesssteelinductionstove', 'd_aegstainlesssteeloven', 'd_aegstainlesssteelsingleoven', 'd_aesopbodysoap', 'd_aesopconditioner', 'd_aesopshampoo', 'd_agamarvelstainlesssteelgasstove', 'd_agradobodysoap', 'd_ahbodysoap', 'd_ahinductionstove', 'd_ahstainlesssteeldoubleoven', 'd_ahstainlesssteelinductionstove', 'd_ahstainlesssteelsingleoven', 'd_aierrefrigerator', 'd_airconditioning', 'd_airfryeroven', 'd_aleatoriaconditioner', 'd_alerg__u00e9nicobodysoap', 'd_alexa_samsungsoundbarsoundsystemwithaux', 'd_alexabluetoothsoundsystem', 'd_alexaechobluetoothsoundsystem', 'd_alexasoundsystemwithbluetoothandaux', 'd_alexasoundsystem', 'd_algoven', 'd_alipendebodysoap', 'd_almendraalmondsshampoo', 'd_almondbodysoap', 'd_almondconditioner', 'd_almondnaturalsoapbodysoap', 'd_almondshampoo', 'd_aloeverabodysoap', 'd_aloeverashampoo', 'd_alphaparfshampoo', 'd_alqvimiabodysoap', 'd_alqvimiaconditioner', 'd_alqvimiashampoo', 'd_altabozconconexionbluetoothbluetoothsoundsystem', 'd_altavozbluetoothbluetoothsoundsystem', 'd_altavozbluetoothsoundsystem', 'd_altroinductionstove', 'd_amazonalexasoundsystemwithbluetoothandaux', 'd_amazonechoconalexaentodaslashabitacionesbluetoothsoundsystem', 'd_amazonprimevideo', 'd_amazonsoundsystem', 'd_amenitiebodysoap', 'd_amenitieconditioner', 'd_amenitieshampoo', 'd_amenitiesbodysoap', 'd_amenitiesdebienvenidabodysoap', 'd_amenitiesdebienvenidashampoo', 'd_amenitiesdebienvenida_shampoo', 'd_amenitiesopeque__u00f1osproductosdeaseobodysoap', 'd_amenitiesshampoo', 'd_amenities_bodysoap', 'd_amenitybodysoap', 'd_amenityconditioner', 'd_amenityshampoo', 'd_americanobodysoap', 'd_americanogeneralelectricrefrigerator', 'd_americanolgrefrigerator', 'd_americanorefrigerator', 'd_amicarefrigerator', 'd_amzchefinductionstove', 'd_and10_yearsold', 'd_and510yearsold', 'd_anddresser', 'd_andwardrobe', 'd_androidtclbluetoothsoundsystem', 'd_anonimabodysoap', 'd_anyshampoo', 'd_anyahbodysoap', 'd_anyahconditioner', 'd_anyahshampoo', 'd_aombodysoap', 'd_aondicionadordepeloschwarkopfosimilarconditioner', 'd_apivitabodysoap', 'd_apivitashampoo', 'd_applesoundsystemwithaux', 'd_appletv', 'd_arcadegames', 'd_argstainlesssteeloven', 'd_arg__u00e1nbodysoap', 'd_aristonrefrigerator', 'd_aristonstainlesssteeloven', 'd_aspesinductionstove', 'd_aspesoven', 'd_aspesrefrigerator', 'd_atlanticrefrigerator', 'd_atlanticstainlesssteelinductionstove', 'd_atlantisrefrigerator', 'd_auchanbodysoap', 'd_auchanconditioner', 'd_aussieshampoo', 'd_avellanabodysoap', 'd_avellanashampoo', 'd_avenabodysoap', 'd_avenaodermobodysoap', 'd_avenaphneutrobodysoap', 'd_aveneniveaetc_bodysoap', 'd_avoebodysoap', 'd_avonbodysoap', 'd_avonshampoo', 'd_azlshampoo', 'd_azulbodysoap', 'd_b3bodysoap', 'd_b__u00e1sicobodysoap', 'd_b__u00e1sicoshampoo', 'd_babariabodysoap', 'd_babariadeaceitedeolivabodysoap', 'd_babariadecocoshampoo', 'd_babybathalwaysatthelisting', 'd_babybathavailableuponrequest', 'd_babybath', 'd_babymonitoralwaysatthelisting', 'd_babymonitoravailableuponrequest', 'd_babymonitor', 'd_babysafetygates', 'd_babysitterrecommendations', 'd_backyardfullyfenced', 'd_backyardnotfullyfenced', 'd_backyard', 'd_bajoencimerarefrigerator', 'd_bajomesadarefrigerator', 'd_bakingsheet', 'd_balastainlesssteelsingleoven', 'd_balaioven', 'd_balaistainlesssteelelectricstove', 'd_balaistainlesssteeloven', 'd_balay3kf6626wefrigor__u00edficonofrosta___refrigerator', 'd_balaydoubleoven', 'd_balayelectricstove', 'd_balayinductionstove', 'd_balaynofrostrefrigerator', 'd_balayoven', 'd_balayrefrigerator', 'd_balaysingleoven', 'd_balaystainlesssteeldoubleoven', 'd_balaystainlesssteelelectricstove', 'd_balaystainlesssteelgasstove', 'd_balaystainlesssteelinductionstove', 'd_balaystainlesssteeloven', 'd_balaystainlesssteelsingleoven', 'd_balaysrefrigerator', 'd_bangandolufsenbluetoothsoundsystem', 'd_bangandolufsensoundsystemwithbluetoothandaux', 'd_barbecueutensils', 'd_basicbodysoap', 'd_basicabodysoap', 'd_basicobodysoap', 'd_basicoshampoo', 'd_bathtub', 'd_bauknechtstainlesssteelsingleoven', 'd_bayview', 'd_bbqgrill', 'd_bbqgrill_charcoal', 'd_bbqgrill_electric', 'd_bbqgrill_gas', 'd_bbqgrill_woodburning', 'd_beachaccess__u2013beachfront', 'd_beachessentials', 'd_beachview', 'd_beckenstainlesssteeloven', 'd_beckorefrigerator', 'd_becooven', 'd_becorefrigerator', 'd_bedlinens', 'd_beekostainlesssteeldoubleoven', 'd_begoba__u00f1oph5_5bodysoap', 'd_bekarefrigerator', 'd_bekobu1101refrigerator', 'd_bekobu1101_refrigerator', 'd_bekodoubleoven', 'd_bekoelectricstove', 'd_bekoinductionstove', 'd_bekooven', 'd_bekorefrigerator', 'd_bekosingleoven', 'd_bekostainlesssteeldoubleoven', 'd_bekostainlesssteelelectricstove', 'd_bekostainlesssteelgasstove', 'd_bekostainlesssteelinductionstove', 'd_bekostainlesssteeloven', 'd_beko_frigor__u00edficonuevo', 'd_belcorefrigerator', 'd_belkorefrigerator', 'd_benaventrefrigerator', 'd_bertazzonielectricstove', 'd_betr__u00c9sonbodysoap', 'd_bidet', 'd_bienvenueshampoo', 'd_bikes', 'd_biobodysoap', 'd_bioshampoo', 'd_biocurabodysoap', 'd_blamcabodysoap', 'd_blancshampoo', 'd_blancabodysoap', 'd_blancaconditioner', 'd_blancarefrigerator', 'd_blancashampoo', 'd_blanca', 'd_blancaminibodysoap', 'd_blancasshampoo', 'd_blender', 'd_blncarefrigerator', 'd_blodgettinductionstove', 'd_blodgettstainlesssteelinductionstove', 'd_blueskayrefrigerator', 'd_blueskyrefrigerator', 'd_bluetoothsoundsystem', 'd_bluetooth_soundsystemwithbluetoothandaux', 'd_bmbodysoap', 'd_bmconditioner', 'd_boardgames', 'd_boatslip', 'd_bocastainlesssteeloven', 'd_bochrefrigerator', 'd_bochstainlesssteeloven', 'd_bochsconditioner', 'd_bochsrefrigerator', 'd_bodyjelbodysoap', 'd_bodyplusbodysoap', 'd_bodyplusshampoo', 'd_bontebodysoap', 'd_bonteconditioner', 'd_bonteshampoo', 'd_booksandreadingmaterial', 'd_boosterseathighchairalwaysatthelisting', 'd_boosterseathighchairavailableuponrequest', 'd_boosterseathighchair', 'd_bos__u00e9bluetoothsoundsystem', 'd_boschdoubleoven', 'd_boschelectricstove', 'd_boschgasstove', 'd_boschinductionstove', 'd_boschoven', 'd_boschrefrigerator', 'd_boschserie6singleoven', 'd_boschsingleoven', 'd_boschstainlesssteeldoubleoven', 'd_boschstainlesssteelelectricstove', 'd_boschstainlesssteelgasstove', 'd_boschstainlesssteelinductionstove', 'd_boschstainlesssteeloven', 'd_boschstainlesssteelsingleoven', 'd_bosch_grandeconcongelador_refrigerator', 'd_boschedoubleoven', 'd_boscherefrigerator', 'd_bosebluetoothsoundsystem', 'd_bosesoundsystemwithaux', 'd_bosesoundsystemwithbluetoothandaux', 'd_boshoven', 'd_boshrefrigerator', 'd_boshstainlesssteeldoubleoven', 'd_boshstainlesssteeloven', 'd_boshstainlesssteelsingleoven', 'd_boshstove', 'd_bossoven', 'd_bossrefrigerator', 'd_bossstainlesssteeloven', 'd_botededosotresdosisbodysoap', 'd_botededosotresdosisshampoo', 'd_bowers_wilkinsbluetoothsoundsystem', 'd_bowlingalley', 'd_brastempstainlesssteelinductionstove', 'd_braumrefrigerator', 'd_breadmaker', 'd_breakfast', 'd_buenabodysoap', 'd_buildingstaff', 'd_cbodysoap', 'd_cconditioner', 'd_cabasseandadvancesoundsystemwithbluetoothandaux', 'd_cadahabitaci__u00f3ntieneunabaldaasignadaenlasneverascomunesrefrigerator', 'd_calentaralgor__u00e1pidooven', 'd_cambiobodysoap', 'd_camomilashampoo', 'd_canalview', 'd_candydoubleoven', 'd_candyelectricstove', 'd_candyinductionstove', 'd_candyoven', 'd_candyrefrigerator', 'd_candysingleoven', 'd_candystainlesssteeldoubleoven', 'd_candystainlesssteelinductionstove', 'd_candystainlesssteeloven', 'd_candystainlesssteelsingleoven', 'd_carbonmonoxidealarm', 'd_carefourbodysoap', 'd_carrefourbluetoothsoundsystem', 'd_carrefourbodysoap', 'd_carrefourconditioner', 'd_carrefourshampoo', 'd_carrefour', 'd_carrefurbodysoap', 'd_casiobluetoothsoundsystem', 'd_catadoubleoven', 'd_cataelectricstove', 'd_catainductionstove', 'd_cataoven', 'd_catastainlesssteeldoubleoven', 'd_catastainlesssteeloven', 'd_catastainlesssteelsingleoven', 'd_cdplayer_soundsystem', 'd_cecotecrefrigerator', 'd_ceilingfan', 'd_celad__u00e9pendbodysoap', 'd_celad__u00e9pendconditioner', 'd_celad__u00e9pendshampoo', 'd_centralairconditioning', 'd_centralheating', 'd_cerave', 'd_champ__u00fadeintensahidrataci__u00f3ntresemm__u00e9shampoo', 'd_champ__u00fadepeloschwarkopfosimilarshampoo', 'd_champ__u00fafortalecedorbodysoap', 'd_champ__u00faparaelcabelloshampoo', 'd_champ__u00fapeque__u00f1oparatusdosprimerosd__u00edas_shampoo', 'd_champ__u00fashampoo', 'd_champ__u00faygelbodysoap', 'd_champ__u00faygelsefacilitans__u00f3loparaestanciascortas_shampoo', 'd_champ__u00fa', 'd_champooparacabellossuavesyconvolumenshampoo', 'd_champuacondicionadorygeldeduchaconditioner', 'd_champugoodforyourhairshampoo', 'd_champul__u00edquidohoteleroshampoo', 'd_champushampoo', 'd_champuygeldeduchashampoo', 'd_changesconditioner', 'd_changesshampoo', 'd_changingtablealwaysatthelisting', 'd_changingtableavailableuponrequest', 'd_changingtable', 'd_children__u2019sbikes', 'd_children__u2019sbooksandtoysforages02yearsoldand10_yearsold', 'd_children__u2019sbooksandtoysforages02yearsoldand25yearsold', 'd_children__u2019sbooksandtoysforages02yearsoldand510yearsold', 'd_children__u2019sbooksandtoysforages02yearsold', 'd_children__u2019sbooksandtoysforages10_yearsold', 'd_children__u2019sbooksandtoysforages25yearsoldand510yearsold', 'd_children__u2019sbooksandtoysforages25yearsold', 'd_children__u2019sbooksandtoysforages510yearsoldand10_yearsold', 'd_children__u2019sbooksandtoysforages510yearsold', 'd_children__u2019sbooksandtoys', 'd_children__u2019sdinnerware', 'd_chinesebluetoothsoundsystem', 'd_chiqrefrigerator', 'd_chnagesbodysoap', 'd_chromecastsoundsystem', 'd_chromecast', 'd_cienbodysoap', 'd_cienchamp__u00fafamiliarvainillayalmendra_shampoo', 'd_cienconditioner', 'd_ciengeldeduchafamiliarhidratante_paratodotipodepieles_conprote__u00ednadeleche_dermatol__u00f3gicamentetestado_bodysoap', 'd_cienshampoo', 'd_cityskylineview', 'd_clampontableseathighchairalwaysatthelisting', 'd_clampontableseathighchairavailableuponrequest', 'd_clampontableseathighchair', 'd_clarinsbodysoap', 'd_clarinsconditioner', 'd_clarinsshampoo', 'd_clarisshampoo', 'd_cleaningavailableduringstay', 'd_cleaningproducts', 'd_climbingwall', 'd_closet', 'd_clothingstorage', 'd_clothingstorage_closetanddresser', 'd_clothingstorage_closetandwardrobe', 'd_clothingstorage_closet', 'd_clothingstorage_dresser', 'd_clothingstorage_walkinclosetandcloset', 'd_clothingstorage_walkinclosetanddresser', 'd_clothingstorage_walkinclosetandwardrobe', 'd_clothingstorage_walkincloset', 'd_clothingstorage_wardrobeanddresser', 'd_clothingstorage_wardrobe', 'd_cocobodysoap', 'd_cocoshampoo', 'd_coffeemaker', 'd_coffeemaker_dripcoffeemaker', 'd_coffeemaker_espressomachine', 'd_coffeemaker_frenchpress', 'd_coffeemaker_keurigcoffeemachine', 'd_coffeemaker_nespresso', 'd_coffeemaker_pourovercoffee', 'd_coffee', 'd_collectionconditioner', 'd_com__u00fanbodysoap', 'd_com__u00fanconditioner', 'd_com__u00fanshampoo', 'd_combirefrigerator', 'd_combi_grande_refrigerator', 'd_commercialbodysoap', 'd_comunbodysoap', 'd_comunconditioner', 'd_comunrefrigerator', 'd_comunshampoo', 'd_conacondicionadorshampoo', 'd_concongeladorindependienterefrigerator', 'd_condisconditioner', 'd_condisshampoo', 'd_conditioner', 'd_conformarefrigerator', 'd_conformastainlesssteelsingleoven', 'd_confortecrefrigerator', 'd_cookelewisinductionstove', 'd_cookingbasics', 'd_cookingsurfaceinductionstove', 'd_corber__u00d3refrigerator', 'd_corber__u00f3inductionstove', 'd_corber__u00f3refrigerator', 'd_corber__u00f3stainlesssteelelectricstove', 'd_corberohornomultifuncionstainlesssteeloven', 'd_corberoinduccionstove', 'd_corberoplacaccibr60033induccioncristalinductionstove', 'd_corberostainlesssteeldoubleoven', 'd_corberostainlesssteelelectricstove', 'd_corberostainlesssteeloven', 'd_corberostainlesssteelsingleoven', 'd_corteingl__u00e9sbodysoap', 'd_corteingl__u00e9sconditioner', 'd_corteinglebodysoap', 'd_cortes__u00edaconditioner', 'd_cortesiashampoo', 'd_cosmeticanaturalbodysoap', 'd_cosmeticanaturalconditioner', 'd_cosmicconditioner', 'd_cosmicshampoo', 'd_courtyardview', 'd_createrefrigerator', 'd_cremebodysoap', 'd_cribalwaysatthelisting', 'd_cribavailableuponrequest', 'd_crib', 'd_crisperrefrigerator', 'd_cualquierbodysoap', 'd_cualquierabodysoap', 'd_cualquierashampoo', 'd_cuaquierabodysoap', 'd_culaquierabodysoap', 'd_culqierashampoo', 'd_d__u00edabodysoap', 'd_d__u00edashampoo', 'd_dacorstainlesssteelinductionstove', 'd_daeivoorefrigerator', 'd_daewoorefrigerator', 'd_daewoosoundsystemwithbluetoothandaux', 'd_daewworefrigerator', 'd_daikinconditioner', 'd_dansrefrigerator', 'd_decasarefrigerator', 'd_decocobodysoap', 'd_dedietrichstainlesssteeloven', 'd_dedospuertasconcongelador_h144cmrefrigerator', 'd_defarmaciabodysoap', 'd_defrutasshampoo', 'd_delacasabodysoap', 'd_delacasarefrigerator', 'd_delacasashampoo', 'd_deolivabodysoap', 'd_depeluqueriashampoo', 'd_dedicatedworkspace', 'd_dedietrich__u2014gaggneaustainlesssteelinductionstove', 'd_dedietrich__u2014gaggneaustainlesssteeloven', 'd_dejaremosespaciolibre_refrigerator', 'd_delipludbodysoap', 'd_deliplusbodysoap', 'd_deliplusconditioner', 'd_deliplusshampoo', 'd_deliplusyotrosbodysoap', 'd_deliplusyotrosshampoo', 'd_deliplus', 'd_delipusbodysoap', 'd_deluebodysoap', 'd_delueshampoo', 'd_deluxebodysoap', 'd_deluxerefrigerator', 'd_deluxeshampoo', 'd_delyplusbodysoap', 'd_delyplusconditioner', 'd_delyplusshampoo', 'd_delyplus__argainoil_bodysoap', 'd_delyplus__styliusargain_shampoo', 'd_denonsoundsystemwithaux', 'd_denonsoundsystem', 'd_dependebodysoap', 'd_dependeconditioner', 'd_dependeshampoo', 'd_dephilplusbodysoap', 'd_depilplusconditioner', 'd_depilplusshampoo', 'd_deplusconditioner', 'd_dermobodysoap', 'd_dermoprotectorbodysoap', 'd_dermoshampoo', 'd_desconozcobluetoothsoundsystem', 'd_desertview', 'd_dessangeconditioner', 'd_diabodysoap', 'd_diaconditioner', 'd_diashampoo', 'd_dicorabodysoap', 'd_dicorashampoo', 'd_diferentesbodysoap', 'd_diferentesmarcasbodysoap', 'd_diferentestiposconditioner', 'd_diferentestiposshampoo', 'd_dilyplus_argainoilbodysoap', 'd_dilyplus_stylusargainshampoo', 'd_diningtable', 'd_dishesandsilverware', 'd_dishwasher', 'd_disney_', 'd_dispondr__u00e1sdeunabaldaenterarefrigerator', 'd_diversasbodysoap', 'd_dospuertasconcongeladorrefrigerator', 'd_dospuertasconcongelador_h145cmrefrigerator', 'd_doubleoven', 'd_dove_othersbodysoap', 'd_dovedeephydrationhidrataci__u00f3nprofundabodysoap', 'd_dovedeephydrationbodysoap', 'd_dovebodysoap', 'd_doveconditioner', 'd_dovehidratante', 'd_doveolactovitbodysoap', 'd_doveosimilarbodysoap', 'd_doveosimilarconditioner', 'd_doveshampoo', 'd_dove', 'd_drbronnersbodysoap', 'd_dryer__u2013inbuilding', 'd_dryer__u2013__u00a0inunit', 'd_dryer', 'd_dryingrackforclothing', 'd_dsrefrigerator', 'd_dvdplayer', 'd_earsbluetoothsoundsystem', 'd_easelectricelectricstove', 'd_easelectricstainlesssteeloven', 'd_echodot_alexabluetoothsoundsystem', 'd_ecoamenitiesshampoo', 'd_ecogreenbodysoap', 'd_ecogreenshampoo', 'd_ecoveganfriendlybodysoap', 'd_ecoveganfriendlyshampoo', 'd_ecol__u00f3gicobodysoap', 'd_ecol__u00f3gicoconditioner', 'd_ecol__u00f3gicoshampoo', 'd_ecologicobodysoap', 'd_ecologistela_conditioner', 'd_ecologistelbodysoap', 'd_ecologistelshampoo', 'd_ecophonicsoundsystem', 'd_edesaoven', 'd_edesarefrigerator', 'd_elcorteingl__u00e9sbodysoap', 'd_elcorteingl__u00e9sconditioner', 'd_elcorteingl__u00e9srefrigerator', 'd_elcorteingl__u00e9sshampoo', 'd_elcorteingl__u00e9sstainlesssteelsingleoven', 'd_eldegasnoseutiliza_oven', 'd_elinstitutoespa__u00f1ol_aloeverabodysoap', 'd_elinstitutoespa__u00f1ol_champ__u00fasuaveshampoo', 'd_elviveconditioner', 'd_elviveshampoo', 'd_el__u00e9ctricooven', 'd_el__u00e9ctricostainlesssteeloven', 'd_el__u00e9ctricostainlesssteelsingleoven', 'd_electricstove', 'd_electroluxelectricstove', 'd_electroluxinductionstove', 'd_electroluxoven', 'd_electroluxrefrigerator', 'd_electroluxstainlesssteelelectricstove', 'd_electroluxstainlesssteelinductionstove', 'd_electroluxstainlesssteeloven', 'd_eletrluxrefrigerator', 'd_elevator', 'd_elitedbodysoap', 'd_ellviseconditioner', 'd_elseveconditioner', 'd_elvivel__u2019orealshampoo', 'd_enladuchabodysoap', 'd_enladuchashampoo', 'd_endesitrefrigerator', 'd_energisistembluetoothsoundsystem', 'd_energysistemsoundsystemwithbluetoothandaux', 'd_envasedechamp__u00farellenableporrazonesmediambientalesshampoo', 'd_envasedegeldeducharellenableporrazonesmedioambientalesbodysoap', 'd_envasepeque__u00d1oparatusdosprimerosdias_shampoo', 'd_envasepeque__u00f1oparatusdosprimerosd__u00edasdeestancia_bodysoap', 'd_envasepeque__u00f1oparatusdosprimerosd__u00edasdeestancia_shampoo', 'd_envasepeque__u00f1oparatusdosprimerosd__u00edas_bodysoap', 'd_envasepeque__u00f1oparatusdosprimerosdias_bodysoap', 'd_envasepeque__u00f1oparatusdosprimerosdias_shampoo', 'd_envasepeque__u00f1osparatusdosprimerosd__u00edasdeestancia_bodysoap', 'd_envasepeque__u00f1osparatusdosprimerosdias_bodysoap', 'd_espeque__u00f1o_parabebidasyalgom__u00e1srefrigerator', 'd_esunhornillopeque__u00f1oyel__u00e9ctrico', 'd_espacioenelfrigor__u00edficorefrigerator', 'd_espressomachine', 'd_essentials', 'd_est__u00c1ndarrefrigerator', 'd_est__u00c1ndarstainlesssteelelectricstove', 'd_est__u00c1ndarstainlesssteeloven', 'd_est__u00e1ndarbodysoap', 'd_est__u00e1ndarelectricstove', 'd_est__u00e1ndaroven', 'd_est__u00e1ndarrefrigerator', 'd_est__u00e1ndarshampoo', 'd_est__u00e1ndarstainlesssteelelectricstove', 'd_est__u00e1ndarstainlesssteelsingleoven', 'd_estandarbodysoap', 'd_estandarelectricstove', 'd_estandaroven', 'd_estandarrefrigerator', 'd_estandarstainlesssteelelectricstove', 'd_estandarstainlesssteeloven', 'd_esvamrefrigerator', 'd_ethernetconnection', 'd_eucerin_hipoalerg__u00e9nicos_bodysoap', 'd_eucerinbodysoap', 'd_eurokerastainlesssteelwoodburningstove', 'd_evchargerlevel1', 'd_evchargerlevel2', 'd_evcharger', 'd_everydayavailableatextracost', 'd_everydayincludedwithyourstay', 'd_everyday', 'd_evvorefrigerator', 'd_exerciseequipment', 'd_exerciseequipment_elliptical', 'd_exerciseequipment_freeweights', 'd_exerciseequipment_rowing', 'd_exerciseequipment_stationarybike', 'd_exerciseequipment_treadmill', 'd_exerciseequipment_yogamat', 'd_expertvitaminoconditioner', 'd_expertvitaminoshampoo', 'd_exteriorsecuritycamerasonproperty', 'd_extrapillowsandblankets', 'd_extractodefrutasnaturalesshampoo', 'd_extremeshampoo', 'd_fabergasstove', 'd_fagora___refrigerator', 'd_fagorelectricstove', 'd_fagorinductionstove', 'd_fagorrefrigerator', 'd_fagorstainlesssteeldoubleoven', 'd_fagorstainlesssteelelectricstove', 'd_fagorstainlesssteelinductionstove', 'd_fagorstainlesssteeloven', 'd_fagorstainlesssteelsingleoven', 'd_fagorstove', 'd_familiarconditioner', 'd_farmaciabodysoap', 'd_fastwifi__u2013100mbps', 'd_fastwifi__u2013101mbps', 'd_fastwifi__u20131019mbps', 'd_fastwifi__u2013102mbps', 'd_fastwifi__u2013103mbps', 'd_fastwifi__u2013104mbps', 'd_fastwifi__u2013105mbps', 'd_fastwifi__u2013106mbps', 'd_fastwifi__u2013107mbps', 'd_fastwifi__u2013109mbps', 'd_fastwifi__u2013112mbps', 'd_fastwifi__u2013113mbps', 'd_fastwifi__u2013114mbps', 'd_fastwifi__u2013115mbps', 'd_fastwifi__u2013116mbps', 'd_fastwifi__u2013117mbps', 'd_fastwifi__u2013119mbps', 'd_fastwifi__u2013124mbps', 'd_fastwifi__u2013125mbps', 'd_fastwifi__u2013126mbps', 'd_fastwifi__u2013127mbps', 'd_fastwifi__u2013128mbps', 'd_fastwifi__u2013129mbps', 'd_fastwifi__u2013130mbps', 'd_fastwifi__u2013131mbps', 'd_fastwifi__u2013132mbps', 'd_fastwifi__u2013134mbps', 'd_fastwifi__u20131342mbps', 'd_fastwifi__u2013140mbps', 'd_fastwifi__u2013142mbps', 'd_fastwifi__u2013143mbps', 'd_fastwifi__u2013145mbps', 'd_fastwifi__u2013146mbps', 'd_fastwifi__u2013147mbps', 'd_fastwifi__u2013148mbps', 'd_fastwifi__u2013151mbps', 'd_fastwifi__u2013156mbps', 'd_fastwifi__u2013159mbps', 'd_fastwifi__u2013161mbps', 'd_fastwifi__u2013163mbps', 'd_fastwifi__u2013165mbps', 'd_fastwifi__u2013166mbps', 'd_fastwifi__u2013170mbps', 'd_fastwifi__u2013171mbps', 'd_fastwifi__u2013173mbps', 'd_fastwifi__u2013174mbps', 'd_fastwifi__u2013176mbps', 'd_fastwifi__u2013179mbps', 'd_fastwifi__u2013180mbps', 'd_fastwifi__u2013182mbps', 'd_fastwifi__u2013183mbps', 'd_fastwifi__u2013184mbps', 'd_fastwifi__u2013185mbps', 'd_fastwifi__u2013187mbps', 'd_fastwifi__u2013188mbps', 'd_fastwifi__u2013189mbps', 'd_fastwifi__u2013190mbps', 'd_fastwifi__u2013191mbps', 'd_fastwifi__u2013192mbps', 'd_fastwifi__u2013193mbps', 'd_fastwifi__u2013194mbps', 'd_fastwifi__u2013196mbps', 'd_fastwifi__u2013198mbps', 'd_fastwifi__u2013199mbps', 'd_fastwifi__u2013200mbps', 'd_fastwifi__u2013201mbps', 'd_fastwifi__u2013203mbps', 'd_fastwifi__u2013204mbps', 'd_fastwifi__u2013205mbps', 'd_fastwifi__u2013206mbps', 'd_fastwifi__u2013207mbps', 'd_fastwifi__u2013208mbps', 'd_fastwifi__u2013209mbps', 'd_fastwifi__u2013210mbps', 'd_fastwifi__u2013211mbps', 'd_fastwifi__u2013212mbps', 'd_fastwifi__u2013213mbps', 'd_fastwifi__u2013214mbps', 'd_fastwifi__u2013215mbps', 'd_fastwifi__u2013216mbps', 'd_fastwifi__u2013218mbps', 'd_fastwifi__u2013219mbps', 'd_fastwifi__u2013221mbps', 'd_fastwifi__u2013222mbps', 'd_fastwifi__u2013224mbps', 'd_fastwifi__u2013226mbps', 'd_fastwifi__u2013227mbps', 'd_fastwifi__u2013229mbps', 'd_fastwifi__u2013230mbps', 'd_fastwifi__u2013231mbps', 'd_fastwifi__u2013232mbps', 'd_fastwifi__u2013233mbps', 'd_fastwifi__u2013234mbps', 'd_fastwifi__u2013236mbps', 'd_fastwifi__u2013237mbps', 'd_fastwifi__u2013238mbps', 'd_fastwifi__u2013239mbps', 'd_fastwifi__u2013240mbps', 'd_fastwifi__u2013241mbps', 'd_fastwifi__u2013242mbps', 'd_fastwifi__u2013243mbps', 'd_fastwifi__u2013244mbps', 'd_fastwifi__u2013245mbps', 'd_fastwifi__u2013246mbps', 'd_fastwifi__u2013247mbps', 'd_fastwifi__u2013249mbps', 'd_fastwifi__u2013250mbps', 'd_fastwifi__u2013251mbps', 'd_fastwifi__u2013252mbps', 'd_fastwifi__u2013253mbps', 'd_fastwifi__u2013254mbps', 'd_fastwifi__u2013255mbps', 'd_fastwifi__u2013256mbps', 'd_fastwifi__u2013257mbps', 'd_fastwifi__u2013259mbps', 'd_fastwifi__u2013260mbps', 'd_fastwifi__u2013261mbps', 'd_fastwifi__u2013262mbps', 'd_fastwifi__u2013263mbps', 'd_fastwifi__u2013264mbps', 'd_fastwifi__u2013265mbps', 'd_fastwifi__u2013266mbps', 'd_fastwifi__u2013267mbps', 'd_fastwifi__u2013268mbps', 'd_fastwifi__u2013269mbps', 'd_fastwifi__u2013270mbps', 'd_fastwifi__u2013271mbps', 'd_fastwifi__u2013272mbps', 'd_fastwifi__u2013273mbps', 'd_fastwifi__u2013274mbps', 'd_fastwifi__u2013275mbps', 'd_fastwifi__u2013276mbps', 'd_fastwifi__u2013277mbps', 'd_fastwifi__u2013278mbps', 'd_fastwifi__u2013279mbps', 'd_fastwifi__u2013280mbps', 'd_fastwifi__u2013281mbps', 'd_fastwifi__u2013282mbps', 'd_fastwifi__u2013283mbps', 'd_fastwifi__u2013284mbps', 'd_fastwifi__u2013285mbps', 'd_fastwifi__u2013286mbps', 'd_fastwifi__u2013287mbps', 'd_fastwifi__u2013288mbps', 'd_fastwifi__u2013289mbps', 'd_fastwifi__u2013290mbps', 'd_fastwifi__u2013291mbps', 'd_fastwifi__u2013292mbps', 'd_fastwifi__u2013293mbps', 'd_fastwifi__u2013294mbps', 'd_fastwifi__u2013295mbps', 'd_fastwifi__u2013296mbps', 'd_fastwifi__u2013297mbps', 'd_fastwifi__u2013298mbps', 'd_fastwifi__u2013299mbps', 'd_fastwifi__u2013300mbps', 'd_fastwifi__u2013301mbps', 'd_fastwifi__u2013302mbps', 'd_fastwifi__u2013303mbps', 'd_fastwifi__u2013304mbps', 'd_fastwifi__u2013305mbps', 'd_fastwifi__u2013306mbps', 'd_fastwifi__u2013307mbps', 'd_fastwifi__u2013308mbps', 'd_fastwifi__u2013309mbps', 'd_fastwifi__u2013310mbps', 'd_fastwifi__u2013311mbps', 'd_fastwifi__u2013312mbps', 'd_fastwifi__u2013313mbps', 'd_fastwifi__u2013314mbps', 'd_fastwifi__u2013315mbps', 'd_fastwifi__u2013316mbps', 'd_fastwifi__u2013317mbps', 'd_fastwifi__u2013318mbps', 'd_fastwifi__u2013319mbps', 'd_fastwifi__u2013320mbps', 'd_fastwifi__u2013321mbps', 'd_fastwifi__u2013322mbps', 'd_fastwifi__u2013323mbps', 'd_fastwifi__u2013324mbps', 'd_fastwifi__u2013325mbps', 'd_fastwifi__u2013327mbps', 'd_fastwifi__u2013328mbps', 'd_fastwifi__u2013329mbps', 'd_fastwifi__u2013330mbps', 'd_fastwifi__u2013331mbps', 'd_fastwifi__u2013332mbps', 'd_fastwifi__u2013333mbps', 'd_fastwifi__u2013334mbps', 'd_fastwifi__u2013335mbps', 'd_fastwifi__u2013337mbps', 'd_fastwifi__u2013338mbps', 'd_fastwifi__u2013339mbps', 'd_fastwifi__u2013340mbps', 'd_fastwifi__u2013342mbps', 'd_fastwifi__u2013343mbps', 'd_fastwifi__u2013344mbps', 'd_fastwifi__u2013346mbps', 'd_fastwifi__u2013347mbps', 'd_fastwifi__u2013348mbps', 'd_fastwifi__u2013351mbps', 'd_fastwifi__u2013354mbps', 'd_fastwifi__u2013357mbps', 'd_fastwifi__u2013359mbps', 'd_fastwifi__u2013360mbps', 'd_fastwifi__u2013363mbps', 'd_fastwifi__u2013364mbps', 'd_fastwifi__u2013365mbps', 'd_fastwifi__u2013366mbps', 'd_fastwifi__u2013368mbps', 'd_fastwifi__u2013369mbps', 'd_fastwifi__u2013371mbps', 'd_fastwifi__u2013375mbps', 'd_fastwifi__u2013381mbps', 'd_fastwifi__u2013382mbps', 'd_fastwifi__u2013383mbps', 'd_fastwifi__u2013385mbps', 'd_fastwifi__u2013390mbps', 'd_fastwifi__u2013392mbps', 'd_fastwifi__u2013393mbps', 'd_fastwifi__u2013394mbps', 'd_fastwifi__u2013395mbps', 'd_fastwifi__u2013396mbps', 'd_fastwifi__u2013400mbps', 'd_fastwifi__u2013401mbps', 'd_fastwifi__u2013406mbps', 'd_fastwifi__u2013408mbps', 'd_fastwifi__u2013410mbps', 'd_fastwifi__u2013411mbps', 'd_fastwifi__u2013412mbps', 'd_fastwifi__u2013413mbps', 'd_fastwifi__u2013414mbps', 'd_fastwifi__u2013415mbps', 'd_fastwifi__u2013416mbps', 'd_fastwifi__u2013417mbps', 'd_fastwifi__u2013419mbps', 'd_fastwifi__u2013420mbps', 'd_fastwifi__u2013421mbps', 'd_fastwifi__u2013422mbps', 'd_fastwifi__u2013423mbps', 'd_fastwifi__u2013426mbps', 'd_fastwifi__u2013427mbps', 'd_fastwifi__u2013428mbps', 'd_fastwifi__u2013430mbps', 'd_fastwifi__u2013431mbps', 'd_fastwifi__u2013432mbps', 'd_fastwifi__u2013433mbps', 'd_fastwifi__u2013434mbps', 'd_fastwifi__u2013435mbps', 'd_fastwifi__u2013438mbps', 'd_fastwifi__u2013440mbps', 'd_fastwifi__u2013443mbps', 'd_fastwifi__u2013444mbps', 'd_fastwifi__u2013446mbps', 'd_fastwifi__u2013448mbps', 'd_fastwifi__u2013449mbps', 'd_fastwifi__u2013450mbps', 'd_fastwifi__u2013452mbps', 'd_fastwifi__u2013453mbps', 'd_fastwifi__u2013454mbps', 'd_fastwifi__u2013455mbps', 'd_fastwifi__u2013456mbps', 'd_fastwifi__u2013457mbps', 'd_fastwifi__u2013458mbps', 'd_fastwifi__u2013459mbps', 'd_fastwifi__u2013463mbps', 'd_fastwifi__u2013464mbps', 'd_fastwifi__u2013466mbps', 'd_fastwifi__u2013467mbps', 'd_fastwifi__u2013468mbps', 'd_fastwifi__u2013469mbps', 'd_fastwifi__u2013470mbps', 'd_fastwifi__u2013471mbps', 'd_fastwifi__u2013472mbps', 'd_fastwifi__u2013473mbps', 'd_fastwifi__u2013474mbps', 'd_fastwifi__u2013475mbps', 'd_fastwifi__u2013476mbps', 'd_fastwifi__u2013477mbps', 'd_fastwifi__u2013479mbps', 'd_fastwifi__u2013480mbps', 'd_fastwifi__u2013481mbps', 'd_fastwifi__u2013483mbps', 'd_fastwifi__u2013485mbps', 'd_fastwifi__u2013487mbps', 'd_fastwifi__u2013488mbps', 'd_fastwifi__u2013490mbps', 'd_fastwifi__u2013492mbps', 'd_fastwifi__u2013493mbps', 'd_fastwifi__u2013494mbps', 'd_fastwifi__u2013496mbps', 'd_fastwifi__u2013497mbps', 'd_fastwifi__u2013499mbps', 'd_fastwifi__u201350mbps', 'd_fastwifi__u2013500mbps', 'd_fastwifi__u2013501mbps', 'd_fastwifi__u2013503mbps', 'd_fastwifi__u2013504mbps', 'd_fastwifi__u2013505mbps', 'd_fastwifi__u2013506mbps', 'd_fastwifi__u2013507mbps', 'd_fastwifi__u2013508mbps', 'd_fastwifi__u2013509mbps', 'd_fastwifi__u201351mbps', 'd_fastwifi__u2013511mbps', 'd_fastwifi__u2013512mbps', 'd_fastwifi__u2013514mbps', 'd_fastwifi__u2013516mbps', 'd_fastwifi__u2013517mbps', 'd_fastwifi__u2013518mbps', 'd_fastwifi__u2013519mbps', 'd_fastwifi__u201352mbps', 'd_fastwifi__u2013520mbps', 'd_fastwifi__u2013521mbps', 'd_fastwifi__u2013522mbps', 'd_fastwifi__u2013523mbps', 'd_fastwifi__u2013524mbps', 'd_fastwifi__u2013525mbps', 'd_fastwifi__u2013526mbps', 'd_fastwifi__u2013527mbps', 'd_fastwifi__u2013528mbps', 'd_fastwifi__u201353mbps', 'd_fastwifi__u2013530mbps', 'd_fastwifi__u2013531mbps', 'd_fastwifi__u2013532mbps', 'd_fastwifi__u2013533mbps', 'd_fastwifi__u2013534mbps', 'd_fastwifi__u2013535mbps', 'd_fastwifi__u2013536mbps', 'd_fastwifi__u2013538mbps', 'd_fastwifi__u2013539mbps', 'd_fastwifi__u201354mbps', 'd_fastwifi__u2013540mbps', 'd_fastwifi__u2013541mbps', 'd_fastwifi__u2013542mbps', 'd_fastwifi__u2013544mbps', 'd_fastwifi__u2013545mbps', 'd_fastwifi__u2013546mbps', 'd_fastwifi__u2013547mbps', 'd_fastwifi__u2013548mbps', 'd_fastwifi__u2013549mbps', 'd_fastwifi__u201355mbps', 'd_fastwifi__u2013550mbps', 'd_fastwifi__u2013551mbps', 'd_fastwifi__u2013552mbps', 'd_fastwifi__u2013553mbps', 'd_fastwifi__u2013555mbps', 'd_fastwifi__u2013557mbps', 'd_fastwifi__u2013558mbps', 'd_fastwifi__u201356mbps', 'd_fastwifi__u2013560mbps', 'd_fastwifi__u2013561mbps', 'd_fastwifi__u2013562mbps', 'd_fastwifi__u2013565mbps', 'd_fastwifi__u2013566mbps', 'd_fastwifi__u2013567mbps', 'd_fastwifi__u201357mbps', 'd_fastwifi__u2013570mbps', 'd_fastwifi__u2013571mbps', 'd_fastwifi__u2013572mbps', 'd_fastwifi__u2013574mbps', 'd_fastwifi__u2013576mbps', 'd_fastwifi__u2013578mbps', 'd_fastwifi__u2013579mbps', 'd_fastwifi__u201358mbps', 'd_fastwifi__u2013580mbps', 'd_fastwifi__u2013582mbps', 'd_fastwifi__u2013585mbps', 'd_fastwifi__u2013586mbps', 'd_fastwifi__u2013587mbps', 'd_fastwifi__u2013588mbps', 'd_fastwifi__u2013589mbps', 'd_fastwifi__u201359mbps', 'd_fastwifi__u2013590mbps', 'd_fastwifi__u2013591mbps', 'd_fastwifi__u2013592mbps', 'd_fastwifi__u2013593mbps', 'd_fastwifi__u2013594mbps', 'd_fastwifi__u2013597mbps', 'd_fastwifi__u2013598mbps', 'd_fastwifi__u2013599mbps', 'd_fastwifi__u201360mbps', 'd_fastwifi__u2013600mbps', 'd_fastwifi__u2013601mbps', 'd_fastwifi__u2013602mbps', 'd_fastwifi__u2013604mbps', 'd_fastwifi__u2013607mbps', 'd_fastwifi__u2013608mbps', 'd_fastwifi__u201361mbps', 'd_fastwifi__u2013610mbps', 'd_fastwifi__u2013611mbps', 'd_fastwifi__u2013612mbps', 'd_fastwifi__u2013614mbps', 'd_fastwifi__u2013615mbps', 'd_fastwifi__u2013616mbps', 'd_fastwifi__u2013618mbps', 'd_fastwifi__u2013619mbps', 'd_fastwifi__u201362mbps', 'd_fastwifi__u2013621mbps', 'd_fastwifi__u2013622mbps', 'd_fastwifi__u2013624mbps', 'd_fastwifi__u2013625mbps', 'd_fastwifi__u2013627mbps', 'd_fastwifi__u2013629mbps', 'd_fastwifi__u201363mbps', 'd_fastwifi__u2013632mbps', 'd_fastwifi__u2013633mbps', 'd_fastwifi__u2013637mbps', 'd_fastwifi__u2013639mbps', 'd_fastwifi__u201364mbps', 'd_fastwifi__u2013640mbps', 'd_fastwifi__u201365mbps', 'd_fastwifi__u2013656mbps', 'd_fastwifi__u2013659mbps', 'd_fastwifi__u201366mbps', 'd_fastwifi__u2013667mbps', 'd_fastwifi__u201367mbps', 'd_fastwifi__u2013671mbps', 'd_fastwifi__u2013674mbps', 'd_fastwifi__u2013675mbps', 'd_fastwifi__u2013676mbps', 'd_fastwifi__u2013680mbps', 'd_fastwifi__u2013688mbps', 'd_fastwifi__u201369mbps', 'd_fastwifi__u2013690mbps', 'd_fastwifi__u2013691mbps', 'd_fastwifi__u2013693mbps', 'd_fastwifi__u2013694mbps', 'd_fastwifi__u2013698mbps', 'd_fastwifi__u201370mbps', 'd_fastwifi__u2013700mbps', 'd_fastwifi__u201371mbps', 'd_fastwifi__u2013713mbps', 'd_fastwifi__u201372mbps', 'd_fastwifi__u2013721mbps', 'd_fastwifi__u2013727mbps', 'd_fastwifi__u2013728mbps', 'd_fastwifi__u201373mbps', 'd_fastwifi__u2013730mbps', 'd_fastwifi__u201374mbps', 'd_fastwifi__u2013742mbps', 'd_fastwifi__u2013748mbps', 'd_fastwifi__u201375mbps', 'd_fastwifi__u2013754mbps', 'd_fastwifi__u2013755mbps', 'd_fastwifi__u2013756mbps', 'd_fastwifi__u201376mbps', 'd_fastwifi__u2013764mbps', 'd_fastwifi__u201377mbps', 'd_fastwifi__u2013774mbps', 'd_fastwifi__u2013776mbps', 'd_fastwifi__u201378mbps', 'd_fastwifi__u2013781mbps', 'd_fastwifi__u2013782mbps', 'd_fastwifi__u201379mbps', 'd_fastwifi__u2013791mbps', 'd_fastwifi__u201381mbps', 'd_fastwifi__u201382mbps', 'd_fastwifi__u2013825mbps', 'd_fastwifi__u201383mbps', 'd_fastwifi__u2013831mbps', 'd_fastwifi__u2013835mbps', 'd_fastwifi__u2013838mbps', 'd_fastwifi__u201384mbps', 'd_fastwifi__u2013846mbps', 'd_fastwifi__u201385mbps', 'd_fastwifi__u2013851mbps', 'd_fastwifi__u201386mbps', 'd_fastwifi__u2013864mbps', 'd_fastwifi__u201387mbps', 'd_fastwifi__u2013872mbps', 'd_fastwifi__u201388mbps', 'd_fastwifi__u201389mbps', 'd_fastwifi__u2013899mbps', 'd_fastwifi__u201390mbps', 'd_fastwifi__u2013903mbps', 'd_fastwifi__u201391mbps', 'd_fastwifi__u2013915mbps', 'd_fastwifi__u2013919mbps', 'd_fastwifi__u201392mbps', 'd_fastwifi__u2013924mbps', 'd_fastwifi__u2013929mbps', 'd_fastwifi__u201393mbps', 'd_fastwifi__u201394mbps', 'd_fastwifi__u2013942mbps', 'd_fastwifi__u2013948mbps', 'd_fastwifi__u201395mbps', 'd_fastwifi__u2013953mbps', 'd_fastwifi__u201396mbps', 'd_fastwifi__u2013961mbps', 'd_fastwifi__u201397mbps', 'd_fastwifi__u201398mbps', 'd_fastwifi__u2013980mbps', 'd_fastwifi__u2013989mbps', 'd_fastwifi__u201399mbps', 'd_fastwifi__u2013992mbps', 'd_ferchevalmarseillebodysoap', 'd_fireextinguisher', 'd_firepit', 'd_firetv', 'd_fireplaceguards', 'd_firstaidkit', 'd_flexconditioner', 'd_foldingorconvertiblehighchairalwaysatthelisting', 'd_foldingorconvertiblehighchairavailableuponrequest', 'd_foldingorconvertiblehighchair', 'd_fornoinductionstove', 'd_fornostainlesssteelinductionstove', 'd_fortalecedorneutroshampoo', 'd_fr__u00edorefrigerator', 'd_freecarportonpremises__u20131space', 'd_freecarportonpremises', 'd_freedrivewayparkingonpremises__u20131space', 'd_freedrivewayparkingonpremises__u20132spaces', 'd_freedrivewayparkingonpremises', 'd_freedryer__u2013inbuilding', 'd_freedryer__u2013inunit', 'd_freedryer', 'd_freeparkinggarageonpremises__u20131space', 'd_freeparkinggarageonpremises__u201317spaces', 'd_freeparkinggarageonpremises__u20132spaces', 'd_freeparkinggarageonpremises__u201345spaces', 'd_freeparkinggarageonpremises__u20135spaces', 'd_freeparkinggarageonpremises__u201350spaces', 'd_freeparkinggarageonpremises__u201351spaces', 'd_freeparkinggarageonpremises__u201381spaces', 'd_freeparkinggarageonpremises', 'd_freeparkingonpremises__u20131space', 'd_freeparkingonpremises', 'd_freeresidentialgarageonpremises__u20131space', 'd_freeresidentialgarageonpremises__u20132spaces', 'd_freeresidentialgarageonpremises__u20133spaces', 'd_freeresidentialgarageonpremises', 'd_freeresortaccess', 'd_freestreetparking', 'd_freewasher__u2013inbuilding', 'd_freewasher__u2013inunit', 'd_freewasher', 'd_freeweights', 'd_freezer', 'd_frenchpress', 'd_fridayincludedwithyourstay', 'd_friday', 'd_frigorefrigerator', 'd_frigor__u00edficocombi_neveram__u00e1scongeladornofrostrefrigerator', 'd_frigor__u00edficoconcongeladorrefrigerator', 'd_frigorificoycongeladorrefrigerator', 'd_fructisgarniershampoo', 'd_fructisdegarniershampoo', 'd_fructisshampoo', 'd_frutalbodysoap', 'd_frutasconditioner', 'd_frutasdelbosbodysoap', 'd_frutisshampoo', 'd_gbodysoap', 'd_g19bodysoap', 'd_g19conditioner', 'd_g19shampoo', 'd_gaggenauelectricstove', 'd_gaggenauinductionstove', 'd_gaggenaurefrigerator', 'd_gaggenaustainlesssteeldoubleoven', 'd_gaguenaurefrigerator', 'd_gameconsole', 'd_gameconsole_nintendoswitchandps4', 'd_gameconsole_nintendoswitchandps5', 'd_gameconsole_nintendoswitchandxbox360', 'd_gameconsole_nintendoswitchandxboxone', 'd_gameconsole_nintendoswitch', 'd_gameconsole_nintendowiiandps3', 'd_gameconsole_nintendowii', 'd_gameconsole_ps2andxbox360', 'd_gameconsole_ps2', 'd_gameconsole_ps3', 'd_gameconsole_ps4', 'd_gameconsole_ps5', 'd_gameconsole_xbox360', 'd_gameconsole_xboxone', 'd_gameconsole_xboxseriesx', 'd_gardenview', 'd_garnier_othershampoo', 'd_garnierconditioner', 'd_garnierfructisconditioner', 'd_garnierolorealconditioner', 'd_garniershampoo', 'd_gasstove', 'd_gefridge_freezerrefrigerator', 'd_geinductionstove', 'd_gestainlesssteelelectricstove', 'd_gestainlesssteelinductionstove', 'd_gestainlesssteelstove', 'd_gelchamp__u00fabodysoap', 'd_gelba__u00f1oychamp__u00fabodysoap', 'd_gelbodysoap', 'd_gelbsicobodysoap', 'd_gelcreambodysoap', 'd_geldduchabodysoap', 'd_geldeba__u00f1ofrutaldeliplusbodysoap', 'd_geldeba__u00f1oychamp__u00fabodysoap', 'd_geldecocobodysoap', 'd_geldecuerpobodysoap', 'd_geldeduchaaloeverabodysoap', 'd_geldeduchaavenabodysoap', 'd_geldeduchabodysoap', 'd_geldeduchadesupermercadobodysoap', 'd_geldeduchagenericobodysoap', 'd_geldeduchahigienebodysoap', 'd_geldeduchaliquidobodysoap', 'd_geldeduchashampoo', 'd_geldeducha', 'd_geldeducha___bodysoap', 'd_geldermatol__u00f3gicobegoba__u00f1obodysoap', 'd_gelfamiliar', 'd_gelmercadonabodysoap', 'd_gelmonodosisbodysoap', 'd_gelnormalbodysoap', 'd_gelochampubodysoap', 'd_gelshampoo', 'd_gel', 'd_genbodysoap', 'd_gen__u00e9ricabodysoap', 'd_gen__u00e9ricaconditioner', 'd_gen__u00e9ricashampoo', 'd_gen__u00e9ricobodysoap', 'd_gen__u00e9ricoconditioner', 'd_gen__u00e9ricorefrigerator', 'd_gen__u00e9ricoshampoo', 'd_generalbodysoap', 'd_generalbrandbodysoap', 'd_generalbrandconditioner', 'd_generalbrandshampoo', 'd_generalelectricrefrigerator', 'd_generalshampoo', 'd_generichairconditionerconditioner', 'd_genericshampoo', 'd_genericabodysoap', 'd_genericastainlesssteelsingleoven', 'd_genericobodysoap', 'd_genericoconditioner', 'd_genericorefrigerator', 'd_genericoshampoo', 'd_geniolshampoo', 'd_genricobodysoap', 'd_gilchristandsoamesconditioner', 'd_glicerinabodysoap', 'd_glyceringelbodysoap', 'd_golfcourseview', 'd_goodbrandforyourskinbodysoap', 'd_googlehomesoundsystem', 'd_googlenest__u201cheygoogle__u201dsoundsystem', 'd_granelbodysoap', 'd_granelshampoo', 'd_granierfructisshampoo', 'd_grundigrefrigerator', 'd_grunkelstainlesssteelsingleoven', 'd_gutbiobodysoap', 'd_gutbioshampoo', 'd_gyminbuilding', 'd_gymnearby', 'd_gym', 'd_h_ishampoo', 'd_h_sandothersconditioner', 'd_h_sbodysoap', 'd_h_sconditioner', 'd_h_sshampoo', 'd_h_sytresemm__u00e9shampoo', 'd_h_ssbodysoap', 'd_hacendadobodysoap', 'd_hacendadoconditioner', 'd_hacendadoshampoo', 'd_hacendado_conaceitedearg__u00e1nshampoo', 'd_hacendado_conaceitedearg__u00e1n_conditioner', 'd_haerrefrigerator', 'd_haierrefrigerator', 'd_haiersingleoven', 'd_hairdryer', 'd_hammock', 'd_handmadebodysoap', 'd_hangers', 'd_harborview', 'd_harmankardonbluetoothsoundsystem', 'd_harwestfreshrefrigerator', 'd_haskshampoo', 'd_hayvariosyvacambiandobodysoap', 'd_hbomax', 'd_hdtvwithamazonprimevideo', 'd_hdtvwithappletv', 'd_hdtvwithchromecast', 'd_hdtvwithdisney_', 'd_hdtvwithdvdplayer', 'd_hdtvwithfiretv', 'd_hdtvwithhbomax', 'd_hdtvwithhulu', 'd_hdtvwithnetflix', 'd_hdtvwithpremiumcable', 'd_hdtvwithroku', 'd_hdtvwithstandardcable', 'd_hdtv', 'd_head_shouldershampoo', 'd_head_shouldersbodysoap', 'd_head_shouldersshampoo', 'd_headandshouldersshampoo', 'd_heated', 'd_heatingsplittypeductlesssystem', 'd_heating', 'd_heladerarefrigerator', 'd_henesesrefrigerator', 'd_herbalesencieshampoo', 'd_herbalessenceconditioner', 'd_herbalessenceshampoo', 'd_herbalessencesbodysoap', 'd_herbalessencesconditioner', 'd_herbalessencesshampoo', 'd_herm__u00e9sbodysoap', 'd_herm__u00e9sconditioner', 'd_herm__u00e9sshampoo', 'd_hermankardonbluetoothsoundsystem', 'd_hermesconditioner', 'd_hermesshampoo', 'd_hesienserefrigerator', 'd_hfsconditioner', 'd_hidratantebodysoap', 'd_hidratanteconditioner', 'd_hidratantedalmndrabodysoap', 'd_hidratanteshampoo', 'd_hierbaesenceshampoo', 'd_highchairalwaysatthelisting', 'd_highchairavailableuponrequest', 'd_highchair', 'd_highqualitybodysoap', 'd_hinenserefrigerator', 'd_hipoalargenicobodysoap', 'd_hipoalerg__u00e9nicobodysoap', 'd_hisenserefrigerator', 'd_hisense', 'd_hobinductionstove', 'd_hockeyrink', 'd_homeassistant5_1bluetoothsoundsystem', 'd_homepodbluetoothsoundsystem', 'd_honeybodysoap', 'd_hornodevaporsingleoven', 'd_hornoel__u00e9ctricosingleoven', 'd_hornomicroondascongrillstainlesssteeloven', 'd_hornomicroondasoven', 'd_hornostainlesssteeloven', 'd_hostgreetsyou', 'd_hottub', 'd_hotwaterkettle', 'd_hotwater', 'd_hotelbodysoap', 'd_hotelconditioner', 'd_hotelshampoo', 'd_housekeepingavailableatextracost', 'd_housekeepingincludedwithyourstay', 'd_housekeepingavailable1dayaweekavailableatextracost', 'd_housekeepingavailable1houraday', 'd_housekeepingavailable10hoursaday', 'd_housekeepingavailable12hoursaday', 'd_housekeepingavailable2daysaweekavailableatextracost', 'd_housekeepingavailable2daysaweekincludedwithyourstay', 'd_housekeepingavailable2daysaweek', 'd_housekeepingavailable2hoursaday', 'd_housekeepingavailable24hours', 'd_housekeepingavailable3daysaweekavailableatextracost', 'd_housekeepingavailable3hoursaday', 'd_housekeepingavailable4daysaweek', 'd_housekeepingavailable4hoursaday', 'd_housekeepingavailable5daysaweekavailableatextracost', 'd_housekeepingavailable5hoursadayavailableatextracost', 'd_housekeepingavailable5hoursaday', 'd_housekeepingavailable8hoursadayavailableatextracost', 'd_housekeepingavailable8hoursaday', 'd_housekeepingavailable9hoursaday', 'd_housekeepingavailableeverydayavailableatextracost', 'd_housekeepingavailableeverydayincludedwithyourstay', 'd_housekeepingavailableeveryday', 'd_housekeepingavailablefrom10_00amto10_30amincludedwithyourstay', 'd_housekeepingavailablefrom10_00amto12_00am', 'd_housekeepingavailablefrom10_00amto1_00pm', 'd_housekeepingavailablefrom10_00amto2_00pm', 'd_housekeepingavailablefrom10_00amto5_00pm', 'd_housekeepingavailablefrom10_00amto6_00pm', 'd_housekeepingavailablefrom10_00amto6_30pm', 'd_housekeepingavailablefrom10_00amto8_00pm', 'd_housekeepingavailablefrom10_30amto2_00pm', 'd_housekeepingavailablefrom11_00amto12_00pm', 'd_housekeepingavailablefrom11_00amto1_00am', 'd_housekeepingavailablefrom11_00amto1_00pm', 'd_housekeepingavailablefrom11_00amto2_00am', 'd_housekeepingavailablefrom11_00amto2_00pm', 'd_housekeepingavailablefrom11_00amto3_00pmavailableatextracost', 'd_housekeepingavailablefrom11_00amto3_00pm', 'd_housekeepingavailablefrom11_00amto4_00pm', 'd_housekeepingavailablefrom11_00amto5_00pm', 'd_housekeepingavailablefrom11_00amto8_00pm', 'd_housekeepingavailablefrom11_30amto2_00pm', 'd_housekeepingavailablefrom11_30amto2_30pm', 'd_housekeepingavailablefrom12_00pmto1_00pmavailableatextracost', 'd_housekeepingavailablefrom12_00pmto2_00pm', 'd_housekeepingavailablefrom12_00pmto9_00pm', 'd_housekeepingavailablefrom12_30pmto3_00pm', 'd_housekeepingavailablefrom3_00pmto4_00pm', 'd_housekeepingavailablefrom3_00pmto5_00pmavailableatextracost', 'd_housekeepingavailablefrom3_00pmto7_00pm', 'd_housekeepingavailablefrom4_00pmto8_00pm', 'd_housekeepingavailablefrom5_00pmto7_00am', 'd_housekeepingavailablefrom5_30pmto7_30pm', 'd_housekeepingavailablefrom6_00pmto7_30pm', 'd_housekeepingavailablefrom7_00amto10_00pm', 'd_housekeepingavailablefrom7_30amto10_00am', 'd_housekeepingavailablefrom8_00amto12_00pm', 'd_housekeepingavailablefrom8_00amto4_00pmavailableatextracost', 'd_housekeepingavailablefrom8_00amto6_00pm', 'd_housekeepingavailablefrom8_00amto8_00pm', 'd_housekeepingavailablefrom9_00amto11_00am', 'd_housekeepingavailablefrom9_00amto12_00pm', 'd_housekeepingavailablefrom9_00amto2_00pm', 'd_housekeepingavailablefrom9_00amto3_00pm', 'd_housekeepingavailablefrom9_00amto5_00pm', 'd_housekeepingavailablefrom9_00amto6_00pm', 'd_housekeepingavailablefrom9_00amto6_30pm', 'd_housekeepingavailablefrom9_00amto7_00pm', 'd_housekeepingavailablefrom9_00amto8_00pm', 'd_housekeepingavailablefrom9_00amto9_00pm', 'd_housekeepingavailablefrom9_30amto7_00pm', 'd_housekeepingavailablemondayavailableatextracost', 'd_housekeepingavailablemondayincludedwithyourstay', 'd_housekeepingavailablemondaytofridayavailableatextracost', 'd_housekeepingavailablemondaytofriday', 'd_housekeepingavailablemondaytotuesdayavailableatextracost', 'd_housekeepingavailablemonday', 'd_housekeepingavailablesaturdayavailableatextracost', 'd_housekeepingavailablesundayavailableatextracost', 'd_housekeepingavailablethursdayincludedwithyourstay', 'd_housekeepingavailablewednesdaytothursdayavailableatextracost', 'd_housekeepingavailablewednesday', 'd_hpneutrobodysoap', 'd_hsbodysoap', 'd_hsconditioner', 'd_hsosimilarshampoo', 'd_hsshampoo', 'd_hulu', 'd_hysbodysoap', 'd_icecoolrefrigerator', 'd_idealsingleoven', 'd_ikeoven', 'd_ikeadoubleoven', 'd_ikeaelectricstove', 'd_ikeainductionstove', 'd_ikeaoven', 'd_ikearefrigerator', 'd_ikeastainlesssteeldoubleoven', 'd_ikeastainlesssteelelectricstove', 'd_ikeastainlesssteelinductionstove', 'd_ikeastainlesssteeloven', 'd_ikeastainlesssteelsingleoven', 'd_ikeasonosbluetoothsoundsystem', 'd_imagenbodysoap', 'd_incluidobodysoap', 'd_incluidoshampoo', 'd_indesignrefrigerator', 'd_indesitdoubleoven', 'd_indesitelectricstove', 'd_indesitinductionstove', 'd_indesitoven', 'd_indesitrefrigerator', 'd_indesitsingleoven', 'd_indesitstainlesssteeldoubleoven', 'd_indesitstainlesssteelgasstove', 'd_indesitstainlesssteelinductionstove', 'd_indesitstainlesssteeloven', 'd_indesitstainlesssteelsingleoven', 'd_indiferentebodysoap', 'd_indiferenteconditioner', 'd_indiferenteshampoo', 'd_individualencadahabitaci__u00f3nrefrigerator', 'd_indoorfireplace', 'd_indoorfireplace_electric', 'd_indoorfireplace_ethanol', 'd_indoorfireplace_gas', 'd_indoorfireplace_pelletstove', 'd_indoorfireplace_woodburning', 'd_indoorpoolavailableseasonally', 'd_induccionfagorstainlesssteelstove', 'd_inductionstove', 'd_infinitonrefrigerator', 'd_infinitysoundsystemwithaux', 'd_infinitysoundsystem', 'd_infinity', 'd_insightdailyuseshampooenergizingshampoo', 'd_insightsensitiveskin____dailyuseenergizingmaskconditioner', 'd_insitutoespa__u00f1olbodysoap', 'd_institutoespa__u00f1olbodysoap', 'd_institutoespa__u00f1olshampoo', 'd_integradorefrigerator', 'd_integratedrefrigerator', 'd_interapothekbodysoap', 'd_interapothekconditioner', 'd_interapothekshampoo', 'd_inverterrefrigerator', 'd_ipodbluetoothsoundsystem', 'd_iron', 'd_isenserefrigerator', 'd_jab__u00f3ndemanosbodysoap', 'd_jab__u00f3ndemanosyacondibodysoap', 'd_jab__u00f3nl__u00edquidophneutrobodysoap', 'd_jab__u00f3nl__u00edquido_bodysoap', 'd_jab__u00f3nliquidobodysoap', 'd_jab__u00f3nneutrobodysoap', 'd_jabonbodysoap', 'd_jabonl__u00edquidobodysoap', 'd_jasonbodysoap', 'd_jassonteverdeecol__u00f3gicobodysoap', 'd_jatastainlesssteeloven', 'd_jblbluetoothsoundsystem', 'd_jblsoundsystem', 'd_jelbodysoap', 'd_jjoven', 'd_joceloven', 'd_jocelrefrigerator', 'd_jocelstainlesssteelsingleoven', 'd_johnsonbodysoap', 'd_johnsonconditioner', 'd_juntoconelchmpuconditioner', 'd_justforyoubodysoap', 'd_justforyouconditioner', 'd_justforyoushampoo', 'd_jvcsoundsystemwithaux', 'd_jvcsoundsystemwithbluetoothandaux', 'd_jvcsoundsystem', 'd_kallosshampoo', 'd_kayak', 'd_kenmoreinductionstove', 'd_kenmorestainlesssteelelectricstove', 'd_kenwoodrefrigerator', 'd_keurigcoffeemachine', 'd_keypad', 'd_kiehl__u2019sbodysoap', 'd_kiehl__u2019sconditioner', 'd_kiehl__u2019sshampoo', 'd_kitdebienvenidabodysoap', 'd_kitdebienvenida_shampoo', 'd_kitchen', 'd_kitchenette', 'd_klarsteininductionstove', 'd_klarsteinstainlesssteeldoubleoven', 'd_klipschbluetoothsoundsystem', 'd_klipschheritagebluetoothsoundsystem', 'd_kokenacondicionadorconditioner', 'd_konenrefrigerator', 'd_korresbodysoap', 'd_kunfrefrigerator', 'd_kunftrefrigerator', 'd_kunft_refrigerator', 'd_l_grefrigerator', 'd_l__u00b4occitaneconditioner', 'd_l__u00b4occitaneshampoo', 'd_l__u2019occitanebodysoap', 'd_l__u2019occitaneconditioner', 'd_l__u2019orealconditioner', 'd_l__u2019orealshampoo', 'd_lachinatabodysoap', 'd_lachinataconditioner', 'd_lachinatashampoo', 'd_lacornueinductionstove', 'd_lam__u00e1secon__u00f3micabodysoap', 'd_lamarcapuedevariar', 'd_lamarsellesaanticaspashampoo', 'd_lamarsellesabodysoap', 'd_larocheposayyvichybodysoap', 'd_larocheposaybodysoap', 'd_larochepossaybodysoap', 'd_larojaydeavenabodysoap', 'd_latoja', 'd_latojabodysoap', 'd_latojashampoo', 'd_lactodiolshampoo', 'd_lactovitbodysoap', 'd_lactovitebodysoap', 'd_lakeaccess', 'd_lakeview', 'd_landebodysoap', 'd_landeconditioner', 'd_lappool', 'd_lasertag', 'd_laundromatnearby', 'd_lepetitmarseillaisbodysoap', 'd_legrenbodysoap', 'd_legrenconditioner', 'd_leroymerlynbluetoothsoundsystem', 'd_lgbluetoothsoundsystem', 'd_lgelectricstove', 'd_lginductionstove', 'd_lgnofrost155cmalturarefrigerator', 'd_lgoven', 'd_lgrefrigerator', 'd_lgsoundsystemwithbluetoothandaux', 'd_lgsoundsystem', 'd_lgstainlesssteelelectricstove', 'd_lgstainlesssteelgasstove', 'd_lgstainlesssteelinductionstove', 'd_lgyiphonesoundsystemwithbluetoothandaux', 'd_lidabodysoap', 'd_lidlbodysoap', 'd_lidlconditioner', 'd_lidlshampoo', 'd_liebherrefrigerator', 'd_liebherrrefrigerator', 'd_lifesizegames', 'd_lineaexclusivaconditioner', 'd_liquidbodysoap', 'd_locompartimosrefrigerator', 'd_lomismodenuestrafamilia__ud83e__udd17bodysoap', 'd_loquecompramosparanuestrafamilia__ud83d__ude09shampoo', 'd_lockonbedroomdoor', 'd_lockbox', 'd_loewebodysoap', 'd_loeweconditioner', 'd_loeweshampoo', 'd_logitechbluetoothsoundsystem', 'd_logitechsoundsystem', 'd_logitechysonysoundsystemwithbluetoothandaux', 'd_longtermstaysallowed', 'd_lorealbodysoap', 'd_lorealconditioner', 'd_lorealshampoo', 'd_luggagedropoffallowed', 'd_lushbodysoap', 'd_luxuryamenitiesbodysoap', 'd_luxuryamenitiesshampoo', 'd_m_dhospitalitybodysoap', 'd_m_dhospitalityconditioner', 'd_m_dhospitalityshampoo', 'd_m__u00faltiplesbodysoap', 'd_mabeinductionstove', 'd_mabestainlesssteelinductionstove', 'd_madremiabodysoap', 'd_magnobodysoap', 'd_makrobodysoap', 'd_makroshampoo', 'd_mancablancaconditioner', 'd_mangobodysoap', 'd_mangoconditioner', 'd_mangoshampoo', 'd_manzanashampoo', 'd_marcablancshampoo', 'd_marcablanca_haygelchamp__u00fashampoo', 'd_marcablancabodysoap', 'd_marcablancaconditioner', 'd_marcablancashampoo', 'd_marcablancasupermercadobodysoap', 'd_marcablancasupermercadoshampoo', 'd_marcabodysoap', 'd_marcaconditioner', 'd_marcal__u00edderconditioner', 'd_marcashampoo', 'd_marcavariadaconditioner', 'd_marcavariadashampoo', 'd_marcasconocidasbodysoap', 'd_marcasconocidasconditioner', 'd_marcasconocidasshampoo', 'd_marcasdiversasbodysoap', 'd_marcasdiversasshampoo', 'd_marcellabodysoap', 'd_marinaview', 'd_marleybluetoothsoundsystem', 'd_marsellashampoo', 'd_marsellaisbodysoap', 'd_marshallbluetoothsoundsystem', 'd_marshallsoundsystemwithbluetoothandaux', 'd_mashallbluetoothsoundsystem', 'd_mauiconditioner', 'd_maximaamenitiesbodysoap', 'd_maxlookolactosepbodysoap', 'd_meidirefrigerator', 'd_mepamsainductionstove', 'd_mepamsastainlesssteeldoubleoven', 'd_mercadonabodysoap', 'd_mercadonaconditioner', 'd_mercadonashampoo', 'd_mercadona_bodysoap', 'd_meredobluetoothsoundsystem', 'd_milampbluetoothsoundsystem', 'd_microhondasrefrigerator', 'd_microondasoven', 'd_microondasstainlesssteelsingleoven', 'd_microwavewithelectricalovenmicroondasconhornoel__u00e9ctrico_stainlesssteeloven', 'd_microwave', 'd_mideainductionstove', 'd_midearefrigerator', 'd_mideastainlesssteeloven', 'd_mieleelectricstove', 'd_mielegasstove', 'd_mieleinductionstove', 'd_mieleoven', 'd_mielerefrigerator', 'd_mielesingleoven', 'd_mielestainlesssteelinductionstove', 'd_mielestainlesssteeloven', 'd_mikrefrigerator', 'd_minifridge', 'd_minigolf', 'd_minihotelstyleconditioner', 'd_minihotelstyleshampoo', 'd_miniovenoven', 'd_minifrigorificoinvesrefrigerator', 'd_mintyhostbodysoap', 'd_mintyhostconditioner', 'd_mitsubishiconditioner', 'd_modularbodysoap', 'd_modularroomsbodysoap', 'd_modularroomsshampoo', 'd_moltonbrownbodysoap', 'd_moltonbrownshampoo', 'd_moltonbrown', 'd_mondayavailableatextracost', 'd_mondayincludedwithyourstay', 'd_mondaytofridayavailableatextracost', 'd_mondaytofridayincludedwithyourstay', 'd_mondaytosaturdayavailableatextracost', 'd_mondaytotuesdayincludedwithyourstay', 'd_monday', 'd_monodosisbodysoap', 'd_mosquitonet', 'd_moulimexstainlesssteelsingleoven', 'd_moulinexoven', 'd_moulinexstainlesssteeloven', 'd_mountainview', 'd_mousedelegrainbodysoap', 'd_mousellshampoo', 'd_mousselbodysoap', 'd_mousseldelegrainbodysoap', 'd_moussel_bodysoap', 'd_movietheater', 'd_muchasshampoo', 'd_mussvitalbodysoap', 'd_nabodysoap', 'd_naconditioner', 'd_narefrigerator', 'd_nashampoo', 'd_nastainlesssteeloven', 'd_ndbodysoap', 'd_nsconditioner', 'd_n____abodysoap', 'd_n__u00edveabodysoap', 'd_naturaconditioner', 'd_naturashampoo', 'd_naturalbodysoap', 'd_naturalhonery', 'd_naturalhoneybodysoap', 'd_naturebodysoap', 'd_natureboxshampoo', 'd_nbbodysoap', 'd_neffoven', 'd_neffrefrigerator', 'd_neffsingleoven', 'd_neffstainlesssteeldoubleoven', 'd_neffstainlesssteelinductionstove', 'd_neffstainlesssteeloven', 'd_neffstainlesssteelsingleoven', 'd_nenucobodysoap', 'd_nespresso', 'd_netflix', 'd_neutrabodysoap', 'd_neutraconditioner', 'd_neutrashampoo', 'd_neutrobodysoap', 'd_neutrohipoalerg__u00e9nico_bodysoap', 'd_neutroshampoo', 'd_neutrosinsilicatosshampoo', 'd_newpol', 'd_newpolrefrigerator', 'd_ningunabodysoap', 'd_ningunaconditioner', 'd_ningunaenparticularbodysoap', 'd_ningunashampoo', 'd_nisubodysoap', 'd_niveabodysoap', 'd_niveaconditioner', 'd_niveaosimilarbodysoap', 'd_niveashampoo', 'd_niveayproductosdemercadonabodysoap', 'd_noconocidarefrigerator', 'd_noideastainlesssteelsingleoven', 'd_nonoiserefrigerator', 'd_norecuerdolamarcashampoo', 'd_norecuerdorefrigerator', 'd_noserefrigerator', 'd_nospecificbrandbodysoap', 'd_nospecificbrandshampoo', 'd_notengomarcafijaconditioner', 'd_notengomarcafijashampoo', 'd_notengomarcafija_bodysoap', 'd_notengoserviciodecocina', 'd_nodorsingleoven', 'd_noisedecibelmonitorsonproperty', 'd_nolmalconditioner', 'd_nolmalshampoo', 'd_nonebodysoap', 'd_normalbodysoap', 'd_normalconditioner', 'd_normalshampoo', 'd_normalsingleoven', 'd_notspecifiedbodysoap', 'd_notspecifiedoven', 'd_notspecifiedrefrigerator', 'd_notspecifiedshampoo', 'd_nuky', 'd_oanteneelviveconditioner', 'd_obergozostainlesssteeldoubleoven', 'd_oceanview', 'd_okrefrigerator', 'd_olivebodysoap', 'd_oliveshampoo', 'd_olympicsized', 'd_onrefrigerator', 'd_onkyosoundsystemwithbluetoothandaux', 'd_onwarefrigerator', 'd_open24hours', 'd_openspecifichours', 'd_orbegosostainlesssteeldoubleoven', 'd_orbegozagrillstainlesssteelsingleoven', 'd_organicshampooshampoo', 'd_organicshampoo', 'd_otherelectricstove', 'd_othergasstove', 'd_otherinductionstove', 'd_otherstainlesssteelelectricstove', 'd_otherstainlesssteelgasstove', 'd_otherstainlesssteelinductionstove', 'd_otherstainlesssteelstove', 'd_otherstove', 'd_otroelectricstove', 'd_otrogasstove', 'd_otroinductionstove', 'd_otrostainlesssteelelectricstove', 'd_otrostainlesssteelgasstove', 'd_otrostainlesssteelinductionstove', 'd_otrostainlesssteelsingleoven', 'd_otrosshampoo', 'd_otseinstainlesssteelelectricstove', 'd_otseinstainlesssteeloven', 'd_outdoordiningarea', 'd_outdoorfurniture', 'd_outdoorkitchenwithoven', 'd_outdoorkitchen', 'd_outdoorplayground', 'd_outdoorpoolavailableseasonally', 'd_outdoorpoolheated', 'd_outdoorpool', 'd_outdoorshower', 'd_outletcovers', 'd_oven', 'd_pack__u2019nplaytravelcribalwaysatthelisting', 'd_pack__u2019nplaytravelcribavailableuponrequest', 'd_pack__u2019nplaytravelcrib', 'd_paidboosterseathighchairavailableuponrequest', 'd_paidclampontableseathighchairalwaysatthelisting', 'd_paidclampontableseathighchairavailableuponrequest', 'd_paidclampontableseathighchair', 'd_paidcribalwaysatthelisting', 'd_paidcribavailableuponrequest', 'd_paidcrib', 'd_paiddryer__u2013inbuilding', 'd_paiddryer__u2013inunit', 'd_paiddryer', 'd_paidfoldingorconvertiblehighchairavailableuponrequest', 'd_paidhighchairavailableuponrequest', 'd_paidpack__u2019nplaytravelcribalwaysatthelisting', 'd_paidpack__u2019nplaytravelcribavailableuponrequest', 'd_paidpack__u2019nplaytravelcrib', 'd_paidparkinggarageoffpremises', 'd_paidparkinggarageonpremises__u20131space', 'd_paidparkinggarageonpremises__u201310spaces', 'd_paidparkinggarageonpremises__u2013100spaces', 'd_paidparkinggarageonpremises__u20132spaces', 'd_paidparkinggarageonpremises__u201320spaces', 'd_paidparkinggarageonpremises__u201330spaces', 'd_paidparkinggarageonpremises__u20134spaces', 'd_paidparkinggarageonpremises__u20135spaces', 'd_paidparkinggarageonpremises__u201350spaces', 'd_paidparkinggarageonpremises__u20136spaces', 'd_paidparkinggarageonpremises__u201360spaces', 'd_paidparkinggarageonpremises__u20137spaces', 'd_paidparkinggarageonpremises__u201370spaces', 'd_paidparkinggarageonpremises__u201372spaces', 'd_paidparkinggarageonpremises__u20138spaces', 'd_paidparkinggarageonpremises', 'd_paidparkinglotoffpremises', 'd_paidparkinglotonpremises__u20131space', 'd_paidparkinglotonpremises__u201310spaces', 'd_paidparkinglotonpremises__u2013100spaces', 'd_paidparkinglotonpremises__u201312spaces', 'd_paidparkinglotonpremises__u20132spaces', 'd_paidparkinglotonpremises__u20133spaces', 'd_paidparkinglotonpremises__u201340spaces', 'd_paidparkinglotonpremises__u201344spaces', 'd_paidparkinglotonpremises', 'd_paidparkingoffpremises', 'd_paidparkingonpremises__u20131space', 'd_paidparkingonpremises__u20132spaces', 'd_paidparkingonpremises__u201320spaces', 'd_paidparkingonpremises__u201372spaces', 'd_paidparkingonpremises', 'd_paidresortaccess', 'd_paidstandalonehighchairalwaysatthelisting', 'd_paidstandalonehighchairavailableuponrequest', 'd_paidstandalonehighchair', 'd_paidstreetparkingoffpremises', 'd_paidwasher__u2013inbuilding', 'd_paidwasher__u2013inunit', 'd_paidwasher', 'd_palmolivebodysoap', 'd_palmoliveconditioner', 'd_palmoliveshampoo', 'd_palmovide_bodysoap', 'd_panasonicbluetoothsoundsystem', 'd_pantenconditioner', 'd_pantenshampoo', 'd_pantene_kirklandshampoo', 'd_panteneelviveshampoo', 'd_panteneactiveprovshampoo', 'd_pantenebodysoap', 'd_panteneconditioner', 'd_panteneoh_sshampoo', 'd_panteneprovconditioner', 'd_panteneprovshampoo', 'd_pantenepurificanteshampoo', 'd_panteneshampoo', 'd_pantenneconditioner', 'd_para2usosshampoo', 'd_para2vecesbodysoap', 'd_paraeld__u00edadelallegadabodysoap', 'd_paraestanciascortasshampoo', 'd_paratodotipodecabelloshampoo', 'd_paratodotipodepeloshampoo', 'd_paratodotipodepielbodysoap', 'd_paraunrefrescooalg__u00fanyogurt___ud83d__ude09refrigerator', 'd_parcadeprimeraclase_conditioner', 'd_parkview', 'd_pascalmorabitobodysoap', 'd_pascalmorabitoshampoo', 'd_patioorbalcony', 'd_pelomixtomarcamercadonashampoo', 'd_peque__u00f1arefrigerator', 'd_peque__u00f1oespacioreservadoparaloshu__u00e9spedesrefrigerator', 'd_peque__u00f1ohornooven', 'd_peque__u00f1oparapizza', 'd_peque__u00f1orefrigerator', 'd_peroparapelonormalshampoo', 'd_peropodemoshacerteunhueco_refrigerator', 'd_pero', 'd_petsallowed', 'd_phneutrobodysoap', 'd_phneutroshampoo', 'd_philipsrefrigerator', 'd_philipssingleoven', 'd_philipssoundsystemwithbluetoothandaux', 'd_philips_minicadenaradioycdsoundsystem', 'd_phillipsbluetoothsoundsystem', 'd_phillipssoundsystemwithbluetoothandaux', 'd_piano', 'd_pielsensiblebodysoap', 'd_pingpongtable', 'd_pioneersoundsystemwithaux', 'd_pioneersoundsystemwithbluetoothandaux', 'd_pocketwifi', 'd_poolavailableseasonally', 'd_poolcover', 'd_pooltable', 'd_pooltoys', 'd_poolview', 'd_pool', 'd_porlanochenofuncionade23_00a9_00_conditioner', 'd_portableairconditioning', 'd_portablefans', 'd_portableheater', 'd_pourovercoffee', 'd_premiumbodysoap', 'd_premiumcable', 'd_primapribodysoap', 'd_primarkbodysoap', 'd_primeramarcarefrigerator', 'd_primerasmarcasconditioner', 'd_primerasmarcassingleoven', 'd_primorbodysoap', 'd_primorconditioner', 'd_primorshampoo', 'd_privatebackyard__u2013fullyfenced', 'd_privatebackyard__u2013notfullyfenced', 'd_privatebackyard', 'd_privatebbqgrill_charcoal', 'd_privatebbqgrill_gas', 'd_privateentrance', 'd_privategyminbuilding', 'd_privategymnearby', 'd_privategym', 'd_privatehottubavailableallyear', 'd_privatehottubavailableseasonally', 'd_privatehottub', 'd_privateindoorpoolavailableallyear', 'd_privatelivingroom', 'd_privateoutdoorkitchen', 'd_privateoutdoorpoolavailableallyear', 'd_privateoutdoorpoolavailableseasonally', 'd_privateoutdoorpoolrooftop', 'd_privateoutdoorpoolsaltwater', 'd_privatepatioorbalcony', 'd_privatepoolavailableallyear', 'd_privatepoolavailableseasonally', 'd_privatepool', 'd_privatesauna', 'd_profesionalbodysoap', 'd_profesionalshampoo', 'd_propiabodysoap', 'd_puedesguardaralgunascosas_sinecesitasrefrigerator', 'd_qiliverefrigerator', 'd_qliverefrigerator', 'd_r_evolutioninductionstove', 'd_radiantheating', 'd_radiorelojdespertador_jvcsoundsystem', 'd_realsaboriabodysoap', 'd_realsaboriaconditioner', 'd_recordplayer', 'd_refrigerator', 'd_renbodysoap', 'd_renconditioner', 'd_renshampoo', 'd_ren__u00e9furtererconditioner', 'd_resortaccess', 'd_resortview', 'd_revlonbodysoap', 'd_revlonconditioner', 'd_revlonshampoo', 'd_revlon', 'd_ricemaker', 'd_ritualsbodysoap', 'd_ritualsconditioner', 'd_ritualsshampoo', 'd_ritulasbodysoap', 'd_ritulasconditioner', 'd_ritulasshampoo', 'd_riverview', 'd_rizdoconditioner', 'd_rizdoshampoo', 'd_rocashampoo', 'd_roku', 'd_romarconditioner', 'd_rooftop', 'd_roomdarkeningshades', 'd_rowing', 'd_rrbodysoap', 'd_rrshampoo', 'd_s__u00f3loparaestanciascortas_paraestanciaslargasnosefacilitanlosproductosdelimpiezaehigiene_bodysoap', 'd_sabaticobodysoap', 'd_safe', 'd_saivodinductionstove', 'd_saivodoven', 'd_saivodrefrigerator', 'd_saltwater', 'd_samsumgrefrigerator', 'd_samsungbluetoothsoundsystem', 'd_samsunginductionstove', 'd_samsungoven', 'd_samsungrefrigerator', 'd_samsungsingleoven', 'd_samsungsoundbarsoundsystemwithbluetoothandaux', 'd_samsungsoundsystemwithbluetoothandaux', 'd_samsungsoundsystem', 'd_samsungsoundbarbluetoothsoundsystem', 'd_samsungstainlesssteeldoubleoven', 'd_samsungstainlesssteelelectricstove', 'd_samsungstainlesssteelinductionstove', 'd_samsungstainlesssteeloven', 'd_samsungstainlesssteelsingleoven', 'd_samsungcombirb37j5005saefrefrigerator', 'd_sanexbodysoap', 'd_sanexconditioner', 'd_sanexodovebodysoap', 'd_sanexoinstitutoespa__u00f1ol_bodysoap', 'd_sanexo_palmolivebodysoap', 'd_sanexshampoo', 'd_sanexypantenebodysoap', 'd_sanexzerobodysoap', 'd_santeshampoo', 'd_saturdayavailableatextracost', 'd_saturdayincludedwithyourstay', 'd_sauberrefrigerator', 'd_sauna', 'd_sauterstove', 'd_savoidrefrigerator', 'd_schottceranstainlesssteelelectricstove', 'd_schottceranstainlesssteelinductionstove', 'd_scienseshampoo', 'd_scottyshampoo', 'd_sedejaunhuecoparausodeloshu__u00e9spedesrefrigerator', 'd_sedejaunabaldaparaelusodeloshu__u00e9spedesrefrigerator', 'd_sedejaunapartedelrefrigeradorrefrigerator', 'd_seaview', 'd_sebamed', 'd_secretosdelaguaconditioner', 'd_sedalbodysoap', 'd_sedalconditioner', 'd_sedalshampoo', 'd_selecrefrigerator', 'd_selfcheckin', 'd_severalbrands5starshotelbodysoap', 'd_severalhighendbrandsbodysoap', 'd_shampooshampoo', 'd_shampootimote__u00edbodysoap', 'd_shampoo', 'd_sharedbackyard__u2013fullyfenced', 'd_sharedbackyard__u2013notfullyfenced', 'd_sharedbackyard', 'd_sharedbbqgrill_charcoal', 'd_sharedbbqgrill_gas', 'd_sharedbeachaccess', 'd_sharedgyminbuilding', 'd_sharedgymnearby', 'd_sharedgym', 'd_sharedhottubavailableallyear', 'd_sharedhottubavailableseasonally', 'd_sharedhottub', 'd_sharedindoorpoolavailableallyear', 'd_sharedindoorpoolavailableseasonally', 'd_sharedindoorpoolheated', 'd_sharedoutdoorkitchen', 'd_sharedoutdoorpool', 'd_sharedoutdoorpoolavailableallyear', 'd_sharedoutdoorpoolavailableseasonally', 'd_sharedoutdoorpoolinfinity', 'd_sharedoutdoorpoololympicsized', 'd_sharedoutdoorpoolopenspecifichours', 'd_sharedoutdoorpoolrooftop', 'd_sharedoutdoorpoolsaltwater', 'd_sharedpatioorbalcony', 'd_sharedpool', 'd_sharedpoolavailableallyear', 'd_sharedpoolavailableseasonally', 'd_sharedsauna', 'd_showerbodysoap', 'd_showergel_soapbodysoap', 'd_showergel_soap_shampoo', 'd_showergelbodysoap', 'd_showergel', 'd_sibodysoap', 'd_siconditioner', 'd_sinoslopides', 'd_siserequiereseledaraunespacioenelfrigor__u00edficoexclusivoparausted_refrigerator', 'd_sishampoo', 'd_sidebysiderefrigerator', 'd_siemenseh651fj17einducci__u00f3nstainlesssteelinductionstove', 'd_siemenselectricstove', 'd_siemensgasstove', 'd_siemenshb74ar521estainlesssteeloven', 'd_siemensinductionstove', 'd_siemensoven', 'd_siemensrefrigerator', 'd_siemenssingleoven', 'd_siemensstainlesssteeldoubleoven', 'd_siemensstainlesssteeloven', 'd_siemensstainlesssteelsingleoven', 'd_siemmensstainlesssteeloven', 'd_siempreaportamosalhu__u00e9spedlosproductosesenciales_shampoo', 'd_siempresepuedehacerunespacioenlanevera', 'd_silvercrestbluetoothsoundsystem', 'd_sindefinirbodysoap', 'd_sindefinirshampoo', 'd_sinmarcabodysoap', 'd_sinmarcashampoo', 'd_sinparabenes_sanexbodysoap', 'd_sinparabenosbodysoap', 'd_singlelevelhome', 'd_singleoven', 'd_sink', 'd_skateramp', 'd_skiinskiout', 'd_skyrefrigerator', 'd_smartlock', 'd_smegelectricstove', 'd_smeggasstove', 'd_smeginductionstove', 'd_smegoven', 'd_smegrefrigerator', 'd_smegstainlesssteelgasstove', 'd_smegstainlesssteeloven', 'd_smegstainlesssteelsingleoven', 'd_smokealarm', 'd_smokingallowed', 'd_soapbodysoap', 'd_softcarrefourshampoo', 'd_soloinwelcomepackshampoo', 'd_sonicbluetoothsoundsystem', 'd_sonosbluetoothsoundsystem', 'd_sonossoundsystem', 'd_sonos', 'd_sonybluetoothsoundsystem', 'd_sonyhtsf__u2022aux', 'd_sonyhtsfsoundsystemwithbluetoothandaux', 'd_sonyhtsf150soundsystemwithbluetoothandaux', 'd_sonyportablespeakersoundsystemwithbluetoothandaux', 'd_sonyrefrigerator', 'd_sonysoundsystemwithaux', 'd_sonysoundsystemwithbluetoothandaux', 'd_sonysoundsystem', 'd_soundsystemwithaux', 'd_soundsystemwithbluetoothandaux', 'd_soundsystem', 'd_spanishrefrigerator', 'd_spectrumrefrigerator', 'd_splitconditioner', 'd_ssbodysoap', 'd_stainlesssteeldoubleoven', 'd_stainlesssteelelectricstove', 'd_stainlesssteelgasstove', 'd_stainlesssteelinductionstove', 'd_stainlesssteeloven', 'd_stainlesssteelsingleoven', 'd_stainlesssteelstove', 'd_standalonehighchairalwaysatthelisting', 'd_standalonehighchairavailableuponrequest', 'd_standalonehighchair', 'd_standarbodysoap', 'd_standarrefrigerator', 'd_standarshampoo', 'd_standardbodysoap', 'd_standardcable', 'd_standardconditioner', 'd_standardshampoo', 'd_stationarybike', 'd_stengelrefrigerator', 'd_stopthewaterwhileusingmeshampoo', 'd_stove', 'd_strengelrefrigerator', 'd_suaveycremosobodysoap', 'd_sunloungers', 'd_sundaytofridayavailableatextracost', 'd_sundaytosaturdayavailableatextracost', 'd_sunday', 'd_supemercadoconditioner', 'd_superbodysoap', 'd_supershampoo', 'd_supermercadobodysoap', 'd_supermercadoshampoo', 'd_supeserrefrigerator', 'd_svanelectricstove', 'd_svanrefrigerator', 'd_swoven', 'd_tablecornerguards', 'd_tauruselectricstove', 'd_tecaoven', 'd_technicssoundsystemwithaux', 'd_tehveganbodysoap', 'd_tehveganconditioner', 'd_tehveganshampoo', 'd_tekadoubleoven', 'd_tekaelectricstove', 'd_tekagasstove', 'd_tekainductionstove', 'd_tekaoven', 'd_tekarefrigerator', 'd_tekasingleoven', 'd_tekastainlesssteeldoubleoven', 'd_tekastainlesssteelelectricstove', 'd_tekastainlesssteelgasstove', 'd_tekastainlesssteelinductionstove', 'd_tekastainlesssteeloven', 'd_tekastainlesssteelsingleoven', 'd_tekatz3210electricstove', 'd_teka_hay4fuegosdediferentestama__u00f1osparacocinarseg__u00fanlanecesidadstainlesssteelgasstove', 'd_telefunkengasstove', 'd_telefunkenrefrigerator', 'd_tenemosunfrigor__u00edficoenelpasillodelazonadeloshu__u00e9spedesquesecomparteconlashabitaciones_elfrigor__u00edficodelacocinaesdeusodefamiliaynoparacompartir_refrigerator', 'd_teslaoven', 'd_thebodyshopshampoo', 'd_themeroom', 'd_thursdayavailableatextracost', 'd_thursdayincludedwithyourstay', 'd_thursday', 'd_tienes2clasesdechamp__u00faaelegirshampoo', 'd_tienes2clasesdegelaelegirbodysoap', 'd_tigiomoltonbrownbodysoap', 'd_tillredaport__u00e1tildeikeastainlesssteelinductionstove', 'd_timoteiconditioner', 'd_timoteishampoo', 'd_tipohotelbodysoap', 'd_tipohotelshampoo', 'd_tiposmegrefrigerator', 'd_toaster', 'd_tocibarefrigerator', 'd_todasbodysoap', 'd_todasconditioner', 'd_todasshampoo', 'd_todotipodecabello_shampoo', 'd_todotipodecabellosshampoo', 'd_todotipodepielesbodysoap', 'd_topbrandsbodysoap', 'd_torbodysoap', 'd_torkbodysoap', 'd_torkhair_bodyliquidbodysoap', 'd_torkshampoo', 'd_tousbodysoap', 'd_tousconditioner', 'd_tousshampoo', 'd_tradicionalbodysoap', 'd_trashcompactor', 'd_travelcarebodysoap', 'd_travelcareconditioner', 'd_travelcareshampoo', 'd_treadmill', 'd_tremes__u00e9conditioner', 'd_tresemmeconditioner', 'd_tresem__u00e9conditioner', 'd_tresem__u00e9shampoo', 'd_tresem__u00e9sshampoo', 'd_tresemeconditioner', 'd_tresemeshampoo', 'd_tresemm__u00e9conditioner', 'd_tresemm__u00e9shampoo', 'd_tresemm__u2019econditioner', 'd_tresemm__u2019eshampoo', 'd_tresemmeshampoo', 'd_tuesdayavailableatextracost', 'd_tuesdaytofridayincludedwithyourstay', 'd_tuesday', 'd_tulip__u00e1nnegrobodysoap', 'd_tulip__u00e1nnegroshampoo', 'd_tulipannegrobodysoap', 'd_tvbluetoothsoundsystem', 'd_tvlgsoundsystemwithaux', 'd_tvwithamazonprimevideo', 'd_tvwithappletv', 'd_tvwithchromecast', 'd_tvwithdisney_', 'd_tvwithdvdplayer', 'd_tvwithfiretv', 'd_tvwithhbomax', 'd_tvwithhulu', 'd_tvwithnetflix', 'd_tvwithpremiumcable', 'd_tvwithstandardcable', 'd_tv', 'd_tygerbodysoap', 'd_tygerconditioner', 'd_tygershampoo', 'd_ueboombluetoothsoundsystem', 'd_unfrigor__u00edficomedianosoloparahu__u00e9spedesrefrigerator', 'd_unabaldaporhabitaci__u00f3n__u201cmarcadaconelnombredelahabitaci__u00f3n__u201drefrigerator', 'd_unasiemprelamismaconditioner', 'd_undeterminedbodysoap', 'd_unideshampoo', 'd_unknowbodysoap', 'd_unknowconditioner', 'd_usualbodysoap', 'd_vbodysoap', 'd_vainillabodysoap', 'd_vainillashampoo', 'd_vainillaymacadamiabodysoap', 'd_valbergrefrigerator', 'd_valleyview', 'd_valquerlavoratoriosshampoo', 'd_valquerprofesionalchamp__u00fashampoo', 'd_variadbodysoap', 'd_variadabodysoap', 'd_variadaconditioner', 'd_variadashampoo', 'd_variada', 'd_variadasbodysoap', 'd_variadobodysoap', 'd_variadoconditioner', 'd_variadoshampoo', 'd_variado', 'd_variadosbodysoap', 'd_variadosconditioner', 'd_variadosshampoo', 'd_variasbodysoap', 'd_variasconditioner', 'd_variasmarcasbodysoap', 'd_variasmrcasbodysoap', 'd_variasshampoo', 'd_variooven', 'd_variosbodysoap', 'd_variosconditioner', 'd_variosshampoo', 'd_variousbodysoap', 'd_variousconditioner', 'd_variousshampoo', 'd_veganoshampoo', 'd_vejostainlesssteelsingleoven', 'd_vichyshampoo', 'd_vietaprobluetoothsoundsystem', 'd_vitrocer__u00e1micadesuperficie_inductionstove', 'd_vitrocer__u00e1micaelectricstove', 'd_vitroceramica2fuegosstove', 'd_vitroceramicaacmstainlesssteelinductionstove', 'd_vitroceramicabalaystove', 'd_vitroceramicaelectricstove', 'd_voycambiandoshampoo', 'd_voycambiando_shampoo', 'd_voycambiando__bodysoap', 'd_vvrefrigerator', 'd_waousoundsystemwithbluetoothandaux', 'd_wapoconditioner', 'd_waposhampoo', 'd_wardrobe', 'd_washer__u2013__u00a0inbuilding', 'd_washer__u2013__u00a0inunit', 'd_washer', 'd_waterfront', 'd_wednesdayavailableatextracost', 'd_wednesdaytofridayavailableatextracost', 'd_wednesday', 'd_wedoprofessionalconditioner', 'd_wedoprofessionalshampoo', 'd_wellaconditioner', 'd_whatwefindinthemarketbodysoap', 'd_whatwefindinthemarketshampoo', 'd_whirlpoolelectricstove', 'd_whirlpoolinductionstove', 'd_whirlpooloven', 'd_whirlpoolrefrigerator', 'd_whirlpoolstainlesssteeldoubleoven', 'd_whirlpoolstainlesssteelelectricstove', 'd_whirlpoolstainlesssteelinductionstove', 'd_whirlpoolstainlesssteeloven', 'd_whirlpoolstainlesssteelsingleoven', 'd_whirpooloven', 'd_whirpoolrefrigerator', 'd_whirpoolstainlesssteeldoubleoven', 'd_whitebodysoap', 'd_wifi__u201310mbps', 'd_wifi__u201311mbps', 'd_wifi__u201312mbps', 'd_wifi__u201313mbps', 'd_wifi__u201314mbps', 'd_wifi__u201315mbps', 'd_wifi__u201318mbps', 'd_wifi__u201319mbps', 'd_wifi__u20132mbps', 'd_wifi__u201320mbps', 'd_wifi__u201321mbps', 'd_wifi__u201322mbps', 'd_wifi__u201323mbps', 'd_wifi__u201324mbps', 'd_wifi__u201325mbps', 'd_wifi__u201326mbps', 'd_wifi__u201327mbps', 'd_wifi__u201328mbps', 'd_wifi__u201329mbps', 'd_wifi__u201330mbps', 'd_wifi__u201331mbps', 'd_wifi__u201332mbps', 'd_wifi__u201333mbps', 'd_wifi__u201334mbps', 'd_wifi__u201335mbps', 'd_wifi__u201336mbps', 'd_wifi__u201337mbps', 'd_wifi__u201338mbps', 'd_wifi__u201339mbps', 'd_wifi__u201340mbps', 'd_wifi__u201341mbps', 'd_wifi__u201342mbps', 'd_wifi__u201343mbps', 'd_wifi__u201344mbps', 'd_wifi__u201345mbps', 'd_wifi__u201346mbps', 'd_wifi__u201347mbps', 'd_wifi__u201348mbps', 'd_wifi__u201349mbps', 'd_wifi__u20138mbps', 'd_wifi__u20139mbps', 'd_wifi', 'd_windowacunit', 'd_windowguards', 'd_wineglasses', 'd_winiarefrigerator', 'd_wirpoolrefrigerator', 'd_woodburningstove', 'd_woodburning', 'd_workoutbench', 'd_xbodysoap', 'd_xconditioner', 'd_xrefrigerator', 'd_xshampoo', 'd_xstainlesssteeldoubleoven', 'd_xiaomiinductionstove', 'd_xiaomimibluetoothsoundsystem', 'd_xiaomisoundsystemwithaux', 'd_xxbodysoap', 'd_xxconditioner', 'd_xxrefrigerator', 'd_xxshampoo', 'd_xxxbodysoap', 'd_xxxrefrigerator', 'd_xxxshampoo', 'd_xxxstainlesssteeldoubleoven', 'd_xxxxbodysoap', 'd_xxxxconditioner', 'd_xxxxshampoo', 'd_xxxxsoundsystemwithbluetoothandaux', 'd_xxxxstainlesssteelstove', 'd_yamahabluetoothsoundsystem', 'd_yamahasoundsystemwithaux', 'd_yamahaspeakersbluetoothsoundsystem', 'd_yogamat', 'd_yustove', 'd_yvesrocherbodysoap', 'd_zambubodysoap', 'd_zanusirefrigerator', 'd_zanussielectricstove', 'd_zanussiinductionstove', 'd_zanussioven', 'd_zanussirefrigerator', 'd_zanussistainlesssteeldoubleoven', 'd_zanussistainlesssteeloven', 'd_zanussistainlesssteelsingleoven', 'd_zanusyrefrigerator', 'd_zarabodysoap', 'd_zarahomewhitejasminehand_bodybodysoap', 'd_zarahomebodysoap', 'd_zarahomeconditioner', 'd_zarahomeshampoo', 'd_zarahomwbodysoap', 'd_zenhiabodysoap', 'd_zenhiaconditioner', 'd_zenhiashampoo', 'd_zerobodysoap', 'd_deavenabodysoap', 'd_bmshampoo', 'd_boschstove', 'd_davinesshampoo', 'd_defutasshampoo', 'd_fastwifi__u2013341mbps', 'd_fastwifi__u2013362mbps', 'd_fastwifi__u2013556mbps', 'd_fastwifi__u2013559mbps', 'd_fastwifi__u2013925mbps', 'd_fesarefrigerator', 'd_kdrefrigerator', 'd_marshallactoniibluetoothsoundsystem', 'd_naturabodysoap', 'd_nomalnomarcabodysoap', 'd_pantheneshampoo', 'd_privateoutdoorpool', 'd_tigiomoltonbrownshampoo', 'd_property_category', 'price', 'host_id', 'neighbourhood_cleansed', 'room_type', 'property_type', 'n_accommodates2', 'ln_accommodates', 'ln_accommodates2', 'ln_beds', 'ln_number_of_reviews', 'f_bathroom', 'f_number_of_reviews', 'f_minimum_nights', 'flag_days_since', 'flag_review_scores_rating', 'flag_reviews_per_month', 'flag_n_number_of_reviews', 'ln_days_since', 'ln_days_since2', 'ln_days_since3', 'n_days_since2', 'n_days_since3', 'ln_review_scores_rating', 'n_accommodates_copy']\n"
     ]
    }
   ],
   "source": [
    "print(data_train.columns.tolist())  # Show all column names\n"
   ]
  },
  {
   "cell_type": "code",
   "execution_count": 50,
   "metadata": {},
   "outputs": [
    {
     "ename": "NameError",
     "evalue": "name 'X' is not defined",
     "output_type": "error",
     "traceback": [
      "\u001b[0;31m---------------------------------------------------------------------------\u001b[0m",
      "\u001b[0;31mNameError\u001b[0m                                 Traceback (most recent call last)",
      "Cell \u001b[0;32mIn[50], line 1\u001b[0m\n\u001b[0;32m----> 1\u001b[0m rf_model_1 \u001b[38;5;241m=\u001b[39m rf_random\u001b[38;5;241m.\u001b[39mfit(X, y\u001b[38;5;241m.\u001b[39mravel())\n",
      "\u001b[0;31mNameError\u001b[0m: name 'X' is not defined"
     ]
    }
   ],
   "source": [
    "rf_model_1 = rf_random.fit(X, y.ravel())"
   ]
  },
  {
   "cell_type": "markdown",
   "metadata": {},
   "source": [
    "Save fitted model"
   ]
  },
  {
   "cell_type": "code",
   "execution_count": null,
   "metadata": {},
   "outputs": [],
   "source": [
    "pickle.dump(rf_model_1, open(\"model_fits/random_forest.pkl\", \"wb\"))"
   ]
  },
  {
   "cell_type": "markdown",
   "metadata": {},
   "source": [
    "Load fitted model here"
   ]
  },
  {
   "cell_type": "code",
   "execution_count": null,
   "metadata": {},
   "outputs": [],
   "source": [
    "rf_model_1 = pickle.load(open(\"model_fits/random_forest.pkl\", \"rb\"))"
   ]
  },
  {
   "cell_type": "markdown",
   "metadata": {},
   "source": [
    "Do all the above steps in one cell, for a bit complicate model"
   ]
  },
  {
   "cell_type": "markdown",
   "metadata": {},
   "source": [
    "**NOTE:** This took around 3 minutes on a 2020 M1 Macbook Pro"
   ]
  },
  {
   "cell_type": "code",
   "execution_count": null,
   "metadata": {
    "scrolled": true
   },
   "outputs": [],
   "source": [
    "rfr = RandomForestRegressor(\n",
    "    random_state=42,\n",
    "    criterion=\"squared_error\",\n",
    "    n_estimators=500,\n",
    "    oob_score=True,\n",
    "    n_jobs=-1,\n",
    ")\n",
    "\n",
    "tune_grid = {\n",
    "    \"max_features\": [8, 10, 12],\n",
    "    \"min_samples_split\": [6, 11, 16],\n",
    "}\n",
    "\n",
    "rf_random = GridSearchCV(\n",
    "    rfr, tune_grid, cv=5, scoring=\"neg_root_mean_squared_error\", verbose=3\n",
    ")\n",
    "\n",
    "y, X = dmatrices(\"price ~ \" + \" + \".join(predictors_2), data_train)\n",
    "\n",
    "rf_model_2 = rf_random.fit(X, y.ravel())"
   ]
  },
  {
   "cell_type": "markdown",
   "metadata": {},
   "source": [
    "Save fitted model"
   ]
  },
  {
   "cell_type": "code",
   "execution_count": null,
   "metadata": {},
   "outputs": [],
   "source": [
    "pickle.dump(rf_model_2, open(\"model_fits/random_forest_broad.pkl\", \"wb\"))"
   ]
  },
  {
   "cell_type": "markdown",
   "metadata": {},
   "source": [
    "Load fitted model here"
   ]
  },
  {
   "cell_type": "code",
   "execution_count": null,
   "metadata": {},
   "outputs": [],
   "source": [
    "rf_model_2 = pickle.load(open(\"model_fits/random_forest_broad.pkl\", \"rb\"))"
   ]
  },
  {
   "cell_type": "markdown",
   "metadata": {},
   "source": [
    "Evaluate models\n",
    "\n",
    "Test set performance within the workout set"
   ]
  },
  {
   "cell_type": "code",
   "execution_count": null,
   "metadata": {},
   "outputs": [],
   "source": [
    "model_performance = (\n",
    "    pd.DataFrame(\n",
    "        {\n",
    "            \"RMSE test\": [\n",
    "                rf_model_1.cv_results_[\"mean_test_score\"].min(),\n",
    "                rf_model_2.cv_results_[\"mean_test_score\"].min(),\n",
    "            ]\n",
    "        },\n",
    "        [\"Model 1\", \"Model 2\"],\n",
    "    )\n",
    "    * -1\n",
    ")\n",
    "model_performance"
   ]
  },
  {
   "cell_type": "markdown",
   "metadata": {},
   "source": [
    "## PART III\n",
    "### MODEL DIAGNOSTICS \n",
    "---"
   ]
  },
  {
   "cell_type": "markdown",
   "metadata": {},
   "source": [
    "Extract data for model diagnostics from fitted GridSearchCV objects"
   ]
  },
  {
   "cell_type": "code",
   "execution_count": null,
   "metadata": {},
   "outputs": [],
   "source": [
    "rf_model_2_var_imp_df = (\n",
    "    pd.DataFrame(\n",
    "        rf_model_2.best_estimator_.feature_importances_, X.design_info.column_names\n",
    "    )\n",
    "    .reset_index()\n",
    "    .rename({\"index\": \"varname\", 0: \"imp\"}, axis=1)\n",
    "    .assign(\n",
    "        imp_percentage=lambda x: x[\"imp\"] / x[\"imp\"].sum(),\n",
    "        varname=lambda x: x.varname.str.replace(\n",
    "            \"f_room_type[T.\", \"Room type:\", regex=False\n",
    "        )\n",
    "        .str.replace(\"f_neighbourhood_cleansed[T.\", \"Borough:\", regex=False)\n",
    "        .str.replace(\"]\", \"\", regex=False),\n",
    "    )\n",
    "    .sort_values(by=[\"imp\"], ascending=False)\n",
    ")\n"
   ]
  },
  {
   "cell_type": "markdown",
   "metadata": {},
   "source": [
    "**1) full varimp plot, above a cutoff**"
   ]
  },
  {
   "cell_type": "code",
   "execution_count": null,
   "metadata": {},
   "outputs": [],
   "source": [
    "cutoff = 0.013\n",
    "\n",
    "rf_model_2_var_imp_plot = (\n",
    "    ggplot(\n",
    "        rf_model_2_var_imp_df.loc[lambda x: x.imp > cutoff],\n",
    "        aes(x=\"reorder(varname, imp)\", y=\"imp_percentage\"),\n",
    "    )\n",
    "    + geom_point(color=\"blue\", size=2.5)\n",
    "    + geom_segment(\n",
    "        aes(x=\"varname\", xend=\"varname\", y=0, yend=\"imp_percentage\"),\n",
    "        color=\"blue\",\n",
    "        size=2\n",
    "    )\n",
    "    + ylab(\"Importance (Percent)\")\n",
    "    + xlab(\"Variable Name\")\n",
    "    + coord_flip()\n",
    "    + scale_y_continuous(labels=percent_format())\n",
    "    + theme_bw()\n",
    ")\n",
    "rf_model_2_var_imp_plot\n"
   ]
  },
  {
   "cell_type": "markdown",
   "metadata": {},
   "source": [
    "**2) full varimp plot, top 10 only**"
   ]
  },
  {
   "cell_type": "code",
   "execution_count": null,
   "metadata": {},
   "outputs": [],
   "source": [
    "(\n",
    "    ggplot(\n",
    "        rf_model_2_var_imp_df.iloc[:10, :],\n",
    "        aes(x=\"reorder(varname, imp)\", y=\"imp_percentage\"),\n",
    "    )\n",
    "    + geom_point(color=\"blue\", size=2.5)\n",
    "    + geom_segment(\n",
    "        aes(x=\"varname\", xend=\"varname\", y=0, yend=\"imp_percentage\"),\n",
    "        color=\"blue\",\n",
    "        size=2,\n",
    "    )\n",
    "    + ylab(\"Importance (Percent)\")\n",
    "    + xlab(\"Variable Name\")\n",
    "    + coord_flip()\n",
    "    + scale_y_continuous(labels=percent_format())\n",
    "    + theme_bw()\n",
    ")\n"
   ]
  },
  {
   "cell_type": "markdown",
   "metadata": {},
   "source": [
    "**3) grouped variable importance - keep binaries created off factors together**\n",
    "\n",
    "For this, you need to create an sklearn pipeline and put OneHotEncoding in it (before, encoding was done by patsy's dmatrices). This way permutation_importance can calculate factor variables' importance "
   ]
  },
  {
   "cell_type": "code",
   "execution_count": null,
   "metadata": {},
   "outputs": [],
   "source": [
    "categorical_columns = [col for col in predictors_2 if col.startswith(\"f_\")]\n",
    "numerical_columns = [col for col in predictors_2 if col not in categorical_columns]\n"
   ]
  },
  {
   "cell_type": "code",
   "execution_count": null,
   "metadata": {},
   "outputs": [],
   "source": [
    "categorical_encoder = OneHotEncoder(handle_unknown=\"ignore\")\n",
    "\n",
    "preprocessing = ColumnTransformer(\n",
    "    [\n",
    "        (\"cat\", categorical_encoder, categorical_columns),\n",
    "        (\"num\", \"passthrough\", numerical_columns),\n",
    "    ]\n",
    ")\n",
    "\n",
    "rf_best_pipeline = Pipeline(\n",
    "    [\n",
    "        (\"preprocess\", preprocessing),\n",
    "        (\"regressor\", rf_model_2.best_estimator_),  # put best model to pipeline\n",
    "    ]\n",
    ")\n"
   ]
  },
  {
   "cell_type": "code",
   "execution_count": null,
   "metadata": {},
   "outputs": [],
   "source": [
    "rf_best_pipeline.fit(data_train[predictors_2], data_train.price)\n"
   ]
  },
  {
   "cell_type": "markdown",
   "metadata": {},
   "source": [
    "This takes a while – So we saved the results, you can load it below"
   ]
  },
  {
   "cell_type": "code",
   "execution_count": null,
   "metadata": {},
   "outputs": [],
   "source": [
    "result = permutation_importance(\n",
    "    rf_best_pipeline,\n",
    "    data_train[predictors_2],\n",
    "    data_train[\"price\"],\n",
    "    n_repeats=10,\n",
    "    random_state=45,\n",
    "    n_jobs=-1,\n",
    ")\n"
   ]
  },
  {
   "cell_type": "markdown",
   "metadata": {},
   "source": [
    "Save results"
   ]
  },
  {
   "cell_type": "code",
   "execution_count": null,
   "metadata": {},
   "outputs": [],
   "source": [
    "pickle.dump(result, open(\"model_fits/random_forest_permutation_importance.pkl\", \"wb\"))"
   ]
  },
  {
   "cell_type": "markdown",
   "metadata": {},
   "source": [
    "Load fitted model here"
   ]
  },
  {
   "cell_type": "code",
   "execution_count": null,
   "metadata": {},
   "outputs": [],
   "source": [
    "result = pickle.load(open(\"model_fits/random_forest_permutation_importance.pkl\", \"rb\"))"
   ]
  },
  {
   "cell_type": "code",
   "execution_count": null,
   "metadata": {},
   "outputs": [],
   "source": [
    "grouped_imp = (\n",
    "    pd.DataFrame(result.importances_mean, data_train[predictors_2].columns)\n",
    "    .reset_index()\n",
    "    .rename({\"index\": \"varname\", 0: \"imp\"}, axis=1)\n",
    "    .assign(imp_percentage=lambda x: x[\"imp\"] / x[\"imp\"].sum())\n",
    "    .sort_values(by=[\"imp\"], ascending=False)\n",
    ")\n"
   ]
  },
  {
   "cell_type": "code",
   "execution_count": null,
   "metadata": {},
   "outputs": [],
   "source": [
    "(\n",
    "    ggplot(\n",
    "        grouped_imp.head(15),\n",
    "        aes(x=\"reorder(varname, imp)\", y=\"imp_percentage\"),\n",
    "    )\n",
    "    + geom_point(color=\"blue\", size=2.5)\n",
    "    + geom_segment(\n",
    "        aes(x=\"varname\", xend=\"varname\", y=0, yend=\"imp_percentage\"),\n",
    "        color=\"blue\",\n",
    "        size=2,\n",
    "    )\n",
    "    + ylab(\"Importance (Percent)\")\n",
    "    + xlab(\"Variable Name\")\n",
    "    + coord_flip()\n",
    "    + scale_y_continuous(labels=percent_format())\n",
    "    + theme_bw()\n",
    ")\n"
   ]
  },
  {
   "cell_type": "markdown",
   "metadata": {},
   "source": [
    "## Partial Dependence Plots \n",
    "-------------------------------------------------------\n"
   ]
  },
  {
   "cell_type": "markdown",
   "metadata": {},
   "source": [
    " Note: we do this on holdout set!"
   ]
  },
  {
   "cell_type": "code",
   "execution_count": null,
   "metadata": {},
   "outputs": [],
   "source": [
    "plot_partial_dependence(\n",
    "    rf_best_pipeline,\n",
    "    data_holdout[predictors_2],\n",
    "    [\"n_accommodates\"],\n",
    "    feature_names=data_holdout[predictors_2].columns,\n",
    "    line_kw={\"marker\": \"o\", \"color\": \"blue\"},\n",
    ")\n",
    "plt.grid()\n",
    "plt.ylim(70, 130)\n",
    "plt.show()\n"
   ]
  },
  {
   "cell_type": "markdown",
   "metadata": {},
   "source": [
    "For categorical features, this is a bit complicated, first extract pdp values with `partial_dependence`, then do the plot"
   ]
  },
  {
   "cell_type": "code",
   "execution_count": null,
   "metadata": {},
   "outputs": [],
   "source": [
    "roomtype_pdp = partial_dependence(\n",
    "    rf_best_pipeline, data_holdout[predictors_2], [\"f_room_type\"], kind=\"average\"\n",
    ")\n",
    "\n",
    "roomtype_pdp = (\n",
    "    pd.DataFrame(roomtype_pdp[\"average\"], columns=roomtype_pdp[\"values\"][0].tolist())\n",
    "    .T.reset_index()\n",
    "    .rename({0: \"Predicted price\", \"index\": \"Room type\"}, axis=1)\n",
    ")\n",
    "\n",
    "(\n",
    "    ggplot(roomtype_pdp, aes(x=\"Room type\", y=\"Predicted price\"))\n",
    "    + geom_point(color=\"blue\", size=2)\n",
    "    + scale_y_continuous(limits=[60, 120], breaks=np.arange(60, 121, 10))\n",
    "    + theme_bw()\n",
    ")\n"
   ]
  },
  {
   "cell_type": "markdown",
   "metadata": {},
   "source": [
    "### Subsample performance: RMSE / mean(y) \n",
    "---------------------------------------\n",
    "NOTE  we do this on the holdout set.\n"
   ]
  },
  {
   "cell_type": "markdown",
   "metadata": {},
   "source": [
    "Save predicted values on holdout set"
   ]
  },
  {
   "cell_type": "code",
   "execution_count": null,
   "metadata": {},
   "outputs": [],
   "source": [
    "data_holdout_w_prediction = data_holdout.assign(\n",
    "    predicted_price=rf_best_pipeline.predict(data_holdout[predictors_2])\n",
    ")\n"
   ]
  },
  {
   "cell_type": "markdown",
   "metadata": {},
   "source": [
    "Create nice summary table of heterogeneity"
   ]
  },
  {
   "cell_type": "code",
   "execution_count": null,
   "metadata": {},
   "outputs": [],
   "source": [
    "def calculate_rmse(groupby_obj):\n",
    "    return (\n",
    "        groupby_obj.apply(\n",
    "            lambda x: mean_squared_error(x.predicted_price, x.price, squared=False),\n",
    "        )\n",
    "        .to_frame(name=\"rmse\")\n",
    "        .assign(mean_price=groupby_obj.apply(lambda x: np.mean(x.price)).values)\n",
    "        .assign(rmse_norm=lambda x: x.rmse / x.mean_price)\n",
    "        .round(2)\n",
    "    )\n"
   ]
  },
  {
   "cell_type": "code",
   "execution_count": null,
   "metadata": {},
   "outputs": [],
   "source": [
    "# cheaper or more expensive flats - not used in book\n",
    "grouped_object = data_holdout_w_prediction.assign(\n",
    "    is_low_size=lambda x: np.where(x.n_accommodates <= 3, \"small apt\", \"large apt\")\n",
    ").groupby(\"is_low_size\")\n",
    "accom_subset = calculate_rmse(grouped_object)\n"
   ]
  },
  {
   "cell_type": "code",
   "execution_count": null,
   "metadata": {},
   "outputs": [],
   "source": [
    "grouped_object = data_holdout_w_prediction.loc[\n",
    "    lambda x: x.f_neighbourhood_cleansed.isin(\n",
    "        [\n",
    "            \"Westminster\",\n",
    "            \"Camden\",\n",
    "            \"Kensington and Chelsea\",\n",
    "            \"Tower Hamlets\",\n",
    "            \"Hackney\",\n",
    "            \"Newham\",\n",
    "        ]\n",
    "    )\n",
    "].groupby(\"f_neighbourhood_cleansed\")\n",
    "neightbourhood_subset = calculate_rmse(grouped_object)\n"
   ]
  },
  {
   "cell_type": "code",
   "execution_count": null,
   "metadata": {},
   "outputs": [],
   "source": [
    "grouped_object = data_holdout_w_prediction.loc[\n",
    "    lambda x: x.f_property_type.isin([\"Apartment\", \"House\"])\n",
    "].groupby(\"f_property_type\")\n",
    "proptype_subset = calculate_rmse(grouped_object)\n"
   ]
  },
  {
   "cell_type": "code",
   "execution_count": null,
   "metadata": {},
   "outputs": [],
   "source": [
    "all_holdout = (\n",
    "    pd.DataFrame(\n",
    "        [\n",
    "            mean_squared_error(\n",
    "                data_holdout_w_prediction.price,\n",
    "                data_holdout_w_prediction.predicted_price,\n",
    "                squared=False,\n",
    "            ),\n",
    "            data_holdout_w_prediction.price.mean(),\n",
    "        ],\n",
    "        index=[\"rmse\", \"mean_price\"],\n",
    "    )\n",
    "    .T.assign(rmse_norm=lambda x: x.rmse / x.mean_price)\n",
    "    .round(2)\n",
    ")\n",
    "all_holdout.index = [\"All\"]\n"
   ]
  },
  {
   "cell_type": "code",
   "execution_count": null,
   "metadata": {},
   "outputs": [],
   "source": [
    "type_rows = pd.DataFrame(\n",
    "    None,\n",
    "    index=[\"Apartment size\", \"Type\", \"Borough\"],\n",
    "    columns=[\"rmse\", \"mean_price\", \"rmse_norm\"],\n",
    ").fillna(\"\")\n"
   ]
  },
  {
   "cell_type": "markdown",
   "metadata": {},
   "source": [
    "### Table 16.2 Performance across subsamples"
   ]
  },
  {
   "cell_type": "code",
   "execution_count": null,
   "metadata": {},
   "outputs": [],
   "source": [
    "pd.concat(\n",
    "    [\n",
    "        type_rows.iloc[[0]],\n",
    "        accom_subset,\n",
    "        type_rows.iloc[[1]],\n",
    "        proptype_subset,\n",
    "        type_rows.iloc[[2]],\n",
    "        neightbourhood_subset,\n",
    "        all_holdout,\n",
    "    ]\n",
    ")\n"
   ]
  },
  {
   "cell_type": "markdown",
   "metadata": {},
   "source": [
    "## SHAP"
   ]
  },
  {
   "cell_type": "code",
   "execution_count": null,
   "metadata": {},
   "outputs": [],
   "source": [
    "import shap"
   ]
  },
  {
   "cell_type": "markdown",
   "metadata": {},
   "source": [
    "SHAP Explainer takes an encoded matrix as input"
   ]
  },
  {
   "cell_type": "code",
   "execution_count": null,
   "metadata": {},
   "outputs": [],
   "source": [
    "rf_best_pipeline[\"preprocess\"].fit(data_holdout.filter(predictors_2))\n",
    "\n",
    "# transform categorical features\n",
    "X_encoded = rf_best_pipeline[\"preprocess\"].transform(\n",
    "    data_holdout.filter(predictors_2)\n",
    ")\n",
    "new_feature_names = rf_best_pipeline[\"preprocess\"].get_feature_names()\n",
    "X_holdout = pd.DataFrame(X_encoded, columns=new_feature_names)"
   ]
  },
  {
   "cell_type": "markdown",
   "metadata": {},
   "source": [
    "Calculate SHAP values for our best model\n",
    "\n",
    "**NOTE:** Again, we do this on the holdout set!\n",
    "\n",
    "Run time, around 50 minutes is on a 2020 M1 Macbook Pro with Monterery 12.6. To decrease run time, you can decrease the number of estimators (now 500) in the random forest object"
   ]
  },
  {
   "cell_type": "code",
   "execution_count": null,
   "metadata": {},
   "outputs": [],
   "source": [
    "explainer = shap.Explainer(rf_best_pipeline[\"regressor\"].predict, X_holdout)\n",
    "shap_values = explainer(X_holdout)"
   ]
  },
  {
   "cell_type": "markdown",
   "metadata": {},
   "source": [
    "Save SHAP values"
   ]
  },
  {
   "cell_type": "code",
   "execution_count": null,
   "metadata": {},
   "outputs": [],
   "source": [
    "pickle.dump(explainer, open(\"model_fits/shap_values.pkl\", \"wb\"))"
   ]
  },
  {
   "cell_type": "markdown",
   "metadata": {},
   "source": [
    "Load SHAP values"
   ]
  },
  {
   "cell_type": "code",
   "execution_count": null,
   "metadata": {},
   "outputs": [],
   "source": [
    "explainer = pickle.load(open(\"model_fits/shap_values.pkl\", \"rb\"))"
   ]
  },
  {
   "cell_type": "code",
   "execution_count": null,
   "metadata": {},
   "outputs": [],
   "source": [
    "shap.plots.beeswarm(shap_values, max_display = 15)"
   ]
  },
  {
   "cell_type": "markdown",
   "metadata": {},
   "source": [
    "Can do the same with log scale"
   ]
  },
  {
   "cell_type": "code",
   "execution_count": null,
   "metadata": {},
   "outputs": [],
   "source": [
    "shap.plots.beeswarm(shap_values, max_display = 15, log_scale = True)"
   ]
  },
  {
   "cell_type": "markdown",
   "metadata": {},
   "source": [
    "Or in absolute values – see similarities with simple variable importance"
   ]
  },
  {
   "cell_type": "code",
   "execution_count": null,
   "metadata": {},
   "outputs": [],
   "source": [
    "shap.plots.beeswarm(shap_values.abs, color=\"shap_red\")\n"
   ]
  },
  {
   "cell_type": "code",
   "execution_count": null,
   "metadata": {},
   "outputs": [],
   "source": [
    "shap.plots.bar(shap_values)"
   ]
  },
  {
   "cell_type": "markdown",
   "metadata": {},
   "source": [
    "### Explanation for observation predicitons"
   ]
  },
  {
   "cell_type": "markdown",
   "metadata": {},
   "source": [
    "Simple bar of SHAP values"
   ]
  },
  {
   "cell_type": "code",
   "execution_count": null,
   "metadata": {},
   "outputs": [],
   "source": [
    "shap.plots.bar(shap_values[2])"
   ]
  },
  {
   "cell_type": "markdown",
   "metadata": {},
   "source": [
    "#### Waterfall plot\n",
    "The waterfall plot has the same information, represented in a different manner. Here we can see how the sum of all the SHAP values equals the difference between the prediction $f(x)$ and the expected value $E[f(x)]$."
   ]
  },
  {
   "cell_type": "code",
   "execution_count": null,
   "metadata": {},
   "outputs": [],
   "source": [
    "shap.plots.waterfall(shap_values[2])"
   ]
  },
  {
   "cell_type": "markdown",
   "metadata": {},
   "source": [
    "Evaluate RF models on the holdout set"
   ]
  },
  {
   "cell_type": "code",
   "execution_count": null,
   "metadata": {},
   "outputs": [],
   "source": [
    "_, X_holdout = dmatrices(\"price ~ \" + \" + \".join(predictors_2), data_holdout)"
   ]
  },
  {
   "cell_type": "code",
   "execution_count": null,
   "metadata": {},
   "outputs": [],
   "source": [
    "holdout_performance = pd.DataFrame(\n",
    "    {\n",
    "        \"Simple Random Forest\": rmse(\n",
    "            rf_model_1.predict(X_holdout), data_holdout[\"price\"]\n",
    "        ),\n",
    "        \"Broad Random Forest\": rmse(\n",
    "            rf_best_pipeline.predict(data_holdout[predictors_2]), data_holdout[\"price\"]\n",
    "        ),\n",
    "    },\n",
    "    index=[\"holdout RMSE\"],\n",
    ").T\n",
    "holdout_performance"
   ]
  },
  {
   "cell_type": "markdown",
   "metadata": {},
   "source": [
    "## PART IV\n",
    "### HORSERACE: compare with other models \n",
    "-----------------------------------------------"
   ]
  },
  {
   "cell_type": "markdown",
   "metadata": {},
   "source": [
    "1. OLS with dummies for area\n",
    "\n",
    " using model B"
   ]
  },
  {
   "cell_type": "code",
   "execution_count": null,
   "metadata": {},
   "outputs": [],
   "source": [
    "from sklearn.linear_model import LinearRegression\n",
    "from sklearn.metrics import mean_squared_error\n"
   ]
  },
  {
   "cell_type": "code",
   "execution_count": null,
   "metadata": {},
   "outputs": [],
   "source": [
    "y, X = dmatrices(\"price ~ \" + \" + \".join(predictors_2), data_train)\n",
    "\n",
    "ols_model = LinearRegression().fit(X, y)\n",
    "\n",
    "holdout_performance.loc[\"OLS\"] = rmse(\n",
    "    ols_model.predict(X_holdout).ravel(), data_holdout[\"price\"]\n",
    ")\n",
    "holdout_performance"
   ]
  },
  {
   "cell_type": "markdown",
   "metadata": {},
   "source": [
    "Take a look at coefficients"
   ]
  },
  {
   "cell_type": "code",
   "execution_count": null,
   "metadata": {},
   "outputs": [],
   "source": [
    "ols_model_coeffs_df = pd.DataFrame(\n",
    "    ols_model.coef_.tolist()[0],\n",
    "    index=X.design_info.column_names,\n",
    "    columns=[\"ols_coefficient\"],\n",
    ").assign(ols_coefficient=lambda x: x.ols_coefficient.round(3))\n",
    "ols_model_coeffs_df"
   ]
  },
  {
   "cell_type": "markdown",
   "metadata": {},
   "source": [
    "2.  LASSO\n",
    "\n",
    "using extended model w interactions"
   ]
  },
  {
   "cell_type": "code",
   "execution_count": null,
   "metadata": {},
   "outputs": [],
   "source": [
    "from sklearn.linear_model import ElasticNet\n"
   ]
  },
  {
   "cell_type": "markdown",
   "metadata": {},
   "source": [
    "The parameter l1_ratio corresponds to alpha in the glmnet R package while alpha corresponds to the lambda parameter in glmnet. Specifically, l1_ratio = 1 is the lasso penalty. Currently, l1_ratio <= 0.01 is not reliable, unless you supply your own sequence of alpha.\n",
    "\n",
    "https://scikit-learn.org/stable/modules/generated/sklearn.linear_model.ElasticNet.html"
   ]
  },
  {
   "cell_type": "code",
   "execution_count": null,
   "metadata": {},
   "outputs": [],
   "source": [
    "lasso_model = ElasticNet(l1_ratio=1, normalize=True, fit_intercept=True)\n"
   ]
  },
  {
   "cell_type": "code",
   "execution_count": null,
   "metadata": {},
   "outputs": [],
   "source": [
    "lasso_model_cv = GridSearchCV(\n",
    "    lasso_model,\n",
    "    {\"alpha\": [i / 100 for i in range(1, 26, 1)]},\n",
    "    cv=5,\n",
    "    scoring=\"neg_root_mean_squared_error\",\n",
    "    verbose=3\n",
    ")\n"
   ]
  },
  {
   "cell_type": "code",
   "execution_count": null,
   "metadata": {},
   "outputs": [],
   "source": [
    "y, X = dmatrices(\"price ~ \" + \" + \".join(predictors_E), data_train)\n",
    "_, X_holdout_lasso = dmatrices(\"price ~ \" + \" + \".join(predictors_E), data_holdout)"
   ]
  },
  {
   "cell_type": "code",
   "execution_count": null,
   "metadata": {
    "scrolled": true
   },
   "outputs": [],
   "source": [
    "lasso_model_cv.fit(X, y.ravel())\n"
   ]
  },
  {
   "cell_type": "markdown",
   "metadata": {},
   "source": [
    "Holdout performance"
   ]
  },
  {
   "cell_type": "code",
   "execution_count": null,
   "metadata": {},
   "outputs": [],
   "source": [
    "holdout_performance.loc[\"LASSO\"] = rmse(\n",
    "    lasso_model_cv.predict(X_holdout_lasso), data_holdout[\"price\"]\n",
    ")\n",
    "\n",
    "holdout_performance"
   ]
  },
  {
   "cell_type": "markdown",
   "metadata": {},
   "source": [
    "Non-zero coefficients"
   ]
  },
  {
   "cell_type": "code",
   "execution_count": null,
   "metadata": {},
   "outputs": [],
   "source": [
    "pd.DataFrame(\n",
    "    lasso_model_cv.best_estimator_.coef_.tolist(),\n",
    "    index=X.design_info.column_names,\n",
    "    columns=[\"lasso_coefficient\"],\n",
    ").assign(lasso_coefficient=lambda x: x.lasso_coefficient.round(3)).loc[\n",
    "    lambda x: x.lasso_coefficient != 0\n",
    "]\n"
   ]
  },
  {
   "cell_type": "markdown",
   "metadata": {},
   "source": [
    "3. CART model"
   ]
  },
  {
   "cell_type": "code",
   "execution_count": null,
   "metadata": {},
   "outputs": [],
   "source": [
    "from sklearn.tree import DecisionTreeClassifier\n"
   ]
  },
  {
   "cell_type": "code",
   "execution_count": null,
   "metadata": {},
   "outputs": [],
   "source": [
    "y, X = dmatrices(\"price ~ \" + \" + \".join(predictors_2), data_train)\n"
   ]
  },
  {
   "cell_type": "code",
   "execution_count": null,
   "metadata": {},
   "outputs": [],
   "source": [
    "cart_model = DecisionTreeClassifier(random_state=2018, criterion=\"gini\")\n"
   ]
  },
  {
   "cell_type": "markdown",
   "metadata": {},
   "source": [
    "Get potential ccp_alpha, regularization parameters"
   ]
  },
  {
   "cell_type": "code",
   "execution_count": null,
   "metadata": {},
   "outputs": [],
   "source": [
    "path = cart_model.cost_complexity_pruning_path(X, y.ravel())\n",
    "ccp_alphas, impurities = path.ccp_alphas, path.impurities\n"
   ]
  },
  {
   "cell_type": "markdown",
   "metadata": {},
   "source": [
    "Apply random search to select a \"best\" alpha\n",
    " \n",
    "    \n",
    " RandomizedSearchCV does not calculate all potential alphas, just a random subset\n"
   ]
  },
  {
   "cell_type": "code",
   "execution_count": null,
   "metadata": {
    "scrolled": true
   },
   "outputs": [],
   "source": [
    "cart_model_cv = RandomizedSearchCV(\n",
    "    cart_model,\n",
    "    {\"ccp_alpha\": ccp_alphas},\n",
    "    cv=5,\n",
    "    scoring=\"neg_root_mean_squared_error\",\n",
    "    verbose=3\n",
    ")\n",
    "\n",
    "\n",
    "cart_model_cv.fit(X, y.ravel())\n"
   ]
  },
  {
   "cell_type": "code",
   "execution_count": null,
   "metadata": {
    "scrolled": true
   },
   "outputs": [],
   "source": [
    "holdout_performance.loc[\"CART\"] = rmse(\n",
    "    cart_model_cv.predict(X_holdout), data_holdout[\"price\"]\n",
    ")\n",
    "\n",
    "holdout_performance"
   ]
  },
  {
   "cell_type": "markdown",
   "metadata": {},
   "source": [
    "4. XGBoost"
   ]
  },
  {
   "cell_type": "code",
   "execution_count": null,
   "metadata": {},
   "outputs": [],
   "source": [
    "from xgboost import XGBRegressor"
   ]
  },
  {
   "cell_type": "code",
   "execution_count": null,
   "metadata": {},
   "outputs": [],
   "source": [
    "xgbm = XGBRegressor(learning_rate=0.1)\n",
    "\n",
    "tune_grid = {\"n_estimators\": [i for i in range(200, 500, 50)], \"max_depth\": [1, 5, 10]}\n",
    "\n",
    "xgbm_model_cv = GridSearchCV(\n",
    "    xgbm, tune_grid, cv=5, scoring=\"neg_root_mean_squared_error\", verbose=10, n_jobs=-1\n",
    ")\n"
   ]
  },
  {
   "cell_type": "code",
   "execution_count": null,
   "metadata": {},
   "outputs": [],
   "source": [
    "categorical_columns = [col for col in predictors_2 if col.startswith(\"f_\")]\n",
    "numerical_columns = [col for col in predictors_2 if col not in categorical_columns]\n",
    "\n",
    "categorical_encoder = OneHotEncoder(handle_unknown=\"ignore\")\n",
    "\n",
    "preprocessing = ColumnTransformer(\n",
    "    [\n",
    "        (\"cat\", categorical_encoder, categorical_columns),\n",
    "        (\"num\", \"passthrough\", numerical_columns),\n",
    "    ]\n",
    ")\n",
    "\n",
    "xgbm_pipe = Pipeline(\n",
    "    [(\"preprocess\", preprocessing), (\"regressor\", xgbm_model_cv)], verbose=True\n",
    ")\n"
   ]
  },
  {
   "cell_type": "markdown",
   "metadata": {},
   "source": [
    "**NOTE:** This takes a while, you can import the fitted model below.\n",
    "\n",
    "Run time (8.3 minutes) is on a 2020 M1 Macbook Pro with Monterery 12.6"
   ]
  },
  {
   "cell_type": "code",
   "execution_count": null,
   "metadata": {},
   "outputs": [],
   "source": [
    "xgbm_pipe.fit(data_train[predictors_2], data_train.price)\n"
   ]
  },
  {
   "cell_type": "code",
   "execution_count": null,
   "metadata": {},
   "outputs": [],
   "source": [
    "pickle.dump(xgbm_pipe,open('model_fits/xgb.pkl','wb'))"
   ]
  },
  {
   "cell_type": "markdown",
   "metadata": {},
   "source": [
    "**NOTE:** Load the fitted model here"
   ]
  },
  {
   "cell_type": "code",
   "execution_count": null,
   "metadata": {},
   "outputs": [],
   "source": [
    "xgbm_pipe = pickle.load(open(\"model_fits/xgb.pkl\", \"rb\"))"
   ]
  },
  {
   "cell_type": "code",
   "execution_count": null,
   "metadata": {},
   "outputs": [],
   "source": [
    "holdout_performance.loc[\"XGBoost\"] = rmse(\n",
    "    xgbm_pipe.predict(data_holdout[predictors_2]), data_holdout[\"price\"]\n",
    ")\n",
    "\n",
    "holdout_performance"
   ]
  },
  {
   "cell_type": "markdown",
   "metadata": {},
   "source": [
    "The next will be in final model, loads of tuning"
   ]
  },
  {
   "cell_type": "code",
   "execution_count": null,
   "metadata": {},
   "outputs": [],
   "source": [
    "xgbm_broad = XGBRegressor()"
   ]
  },
  {
   "cell_type": "code",
   "execution_count": null,
   "metadata": {},
   "outputs": [],
   "source": [
    "tune_grid = {\n",
    "    \"n_estimators\": [i for i in range(50, 500, 50)],\n",
    "    \"max_depth\": [1, 5, 10],\n",
    "    \"learning_rate\": [0.02, 0.05, 0.1, 0.15, 0.2],\n",
    "}\n",
    "\n",
    "xgbm_model_cv_broad = GridSearchCV(\n",
    "    xgbm_broad,\n",
    "    tune_grid,\n",
    "    cv=5,\n",
    "    scoring=\"neg_root_mean_squared_error\",\n",
    "    verbose=10,\n",
    "    n_jobs=-1\n",
    ")"
   ]
  },
  {
   "cell_type": "code",
   "execution_count": null,
   "metadata": {},
   "outputs": [],
   "source": [
    "categorical_columns = [col for col in predictors_2 if col.startswith(\"f_\")]\n",
    "numerical_columns = [col for col in predictors_2 if col not in categorical_columns]\n",
    "\n",
    "categorical_encoder = OneHotEncoder(handle_unknown=\"ignore\")\n",
    "\n",
    "preprocessing = ColumnTransformer(\n",
    "    [\n",
    "        (\"cat\", categorical_encoder, categorical_columns),\n",
    "        (\"num\", \"passthrough\", numerical_columns),\n",
    "    ]\n",
    ")\n",
    "\n",
    "xgbm_pipe_broad = Pipeline(\n",
    "    [(\"preprocess\", preprocessing), (\"regressor\", xgbm_model_cv_broad)], verbose=True\n",
    ")\n"
   ]
  },
  {
   "cell_type": "markdown",
   "metadata": {},
   "source": [
    "Run time (47.3 minutes) is on a 2020 M1 Macbook Pro with Monterery 12.6"
   ]
  },
  {
   "cell_type": "code",
   "execution_count": null,
   "metadata": {
    "scrolled": true
   },
   "outputs": [],
   "source": [
    "xgbm_pipe_broad.fit(data_train[predictors_2], data_train.price)\n"
   ]
  },
  {
   "cell_type": "code",
   "execution_count": null,
   "metadata": {},
   "outputs": [],
   "source": [
    "pickle.dump(xgbm_pipe_broad, open(\"model_fits/xgb_broad.pkl\", \"wb\"))"
   ]
  },
  {
   "cell_type": "markdown",
   "metadata": {},
   "source": [
    "**NOTE:** Load the fitted model here"
   ]
  },
  {
   "cell_type": "code",
   "execution_count": null,
   "metadata": {},
   "outputs": [],
   "source": [
    "xgbm_pipe_broad = pickle.load(open(\"model_fits/xgb_broad.pkl\", \"rb\"))"
   ]
  },
  {
   "cell_type": "code",
   "execution_count": null,
   "metadata": {},
   "outputs": [],
   "source": [
    "holdout_performance.loc[\"XGBoost broad\"] = rmse(\n",
    "    xgbm_pipe_broad.predict(data_holdout[predictors_2]), data_holdout[\"price\"]\n",
    ")\n",
    "\n",
    "holdout_performance.round(3)"
   ]
  },
  {
   "cell_type": "markdown",
   "metadata": {},
   "source": [
    "Our best performing model is the broadly tuned Random Forest\n",
    "\n",
    "Interesting, that the broadly tuning model resulted in the same model as the simple tuning"
   ]
  },
  {
   "cell_type": "code",
   "execution_count": null,
   "metadata": {},
   "outputs": [],
   "source": [
    "xgbm_pipe_broad[\"regressor\"].best_params_"
   ]
  },
  {
   "cell_type": "code",
   "execution_count": null,
   "metadata": {},
   "outputs": [],
   "source": [
    "xgbm_pipe[\"regressor\"].best_params_"
   ]
  },
  {
   "cell_type": "markdown",
   "metadata": {},
   "source": [
    "How to access all details on each hyperparameter combination (sorted by performance)"
   ]
  },
  {
   "cell_type": "code",
   "execution_count": null,
   "metadata": {},
   "outputs": [],
   "source": [
    "pd.DataFrame(xgbm_pipe_broad[\"regressor\"].cv_results_).sort_values(by=[\"rank_test_score\"])"
   ]
  },
  {
   "cell_type": "code",
   "execution_count": null,
   "metadata": {},
   "outputs": [],
   "source": []
  }
 ],
 "metadata": {
  "kernelspec": {
   "display_name": "base",
   "language": "python",
   "name": "python3"
  },
  "language_info": {
   "codemirror_mode": {
    "name": "ipython",
    "version": 3
   },
   "file_extension": ".py",
   "mimetype": "text/x-python",
   "name": "python",
   "nbconvert_exporter": "python",
   "pygments_lexer": "ipython3",
   "version": "3.12.4"
  }
 },
 "nbformat": 4,
 "nbformat_minor": 4
}
