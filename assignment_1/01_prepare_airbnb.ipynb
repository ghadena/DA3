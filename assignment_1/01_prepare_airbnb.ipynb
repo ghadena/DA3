{
 "cells": [
  {
   "cell_type": "markdown",
   "metadata": {},
   "source": [
    "#### Prepared for Gabor's Data Analysis\n",
    "\n",
    "### Data Analysis for Business, Economics, and Policy\n",
    "by Gabor Bekes and Gabor Kezdi\n",
    " \n",
    "Cambridge University Press 2021\n",
    "\n",
    "**[gabors-data-analysis.com ](https://gabors-data-analysis.com/)**\n",
    "\n",
    " License: Free to share, modify and use for educational purposes. \n",
    " Not to be used for commercial purposes.\n",
    "\n",
    "### Chapter 16\n",
    "**CH16A Predicting apartment prices with random forest**\n",
    "\n",
    "using the airbnb dataset\n",
    "\n",
    "version 0.92 2021-07-05"
   ]
  },
  {
   "cell_type": "code",
   "execution_count": 1,
   "metadata": {},
   "outputs": [],
   "source": [
    "import os\n",
    "import re\n",
    "import sys\n",
    "import warnings\n",
    "from datetime import datetime\n",
    "from pathlib import Path\n",
    "\n",
    "import numpy as np\n",
    "import pandas as pd\n",
    "from skimpy import skim\n",
    "\n",
    "warnings.filterwarnings(\"ignore\")\n"
   ]
  },
  {
   "cell_type": "markdown",
   "metadata": {},
   "source": [
    "-------------------------------------------------------\n",
    "### Import data"
   ]
  },
  {
   "cell_type": "code",
   "execution_count": 2,
   "metadata": {},
   "outputs": [],
   "source": [
    "\n",
    "data_dir = \"/Users/ghadena/Desktop/Business analytics/DA3/DA3/assignment_1/data/clean\"\n",
    "path = os.path.join(data_dir,'airbnb_madrid_cleaned.csv') \n",
    "data = pd.read_csv(path, index_col=0)\n"
   ]
  },
  {
   "cell_type": "code",
   "execution_count": 3,
   "metadata": {},
   "outputs": [
    {
     "data": {
      "text/plain": [
       "Index(['scrape_id', 'source', 'host_id', 'host_name', 'host_since',\n",
       "       'host_response_rate', 'host_is_superhost', 'host_neighbourhood',\n",
       "       'host_listings_count', 'host_total_listings_count',\n",
       "       ...\n",
       "       'bbq', 'housekeeping_included', 'housekeeping_extracost',\n",
       "       'paid_dryer_washer', 'airconditioning', 'electric_car_charging',\n",
       "       'indoor_pool', 'outdoor_space', 'private_ameneties',\n",
       "       'shared_ameneties'],\n",
       "      dtype='object', length=297)"
      ]
     },
     "execution_count": 3,
     "metadata": {},
     "output_type": "execute_result"
    }
   ],
   "source": [
    "data.columns"
   ]
  },
  {
   "cell_type": "markdown",
   "metadata": {},
   "source": [
    "Keep if property type is Apartment, House or Townhouse"
   ]
  },
  {
   "cell_type": "code",
   "execution_count": 4,
   "metadata": {},
   "outputs": [
    {
     "name": "stdout",
     "output_type": "stream",
     "text": [
      "<class 'pandas.core.frame.DataFrame'>\n",
      "Index: 26980 entries, 920645654779749874 to 1051480397972133254\n",
      "Columns: 297 entries, scrape_id to shared_ameneties\n",
      "dtypes: bool(1), float64(12), int64(267), object(17)\n",
      "memory usage: 61.2+ MB\n"
     ]
    }
   ],
   "source": [
    "data.info()"
   ]
  },
  {
   "cell_type": "code",
   "execution_count": 8,
   "metadata": {},
   "outputs": [
    {
     "data": {
      "text/plain": [
       "property_category\n",
       "Apartment              23851\n",
       "House                   1494\n",
       "Hotel/Serviced Stay      889\n",
       "Hostel                   388\n",
       "Traditional Stay         236\n",
       "Unknown                   70\n",
       "Alternative Stay          52\n",
       "Name: count, dtype: int64"
      ]
     },
     "execution_count": 8,
     "metadata": {},
     "output_type": "execute_result"
    }
   ],
   "source": [
    "data.property_category.value_counts()"
   ]
  },
  {
   "cell_type": "code",
   "execution_count": 5,
   "metadata": {},
   "outputs": [
    {
     "name": "stdout",
     "output_type": "stream",
     "text": [
      "Property Category Counts:\n",
      " property_category\n",
      "Apartment              23851\n",
      "House                   1494\n",
      "Hotel/Serviced Stay      889\n",
      "Hostel                   388\n",
      "Traditional Stay         236\n",
      "Unknown                   70\n",
      "Alternative Stay          52\n",
      "Name: count, dtype: int64\n",
      "Property types classified as 'Unknown':\n",
      "property_type\n",
      "Private room    48\n",
      "Entire place    19\n",
      "Shared room      3\n",
      "Name: count, dtype: int64\n"
     ]
    }
   ],
   "source": [
    "import pandas as pd\n",
    "\n",
    "# Define keyword-based mapping\n",
    "property_mappings = {\n",
    "    \"Apartment\": [\"rental unit\", \"condo\", \"loft\"],\n",
    "    \"House\": [\"home\", \"townhouse\", \"vacation home\", \"guesthouse\", \"chalet\", \"cabin\", \"bungalow\", \"villa\", \"cottage\"],\n",
    "    \"Hotel/Serviced Stay\": [\"hotel\", \"serviced apartment\", \"boutique hotel\", \"bed and breakfast\", \"guest suite\", \"pension\", \"resort\"],\n",
    "    \"Hostel\": [\"hostel\"],\n",
    "    \"Traditional Stay\": [\"casa particular\", \"ryokan\", \"minsu\"],\n",
    "    \"Alternative Stay\": [\"camper\", \"rv\", \"tiny home\", \"tent\", \"yurt\", \"cave\", \"dome\", \"barn\", \"earthen home\", \"religious building\", \"hut\", \"floor\"],\n",
    "    \"Unknown\": [\"shared room\", \"entire place\", \"private room\"],  # General category for shared spaces\n",
    "}\n",
    "\n",
    "# Function to assign property category\n",
    "def categorize_property(property_type):\n",
    "    property_type = str(property_type).lower()  # Ensure lowercase for comparison\n",
    "    for category, keywords in property_mappings.items():\n",
    "        if any(keyword in property_type for keyword in keywords):\n",
    "            return category\n",
    "    return \"Unknown\"  # Default category if no match is found\n",
    "\n",
    "# Apply mapping function\n",
    "data[\"property_category\"] = data[\"property_type\"].apply(categorize_property)\n",
    "\n",
    "# Display the updated categories\n",
    "property_category_counts = data[\"property_category\"].value_counts()\n",
    "print(\"Property Category Counts:\\n\", property_category_counts)\n",
    "\n",
    "# Check remaining \"Unknown\" values\n",
    "print(\"Property types classified as 'Unknown':\")\n",
    "print(data[data[\"property_category\"] == \"Unknown\"][\"property_type\"].value_counts().head(20))"
   ]
  },
  {
   "cell_type": "markdown",
   "metadata": {},
   "source": [
    "------------------------------------------------"
   ]
  },
  {
   "cell_type": "code",
   "execution_count": 10,
   "metadata": {},
   "outputs": [
    {
     "name": "stdout",
     "output_type": "stream",
     "text": [
      "f_room_type\n",
      "Entire          17422\n",
      "Private room     8832\n",
      "Unknown           383\n",
      "Shared room       343\n",
      "Name: count, dtype: int64\n"
     ]
    }
   ],
   "source": [
    "# Extract Room Type (Entire, Private, Shared)\n",
    "data[\"f_room_type\"] = data[\"property_type\"].str.extract(r\"^(Entire|Private room|Shared room)\")\n",
    "# Fill missing values with \"Unknown\" before mapping\n",
    "data[\"f_room_type\"].fillna(\"Unknown\", inplace=True)\n",
    "print(data[\"f_room_type\"].value_counts())"
   ]
  },
  {
   "cell_type": "markdown",
   "metadata": {},
   "source": [
    "Room type as factor"
   ]
  },
  {
   "cell_type": "code",
   "execution_count": 11,
   "metadata": {},
   "outputs": [],
   "source": [
    "\n",
    "data[\"f_property_type\"] = data[\"property_category\"].astype(\"category\")\n",
    "data[\"f_room_type\"] = data[\"f_room_type\"].astype(\"category\")\n",
    "data[\"f_room_type2\"] = data[\"f_room_type\"].map(\n",
    "    {\n",
    "        \"Entire\": \"Entire/Apt\",\n",
    "        \"Private room\": \"Private\",\n",
    "        \"Shared room\": \"Shared\",\n",
    "        \"Unknown\": \"Unknown\"\n",
    "    }\n",
    ")\n",
    "data[\"f_neighbourhood_cleansed\"] = data[\"neighbourhood_cleansed\"].astype(\"category\")"
   ]
  },
  {
   "cell_type": "markdown",
   "metadata": {},
   "source": [
    "---------\n",
    "\n",
    "### Create Numerical variables"
   ]
  },
  {
   "cell_type": "code",
   "execution_count": 14,
   "metadata": {},
   "outputs": [
    {
     "data": {
      "text/plain": [
       "['scrape_id',\n",
       " 'source',\n",
       " 'host_id',\n",
       " 'host_name',\n",
       " 'host_since',\n",
       " 'host_response_rate',\n",
       " 'host_is_superhost',\n",
       " 'host_neighbourhood',\n",
       " 'host_listings_count',\n",
       " 'host_total_listings_count',\n",
       " 'host_verifications',\n",
       " 'host_has_profile_pic',\n",
       " 'host_identity_verified',\n",
       " 'neighbourhood',\n",
       " 'neighbourhood_cleansed',\n",
       " 'neighbourhood_group_cleansed',\n",
       " 'latitude',\n",
       " 'longitude',\n",
       " 'property_type',\n",
       " 'room_type',\n",
       " 'bathrooms',\n",
       " 'bathrooms_text',\n",
       " 'bedrooms',\n",
       " 'beds',\n",
       " 'price',\n",
       " 'minimum_nights',\n",
       " 'maximum_nights',\n",
       " 'minimum_minimum_nights',\n",
       " 'maximum_minimum_nights',\n",
       " 'minimum_maximum_nights',\n",
       " 'maximum_maximum_nights',\n",
       " 'minimum_nights_avg_ntm',\n",
       " 'maximum_nights_avg_ntm',\n",
       " 'calendar_updated',\n",
       " 'has_availability',\n",
       " 'availability_30',\n",
       " 'availability_60',\n",
       " 'availability_90',\n",
       " 'availability_365',\n",
       " 'calendar_last_scraped',\n",
       " 'license',\n",
       " 'instant_bookable',\n",
       " 'calculated_host_listings_count',\n",
       " 'calculated_host_listings_count_entire_homes',\n",
       " 'contiene_alimentos_nuestros',\n",
       " 'body_soap',\n",
       " 'body_soap.1',\n",
       " 'conditioner',\n",
       " 'refrigerator',\n",
       " 'shampoo',\n",
       " 'body_soap.2',\n",
       " 'shampoo.1',\n",
       " 'refrigerator.1',\n",
       " '2_5_years_old',\n",
       " '3_days_a_week_included_with_your_stay',\n",
       " '5_10_years_old',\n",
       " 'refrigerator.2',\n",
       " 'body_soap.3',\n",
       " 'shampoo.2',\n",
       " 'conditioner.1',\n",
       " 'refrigerator.3',\n",
       " 'body_soap.4',\n",
       " 'conditioner.2',\n",
       " 'shampoo.3',\n",
       " 'and_10_years_old',\n",
       " 'and_5_10_years_old',\n",
       " 'arcade_games',\n",
       " 'backyard',\n",
       " 'baking_sheet',\n",
       " 'barbecue_utensils',\n",
       " 'bathtub',\n",
       " 'bed_linens',\n",
       " 'beko_frigor_fico_nuevo',\n",
       " 'bidet',\n",
       " 'bikes',\n",
       " 'blanca',\n",
       " 'blender',\n",
       " 'board_games',\n",
       " 'boat_slip',\n",
       " 'body_soap.5',\n",
       " 'books_and_reading_material',\n",
       " 'bowling_alley',\n",
       " 'bread_maker',\n",
       " 'breakfast',\n",
       " 'building_staff',\n",
       " 'carbon_monoxide_alarm',\n",
       " 'carrefour',\n",
       " 'ceiling_fan',\n",
       " 'cerave',\n",
       " 'champ',\n",
       " 'cleaning_available_during_stay',\n",
       " 'cleaning_products',\n",
       " 'climbing_wall',\n",
       " 'clothing_storage',\n",
       " 'coffee_maker',\n",
       " 'conditioner.3',\n",
       " 'cooking_basics',\n",
       " 'deliplus',\n",
       " 'dining_table',\n",
       " 'dishes_and_silverware',\n",
       " 'disney',\n",
       " 'dove_hidratante',\n",
       " 'dove',\n",
       " 'dryer',\n",
       " 'dvd_player',\n",
       " 'elevator',\n",
       " 'es_un_hornillo_peque_o_y_el_ctrico',\n",
       " 'essentials',\n",
       " 'ethernet_connection',\n",
       " 'every_day_included_with_your_stay',\n",
       " 'every_day',\n",
       " 'exercise_equipment',\n",
       " 'exterior_security_cameras_on_property',\n",
       " 'extra_pillows_and_blankets',\n",
       " 'fire_extinguisher',\n",
       " 'fire_pit',\n",
       " 'first_aid_kit',\n",
       " 'free_driveway_parking_on_premises',\n",
       " 'free_residential_garage_on_premises',\n",
       " 'free_street_parking',\n",
       " 'freezer',\n",
       " 'french_press',\n",
       " 'friday_included_with_your_stay',\n",
       " 'friday',\n",
       " 'game_console',\n",
       " 'gel_de_ducha',\n",
       " 'gel_familiar',\n",
       " 'gel',\n",
       " 'gym',\n",
       " 'hammock',\n",
       " 'hangers',\n",
       " 'hbo_max',\n",
       " 'heating',\n",
       " 'hisense',\n",
       " 'hockey_rink',\n",
       " 'host_greets_you',\n",
       " 'hot_tub',\n",
       " 'hot_water_kettle',\n",
       " 'hot_water',\n",
       " 'indoor_fireplace',\n",
       " 'iron',\n",
       " 'kayak',\n",
       " 'keypad',\n",
       " 'kitchen',\n",
       " 'la_marca_puede_variar',\n",
       " 'la_toja',\n",
       " 'laser_tag',\n",
       " 'latoja',\n",
       " 'life_size_games',\n",
       " 'lock_on_bedroom_door',\n",
       " 'lockbox',\n",
       " 'long_term_stays_allowed',\n",
       " 'luggage_dropoff_allowed',\n",
       " 'microwave',\n",
       " 'mini_golf',\n",
       " 'molton_brown',\n",
       " 'monday_included_with_your_stay',\n",
       " 'monday_to_friday_included_with_your_stay',\n",
       " 'monday_to_tuesday_included_with_your_stay',\n",
       " 'monday',\n",
       " 'mosquito_net',\n",
       " 'movie_theater',\n",
       " 'natural_honery',\n",
       " 'new_pol',\n",
       " 'no_tengo_servicio_de_cocina',\n",
       " 'noise_decibel_monitors_on_property',\n",
       " 'nuky',\n",
       " 'open_24_hours',\n",
       " 'open_specific_hours',\n",
       " 'outdoor_pool',\n",
       " 'outlet_covers',\n",
       " 'oven',\n",
       " 'paid_street_parking_off_premises',\n",
       " 'peque_o_para_pizza',\n",
       " 'pero',\n",
       " 'pets_allowed',\n",
       " 'piano',\n",
       " 'ping_pong_table',\n",
       " 'pool_available_seasonally',\n",
       " 'pool_cover',\n",
       " 'pool_table',\n",
       " 'pool_toys',\n",
       " 'pool',\n",
       " 'portable_fans',\n",
       " 'portable_heater',\n",
       " 'private_pool',\n",
       " 'record_player',\n",
       " 'refrigerator.4',\n",
       " 'revlon',\n",
       " 'rice_maker',\n",
       " 'roku',\n",
       " 'rooftop',\n",
       " 'room_darkening_shades',\n",
       " 'rowing',\n",
       " 'safe',\n",
       " 'saltwater',\n",
       " 'saturday_included_with_your_stay',\n",
       " 'sauna',\n",
       " 'sebamed',\n",
       " 'self_check_in',\n",
       " 'shampoo.4',\n",
       " 'shower_gel',\n",
       " 'si_nos_lo_pides',\n",
       " 'single_level_home',\n",
       " 'sink',\n",
       " 'skate_ramp',\n",
       " 'ski_in_ski_out',\n",
       " 'smart_lock',\n",
       " 'smoke_alarm',\n",
       " 'smoking_allowed',\n",
       " 'sonos',\n",
       " 'sony_htsf_aux',\n",
       " 'sound_system',\n",
       " 'stove',\n",
       " 'sun_loungers',\n",
       " 'sunday',\n",
       " 'table_corner_guards',\n",
       " 'theme_room',\n",
       " 'thursday_included_with_your_stay',\n",
       " 'thursday',\n",
       " 'toaster',\n",
       " 'tuesday_to_friday_included_with_your_stay',\n",
       " 'tuesday',\n",
       " 'tv',\n",
       " 'variada',\n",
       " 'variado',\n",
       " 'washer',\n",
       " 'waterfront',\n",
       " 'wednesday',\n",
       " 'wifi',\n",
       " 'window_guards',\n",
       " 'wine_glasses',\n",
       " 'wood_burning',\n",
       " 'backyard.1',\n",
       " 'baking_sheet.1',\n",
       " 'books_and_reading_material.1',\n",
       " 'breakfast.1',\n",
       " 'carbon_monoxide_alarm.1',\n",
       " 'cleaning_products.1',\n",
       " 'dining_table.1',\n",
       " 'dishes_and_silverware.1',\n",
       " 'dryer.1',\n",
       " 'essentials.1',\n",
       " 'exercise_equipment.1',\n",
       " 'exterior_security_cameras_on_property.1',\n",
       " 'extra_pillows_and_blankets.1',\n",
       " 'fire_extinguisher.1',\n",
       " 'first_aid_kit.1',\n",
       " 'free_street_parking.1',\n",
       " 'freezer.1',\n",
       " 'hangers.1',\n",
       " 'heating.1',\n",
       " 'hockey_rink.1',\n",
       " 'host_greets_you.1',\n",
       " 'hot_tub.1',\n",
       " 'hot_water_kettle.1',\n",
       " 'hot_water.1',\n",
       " 'indoor_fireplace.1',\n",
       " 'iron.1',\n",
       " 'keypad.1',\n",
       " 'kitchen.1',\n",
       " 'lock_on_bedroom_door.1',\n",
       " 'long_term_stays_allowed.1',\n",
       " 'microwave.1',\n",
       " 'noise_decibel_monitors_on_property.1',\n",
       " 'pets_allowed.1',\n",
       " 'ping_pong_table.1',\n",
       " 'pool.1',\n",
       " 'refrigerator.5',\n",
       " 'self_check_in.1',\n",
       " 'shampoo.5',\n",
       " 'shower_gel.1',\n",
       " 'smoking_allowed.1',\n",
       " 'stove.1',\n",
       " 'sun_loungers.1',\n",
       " 'toaster.1',\n",
       " 'tv.1',\n",
       " 'washer.1',\n",
       " 'wifi.1',\n",
       " 'wine_glasses.1',\n",
       " 'streaming_services',\n",
       " 'child_friendly',\n",
       " 'free_parking',\n",
       " 'paid_parking',\n",
       " 'cable',\n",
       " 'view',\n",
       " 'balcony',\n",
       " 'bbq',\n",
       " 'housekeeping_included',\n",
       " 'housekeeping_extracost',\n",
       " 'paid_dryer_washer',\n",
       " 'airconditioning',\n",
       " 'electric_car_charging',\n",
       " 'indoor_pool',\n",
       " 'outdoor_space',\n",
       " 'private_ameneties',\n",
       " 'shared_ameneties',\n",
       " 'property_category',\n",
       " 'f_room_type',\n",
       " 'f_property_type',\n",
       " 'f_room_type2',\n",
       " 'f_neighbourhood_cleansed',\n",
       " 'usd_price_day',\n",
       " 'p_host_response_rate',\n",
       " 'n_bathrooms']"
      ]
     },
     "execution_count": 14,
     "metadata": {},
     "output_type": "execute_result"
    }
   ],
   "source": [
    "data.columns.to_list()"
   ]
  },
  {
   "cell_type": "code",
   "execution_count": 13,
   "metadata": {},
   "outputs": [
    {
     "ename": "KeyError",
     "evalue": "'review_scores_rating'",
     "output_type": "error",
     "traceback": [
      "\u001b[0;31m---------------------------------------------------------------------------\u001b[0m",
      "\u001b[0;31mKeyError\u001b[0m                                  Traceback (most recent call last)",
      "File \u001b[0;32m/opt/anaconda3/lib/python3.12/site-packages/pandas/core/indexes/base.py:3805\u001b[0m, in \u001b[0;36mIndex.get_loc\u001b[0;34m(self, key)\u001b[0m\n\u001b[1;32m   3804\u001b[0m \u001b[38;5;28;01mtry\u001b[39;00m:\n\u001b[0;32m-> 3805\u001b[0m     \u001b[38;5;28;01mreturn\u001b[39;00m \u001b[38;5;28mself\u001b[39m\u001b[38;5;241m.\u001b[39m_engine\u001b[38;5;241m.\u001b[39mget_loc(casted_key)\n\u001b[1;32m   3806\u001b[0m \u001b[38;5;28;01mexcept\u001b[39;00m \u001b[38;5;167;01mKeyError\u001b[39;00m \u001b[38;5;28;01mas\u001b[39;00m err:\n",
      "File \u001b[0;32mindex.pyx:167\u001b[0m, in \u001b[0;36mpandas._libs.index.IndexEngine.get_loc\u001b[0;34m()\u001b[0m\n",
      "File \u001b[0;32mindex.pyx:196\u001b[0m, in \u001b[0;36mpandas._libs.index.IndexEngine.get_loc\u001b[0;34m()\u001b[0m\n",
      "File \u001b[0;32mpandas/_libs/hashtable_class_helper.pxi:7081\u001b[0m, in \u001b[0;36mpandas._libs.hashtable.PyObjectHashTable.get_item\u001b[0;34m()\u001b[0m\n",
      "File \u001b[0;32mpandas/_libs/hashtable_class_helper.pxi:7089\u001b[0m, in \u001b[0;36mpandas._libs.hashtable.PyObjectHashTable.get_item\u001b[0;34m()\u001b[0m\n",
      "\u001b[0;31mKeyError\u001b[0m: 'review_scores_rating'",
      "\nThe above exception was the direct cause of the following exception:\n",
      "\u001b[0;31mKeyError\u001b[0m                                  Traceback (most recent call last)",
      "Cell \u001b[0;32mIn[13], line 13\u001b[0m\n\u001b[1;32m      3\u001b[0m numericals \u001b[38;5;241m=\u001b[39m [\n\u001b[1;32m      4\u001b[0m     \u001b[38;5;66;03m#\"accommodates\",\u001b[39;00m\n\u001b[1;32m      5\u001b[0m     \u001b[38;5;124m\"\u001b[39m\u001b[38;5;124mbathrooms\u001b[39m\u001b[38;5;124m\"\u001b[39m,\n\u001b[0;32m   (...)\u001b[0m\n\u001b[1;32m     10\u001b[0m     \u001b[38;5;124m\"\u001b[39m\u001b[38;5;124mbeds\u001b[39m\u001b[38;5;124m\"\u001b[39m,\n\u001b[1;32m     11\u001b[0m ]\n\u001b[1;32m     12\u001b[0m \u001b[38;5;28;01mfor\u001b[39;00m col \u001b[38;5;129;01min\u001b[39;00m numericals:\n\u001b[0;32m---> 13\u001b[0m     data[\u001b[38;5;124m\"\u001b[39m\u001b[38;5;124mn_\u001b[39m\u001b[38;5;124m\"\u001b[39m \u001b[38;5;241m+\u001b[39m col] \u001b[38;5;241m=\u001b[39m pd\u001b[38;5;241m.\u001b[39mto_numeric(data[col], errors\u001b[38;5;241m=\u001b[39m\u001b[38;5;124m\"\u001b[39m\u001b[38;5;124mcoerce\u001b[39m\u001b[38;5;124m\"\u001b[39m)\n",
      "File \u001b[0;32m/opt/anaconda3/lib/python3.12/site-packages/pandas/core/frame.py:4102\u001b[0m, in \u001b[0;36mDataFrame.__getitem__\u001b[0;34m(self, key)\u001b[0m\n\u001b[1;32m   4100\u001b[0m \u001b[38;5;28;01mif\u001b[39;00m \u001b[38;5;28mself\u001b[39m\u001b[38;5;241m.\u001b[39mcolumns\u001b[38;5;241m.\u001b[39mnlevels \u001b[38;5;241m>\u001b[39m \u001b[38;5;241m1\u001b[39m:\n\u001b[1;32m   4101\u001b[0m     \u001b[38;5;28;01mreturn\u001b[39;00m \u001b[38;5;28mself\u001b[39m\u001b[38;5;241m.\u001b[39m_getitem_multilevel(key)\n\u001b[0;32m-> 4102\u001b[0m indexer \u001b[38;5;241m=\u001b[39m \u001b[38;5;28mself\u001b[39m\u001b[38;5;241m.\u001b[39mcolumns\u001b[38;5;241m.\u001b[39mget_loc(key)\n\u001b[1;32m   4103\u001b[0m \u001b[38;5;28;01mif\u001b[39;00m is_integer(indexer):\n\u001b[1;32m   4104\u001b[0m     indexer \u001b[38;5;241m=\u001b[39m [indexer]\n",
      "File \u001b[0;32m/opt/anaconda3/lib/python3.12/site-packages/pandas/core/indexes/base.py:3812\u001b[0m, in \u001b[0;36mIndex.get_loc\u001b[0;34m(self, key)\u001b[0m\n\u001b[1;32m   3807\u001b[0m     \u001b[38;5;28;01mif\u001b[39;00m \u001b[38;5;28misinstance\u001b[39m(casted_key, \u001b[38;5;28mslice\u001b[39m) \u001b[38;5;129;01mor\u001b[39;00m (\n\u001b[1;32m   3808\u001b[0m         \u001b[38;5;28misinstance\u001b[39m(casted_key, abc\u001b[38;5;241m.\u001b[39mIterable)\n\u001b[1;32m   3809\u001b[0m         \u001b[38;5;129;01mand\u001b[39;00m \u001b[38;5;28many\u001b[39m(\u001b[38;5;28misinstance\u001b[39m(x, \u001b[38;5;28mslice\u001b[39m) \u001b[38;5;28;01mfor\u001b[39;00m x \u001b[38;5;129;01min\u001b[39;00m casted_key)\n\u001b[1;32m   3810\u001b[0m     ):\n\u001b[1;32m   3811\u001b[0m         \u001b[38;5;28;01mraise\u001b[39;00m InvalidIndexError(key)\n\u001b[0;32m-> 3812\u001b[0m     \u001b[38;5;28;01mraise\u001b[39;00m \u001b[38;5;167;01mKeyError\u001b[39;00m(key) \u001b[38;5;28;01mfrom\u001b[39;00m \u001b[38;5;21;01merr\u001b[39;00m\n\u001b[1;32m   3813\u001b[0m \u001b[38;5;28;01mexcept\u001b[39;00m \u001b[38;5;167;01mTypeError\u001b[39;00m:\n\u001b[1;32m   3814\u001b[0m     \u001b[38;5;66;03m# If we have a listlike key, _check_indexing_error will raise\u001b[39;00m\n\u001b[1;32m   3815\u001b[0m     \u001b[38;5;66;03m#  InvalidIndexError. Otherwise we fall through and re-raise\u001b[39;00m\n\u001b[1;32m   3816\u001b[0m     \u001b[38;5;66;03m#  the TypeError.\u001b[39;00m\n\u001b[1;32m   3817\u001b[0m     \u001b[38;5;28mself\u001b[39m\u001b[38;5;241m.\u001b[39m_check_indexing_error(key)\n",
      "\u001b[0;31mKeyError\u001b[0m: 'review_scores_rating'"
     ]
    }
   ],
   "source": [
    "data[\"usd_price_day\"] = data[\"price\"]\n",
    "data[\"p_host_response_rate\"] = data[\"host_response_rate\"].fillna(0).astype(int)\n",
    "numericals = [\n",
    "    #\"accommodates\",\n",
    "    \"bathrooms\",\n",
    "    \"review_scores_rating\",\n",
    "    \"number_of_reviews\",\n",
    "    \"reviews_per_month\",\n",
    "    \"minimum_nights\",\n",
    "    \"beds\",\n",
    "]\n",
    "for col in numericals:\n",
    "    data[\"n_\" + col] = pd.to_numeric(data[col], errors=\"coerce\")"
   ]
  },
  {
   "cell_type": "markdown",
   "metadata": {},
   "source": [
    "Create days since first review"
   ]
  },
  {
   "cell_type": "code",
   "execution_count": 328,
   "metadata": {},
   "outputs": [],
   "source": [
    "data[\"n_days_since\"] = (\n",
    "    data.calendar_last_scraped.apply(lambda x: datetime.strptime(x, \"%Y-%m-%d\"))\n",
    "    - data.first_review.fillna(\"1950-01-01\").apply(\n",
    "        lambda x: datetime.strptime(x, \"%Y-%m-%d\")\n",
    "    )\n",
    ").dt.days\n",
    "\n",
    "data[\"n_days_since\"] = np.where(data.first_review.isnull(), np.nan, data.n_days_since)\n"
   ]
  },
  {
   "cell_type": "markdown",
   "metadata": {},
   "source": [
    "Create dummy vars"
   ]
  },
  {
   "cell_type": "code",
   "execution_count": 201,
   "metadata": {},
   "outputs": [],
   "source": [
    "dummies = data.columns[44:-14]"
   ]
  },
  {
   "cell_type": "markdown",
   "metadata": {},
   "source": [
    "Rename colunms"
   ]
  },
  {
   "cell_type": "code",
   "execution_count": 329,
   "metadata": {},
   "outputs": [],
   "source": [
    "for col in dummies:\n",
    "    data[\"d_\" + (re.sub(\"/|\\s|-\", \"\", col)).replace(\"(s)\", \"s\").lower()] = data[col]\n"
   ]
  },
  {
   "cell_type": "markdown",
   "metadata": {},
   "source": [
    "Keep columns if contain d_, n_,f_, p_, usd_ and some others"
   ]
  },
  {
   "cell_type": "code",
   "execution_count": 330,
   "metadata": {},
   "outputs": [],
   "source": [
    "data = pd.concat(\n",
    "    [\n",
    "        data.filter(\n",
    "            regex=\"^d_.*|^n_.*|^f_.*|^p_.*|^usd_.*\",\n",
    "        ),\n",
    "        data[\n",
    "            [\n",
    "                \"price\",\n",
    "                \"host_id\",\n",
    "                \"neighbourhood_cleansed\",\n",
    "                \"room_type\",\n",
    "                \"property_type\",\n",
    "            ]\n",
    "        ],\n",
    "    ],\n",
    "    axis=1,\n",
    ")\n"
   ]
  },
  {
   "cell_type": "markdown",
   "metadata": {},
   "source": [
    "### Take a look at price"
   ]
  },
  {
   "cell_type": "code",
   "execution_count": 331,
   "metadata": {},
   "outputs": [],
   "source": [
    "#WHYYYYY DID HE FILTER FOR PRICE IF ITS OUR Y??? \n",
    "\n",
    "#data = data.loc[lambda x: x[\"price\"] < 1000]\n"
   ]
  },
  {
   "cell_type": "code",
   "execution_count": 332,
   "metadata": {},
   "outputs": [
    {
     "data": {
      "text/html": [
       "<pre style=\"white-space:pre;overflow-x:auto;line-height:normal;font-family:Menlo,'DejaVu Sans Mono',consolas,'Courier New',monospace\">╭──────────────────────────────────────────────── skimpy summary ─────────────────────────────────────────────────╮\n",
       "│ <span style=\"font-style: italic\">         Data Summary         </span> <span style=\"font-style: italic\">      Data Types       </span>                                                          │\n",
       "│ ┏━━━━━━━━━━━━━━━━━━━┳━━━━━━━━┓ ┏━━━━━━━━━━━━━┳━━━━━━━┓                                                          │\n",
       "│ ┃<span style=\"color: #008080; text-decoration-color: #008080; font-weight: bold\"> dataframe         </span>┃<span style=\"color: #008080; text-decoration-color: #008080; font-weight: bold\"> Values </span>┃ ┃<span style=\"color: #008080; text-decoration-color: #008080; font-weight: bold\"> Column Type </span>┃<span style=\"color: #008080; text-decoration-color: #008080; font-weight: bold\"> Count </span>┃                                                          │\n",
       "│ ┡━━━━━━━━━━━━━━━━━━━╇━━━━━━━━┩ ┡━━━━━━━━━━━━━╇━━━━━━━┩                                                          │\n",
       "│ │ Number of rows    │ 26980  │ │ float64     │ 1     │                                                          │\n",
       "│ │ Number of columns │ 1      │ └─────────────┴───────┘                                                          │\n",
       "│ └───────────────────┴────────┘                                                                                  │\n",
       "│ <span style=\"font-style: italic\">                                                    number                                                    </span>  │\n",
       "│ ┏━━━━━━━━━━━━━━━━━━┳━━━━━━━━┳━━━━━━━━━━┳━━━━━━━━━━┳━━━━━━━━━━┳━━━━━━┳━━━━━━━┳━━━━━━━┳━━━━━━┳━━━━━━━┳━━━━━━━━━┓  │\n",
       "│ ┃<span style=\"font-weight: bold\"> column_name      </span>┃<span style=\"font-weight: bold\"> NA     </span>┃<span style=\"font-weight: bold\"> NA %     </span>┃<span style=\"font-weight: bold\"> mean     </span>┃<span style=\"font-weight: bold\"> sd       </span>┃<span style=\"font-weight: bold\"> p0   </span>┃<span style=\"font-weight: bold\"> p25   </span>┃<span style=\"font-weight: bold\"> p50   </span>┃<span style=\"font-weight: bold\"> p75  </span>┃<span style=\"font-weight: bold\"> p100  </span>┃<span style=\"font-weight: bold\"> hist    </span>┃  │\n",
       "│ ┡━━━━━━━━━━━━━━━━━━╇━━━━━━━━╇━━━━━━━━━━╇━━━━━━━━━━╇━━━━━━━━━━╇━━━━━━╇━━━━━━━╇━━━━━━━╇━━━━━━╇━━━━━━━╇━━━━━━━━━┩  │\n",
       "│ │ <span style=\"color: #af87ff; text-decoration-color: #af87ff\">price           </span> │ <span style=\"color: #008080; text-decoration-color: #008080\">  6018</span> │ <span style=\"color: #008080; text-decoration-color: #008080\">   22.31</span> │ <span style=\"color: #008080; text-decoration-color: #008080\">   124.4</span> │ <span style=\"color: #008080; text-decoration-color: #008080\">   101.2</span> │ <span style=\"color: #008080; text-decoration-color: #008080\">   1</span> │ <span style=\"color: #008080; text-decoration-color: #008080\">   62</span> │ <span style=\"color: #008080; text-decoration-color: #008080\">  101</span> │ <span style=\"color: #008080; text-decoration-color: #008080\"> 152</span> │ <span style=\"color: #008080; text-decoration-color: #008080\">  999</span> │ <span style=\"color: #008000; text-decoration-color: #008000\">  ▇▂   </span> │  │\n",
       "│ └──────────────────┴────────┴──────────┴──────────┴──────────┴──────┴───────┴───────┴──────┴───────┴─────────┘  │\n",
       "╰────────────────────────────────────────────────────── End ──────────────────────────────────────────────────────╯\n",
       "</pre>\n"
      ],
      "text/plain": [
       "╭──────────────────────────────────────────────── skimpy summary ─────────────────────────────────────────────────╮\n",
       "│ \u001b[3m         Data Summary         \u001b[0m \u001b[3m      Data Types       \u001b[0m                                                          │\n",
       "│ ┏━━━━━━━━━━━━━━━━━━━┳━━━━━━━━┓ ┏━━━━━━━━━━━━━┳━━━━━━━┓                                                          │\n",
       "│ ┃\u001b[1;36m \u001b[0m\u001b[1;36mdataframe        \u001b[0m\u001b[1;36m \u001b[0m┃\u001b[1;36m \u001b[0m\u001b[1;36mValues\u001b[0m\u001b[1;36m \u001b[0m┃ ┃\u001b[1;36m \u001b[0m\u001b[1;36mColumn Type\u001b[0m\u001b[1;36m \u001b[0m┃\u001b[1;36m \u001b[0m\u001b[1;36mCount\u001b[0m\u001b[1;36m \u001b[0m┃                                                          │\n",
       "│ ┡━━━━━━━━━━━━━━━━━━━╇━━━━━━━━┩ ┡━━━━━━━━━━━━━╇━━━━━━━┩                                                          │\n",
       "│ │ Number of rows    │ 26980  │ │ float64     │ 1     │                                                          │\n",
       "│ │ Number of columns │ 1      │ └─────────────┴───────┘                                                          │\n",
       "│ └───────────────────┴────────┘                                                                                  │\n",
       "│ \u001b[3m                                                    number                                                    \u001b[0m  │\n",
       "│ ┏━━━━━━━━━━━━━━━━━━┳━━━━━━━━┳━━━━━━━━━━┳━━━━━━━━━━┳━━━━━━━━━━┳━━━━━━┳━━━━━━━┳━━━━━━━┳━━━━━━┳━━━━━━━┳━━━━━━━━━┓  │\n",
       "│ ┃\u001b[1m \u001b[0m\u001b[1mcolumn_name     \u001b[0m\u001b[1m \u001b[0m┃\u001b[1m \u001b[0m\u001b[1mNA    \u001b[0m\u001b[1m \u001b[0m┃\u001b[1m \u001b[0m\u001b[1mNA %    \u001b[0m\u001b[1m \u001b[0m┃\u001b[1m \u001b[0m\u001b[1mmean    \u001b[0m\u001b[1m \u001b[0m┃\u001b[1m \u001b[0m\u001b[1msd      \u001b[0m\u001b[1m \u001b[0m┃\u001b[1m \u001b[0m\u001b[1mp0  \u001b[0m\u001b[1m \u001b[0m┃\u001b[1m \u001b[0m\u001b[1mp25  \u001b[0m\u001b[1m \u001b[0m┃\u001b[1m \u001b[0m\u001b[1mp50  \u001b[0m\u001b[1m \u001b[0m┃\u001b[1m \u001b[0m\u001b[1mp75 \u001b[0m\u001b[1m \u001b[0m┃\u001b[1m \u001b[0m\u001b[1mp100 \u001b[0m\u001b[1m \u001b[0m┃\u001b[1m \u001b[0m\u001b[1mhist   \u001b[0m\u001b[1m \u001b[0m┃  │\n",
       "│ ┡━━━━━━━━━━━━━━━━━━╇━━━━━━━━╇━━━━━━━━━━╇━━━━━━━━━━╇━━━━━━━━━━╇━━━━━━╇━━━━━━━╇━━━━━━━╇━━━━━━╇━━━━━━━╇━━━━━━━━━┩  │\n",
       "│ │ \u001b[38;5;141mprice           \u001b[0m │ \u001b[36m  6018\u001b[0m │ \u001b[36m   22.31\u001b[0m │ \u001b[36m   124.4\u001b[0m │ \u001b[36m   101.2\u001b[0m │ \u001b[36m   1\u001b[0m │ \u001b[36m   62\u001b[0m │ \u001b[36m  101\u001b[0m │ \u001b[36m 152\u001b[0m │ \u001b[36m  999\u001b[0m │ \u001b[32m  ▇▂   \u001b[0m │  │\n",
       "│ └──────────────────┴────────┴──────────┴──────────┴──────────┴──────┴───────┴───────┴──────┴───────┴─────────┘  │\n",
       "╰────────────────────────────────────────────────────── End ──────────────────────────────────────────────────────╯\n"
      ]
     },
     "metadata": {},
     "output_type": "display_data"
    }
   ],
   "source": [
    "skim(data[\"price\"].to_frame())"
   ]
  },
  {
   "cell_type": "code",
   "execution_count": 333,
   "metadata": {},
   "outputs": [
    {
     "data": {
      "text/plain": [
       "<Axes: >"
      ]
     },
     "execution_count": 333,
     "metadata": {},
     "output_type": "execute_result"
    },
    {
     "data": {
      "image/png": "[encoded data removed]",
      "text/plain": [
       "<Figure size 640x480 with 1 Axes>"
      ]
     },
     "metadata": {},
     "output_type": "display_data"
    }
   ],
   "source": [
    "data[\"price\"].hist()"
   ]
  },
  {
   "cell_type": "code",
   "execution_count": 334,
   "metadata": {},
   "outputs": [
    {
     "data": {
      "text/plain": [
       "<Axes: >"
      ]
     },
     "execution_count": 334,
     "metadata": {},
     "output_type": "execute_result"
    },
    {
     "data": {
      "image/png": "[encoded data removed]",
      "text/plain": [
       "<Figure size 640x480 with 1 Axes>"
      ]
     },
     "metadata": {},
     "output_type": "display_data"
    }
   ],
   "source": [
    "data[\"price\"].apply(np.log).hist()"
   ]
  },
  {
   "cell_type": "markdown",
   "metadata": {},
   "source": [
    "Squares and further values to create"
   ]
  },
  {
   "cell_type": "code",
   "execution_count": 335,
   "metadata": {},
   "outputs": [],
   "source": [
    "data = data.assign(\n",
    "    n_accommodates2=lambda x: x[\"n_accommodates\"] ** 2,\n",
    "    ln_accommodates=lambda x: np.log(x[\"n_accommodates\"]),\n",
    "    ln_accommodates2=lambda x: np.log(x[\"n_accommodates\"]) ** 2,\n",
    "    ln_beds=lambda x: np.log(x[\"n_beds\"]),\n",
    "    ln_number_of_reviews=lambda x: np.log(x[\"n_number_of_reviews\"] + 1),\n",
    ")\n"
   ]
  },
  {
   "cell_type": "markdown",
   "metadata": {},
   "source": [
    " Pool accomodations with 0,1,2,10 bathrooms"
   ]
  },
  {
   "cell_type": "code",
   "execution_count": 336,
   "metadata": {},
   "outputs": [
    {
     "name": "stdout",
     "output_type": "stream",
     "text": [
      "f_bathroom\n",
      "[1.0, 2.0)     16107\n",
      "NaN             5943\n",
      "[2.0, 10.0)     4517\n",
      "[0.0, 1.0)       413\n",
      "Name: count, dtype: int64\n"
     ]
    }
   ],
   "source": [
    "#creating a category for bathrooms \n",
    "bins = pd.IntervalIndex.from_tuples([(0, 1), (1, 2), (2, 10)], closed=\"left\")\n",
    "f_bath = pd.cut(data[\"n_bathrooms\"], bins=bins, labels=[0, 1, 2])\n",
    "data[\"f_bathroom\"] = f_bath\n",
    "print(data[\"f_bathroom\"].value_counts(dropna=False))"
   ]
  },
  {
   "cell_type": "markdown",
   "metadata": {},
   "source": [
    "Pool num of reviews to 3 categories: none, 1-51 and >51"
   ]
  },
  {
   "cell_type": "code",
   "execution_count": 337,
   "metadata": {},
   "outputs": [
    {
     "name": "stdout",
     "output_type": "stream",
     "text": [
      "f_number_of_reviews\n",
      "[1.0, 51.0)       14643\n",
      "[51.0, 1092.0)     6639\n",
      "[0.0, 1.0)         5697\n",
      "NaN                   1\n",
      "Name: count, dtype: int64\n"
     ]
    }
   ],
   "source": [
    "bins = pd.IntervalIndex.from_tuples(\n",
    "    [(0, 1), (1, 51), (51, max(data[\"n_number_of_reviews\"]))], closed=\"left\")\n",
    "fnor = pd.cut(data[\"n_number_of_reviews\"], bins=bins, labels=[0, 1, 2])\n",
    "data[\"f_number_of_reviews\"] = fnor\n",
    "print(data[\"f_number_of_reviews\"].value_counts(dropna=False))"
   ]
  },
  {
   "cell_type": "markdown",
   "metadata": {},
   "source": [
    "Pool and categorize the number of minimum nights: 1,2,3, 3+"
   ]
  },
  {
   "cell_type": "code",
   "execution_count": 338,
   "metadata": {},
   "outputs": [
    {
     "name": "stdout",
     "output_type": "stream",
     "text": [
      "Max n_minimum_nights: 1125\n",
      "Summary Statistics:\n",
      " count    26980.000000\n",
      "mean         8.072090\n",
      "std         30.823189\n",
      "min          1.000000\n",
      "25%          1.000000\n",
      "50%          2.000000\n",
      "75%          3.000000\n",
      "max       1125.000000\n",
      "Name: n_minimum_nights, dtype: float64\n",
      "Unique values in n_minimum_nights: [ 120    5    2    3    1    7   15   30  365   90   28   21   32    4\n",
      "   31   12    6   20    8   29   14   18   25   50   10   13   27  300\n",
      "   60  180   45  100   99   35    9  360   75   23 1125   84   68  333\n",
      "   95   19  200  160   46   17  330  600   38   70 1000   16   59   33\n",
      "   80   40   65   26  110   91   69   22  179   24  150   39  305   11\n",
      "   34  999  225  750 1100   61  148  364  140   55  220  700   58  400\n",
      "  240   54  289  222   56   62]\n"
     ]
    }
   ],
   "source": [
    "print(\"Max n_minimum_nights:\", data[\"n_minimum_nights\"].max())\n",
    "print(\"Summary Statistics:\\n\", data[\"n_minimum_nights\"].describe())\n",
    "print(\"Unique values in n_minimum_nights:\", data[\"n_minimum_nights\"].unique())\n",
    "#i assume those 3 extra values are outliers, so i will remove them\n",
    "data = data[data[\"n_minimum_nights\"] < 365] "
   ]
  },
  {
   "cell_type": "code",
   "execution_count": 339,
   "metadata": {},
   "outputs": [
    {
     "data": {
      "text/plain": [
       "f_minimum_nights\n",
       "[1.0, 2.0)      11722\n",
       "[3.0, 364.0)     9816\n",
       "[2.0, 3.0)       5393\n",
       "NaN                 1\n",
       "Name: count, dtype: int64"
      ]
     },
     "execution_count": 339,
     "metadata": {},
     "output_type": "execute_result"
    }
   ],
   "source": [
    "bins = pd.IntervalIndex.from_tuples(\n",
    "    [(1, 2), (2, 3), (3, max(data.n_minimum_nights))], closed=\"left\"\n",
    ")\n",
    "f_min_n = pd.cut(data[\"n_minimum_nights\"].to_list(), bins, labels=[\"1\", \"2\", \"3\"])\n",
    "data[\"f_minimum_nights\"] = f_min_n\n",
    "data[\"f_minimum_nights\"].value_counts(dropna=False)"
   ]
  },
  {
   "cell_type": "markdown",
   "metadata": {},
   "source": [
    "Change Infinite values with NaNs"
   ]
  },
  {
   "cell_type": "code",
   "execution_count": 340,
   "metadata": {},
   "outputs": [],
   "source": [
    "data = data.replace([np.inf, -np.inf], np.nan)"
   ]
  },
  {
   "cell_type": "markdown",
   "metadata": {},
   "source": [
    "___"
   ]
  },
  {
   "cell_type": "markdown",
   "metadata": {},
   "source": [
    "Where do we have missing variables now?"
   ]
  },
  {
   "cell_type": "code",
   "execution_count": 341,
   "metadata": {},
   "outputs": [
    {
     "data": {
      "text/plain": [
       "usd_price_day             5982\n",
       "n_bathrooms               5905\n",
       "n_review_scores_rating    5678\n",
       "n_reviews_per_month       5678\n",
       "n_beds                    5927\n",
       "n_days_since              5678\n",
       "price                     5982\n",
       "ln_beds                   6386\n",
       "f_bathroom                5908\n",
       "f_number_of_reviews          1\n",
       "f_minimum_nights             1\n",
       "dtype: int64"
      ]
     },
     "execution_count": 341,
     "metadata": {},
     "output_type": "execute_result"
    }
   ],
   "source": [
    "data.isnull().sum().loc[lambda x: x > 0]"
   ]
  },
  {
   "cell_type": "markdown",
   "metadata": {},
   "source": [
    "What to do with missing values?\n",
    "\n",
    "1. drop if no target"
   ]
  },
  {
   "cell_type": "code",
   "execution_count": 342,
   "metadata": {},
   "outputs": [],
   "source": [
    "data = data.loc[lambda x: x[\"price\"].notnull()]"
   ]
  },
  {
   "cell_type": "markdown",
   "metadata": {},
   "source": [
    "2. imput when few, not that important"
   ]
  },
  {
   "cell_type": "code",
   "execution_count": 343,
   "metadata": {},
   "outputs": [],
   "source": [
    "# Ensure 'n_accommodates' has no missing values before using it in 'n_beds'\n",
    "data[\"n_accommodates\"] = data[\"n_accommodates\"].fillna(data[\"n_accommodates\"].median())\n",
    "\n",
    "# Fix categorical columns by adding \"99\" as a category before filling NaNs\n",
    "for col in [\"f_bathroom\", \"f_minimum_nights\", \"f_number_of_reviews\"]:\n",
    "    if col in data.columns and pd.api.types.is_categorical_dtype(data[col]):\n",
    "        data[col] = data[col].cat.add_categories([99]).fillna(99)  # Add category & fill NaNs\n",
    "    else:\n",
    "        data[col] = data[col].fillna(99)  # If not categorical, fill normally\n",
    "\n",
    "# Assign and fill missing values in a single step\n",
    "data = data.assign(\n",
    "    n_bathrooms=lambda x: x[\"n_bathrooms\"].fillna(np.median(x[\"n_bathrooms\"].dropna())),\n",
    "    n_beds=lambda x: np.where(x[\"n_beds\"].isnull(), x[\"n_accommodates\"], x[\"n_beds\"]),\n",
    "    ln_beds=lambda x: x[\"ln_beds\"].fillna(0),\n",
    ")"
   ]
  },
  {
   "cell_type": "code",
   "execution_count": 344,
   "metadata": {},
   "outputs": [
    {
     "data": {
      "text/plain": [
       "n_review_scores_rating    3515\n",
       "n_reviews_per_month       3515\n",
       "n_days_since              3515\n",
       "dtype: int64"
      ]
     },
     "execution_count": 344,
     "metadata": {},
     "output_type": "execute_result"
    }
   ],
   "source": [
    "data.isnull().sum().loc[lambda x: x > 0]"
   ]
  },
  {
   "cell_type": "markdown",
   "metadata": {},
   "source": [
    " 4. Replace missing variables re reviews with zero, when no review + add flags"
   ]
  },
  {
   "cell_type": "code",
   "execution_count": 345,
   "metadata": {},
   "outputs": [],
   "source": [
    "data = data.assign(\n",
    "    flag_days_since=np.multiply(data[\"n_days_since\"].isnull(), 1),\n",
    "    n_days_since=data[\"n_days_since\"].fillna(np.median(data[\"n_days_since\"].dropna())),\n",
    "    flag_review_scores_rating=np.multiply(data[\"n_review_scores_rating\"].isnull(), 1),\n",
    "    n_review_scores_rating=data[\"n_review_scores_rating\"].fillna(\n",
    "        np.median(data[\"n_review_scores_rating\"].dropna())\n",
    "    ),\n",
    "    flag_reviews_per_month=np.multiply(data[\"n_reviews_per_month\"].isnull(), 1),\n",
    "    n_reviews_per_month=data[\"n_reviews_per_month\"].fillna(\n",
    "        np.median(data[\"n_reviews_per_month\"].dropna())\n",
    "    ),\n",
    "    flag_n_number_of_reviews=np.multiply(data[\"n_number_of_reviews\"].isnull(), 1),\n",
    ")"
   ]
  },
  {
   "cell_type": "code",
   "execution_count": 346,
   "metadata": {},
   "outputs": [
    {
     "data": {
      "text/plain": [
       "flag_days_since\n",
       "0    17435\n",
       "1     3515\n",
       "Name: count, dtype: int64"
      ]
     },
     "execution_count": 346,
     "metadata": {},
     "output_type": "execute_result"
    }
   ],
   "source": [
    "data.flag_days_since.value_counts()\n"
   ]
  },
  {
   "cell_type": "markdown",
   "metadata": {},
   "source": [
    "\n",
    "Redo features\n",
    "\n",
    "Create variables, measuring the time since: squared, cubic, logs"
   ]
  },
  {
   "cell_type": "code",
   "execution_count": 347,
   "metadata": {},
   "outputs": [],
   "source": [
    "data = data.assign(\n",
    "    ln_days_since=lambda x: np.log(x[\"n_days_since\"] + 1),\n",
    "    ln_days_since2=lambda x: np.log(x[\"n_days_since\"] + 1) ** 2,\n",
    "    ln_days_since3=lambda x: np.log(x[\"n_days_since\"] + 1) ** 3,\n",
    "    n_days_since2=lambda x: x[\"n_days_since\"] ** 2,\n",
    "    n_days_since3=lambda x: x[\"n_days_since\"] ** 3,\n",
    "    ln_review_scores_rating=lambda x: np.log(x[\"n_review_scores_rating\"]),\n",
    ")\n"
   ]
  },
  {
   "cell_type": "code",
   "execution_count": 348,
   "metadata": {},
   "outputs": [],
   "source": [
    "data[\"n_days_since\"] = data[\"ln_days_since\"].fillna(0)\n",
    "data[\"ln_days_since2\"] = data[\"ln_days_since2\"].fillna(0)\n",
    "data[\"ln_days_since3\"] = data[\"ln_days_since3\"].fillna(0)"
   ]
  },
  {
   "cell_type": "code",
   "execution_count": 349,
   "metadata": {},
   "outputs": [
    {
     "data": {
      "text/plain": [
       "Series([], dtype: int64)"
      ]
     },
     "execution_count": 349,
     "metadata": {},
     "output_type": "execute_result"
    }
   ],
   "source": [
    "data.isnull().sum().loc[lambda x: x > 0]"
   ]
  },
  {
   "cell_type": "code",
   "execution_count": 350,
   "metadata": {},
   "outputs": [
    {
     "data": {
      "text/html": [
       "<div>\n",
       "<style scoped>\n",
       "    .dataframe tbody tr th:only-of-type {\n",
       "        vertical-align: middle;\n",
       "    }\n",
       "\n",
       "    .dataframe tbody tr th {\n",
       "        vertical-align: top;\n",
       "    }\n",
       "\n",
       "    .dataframe thead th {\n",
       "        text-align: right;\n",
       "    }\n",
       "</style>\n",
       "<table border=\"1\" class=\"dataframe\">\n",
       "  <thead>\n",
       "    <tr style=\"text-align: right;\">\n",
       "      <th></th>\n",
       "      <th>usd_price_day</th>\n",
       "      <th>p_host_response_rate</th>\n",
       "      <th>n_accommodates</th>\n",
       "      <th>n_bathrooms</th>\n",
       "      <th>n_review_scores_rating</th>\n",
       "      <th>n_number_of_reviews</th>\n",
       "      <th>n_reviews_per_month</th>\n",
       "      <th>n_minimum_nights</th>\n",
       "      <th>n_beds</th>\n",
       "      <th>n_days_since</th>\n",
       "      <th>...</th>\n",
       "      <th>flag_days_since</th>\n",
       "      <th>flag_review_scores_rating</th>\n",
       "      <th>flag_reviews_per_month</th>\n",
       "      <th>flag_n_number_of_reviews</th>\n",
       "      <th>ln_days_since</th>\n",
       "      <th>ln_days_since2</th>\n",
       "      <th>ln_days_since3</th>\n",
       "      <th>n_days_since2</th>\n",
       "      <th>n_days_since3</th>\n",
       "      <th>ln_review_scores_rating</th>\n",
       "    </tr>\n",
       "  </thead>\n",
       "  <tbody>\n",
       "    <tr>\n",
       "      <th>count</th>\n",
       "      <td>20950.000000</td>\n",
       "      <td>20950.0</td>\n",
       "      <td>20950.000000</td>\n",
       "      <td>20950.000000</td>\n",
       "      <td>20950.000000</td>\n",
       "      <td>20950.000000</td>\n",
       "      <td>20950.000000</td>\n",
       "      <td>20950.000000</td>\n",
       "      <td>20950.000000</td>\n",
       "      <td>20950.000000</td>\n",
       "      <td>...</td>\n",
       "      <td>20950.00000</td>\n",
       "      <td>20950.00000</td>\n",
       "      <td>20950.00000</td>\n",
       "      <td>20950.0</td>\n",
       "      <td>20950.000000</td>\n",
       "      <td>20950.000000</td>\n",
       "      <td>20950.000000</td>\n",
       "      <td>2.095000e+04</td>\n",
       "      <td>2.095000e+04</td>\n",
       "      <td>20950.000000</td>\n",
       "    </tr>\n",
       "    <tr>\n",
       "      <th>mean</th>\n",
       "      <td>124.330931</td>\n",
       "      <td>0.0</td>\n",
       "      <td>3.233126</td>\n",
       "      <td>1.294224</td>\n",
       "      <td>4.668044</td>\n",
       "      <td>53.653986</td>\n",
       "      <td>1.948632</td>\n",
       "      <td>6.921050</td>\n",
       "      <td>1.962530</td>\n",
       "      <td>6.289787</td>\n",
       "      <td>...</td>\n",
       "      <td>0.16778</td>\n",
       "      <td>0.16778</td>\n",
       "      <td>0.16778</td>\n",
       "      <td>0.0</td>\n",
       "      <td>6.289787</td>\n",
       "      <td>40.979314</td>\n",
       "      <td>274.169714</td>\n",
       "      <td>1.738475e+06</td>\n",
       "      <td>4.496552e+09</td>\n",
       "      <td>1.533862</td>\n",
       "    </tr>\n",
       "    <tr>\n",
       "      <th>std</th>\n",
       "      <td>101.006194</td>\n",
       "      <td>0.0</td>\n",
       "      <td>1.915831</td>\n",
       "      <td>0.659168</td>\n",
       "      <td>0.428162</td>\n",
       "      <td>93.887664</td>\n",
       "      <td>1.836324</td>\n",
       "      <td>17.117185</td>\n",
       "      <td>1.483494</td>\n",
       "      <td>1.190781</td>\n",
       "      <td>...</td>\n",
       "      <td>0.37368</td>\n",
       "      <td>0.37368</td>\n",
       "      <td>0.37368</td>\n",
       "      <td>0.0</td>\n",
       "      <td>1.190781</td>\n",
       "      <td>13.984320</td>\n",
       "      <td>131.721648</td>\n",
       "      <td>3.242997e+06</td>\n",
       "      <td>1.162121e+10</td>\n",
       "      <td>0.135895</td>\n",
       "    </tr>\n",
       "    <tr>\n",
       "      <th>min</th>\n",
       "      <td>1.000000</td>\n",
       "      <td>0.0</td>\n",
       "      <td>1.000000</td>\n",
       "      <td>0.000000</td>\n",
       "      <td>1.000000</td>\n",
       "      <td>0.000000</td>\n",
       "      <td>0.010000</td>\n",
       "      <td>1.000000</td>\n",
       "      <td>0.000000</td>\n",
       "      <td>0.000000</td>\n",
       "      <td>...</td>\n",
       "      <td>0.00000</td>\n",
       "      <td>0.00000</td>\n",
       "      <td>0.00000</td>\n",
       "      <td>0.0</td>\n",
       "      <td>0.000000</td>\n",
       "      <td>0.000000</td>\n",
       "      <td>0.000000</td>\n",
       "      <td>0.000000e+00</td>\n",
       "      <td>0.000000e+00</td>\n",
       "      <td>0.000000</td>\n",
       "    </tr>\n",
       "    <tr>\n",
       "      <th>25%</th>\n",
       "      <td>62.000000</td>\n",
       "      <td>0.0</td>\n",
       "      <td>2.000000</td>\n",
       "      <td>1.000000</td>\n",
       "      <td>4.610000</td>\n",
       "      <td>2.000000</td>\n",
       "      <td>0.740000</td>\n",
       "      <td>1.000000</td>\n",
       "      <td>1.000000</td>\n",
       "      <td>5.717028</td>\n",
       "      <td>...</td>\n",
       "      <td>0.00000</td>\n",
       "      <td>0.00000</td>\n",
       "      <td>0.00000</td>\n",
       "      <td>0.0</td>\n",
       "      <td>5.717028</td>\n",
       "      <td>32.684406</td>\n",
       "      <td>186.857653</td>\n",
       "      <td>9.180900e+04</td>\n",
       "      <td>2.781813e+07</td>\n",
       "      <td>1.528228</td>\n",
       "    </tr>\n",
       "    <tr>\n",
       "      <th>50%</th>\n",
       "      <td>101.000000</td>\n",
       "      <td>0.0</td>\n",
       "      <td>3.000000</td>\n",
       "      <td>1.000000</td>\n",
       "      <td>4.760000</td>\n",
       "      <td>16.000000</td>\n",
       "      <td>1.460000</td>\n",
       "      <td>2.000000</td>\n",
       "      <td>2.000000</td>\n",
       "      <td>6.388561</td>\n",
       "      <td>...</td>\n",
       "      <td>0.00000</td>\n",
       "      <td>0.00000</td>\n",
       "      <td>0.00000</td>\n",
       "      <td>0.0</td>\n",
       "      <td>6.388561</td>\n",
       "      <td>40.813717</td>\n",
       "      <td>260.740936</td>\n",
       "      <td>3.528360e+05</td>\n",
       "      <td>2.095846e+08</td>\n",
       "      <td>1.560248</td>\n",
       "    </tr>\n",
       "    <tr>\n",
       "      <th>75%</th>\n",
       "      <td>152.000000</td>\n",
       "      <td>0.0</td>\n",
       "      <td>4.000000</td>\n",
       "      <td>1.500000</td>\n",
       "      <td>4.880000</td>\n",
       "      <td>62.000000</td>\n",
       "      <td>2.560000</td>\n",
       "      <td>3.000000</td>\n",
       "      <td>2.000000</td>\n",
       "      <td>7.036148</td>\n",
       "      <td>...</td>\n",
       "      <td>0.00000</td>\n",
       "      <td>0.00000</td>\n",
       "      <td>0.00000</td>\n",
       "      <td>0.0</td>\n",
       "      <td>7.036148</td>\n",
       "      <td>49.507386</td>\n",
       "      <td>348.341317</td>\n",
       "      <td>1.290496e+06</td>\n",
       "      <td>1.466003e+09</td>\n",
       "      <td>1.585145</td>\n",
       "    </tr>\n",
       "    <tr>\n",
       "      <th>max</th>\n",
       "      <td>999.000000</td>\n",
       "      <td>0.0</td>\n",
       "      <td>16.000000</td>\n",
       "      <td>12.000000</td>\n",
       "      <td>5.000000</td>\n",
       "      <td>1092.000000</td>\n",
       "      <td>41.220000</td>\n",
       "      <td>364.000000</td>\n",
       "      <td>40.000000</td>\n",
       "      <td>8.546364</td>\n",
       "      <td>...</td>\n",
       "      <td>1.00000</td>\n",
       "      <td>1.00000</td>\n",
       "      <td>1.00000</td>\n",
       "      <td>0.0</td>\n",
       "      <td>8.546364</td>\n",
       "      <td>73.040330</td>\n",
       "      <td>624.229217</td>\n",
       "      <td>2.649161e+07</td>\n",
       "      <td>1.363523e+11</td>\n",
       "      <td>1.609438</td>\n",
       "    </tr>\n",
       "  </tbody>\n",
       "</table>\n",
       "<p>8 rows × 3050 columns</p>\n",
       "</div>"
      ],
      "text/plain": [
       "       usd_price_day  p_host_response_rate  n_accommodates   n_bathrooms  \\\n",
       "count   20950.000000               20950.0    20950.000000  20950.000000   \n",
       "mean      124.330931                   0.0        3.233126      1.294224   \n",
       "std       101.006194                   0.0        1.915831      0.659168   \n",
       "min         1.000000                   0.0        1.000000      0.000000   \n",
       "25%        62.000000                   0.0        2.000000      1.000000   \n",
       "50%       101.000000                   0.0        3.000000      1.000000   \n",
       "75%       152.000000                   0.0        4.000000      1.500000   \n",
       "max       999.000000                   0.0       16.000000     12.000000   \n",
       "\n",
       "       n_review_scores_rating  n_number_of_reviews  n_reviews_per_month  \\\n",
       "count            20950.000000         20950.000000         20950.000000   \n",
       "mean                 4.668044            53.653986             1.948632   \n",
       "std                  0.428162            93.887664             1.836324   \n",
       "min                  1.000000             0.000000             0.010000   \n",
       "25%                  4.610000             2.000000             0.740000   \n",
       "50%                  4.760000            16.000000             1.460000   \n",
       "75%                  4.880000            62.000000             2.560000   \n",
       "max                  5.000000          1092.000000            41.220000   \n",
       "\n",
       "       n_minimum_nights        n_beds  n_days_since  ...  flag_days_since  \\\n",
       "count      20950.000000  20950.000000  20950.000000  ...      20950.00000   \n",
       "mean           6.921050      1.962530      6.289787  ...          0.16778   \n",
       "std           17.117185      1.483494      1.190781  ...          0.37368   \n",
       "min            1.000000      0.000000      0.000000  ...          0.00000   \n",
       "25%            1.000000      1.000000      5.717028  ...          0.00000   \n",
       "50%            2.000000      2.000000      6.388561  ...          0.00000   \n",
       "75%            3.000000      2.000000      7.036148  ...          0.00000   \n",
       "max          364.000000     40.000000      8.546364  ...          1.00000   \n",
       "\n",
       "       flag_review_scores_rating  flag_reviews_per_month  \\\n",
       "count                20950.00000             20950.00000   \n",
       "mean                     0.16778                 0.16778   \n",
       "std                      0.37368                 0.37368   \n",
       "min                      0.00000                 0.00000   \n",
       "25%                      0.00000                 0.00000   \n",
       "50%                      0.00000                 0.00000   \n",
       "75%                      0.00000                 0.00000   \n",
       "max                      1.00000                 1.00000   \n",
       "\n",
       "       flag_n_number_of_reviews  ln_days_since  ln_days_since2  \\\n",
       "count                   20950.0   20950.000000    20950.000000   \n",
       "mean                        0.0       6.289787       40.979314   \n",
       "std                         0.0       1.190781       13.984320   \n",
       "min                         0.0       0.000000        0.000000   \n",
       "25%                         0.0       5.717028       32.684406   \n",
       "50%                         0.0       6.388561       40.813717   \n",
       "75%                         0.0       7.036148       49.507386   \n",
       "max                         0.0       8.546364       73.040330   \n",
       "\n",
       "       ln_days_since3  n_days_since2  n_days_since3  ln_review_scores_rating  \n",
       "count    20950.000000   2.095000e+04   2.095000e+04             20950.000000  \n",
       "mean       274.169714   1.738475e+06   4.496552e+09                 1.533862  \n",
       "std        131.721648   3.242997e+06   1.162121e+10                 0.135895  \n",
       "min          0.000000   0.000000e+00   0.000000e+00                 0.000000  \n",
       "25%        186.857653   9.180900e+04   2.781813e+07                 1.528228  \n",
       "50%        260.740936   3.528360e+05   2.095846e+08                 1.560248  \n",
       "75%        348.341317   1.290496e+06   1.466003e+09                 1.585145  \n",
       "max        624.229217   2.649161e+07   1.363523e+11                 1.609438  \n",
       "\n",
       "[8 rows x 3050 columns]"
      ]
     },
     "execution_count": 350,
     "metadata": {},
     "output_type": "execute_result"
    }
   ],
   "source": [
    "data.describe()\n"
   ]
  },
  {
   "cell_type": "code",
   "execution_count": 351,
   "metadata": {
    "scrolled": false
   },
   "outputs": [],
   "source": [
    "#skim(data)"
   ]
  },
  {
   "cell_type": "code",
   "execution_count": 352,
   "metadata": {},
   "outputs": [],
   "source": [
    "#data.to_csv(\"data/airbnb_madrid_workfile_adj.csv\", index=False)"
   ]
  },
  {
   "cell_type": "code",
   "execution_count": null,
   "metadata": {},
   "outputs": [],
   "source": []
  }
 ],
 "metadata": {
  "kernelspec": {
   "display_name": "base",
   "language": "python",
   "name": "python3"
  },
  "language_info": {
   "codemirror_mode": {
    "name": "ipython",
    "version": 3
   },
   "file_extension": ".py",
   "mimetype": "text/x-python",
   "name": "python",
   "nbconvert_exporter": "python",
   "pygments_lexer": "ipython3",
   "version": "3.12.4"
  }
 },
 "nbformat": 4,
 "nbformat_minor": 4
}
