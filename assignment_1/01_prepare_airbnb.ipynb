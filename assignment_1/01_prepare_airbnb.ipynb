{
 "cells": [
  {
   "cell_type": "markdown",
   "metadata": {},
   "source": [
    "#### Prepared for Gabor's Data Analysis\n",
    "\n",
    "### Data Analysis for Business, Economics, and Policy\n",
    "by Gabor Bekes and Gabor Kezdi\n",
    " \n",
    "Cambridge University Press 2021\n",
    "\n",
    "**[gabors-data-analysis.com ](https://gabors-data-analysis.com/)**\n",
    "\n",
    " License: Free to share, modify and use for educational purposes. \n",
    " Not to be used for commercial purposes.\n",
    "\n",
    "### Chapter 16\n",
    "**CH16A Predicting apartment prices with random forest**\n",
    "\n",
    "using the airbnb dataset\n",
    "\n",
    "version 0.92 2021-07-05"
   ]
  },
  {
   "cell_type": "code",
   "execution_count": 41,
   "metadata": {},
   "outputs": [],
   "source": [
    "import os\n",
    "import re\n",
    "import sys\n",
    "import warnings\n",
    "from datetime import datetime\n",
    "from pathlib import Path\n",
    "\n",
    "import numpy as np\n",
    "import pandas as pd\n",
    "from skimpy import skim\n",
    "\n",
    "warnings.filterwarnings(\"ignore\")\n"
   ]
  },
  {
   "cell_type": "markdown",
   "metadata": {},
   "source": [
    "-------------------------------------------------------\n",
    "### Import data"
   ]
  },
  {
   "cell_type": "code",
   "execution_count": 42,
   "metadata": {},
   "outputs": [],
   "source": [
    "\n",
    "data_dir = \"/Users/ghadena/Desktop/Business analytics/DA3/DA3/assignment_1/data/clean\"\n",
    "path = os.path.join(data_dir,'airbnb_barcelona.csv') \n",
    "data = pd.read_csv(path)\n"
   ]
  },
  {
   "cell_type": "code",
   "execution_count": 43,
   "metadata": {},
   "outputs": [
    {
     "data": {
      "text/plain": [
       "Index(['id', 'scrape_id', 'source', 'host_id', 'host_name', 'host_since',\n",
       "       'host_response_rate', 'host_acceptance_rate', 'host_is_superhost',\n",
       "       'host_neighbourhood',\n",
       "       ...\n",
       "       'first_review', 'last_review', 'review_scores_rating',\n",
       "       'review_scores_accuracy', 'review_scores_cleanliness',\n",
       "       'review_scores_checkin', 'review_scores_communication',\n",
       "       'review_scores_location', 'review_scores_value', 'reviews_per_month'],\n",
       "      dtype='object', length=266)"
      ]
     },
     "execution_count": 43,
     "metadata": {},
     "output_type": "execute_result"
    }
   ],
   "source": [
    "data.columns"
   ]
  },
  {
   "cell_type": "code",
   "execution_count": 44,
   "metadata": {},
   "outputs": [
    {
     "name": "stdout",
     "output_type": "stream",
     "text": [
      "<class 'pandas.core.frame.DataFrame'>\n",
      "RangeIndex: 19455 entries, 0 to 19454\n",
      "Columns: 266 entries, id to reviews_per_month\n",
      "dtypes: bool(1), float64(21), int64(225), object(19)\n",
      "memory usage: 39.4+ MB\n"
     ]
    }
   ],
   "source": [
    "data.info()"
   ]
  },
  {
   "cell_type": "code",
   "execution_count": 45,
   "metadata": {},
   "outputs": [
    {
     "data": {
      "text/plain": [
       "view\n",
       "1    14720\n",
       "0     4735\n",
       "Name: count, dtype: int64"
      ]
     },
     "execution_count": 45,
     "metadata": {},
     "output_type": "execute_result"
    }
   ],
   "source": [
    "data.view.value_counts()"
   ]
  },
  {
   "cell_type": "code",
   "execution_count": 46,
   "metadata": {},
   "outputs": [
    {
     "name": "stdout",
     "output_type": "stream",
     "text": [
      "Property Category Counts:\n",
      " property_category\n",
      "Apartment              17242\n",
      "Hotel/Serviced Stay     1314\n",
      "House                    431\n",
      "Hostel                   339\n",
      "Traditional Stay          67\n",
      "Alternative Stay          32\n",
      "Unknown                   30\n",
      "Name: count, dtype: int64\n",
      "Property types classified as 'Unknown':\n",
      "property_type\n",
      "Private room            20\n",
      "Boat                     5\n",
      "Entire place             3\n",
      "Private room in boat     2\n",
      "Name: count, dtype: int64\n"
     ]
    }
   ],
   "source": [
    "import pandas as pd\n",
    "\n",
    "# Define keyword-based mapping\n",
    "property_mappings = {\n",
    "    \"Apartment\": [\"rental unit\", \"condo\", \"loft\"],\n",
    "    \"House\": [\"home\", \"townhouse\", \"vacation home\", \"guesthouse\", \"chalet\", \"cabin\", \"bungalow\", \"villa\", \"cottage\"],\n",
    "    \"Hotel/Serviced Stay\": [\"hotel\", \"serviced apartment\", \"boutique hotel\", \"bed and breakfast\", \"guest suite\", \"pension\", \"resort\"],\n",
    "    \"Hostel\": [\"hostel\"],\n",
    "    \"Traditional Stay\": [\"casa particular\", \"ryokan\", \"minsu\"],\n",
    "    \"Alternative Stay\": [\"camper\", \"rv\", \"tiny home\", \"tent\", \"yurt\", \"cave\", \"dome\", \"barn\", \"earthen home\", \"religious building\", \"hut\", \"floor\"],\n",
    "    \"Unknown\": [\"shared room\", \"entire place\", \"private room\"],  # General category for shared spaces\n",
    "}\n",
    "\n",
    "# Function to assign property category\n",
    "def categorize_property(property_type):\n",
    "    property_type = str(property_type).lower()  # Ensure lowercase for comparison\n",
    "    for category, keywords in property_mappings.items():\n",
    "        if any(keyword in property_type for keyword in keywords):\n",
    "            return category\n",
    "    return \"Unknown\"  # Default category if no match is found\n",
    "\n",
    "# Apply mapping function\n",
    "data[\"property_category\"] = data[\"property_type\"].apply(categorize_property)\n",
    "\n",
    "# Display the updated categories\n",
    "property_category_counts = data[\"property_category\"].value_counts()\n",
    "print(\"Property Category Counts:\\n\", property_category_counts)\n",
    "\n",
    "# Check remaining \"Unknown\" values\n",
    "print(\"Property types classified as 'Unknown':\")\n",
    "print(data[data[\"property_category\"] == \"Unknown\"][\"property_type\"].value_counts().head(20))"
   ]
  },
  {
   "cell_type": "markdown",
   "metadata": {},
   "source": [
    "------------------------------------------------"
   ]
  },
  {
   "cell_type": "code",
   "execution_count": 47,
   "metadata": {},
   "outputs": [
    {
     "name": "stdout",
     "output_type": "stream",
     "text": [
      "f_room_type\n",
      "Entire          11622\n",
      "Private room     6952\n",
      "Unknown           704\n",
      "Shared room       177\n",
      "Name: count, dtype: int64\n"
     ]
    }
   ],
   "source": [
    "# Extract Room Type (Entire, Private, Shared)\n",
    "data[\"f_room_type\"] = data[\"property_type\"].str.extract(r\"^(Entire|Private room|Shared room)\")\n",
    "# Fill missing values with \"Unknown\" before mapping\n",
    "data[\"f_room_type\"].fillna(\"Unknown\", inplace=True)\n",
    "print(data[\"f_room_type\"].value_counts())"
   ]
  },
  {
   "cell_type": "markdown",
   "metadata": {},
   "source": [
    "Room type as factor"
   ]
  },
  {
   "cell_type": "code",
   "execution_count": 48,
   "metadata": {},
   "outputs": [],
   "source": [
    "\n",
    "data[\"f_property_type\"] = data[\"property_category\"].astype(\"category\")\n",
    "data[\"f_room_type\"] = data[\"f_room_type\"].astype(\"category\")\n",
    "data[\"f_room_type2\"] = data[\"f_room_type\"].map(\n",
    "    {\n",
    "        \"Entire\": \"Entire/Apt\",\n",
    "        \"Private room\": \"Private\",\n",
    "        \"Shared room\": \"Shared\",\n",
    "        \"Unknown\": \"Unknown\"\n",
    "    }\n",
    ")\n",
    "data[\"f_neighbourhood_cleansed\"] = data[\"neighbourhood_cleansed\"].astype(\"category\")"
   ]
  },
  {
   "cell_type": "markdown",
   "metadata": {},
   "source": [
    "---------\n",
    "\n",
    "### Create Numerical variables"
   ]
  },
  {
   "cell_type": "code",
   "execution_count": 49,
   "metadata": {},
   "outputs": [
    {
     "data": {
      "text/plain": [
       "['id',\n",
       " 'scrape_id',\n",
       " 'source',\n",
       " 'host_id',\n",
       " 'host_name',\n",
       " 'host_since',\n",
       " 'host_response_rate',\n",
       " 'host_acceptance_rate',\n",
       " 'host_is_superhost',\n",
       " 'host_neighbourhood',\n",
       " 'host_listings_count',\n",
       " 'host_total_listings_count',\n",
       " 'host_verifications',\n",
       " 'host_has_profile_pic',\n",
       " 'host_identity_verified',\n",
       " 'neighbourhood',\n",
       " 'neighbourhood_cleansed',\n",
       " 'neighbourhood_group_cleansed',\n",
       " 'latitude',\n",
       " 'longitude',\n",
       " 'property_type',\n",
       " 'room_type',\n",
       " 'accommodates',\n",
       " 'bathrooms',\n",
       " 'bathrooms_text',\n",
       " 'bedrooms',\n",
       " 'beds',\n",
       " 'price',\n",
       " 'minimum_nights',\n",
       " 'maximum_nights',\n",
       " 'minimum_minimum_nights',\n",
       " 'maximum_minimum_nights',\n",
       " 'minimum_maximum_nights',\n",
       " 'maximum_maximum_nights',\n",
       " 'minimum_nights_avg_ntm',\n",
       " 'maximum_nights_avg_ntm',\n",
       " 'calendar_updated',\n",
       " 'has_availability',\n",
       " 'availability_30',\n",
       " 'availability_60',\n",
       " 'availability_90',\n",
       " 'availability_365',\n",
       " 'calendar_last_scraped',\n",
       " 'license',\n",
       " 'instant_bookable',\n",
       " 'calculated_host_listings_count',\n",
       " 'calculated_host_listings_count_entire_homes',\n",
       " 'body_soap',\n",
       " 'conditioner',\n",
       " 'refrigerator',\n",
       " 'shampoo',\n",
       " '1_day_a_week_included_with_your_stay',\n",
       " '2_5_years_old',\n",
       " '4_days_a_week_included_with_your_stay',\n",
       " '5_10_years_old',\n",
       " 'ac_split_type_ductless_system',\n",
       " 'airplay',\n",
       " 'and_10_years_old',\n",
       " 'and_5_10_years_old',\n",
       " 'and_ps3',\n",
       " 'apple',\n",
       " 'arcade_games',\n",
       " 'avena',\n",
       " 'backyard',\n",
       " 'baking_sheet',\n",
       " 'bar',\n",
       " 'barbecue_utensils',\n",
       " 'bathtub',\n",
       " 'beach_access_beachfront',\n",
       " 'beach_essentials',\n",
       " 'bed_linens',\n",
       " 'bidet',\n",
       " 'bikes',\n",
       " 'blender',\n",
       " 'board_games',\n",
       " 'boat_slip',\n",
       " 'books_and_reading_material',\n",
       " 'bowling_alley',\n",
       " 'bread_maker',\n",
       " 'breakfast',\n",
       " 'building_staff',\n",
       " 'candy_fcs100x_e_horno_el_ctrico_2100w',\n",
       " 'capacidad_70l',\n",
       " 'carbon_monoxide_alarm',\n",
       " 'ceiling_fan',\n",
       " 'cleaning_available_during_stay',\n",
       " 'cleaning_products',\n",
       " 'climbing_wall',\n",
       " 'clothing_storage',\n",
       " 'coffee_maker',\n",
       " 'cooking_basics',\n",
       " 'dedicated_workspace',\n",
       " 'dining_table',\n",
       " 'dishes_and_silverware',\n",
       " 'disney',\n",
       " 'dove',\n",
       " 'dryer',\n",
       " 'drying_rack_for_clothing',\n",
       " 'dvd_player',\n",
       " 'elevator',\n",
       " 'essentials',\n",
       " 'ethernet_connection',\n",
       " 'every_day_included_with_your_stay',\n",
       " 'exercise_equipment',\n",
       " 'exterior_security_cameras_on_property',\n",
       " 'extra_pillows_and_blankets',\n",
       " 'fire_extinguisher',\n",
       " 'fire_pit',\n",
       " 'fireplace_guards',\n",
       " 'first_aid_kit',\n",
       " 'foosball_table',\n",
       " 'free_residential_garage_on_premises_1_space',\n",
       " 'free_residential_garage_on_premises',\n",
       " 'free_resort_access',\n",
       " 'free_street_parking',\n",
       " 'freezer',\n",
       " 'french_press',\n",
       " 'friday_included_with_your_stay',\n",
       " 'friday',\n",
       " 'fructis',\n",
       " 'game_console',\n",
       " 'game_room',\n",
       " 'gated_property',\n",
       " 'gym',\n",
       " 'hammock',\n",
       " 'hangers',\n",
       " 'hbo_max',\n",
       " 'heating',\n",
       " 'hockey_rink',\n",
       " 'host_greets_you',\n",
       " 'hot_tub_open_specific_hours',\n",
       " 'hot_tub',\n",
       " 'hot_water_kettle',\n",
       " 'hot_water',\n",
       " 'ikea',\n",
       " 'indoor_fireplace',\n",
       " 'inox',\n",
       " 'iron',\n",
       " 'ironing_board',\n",
       " 'kayak',\n",
       " 'kenwood',\n",
       " 'keypad',\n",
       " 'kitchen',\n",
       " 'lake_access',\n",
       " 'laser_tag',\n",
       " 'lavandin',\n",
       " 'life_size_games',\n",
       " 'lock_on_bedroom_door',\n",
       " 'lockbox',\n",
       " 'long_term_stays_allowed',\n",
       " 'luggage_dropoff_allowed',\n",
       " 'marca_blanca',\n",
       " 'media_room',\n",
       " 'microwave',\n",
       " 'mini_golf',\n",
       " 'monday_to_friday_included_with_your_stay',\n",
       " 'monday',\n",
       " 'mosquito_net',\n",
       " 'movie_theater',\n",
       " 'nevera_y_congelador',\n",
       " 'nivea',\n",
       " 'noise_decibel_monitors_on_property',\n",
       " 'open_24_hours',\n",
       " 'open_specific_hours',\n",
       " 'outlet_covers',\n",
       " 'oven',\n",
       " 'paid_resort_access',\n",
       " 'paid_street_parking_off_premises',\n",
       " 'paid_valet_parking_on_premises',\n",
       " 'palmolive',\n",
       " 'pantene',\n",
       " 'peque_a',\n",
       " 'pets_allowed',\n",
       " 'piano',\n",
       " 'ping_pong_table',\n",
       " 'pool_pool_cover',\n",
       " 'pool_cover',\n",
       " 'pool_table',\n",
       " 'pool_toys',\n",
       " 'pool',\n",
       " 'portable_fans',\n",
       " 'portable_heater',\n",
       " 'private_pool',\n",
       " 'property_manager',\n",
       " 'ps2',\n",
       " 'puerta_desmontable_de_doble_cristal_con_efecto_espejo',\n",
       " 'record_player',\n",
       " 'resort_access',\n",
       " 'rice_maker',\n",
       " 'roku',\n",
       " 'rooftop',\n",
       " 'room_darkening_shades',\n",
       " 'rowing',\n",
       " 'safe',\n",
       " 'saltwater',\n",
       " 'samsung_combi_2',\n",
       " 'samsung',\n",
       " 'sanex_dove',\n",
       " 'saturday_included_with_your_stay',\n",
       " 'saturday',\n",
       " 'sauna',\n",
       " 'self_check_in',\n",
       " 'sempre_hi_ha_xamp',\n",
       " 'shower_gel',\n",
       " 'single_level_home',\n",
       " 'skate_ramp',\n",
       " 'ski_in_ski_out',\n",
       " 'smart_lock',\n",
       " 'smoke_alarm',\n",
       " 'smoking_allowed',\n",
       " 'sonos_spotify_connect',\n",
       " 'sony',\n",
       " 'sound_system',\n",
       " 'stove',\n",
       " 'sun_loungers',\n",
       " 'sunstech',\n",
       " 'table_corner_guards',\n",
       " 'theme_room',\n",
       " 'thursday_included_with_your_stay',\n",
       " 'thursday_to_friday_included_with_your_stay',\n",
       " 'toaster',\n",
       " 'trash_compactor',\n",
       " 'tuesday_included_with_your_stay',\n",
       " 'tuesday',\n",
       " 'tv',\n",
       " 'washer',\n",
       " 'water_slide',\n",
       " 'waterfront',\n",
       " 'wednesday',\n",
       " 'whirlpool_mpc_349_1_microndas',\n",
       " 'wifi',\n",
       " 'window_ac_unit',\n",
       " 'window_guards',\n",
       " 'wine_glasses',\n",
       " 'wood_burning',\n",
       " 'streaming_services',\n",
       " 'child_friendly',\n",
       " 'free_parking',\n",
       " 'paid_parking',\n",
       " 'cable',\n",
       " 'view',\n",
       " 'balcony',\n",
       " 'bbq',\n",
       " 'housekeeping_included',\n",
       " 'housekeeping_extracost',\n",
       " 'paid_dryer_washer',\n",
       " 'airconditioning',\n",
       " 'electric_car_charging',\n",
       " 'indoor_pool',\n",
       " 'outdoor_pool',\n",
       " 'outdoor_space',\n",
       " 'private_ameneties',\n",
       " 'shared_ameneties',\n",
       " 'number_of_reviews',\n",
       " 'number_of_reviews_ltm',\n",
       " 'number_of_reviews_l30d',\n",
       " 'first_review',\n",
       " 'last_review',\n",
       " 'review_scores_rating',\n",
       " 'review_scores_accuracy',\n",
       " 'review_scores_cleanliness',\n",
       " 'review_scores_checkin',\n",
       " 'review_scores_communication',\n",
       " 'review_scores_location',\n",
       " 'review_scores_value',\n",
       " 'reviews_per_month',\n",
       " 'property_category',\n",
       " 'f_room_type',\n",
       " 'f_property_type',\n",
       " 'f_room_type2',\n",
       " 'f_neighbourhood_cleansed']"
      ]
     },
     "execution_count": 49,
     "metadata": {},
     "output_type": "execute_result"
    }
   ],
   "source": [
    "data.columns.to_list()"
   ]
  },
  {
   "cell_type": "code",
   "execution_count": 50,
   "metadata": {},
   "outputs": [],
   "source": [
    "data[\"usd_price_day\"] = data[\"price\"]\n",
    "data[\"p_host_response_rate\"] = data[\"host_response_rate\"].fillna(0).astype(int)\n",
    "numericals = [\n",
    "    \"accommodates\",\n",
    "    \"bathrooms\",\n",
    "    \"review_scores_rating\",\n",
    "    \"number_of_reviews\",\n",
    "    \"reviews_per_month\",\n",
    "    \"minimum_nights\",\n",
    "    \"beds\",\n",
    "]\n",
    "for col in numericals:\n",
    "    data[\"n_\" + col] = pd.to_numeric(data[col], errors=\"coerce\")"
   ]
  },
  {
   "cell_type": "markdown",
   "metadata": {},
   "source": [
    "Create days since first review"
   ]
  },
  {
   "cell_type": "code",
   "execution_count": 51,
   "metadata": {},
   "outputs": [],
   "source": [
    "data[\"n_days_since\"] = (\n",
    "    data.calendar_last_scraped.apply(lambda x: datetime.strptime(x, \"%Y-%m-%d\"))\n",
    "    - data.first_review.fillna(\"1950-01-01\").apply(\n",
    "        lambda x: datetime.strptime(x, \"%Y-%m-%d\")\n",
    "    )\n",
    ").dt.days\n",
    "\n",
    "data[\"n_days_since\"] = np.where(data.first_review.isnull(), np.nan, data.n_days_since)\n"
   ]
  },
  {
   "cell_type": "markdown",
   "metadata": {},
   "source": [
    "Create dummy vars"
   ]
  },
  {
   "cell_type": "code",
   "execution_count": 81,
   "metadata": {},
   "outputs": [
    {
     "data": {
      "text/plain": [
       "['f_room_type',\n",
       " 'f_property_type',\n",
       " 'f_room_type2',\n",
       " 'f_neighbourhood_cleansed',\n",
       " 'usd_price_day',\n",
       " 'p_host_response_rate',\n",
       " 'n_accommodates',\n",
       " 'n_bathrooms',\n",
       " 'n_review_scores_rating',\n",
       " 'n_number_of_reviews',\n",
       " 'n_reviews_per_month',\n",
       " 'n_minimum_nights',\n",
       " 'n_beds',\n",
       " 'n_days_since',\n",
       " 'd_body_soap',\n",
       " 'd_conditioner',\n",
       " 'd_refrigerator',\n",
       " 'd_shampoo',\n",
       " 'd_1_day_a_week_included_with_your_stay',\n",
       " 'd_2_5_years_old',\n",
       " 'd_4_days_a_week_included_with_your_stay',\n",
       " 'd_5_10_years_old',\n",
       " 'd_ac_split_type_ductless_system',\n",
       " 'd_airplay',\n",
       " 'd_and_10_years_old',\n",
       " 'd_and_5_10_years_old',\n",
       " 'd_and_ps3',\n",
       " 'd_apple',\n",
       " 'd_arcade_games',\n",
       " 'd_avena',\n",
       " 'd_backyard',\n",
       " 'd_baking_sheet',\n",
       " 'd_bar',\n",
       " 'd_barbecue_utensils',\n",
       " 'd_bathtub',\n",
       " 'd_beach_access_beachfront',\n",
       " 'd_beach_essentials',\n",
       " 'd_bed_linens',\n",
       " 'd_bidet',\n",
       " 'd_bikes',\n",
       " 'd_blender',\n",
       " 'd_board_games',\n",
       " 'd_boat_slip',\n",
       " 'd_books_and_reading_material',\n",
       " 'd_bowling_alley',\n",
       " 'd_bread_maker',\n",
       " 'd_breakfast',\n",
       " 'd_building_staff',\n",
       " 'd_candy_fcs100x_e_horno_el_ctrico_2100w',\n",
       " 'd_capacidad_70l',\n",
       " 'd_carbon_monoxide_alarm',\n",
       " 'd_ceiling_fan',\n",
       " 'd_cleaning_available_during_stay',\n",
       " 'd_cleaning_products',\n",
       " 'd_climbing_wall',\n",
       " 'd_clothing_storage',\n",
       " 'd_coffee_maker',\n",
       " 'd_cooking_basics',\n",
       " 'd_dedicated_workspace',\n",
       " 'd_dining_table',\n",
       " 'd_dishes_and_silverware',\n",
       " 'd_disney',\n",
       " 'd_dove',\n",
       " 'd_dryer',\n",
       " 'd_drying_rack_for_clothing',\n",
       " 'd_dvd_player',\n",
       " 'd_elevator',\n",
       " 'd_essentials',\n",
       " 'd_ethernet_connection',\n",
       " 'd_every_day_included_with_your_stay',\n",
       " 'd_exercise_equipment',\n",
       " 'd_exterior_security_cameras_on_property',\n",
       " 'd_extra_pillows_and_blankets',\n",
       " 'd_fire_extinguisher',\n",
       " 'd_fire_pit',\n",
       " 'd_fireplace_guards',\n",
       " 'd_first_aid_kit',\n",
       " 'd_foosball_table',\n",
       " 'd_free_residential_garage_on_premises_1_space',\n",
       " 'd_free_residential_garage_on_premises',\n",
       " 'd_free_resort_access',\n",
       " 'd_free_street_parking',\n",
       " 'd_freezer',\n",
       " 'd_french_press',\n",
       " 'd_friday_included_with_your_stay',\n",
       " 'd_friday',\n",
       " 'd_fructis',\n",
       " 'd_game_console',\n",
       " 'd_game_room',\n",
       " 'd_gated_property',\n",
       " 'd_gym',\n",
       " 'd_hammock',\n",
       " 'd_hangers',\n",
       " 'd_hbo_max',\n",
       " 'd_heating',\n",
       " 'd_hockey_rink',\n",
       " 'd_host_greets_you',\n",
       " 'd_hot_tub_open_specific_hours',\n",
       " 'd_hot_tub',\n",
       " 'd_hot_water_kettle',\n",
       " 'd_hot_water',\n",
       " 'd_ikea',\n",
       " 'd_indoor_fireplace',\n",
       " 'd_inox',\n",
       " 'd_iron',\n",
       " 'd_ironing_board',\n",
       " 'd_kayak',\n",
       " 'd_kenwood',\n",
       " 'd_keypad',\n",
       " 'd_kitchen',\n",
       " 'd_lake_access',\n",
       " 'd_laser_tag',\n",
       " 'd_lavandin',\n",
       " 'd_life_size_games',\n",
       " 'd_lock_on_bedroom_door',\n",
       " 'd_lockbox',\n",
       " 'd_long_term_stays_allowed',\n",
       " 'd_luggage_dropoff_allowed',\n",
       " 'd_marca_blanca',\n",
       " 'd_media_room',\n",
       " 'd_microwave',\n",
       " 'd_mini_golf',\n",
       " 'd_monday_to_friday_included_with_your_stay',\n",
       " 'd_monday',\n",
       " 'd_mosquito_net',\n",
       " 'd_movie_theater',\n",
       " 'd_nevera_y_congelador',\n",
       " 'd_nivea',\n",
       " 'd_noise_decibel_monitors_on_property',\n",
       " 'd_open_24_hours',\n",
       " 'd_open_specific_hours',\n",
       " 'd_outlet_covers',\n",
       " 'd_oven',\n",
       " 'd_paid_resort_access',\n",
       " 'd_paid_street_parking_off_premises',\n",
       " 'd_paid_valet_parking_on_premises',\n",
       " 'd_palmolive',\n",
       " 'd_pantene',\n",
       " 'd_peque_a',\n",
       " 'd_pets_allowed',\n",
       " 'd_piano',\n",
       " 'd_ping_pong_table',\n",
       " 'd_pool_pool_cover',\n",
       " 'd_pool_cover',\n",
       " 'd_pool_table',\n",
       " 'd_pool_toys',\n",
       " 'd_pool',\n",
       " 'd_portable_fans',\n",
       " 'd_portable_heater',\n",
       " 'd_private_pool',\n",
       " 'd_property_manager',\n",
       " 'd_ps2',\n",
       " 'd_puerta_desmontable_de_doble_cristal_con_efecto_espejo',\n",
       " 'd_record_player',\n",
       " 'd_resort_access',\n",
       " 'd_rice_maker',\n",
       " 'd_roku',\n",
       " 'd_rooftop',\n",
       " 'd_room_darkening_shades',\n",
       " 'd_rowing',\n",
       " 'd_safe',\n",
       " 'd_saltwater',\n",
       " 'd_samsung_combi_2',\n",
       " 'd_samsung',\n",
       " 'd_sanex_dove',\n",
       " 'd_saturday_included_with_your_stay',\n",
       " 'd_saturday',\n",
       " 'd_sauna',\n",
       " 'd_self_check_in',\n",
       " 'd_sempre_hi_ha_xamp',\n",
       " 'd_shower_gel',\n",
       " 'd_single_level_home',\n",
       " 'd_skate_ramp',\n",
       " 'd_ski_in_ski_out',\n",
       " 'd_smart_lock',\n",
       " 'd_smoke_alarm',\n",
       " 'd_smoking_allowed',\n",
       " 'd_sonos_spotify_connect',\n",
       " 'd_sony',\n",
       " 'd_sound_system',\n",
       " 'd_stove',\n",
       " 'd_sun_loungers',\n",
       " 'd_sunstech',\n",
       " 'd_table_corner_guards',\n",
       " 'd_theme_room',\n",
       " 'd_thursday_included_with_your_stay',\n",
       " 'd_thursday_to_friday_included_with_your_stay',\n",
       " 'd_toaster',\n",
       " 'd_trash_compactor',\n",
       " 'd_tuesday_included_with_your_stay',\n",
       " 'd_tuesday',\n",
       " 'd_tv',\n",
       " 'd_washer',\n",
       " 'd_water_slide',\n",
       " 'd_waterfront',\n",
       " 'd_wednesday',\n",
       " 'd_whirlpool_mpc_349_1_microndas',\n",
       " 'd_wifi',\n",
       " 'd_window_ac_unit',\n",
       " 'd_window_guards',\n",
       " 'd_wine_glasses',\n",
       " 'd_wood_burning',\n",
       " 'd_streaming_services',\n",
       " 'd_child_friendly',\n",
       " 'd_free_parking',\n",
       " 'd_paid_parking',\n",
       " 'd_cable',\n",
       " 'd_view',\n",
       " 'd_balcony',\n",
       " 'd_bbq',\n",
       " 'd_housekeeping_included',\n",
       " 'd_housekeeping_extracost',\n",
       " 'd_paid_dryer_washer',\n",
       " 'd_airconditioning',\n",
       " 'd_electric_car_charging',\n",
       " 'd_indoor_pool',\n",
       " 'd_outdoor_pool',\n",
       " 'd_outdoor_space',\n",
       " 'd_private_ameneties',\n",
       " 'd_shared_ameneties',\n",
       " 'd_number_of_reviews',\n",
       " 'price',\n",
       " 'host_id',\n",
       " 'neighbourhood_cleansed',\n",
       " 'room_type',\n",
       " 'property_type',\n",
       " 'n_accommodates2',\n",
       " 'ln_accommodates',\n",
       " 'ln_accommodates2',\n",
       " 'ln_beds',\n",
       " 'ln_number_of_reviews',\n",
       " 'f_bathroom',\n",
       " 'f_number_of_reviews',\n",
       " 'f_minimum_nights',\n",
       " 'flag_days_since',\n",
       " 'flag_review_scores_rating',\n",
       " 'flag_reviews_per_month',\n",
       " 'flag_n_number_of_reviews',\n",
       " 'ln_days_since',\n",
       " 'ln_days_since2',\n",
       " 'ln_days_since3',\n",
       " 'n_days_since2',\n",
       " 'n_days_since3',\n",
       " 'ln_review_scores_rating']"
      ]
     },
     "execution_count": 81,
     "metadata": {},
     "output_type": "execute_result"
    }
   ],
   "source": [
    "data.columns.to_list()"
   ]
  },
  {
   "cell_type": "code",
   "execution_count": 53,
   "metadata": {},
   "outputs": [
    {
     "data": {
      "text/plain": [
       "252"
      ]
     },
     "execution_count": 53,
     "metadata": {},
     "output_type": "execute_result"
    }
   ],
   "source": [
    "data.columns.get_loc(\"shared_ameneties\")\n"
   ]
  },
  {
   "cell_type": "code",
   "execution_count": 54,
   "metadata": {},
   "outputs": [],
   "source": [
    "dummies = data.columns[47:254]"
   ]
  },
  {
   "cell_type": "markdown",
   "metadata": {},
   "source": [
    "Rename colunms"
   ]
  },
  {
   "cell_type": "code",
   "execution_count": 55,
   "metadata": {},
   "outputs": [],
   "source": [
    "for col in dummies:\n",
    "    data[\"d_\" + (re.sub(\"/|\\s|-\", \"\", col)).replace(\"(s)\", \"s\").lower()] = data[col]\n"
   ]
  },
  {
   "cell_type": "markdown",
   "metadata": {},
   "source": [
    "Keep columns if contain d_, n_,f_, p_, usd_ and some others"
   ]
  },
  {
   "cell_type": "code",
   "execution_count": 56,
   "metadata": {},
   "outputs": [],
   "source": [
    "data = pd.concat(\n",
    "    [\n",
    "        data.filter(\n",
    "            regex=\"^d_.*|^n_.*|^f_.*|^p_.*|^usd_.*\",\n",
    "        ),\n",
    "        data[\n",
    "            [\n",
    "                \"price\",\n",
    "                \"host_id\",\n",
    "                \"neighbourhood_cleansed\",\n",
    "                \"room_type\",\n",
    "                \"property_type\",\n",
    "            ]\n",
    "        ],\n",
    "    ],\n",
    "    axis=1,\n",
    ")\n"
   ]
  },
  {
   "cell_type": "markdown",
   "metadata": {},
   "source": [
    "### Take a look at price"
   ]
  },
  {
   "cell_type": "code",
   "execution_count": 57,
   "metadata": {},
   "outputs": [],
   "source": [
    "#WHYYYYY DID HE FILTER FOR PRICE IF ITS OUR Y??? \n",
    "\n",
    "#data = data.loc[lambda x: x[\"price\"] < 1000]\n"
   ]
  },
  {
   "cell_type": "code",
   "execution_count": 58,
   "metadata": {},
   "outputs": [
    {
     "data": {
      "text/html": [
       "<pre style=\"white-space:pre;overflow-x:auto;line-height:normal;font-family:Menlo,'DejaVu Sans Mono',consolas,'Courier New',monospace\">╭──────────────────────────────────────────────── skimpy summary ─────────────────────────────────────────────────╮\n",
       "│ <span style=\"font-style: italic\">         Data Summary         </span> <span style=\"font-style: italic\">      Data Types       </span>                                                          │\n",
       "│ ┏━━━━━━━━━━━━━━━━━━━┳━━━━━━━━┓ ┏━━━━━━━━━━━━━┳━━━━━━━┓                                                          │\n",
       "│ ┃<span style=\"color: #008080; text-decoration-color: #008080; font-weight: bold\"> dataframe         </span>┃<span style=\"color: #008080; text-decoration-color: #008080; font-weight: bold\"> Values </span>┃ ┃<span style=\"color: #008080; text-decoration-color: #008080; font-weight: bold\"> Column Type </span>┃<span style=\"color: #008080; text-decoration-color: #008080; font-weight: bold\"> Count </span>┃                                                          │\n",
       "│ ┡━━━━━━━━━━━━━━━━━━━╇━━━━━━━━┩ ┡━━━━━━━━━━━━━╇━━━━━━━┩                                                          │\n",
       "│ │ Number of rows    │ 19455  │ │ float64     │ 1     │                                                          │\n",
       "│ │ Number of columns │ 1      │ └─────────────┴───────┘                                                          │\n",
       "│ └───────────────────┴────────┘                                                                                  │\n",
       "│ <span style=\"font-style: italic\">                                                    number                                                    </span>  │\n",
       "│ ┏━━━━━━━━━━━━━━━━━━┳━━━━━━━━┳━━━━━━━━━━┳━━━━━━━━━━┳━━━━━━━━━━┳━━━━━━┳━━━━━━━┳━━━━━━━┳━━━━━━┳━━━━━━━┳━━━━━━━━━┓  │\n",
       "│ ┃<span style=\"font-weight: bold\"> column_name      </span>┃<span style=\"font-weight: bold\"> NA     </span>┃<span style=\"font-weight: bold\"> NA %     </span>┃<span style=\"font-weight: bold\"> mean     </span>┃<span style=\"font-weight: bold\"> sd       </span>┃<span style=\"font-weight: bold\"> p0   </span>┃<span style=\"font-weight: bold\"> p25   </span>┃<span style=\"font-weight: bold\"> p50   </span>┃<span style=\"font-weight: bold\"> p75  </span>┃<span style=\"font-weight: bold\"> p100  </span>┃<span style=\"font-weight: bold\"> hist    </span>┃  │\n",
       "│ ┡━━━━━━━━━━━━━━━━━━╇━━━━━━━━╇━━━━━━━━━━╇━━━━━━━━━━╇━━━━━━━━━━╇━━━━━━╇━━━━━━━╇━━━━━━━╇━━━━━━╇━━━━━━━╇━━━━━━━━━┩  │\n",
       "│ │ <span style=\"color: #af87ff; text-decoration-color: #af87ff\">price           </span> │ <span style=\"color: #008080; text-decoration-color: #008080\">  3895</span> │ <span style=\"color: #008080; text-decoration-color: #008080\">   20.02</span> │ <span style=\"color: #008080; text-decoration-color: #008080\">   107.3</span> │ <span style=\"color: #008080; text-decoration-color: #008080\">   91.38</span> │ <span style=\"color: #008080; text-decoration-color: #008080\">   5</span> │ <span style=\"color: #008080; text-decoration-color: #008080\">   52</span> │ <span style=\"color: #008080; text-decoration-color: #008080\">   88</span> │ <span style=\"color: #008080; text-decoration-color: #008080\"> 129</span> │ <span style=\"color: #008080; text-decoration-color: #008080\">  999</span> │ <span style=\"color: #008000; text-decoration-color: #008000\">  ▇▁   </span> │  │\n",
       "│ └──────────────────┴────────┴──────────┴──────────┴──────────┴──────┴───────┴───────┴──────┴───────┴─────────┘  │\n",
       "╰────────────────────────────────────────────────────── End ──────────────────────────────────────────────────────╯\n",
       "</pre>\n"
      ],
      "text/plain": [
       "╭──────────────────────────────────────────────── skimpy summary ─────────────────────────────────────────────────╮\n",
       "│ \u001b[3m         Data Summary         \u001b[0m \u001b[3m      Data Types       \u001b[0m                                                          │\n",
       "│ ┏━━━━━━━━━━━━━━━━━━━┳━━━━━━━━┓ ┏━━━━━━━━━━━━━┳━━━━━━━┓                                                          │\n",
       "│ ┃\u001b[1;36m \u001b[0m\u001b[1;36mdataframe        \u001b[0m\u001b[1;36m \u001b[0m┃\u001b[1;36m \u001b[0m\u001b[1;36mValues\u001b[0m\u001b[1;36m \u001b[0m┃ ┃\u001b[1;36m \u001b[0m\u001b[1;36mColumn Type\u001b[0m\u001b[1;36m \u001b[0m┃\u001b[1;36m \u001b[0m\u001b[1;36mCount\u001b[0m\u001b[1;36m \u001b[0m┃                                                          │\n",
       "│ ┡━━━━━━━━━━━━━━━━━━━╇━━━━━━━━┩ ┡━━━━━━━━━━━━━╇━━━━━━━┩                                                          │\n",
       "│ │ Number of rows    │ 19455  │ │ float64     │ 1     │                                                          │\n",
       "│ │ Number of columns │ 1      │ └─────────────┴───────┘                                                          │\n",
       "│ └───────────────────┴────────┘                                                                                  │\n",
       "│ \u001b[3m                                                    number                                                    \u001b[0m  │\n",
       "│ ┏━━━━━━━━━━━━━━━━━━┳━━━━━━━━┳━━━━━━━━━━┳━━━━━━━━━━┳━━━━━━━━━━┳━━━━━━┳━━━━━━━┳━━━━━━━┳━━━━━━┳━━━━━━━┳━━━━━━━━━┓  │\n",
       "│ ┃\u001b[1m \u001b[0m\u001b[1mcolumn_name     \u001b[0m\u001b[1m \u001b[0m┃\u001b[1m \u001b[0m\u001b[1mNA    \u001b[0m\u001b[1m \u001b[0m┃\u001b[1m \u001b[0m\u001b[1mNA %    \u001b[0m\u001b[1m \u001b[0m┃\u001b[1m \u001b[0m\u001b[1mmean    \u001b[0m\u001b[1m \u001b[0m┃\u001b[1m \u001b[0m\u001b[1msd      \u001b[0m\u001b[1m \u001b[0m┃\u001b[1m \u001b[0m\u001b[1mp0  \u001b[0m\u001b[1m \u001b[0m┃\u001b[1m \u001b[0m\u001b[1mp25  \u001b[0m\u001b[1m \u001b[0m┃\u001b[1m \u001b[0m\u001b[1mp50  \u001b[0m\u001b[1m \u001b[0m┃\u001b[1m \u001b[0m\u001b[1mp75 \u001b[0m\u001b[1m \u001b[0m┃\u001b[1m \u001b[0m\u001b[1mp100 \u001b[0m\u001b[1m \u001b[0m┃\u001b[1m \u001b[0m\u001b[1mhist   \u001b[0m\u001b[1m \u001b[0m┃  │\n",
       "│ ┡━━━━━━━━━━━━━━━━━━╇━━━━━━━━╇━━━━━━━━━━╇━━━━━━━━━━╇━━━━━━━━━━╇━━━━━━╇━━━━━━━╇━━━━━━━╇━━━━━━╇━━━━━━━╇━━━━━━━━━┩  │\n",
       "│ │ \u001b[38;5;141mprice           \u001b[0m │ \u001b[36m  3895\u001b[0m │ \u001b[36m   20.02\u001b[0m │ \u001b[36m   107.3\u001b[0m │ \u001b[36m   91.38\u001b[0m │ \u001b[36m   5\u001b[0m │ \u001b[36m   52\u001b[0m │ \u001b[36m   88\u001b[0m │ \u001b[36m 129\u001b[0m │ \u001b[36m  999\u001b[0m │ \u001b[32m  ▇▁   \u001b[0m │  │\n",
       "│ └──────────────────┴────────┴──────────┴──────────┴──────────┴──────┴───────┴───────┴──────┴───────┴─────────┘  │\n",
       "╰────────────────────────────────────────────────────── End ──────────────────────────────────────────────────────╯\n"
      ]
     },
     "metadata": {},
     "output_type": "display_data"
    }
   ],
   "source": [
    "skim(data[\"price\"].to_frame())"
   ]
  },
  {
   "cell_type": "code",
   "execution_count": 59,
   "metadata": {},
   "outputs": [
    {
     "data": {
      "text/plain": [
       "<Axes: >"
      ]
     },
     "execution_count": 59,
     "metadata": {},
     "output_type": "execute_result"
    },
    {
     "data": {
      "image/png": "[encoded data removed]",
      "text/plain": [
       "<Figure size 640x480 with 1 Axes>"
      ]
     },
     "metadata": {},
     "output_type": "display_data"
    }
   ],
   "source": [
    "data[\"price\"].hist()"
   ]
  },
  {
   "cell_type": "code",
   "execution_count": 60,
   "metadata": {},
   "outputs": [
    {
     "data": {
      "text/plain": [
       "<Axes: >"
      ]
     },
     "execution_count": 60,
     "metadata": {},
     "output_type": "execute_result"
    },
    {
     "data": {
      "image/png": "[encoded data removed]",
      "text/plain": [
       "<Figure size 640x480 with 1 Axes>"
      ]
     },
     "metadata": {},
     "output_type": "display_data"
    }
   ],
   "source": [
    "data[\"price\"].apply(np.log).hist()"
   ]
  },
  {
   "cell_type": "markdown",
   "metadata": {},
   "source": [
    "Squares and further values to create"
   ]
  },
  {
   "cell_type": "code",
   "execution_count": 61,
   "metadata": {},
   "outputs": [],
   "source": [
    "data = data.assign(\n",
    "    n_accommodates2=lambda x: x[\"n_accommodates\"] ** 2,\n",
    "    ln_accommodates=lambda x: np.log(x[\"n_accommodates\"]),\n",
    "    ln_accommodates2=lambda x: np.log(x[\"n_accommodates\"]) ** 2,\n",
    "    ln_beds=lambda x: np.log(x[\"n_beds\"]),\n",
    "    ln_number_of_reviews=lambda x: np.log(x[\"n_number_of_reviews\"] + 1),\n",
    ")\n"
   ]
  },
  {
   "cell_type": "markdown",
   "metadata": {},
   "source": [
    " Pool accomodations with 0,1,2,10 bathrooms"
   ]
  },
  {
   "cell_type": "code",
   "execution_count": 62,
   "metadata": {},
   "outputs": [
    {
     "name": "stdout",
     "output_type": "stream",
     "text": [
      "f_bathroom\n",
      "[1.0, 2.0)     10575\n",
      "[2.0, 10.0)     4773\n",
      "NaN             3776\n",
      "[0.0, 1.0)       331\n",
      "Name: count, dtype: int64\n"
     ]
    }
   ],
   "source": [
    "#creating a category for bathrooms \n",
    "bins = pd.IntervalIndex.from_tuples([(0, 1), (1, 2), (2, 10)], closed=\"left\")\n",
    "f_bath = pd.cut(data[\"n_bathrooms\"], bins=bins, labels=[0, 1, 2])\n",
    "data[\"f_bathroom\"] = f_bath\n",
    "print(data[\"f_bathroom\"].value_counts(dropna=False))"
   ]
  },
  {
   "cell_type": "markdown",
   "metadata": {},
   "source": [
    "Pool num of reviews to 3 categories: none, 1-51 and >51"
   ]
  },
  {
   "cell_type": "code",
   "execution_count": 63,
   "metadata": {},
   "outputs": [
    {
     "name": "stdout",
     "output_type": "stream",
     "text": [
      "f_number_of_reviews\n",
      "[1.0, 51.0)       9707\n",
      "[0.0, 1.0)        4990\n",
      "[51.0, 2896.0)    4757\n",
      "NaN                  1\n",
      "Name: count, dtype: int64\n"
     ]
    }
   ],
   "source": [
    "bins = pd.IntervalIndex.from_tuples(\n",
    "    [(0, 1), (1, 51), (51, max(data[\"n_number_of_reviews\"]))], closed=\"left\")\n",
    "fnor = pd.cut(data[\"n_number_of_reviews\"], bins=bins, labels=[0, 1, 2])\n",
    "data[\"f_number_of_reviews\"] = fnor\n",
    "print(data[\"f_number_of_reviews\"].value_counts(dropna=False))"
   ]
  },
  {
   "cell_type": "markdown",
   "metadata": {},
   "source": [
    "Pool and categorize the number of minimum nights: 1,2,3, 3+"
   ]
  },
  {
   "cell_type": "code",
   "execution_count": 64,
   "metadata": {},
   "outputs": [
    {
     "name": "stdout",
     "output_type": "stream",
     "text": [
      "Max n_minimum_nights: 1124\n",
      "Summary Statistics:\n",
      " count    19455.000000\n",
      "mean        15.510100\n",
      "std         30.487162\n",
      "min          1.000000\n",
      "25%          1.000000\n",
      "50%          3.000000\n",
      "75%         31.000000\n",
      "max       1124.000000\n",
      "Name: n_minimum_nights, dtype: float64\n",
      "Unique values in n_minimum_nights: [   1    3   31    5    2    4    6   15  120   32   90    7   30   60\n",
      "  300  180   28   21   14   40   13   20   45   50   35  179    8   10\n",
      "   33   24   25   29 1124  100   75  865  360  900    9   61   70   80\n",
      "  210   76   42  365   18   36  150  500   62  310  250   64 1000   66\n",
      "   12   47   16   58   34  200   92   22  351  364   91  330   26   99\n",
      "  122   81  115  121   27]\n"
     ]
    }
   ],
   "source": [
    "print(\"Max n_minimum_nights:\", data[\"n_minimum_nights\"].max())\n",
    "print(\"Summary Statistics:\\n\", data[\"n_minimum_nights\"].describe())\n",
    "print(\"Unique values in n_minimum_nights:\", data[\"n_minimum_nights\"].unique())\n",
    "#i assume those 3 extra values are outliers, so i will remove them\n",
    "data = data[data[\"n_minimum_nights\"] < 365] "
   ]
  },
  {
   "cell_type": "code",
   "execution_count": 65,
   "metadata": {},
   "outputs": [
    {
     "data": {
      "text/plain": [
       "f_minimum_nights\n",
       "[3.0, 364.0)    11026\n",
       "[1.0, 2.0)       6120\n",
       "[2.0, 3.0)       2280\n",
       "NaN                 1\n",
       "Name: count, dtype: int64"
      ]
     },
     "execution_count": 65,
     "metadata": {},
     "output_type": "execute_result"
    }
   ],
   "source": [
    "bins = pd.IntervalIndex.from_tuples(\n",
    "    [(1, 2), (2, 3), (3, max(data.n_minimum_nights))], closed=\"left\"\n",
    ")\n",
    "f_min_n = pd.cut(data[\"n_minimum_nights\"].to_list(), bins, labels=[\"1\", \"2\", \"3\"])\n",
    "data[\"f_minimum_nights\"] = f_min_n\n",
    "data[\"f_minimum_nights\"].value_counts(dropna=False)"
   ]
  },
  {
   "cell_type": "markdown",
   "metadata": {},
   "source": [
    "Change Infinite values with NaNs"
   ]
  },
  {
   "cell_type": "code",
   "execution_count": 66,
   "metadata": {},
   "outputs": [],
   "source": [
    "data = data.replace([np.inf, -np.inf], np.nan)"
   ]
  },
  {
   "cell_type": "markdown",
   "metadata": {},
   "source": [
    "___"
   ]
  },
  {
   "cell_type": "markdown",
   "metadata": {},
   "source": [
    "Where do we have missing variables now?"
   ]
  },
  {
   "cell_type": "code",
   "execution_count": 67,
   "metadata": {},
   "outputs": [
    {
     "data": {
      "text/plain": [
       "usd_price_day             3871\n",
       "n_bathrooms               3745\n",
       "n_review_scores_rating    4972\n",
       "n_reviews_per_month       4972\n",
       "n_beds                    3823\n",
       "n_days_since              4972\n",
       "price                     3871\n",
       "ln_beds                   4135\n",
       "f_bathroom                3752\n",
       "f_number_of_reviews          1\n",
       "f_minimum_nights             1\n",
       "dtype: int64"
      ]
     },
     "execution_count": 67,
     "metadata": {},
     "output_type": "execute_result"
    }
   ],
   "source": [
    "data.isnull().sum().loc[lambda x: x > 0]"
   ]
  },
  {
   "cell_type": "markdown",
   "metadata": {},
   "source": [
    "What to do with missing values?\n",
    "\n",
    "1. drop if no target"
   ]
  },
  {
   "cell_type": "code",
   "execution_count": 68,
   "metadata": {},
   "outputs": [],
   "source": [
    "data = data.loc[lambda x: x[\"price\"].notnull()]"
   ]
  },
  {
   "cell_type": "markdown",
   "metadata": {},
   "source": [
    "2. imput when few, not that important"
   ]
  },
  {
   "cell_type": "code",
   "execution_count": 69,
   "metadata": {},
   "outputs": [],
   "source": [
    "# Ensure 'n_accommodates' has no missing values before using it in 'n_beds'\n",
    "data[\"n_accommodates\"] = data[\"n_accommodates\"].fillna(data[\"n_accommodates\"].median())\n",
    "\n",
    "# Fix categorical columns by adding \"99\" as a category before filling NaNs\n",
    "for col in [\"f_bathroom\", \"f_minimum_nights\", \"f_number_of_reviews\"]:\n",
    "    if col in data.columns and pd.api.types.is_categorical_dtype(data[col]):\n",
    "        data[col] = data[col].cat.add_categories([99]).fillna(99)  # Add category & fill NaNs\n",
    "    else:\n",
    "        data[col] = data[col].fillna(99)  # If not categorical, fill normally\n",
    "\n",
    "# Assign and fill missing values in a single step\n",
    "data = data.assign(\n",
    "    n_bathrooms=lambda x: x[\"n_bathrooms\"].fillna(np.median(x[\"n_bathrooms\"].dropna())),\n",
    "    n_beds=lambda x: np.where(x[\"n_beds\"].isnull(), x[\"n_accommodates\"], x[\"n_beds\"]),\n",
    "    ln_beds=lambda x: x[\"ln_beds\"].fillna(0),\n",
    ")"
   ]
  },
  {
   "cell_type": "code",
   "execution_count": 70,
   "metadata": {},
   "outputs": [
    {
     "data": {
      "text/plain": [
       "n_review_scores_rating    3389\n",
       "n_reviews_per_month       3389\n",
       "n_days_since              3389\n",
       "dtype: int64"
      ]
     },
     "execution_count": 70,
     "metadata": {},
     "output_type": "execute_result"
    }
   ],
   "source": [
    "data.isnull().sum().loc[lambda x: x > 0]"
   ]
  },
  {
   "cell_type": "markdown",
   "metadata": {},
   "source": [
    " 4. Replace missing variables re reviews with zero, when no review + add flags"
   ]
  },
  {
   "cell_type": "code",
   "execution_count": 71,
   "metadata": {},
   "outputs": [],
   "source": [
    "data = data.assign(\n",
    "    flag_days_since=np.multiply(data[\"n_days_since\"].isnull(), 1),\n",
    "    n_days_since=data[\"n_days_since\"].fillna(np.median(data[\"n_days_since\"].dropna())),\n",
    "    flag_review_scores_rating=np.multiply(data[\"n_review_scores_rating\"].isnull(), 1),\n",
    "    n_review_scores_rating=data[\"n_review_scores_rating\"].fillna(\n",
    "        np.median(data[\"n_review_scores_rating\"].dropna())\n",
    "    ),\n",
    "    flag_reviews_per_month=np.multiply(data[\"n_reviews_per_month\"].isnull(), 1),\n",
    "    n_reviews_per_month=data[\"n_reviews_per_month\"].fillna(\n",
    "        np.median(data[\"n_reviews_per_month\"].dropna())\n",
    "    ),\n",
    "    flag_n_number_of_reviews=np.multiply(data[\"n_number_of_reviews\"].isnull(), 1),\n",
    ")"
   ]
  },
  {
   "cell_type": "code",
   "execution_count": 72,
   "metadata": {},
   "outputs": [
    {
     "data": {
      "text/plain": [
       "flag_days_since\n",
       "0    12167\n",
       "1     3389\n",
       "Name: count, dtype: int64"
      ]
     },
     "execution_count": 72,
     "metadata": {},
     "output_type": "execute_result"
    }
   ],
   "source": [
    "data.flag_days_since.value_counts()\n"
   ]
  },
  {
   "cell_type": "markdown",
   "metadata": {},
   "source": [
    "\n",
    "Redo features\n",
    "\n",
    "Create variables, measuring the time since: squared, cubic, logs"
   ]
  },
  {
   "cell_type": "code",
   "execution_count": null,
   "metadata": {},
   "outputs": [],
   "source": [
    "data = data.assign(\n",
    "    ln_days_since=lambda x: np.log(x[\"n_days_since\"] + 1),\n",
    "    ln_days_since2=lambda x: np.log(x[\"n_days_since\"] + 1) ** 2,\n",
    "    ln_days_since3=lambda x: np.log(x[\"n_days_since\"] + 1) ** 3,\n",
    "    n_days_since2=lambda x: x[\"n_days_since\"] ** 2,\n",
    "    n_days_since3=lambda x: x[\"n_days_since\"] ** 3,\n",
    "    ln_review_scores_rating=lambda x: np.log(x[\"n_review_scores_rating\"]),\n",
    ")\n"
   ]
  },
  {
   "cell_type": "code",
   "execution_count": 74,
   "metadata": {},
   "outputs": [],
   "source": [
    "data[\"n_days_since\"] = data[\"ln_days_since\"].fillna(0)\n",
    "data[\"ln_days_since2\"] = data[\"ln_days_since2\"].fillna(0)\n",
    "data[\"ln_days_since3\"] = data[\"ln_days_since3\"].fillna(0)"
   ]
  },
  {
   "cell_type": "code",
   "execution_count": 75,
   "metadata": {},
   "outputs": [
    {
     "data": {
      "text/plain": [
       "Series([], dtype: int64)"
      ]
     },
     "execution_count": 75,
     "metadata": {},
     "output_type": "execute_result"
    }
   ],
   "source": [
    "data.isnull().sum().loc[lambda x: x > 0]"
   ]
  },
  {
   "cell_type": "code",
   "execution_count": 76,
   "metadata": {},
   "outputs": [
    {
     "data": {
      "text/html": [
       "<div>\n",
       "<style scoped>\n",
       "    .dataframe tbody tr th:only-of-type {\n",
       "        vertical-align: middle;\n",
       "    }\n",
       "\n",
       "    .dataframe tbody tr th {\n",
       "        vertical-align: top;\n",
       "    }\n",
       "\n",
       "    .dataframe thead th {\n",
       "        text-align: right;\n",
       "    }\n",
       "</style>\n",
       "<table border=\"1\" class=\"dataframe\">\n",
       "  <thead>\n",
       "    <tr style=\"text-align: right;\">\n",
       "      <th></th>\n",
       "      <th>usd_price_day</th>\n",
       "      <th>p_host_response_rate</th>\n",
       "      <th>n_accommodates</th>\n",
       "      <th>n_bathrooms</th>\n",
       "      <th>n_review_scores_rating</th>\n",
       "      <th>n_number_of_reviews</th>\n",
       "      <th>n_reviews_per_month</th>\n",
       "      <th>n_minimum_nights</th>\n",
       "      <th>n_beds</th>\n",
       "      <th>n_days_since</th>\n",
       "      <th>...</th>\n",
       "      <th>flag_days_since</th>\n",
       "      <th>flag_review_scores_rating</th>\n",
       "      <th>flag_reviews_per_month</th>\n",
       "      <th>flag_n_number_of_reviews</th>\n",
       "      <th>ln_days_since</th>\n",
       "      <th>ln_days_since2</th>\n",
       "      <th>ln_days_since3</th>\n",
       "      <th>n_days_since2</th>\n",
       "      <th>n_days_since3</th>\n",
       "      <th>ln_review_scores_rating</th>\n",
       "    </tr>\n",
       "  </thead>\n",
       "  <tbody>\n",
       "    <tr>\n",
       "      <th>count</th>\n",
       "      <td>15556.000000</td>\n",
       "      <td>15556.0</td>\n",
       "      <td>15556.000000</td>\n",
       "      <td>15556.000000</td>\n",
       "      <td>15556.000000</td>\n",
       "      <td>15556.000000</td>\n",
       "      <td>15556.000000</td>\n",
       "      <td>15556.000000</td>\n",
       "      <td>15556.000000</td>\n",
       "      <td>15556.000000</td>\n",
       "      <td>...</td>\n",
       "      <td>15556.000000</td>\n",
       "      <td>15556.000000</td>\n",
       "      <td>15556.000000</td>\n",
       "      <td>15556.0</td>\n",
       "      <td>15556.000000</td>\n",
       "      <td>15556.000000</td>\n",
       "      <td>15556.000000</td>\n",
       "      <td>1.555600e+04</td>\n",
       "      <td>1.555600e+04</td>\n",
       "      <td>15556.000000</td>\n",
       "    </tr>\n",
       "    <tr>\n",
       "      <th>mean</th>\n",
       "      <td>107.328619</td>\n",
       "      <td>0.0</td>\n",
       "      <td>3.557855</td>\n",
       "      <td>1.392774</td>\n",
       "      <td>4.617769</td>\n",
       "      <td>57.320262</td>\n",
       "      <td>1.524343</td>\n",
       "      <td>14.636218</td>\n",
       "      <td>2.431859</td>\n",
       "      <td>6.661322</td>\n",
       "      <td>...</td>\n",
       "      <td>0.217858</td>\n",
       "      <td>0.217858</td>\n",
       "      <td>0.217858</td>\n",
       "      <td>0.0</td>\n",
       "      <td>6.661322</td>\n",
       "      <td>45.802169</td>\n",
       "      <td>322.260899</td>\n",
       "      <td>2.922589e+06</td>\n",
       "      <td>8.683411e+09</td>\n",
       "      <td>1.522668</td>\n",
       "    </tr>\n",
       "    <tr>\n",
       "      <th>std</th>\n",
       "      <td>91.383984</td>\n",
       "      <td>0.0</td>\n",
       "      <td>2.184498</td>\n",
       "      <td>0.713292</td>\n",
       "      <td>0.444167</td>\n",
       "      <td>111.626984</td>\n",
       "      <td>1.921227</td>\n",
       "      <td>18.186318</td>\n",
       "      <td>2.080365</td>\n",
       "      <td>1.195430</td>\n",
       "      <td>...</td>\n",
       "      <td>0.412804</td>\n",
       "      <td>0.412804</td>\n",
       "      <td>0.412804</td>\n",
       "      <td>0.0</td>\n",
       "      <td>1.195430</td>\n",
       "      <td>14.508133</td>\n",
       "      <td>140.048712</td>\n",
       "      <td>4.569842e+06</td>\n",
       "      <td>1.819749e+10</td>\n",
       "      <td>0.137897</td>\n",
       "    </tr>\n",
       "    <tr>\n",
       "      <th>min</th>\n",
       "      <td>5.000000</td>\n",
       "      <td>0.0</td>\n",
       "      <td>1.000000</td>\n",
       "      <td>0.000000</td>\n",
       "      <td>1.000000</td>\n",
       "      <td>0.000000</td>\n",
       "      <td>0.010000</td>\n",
       "      <td>1.000000</td>\n",
       "      <td>0.000000</td>\n",
       "      <td>0.693147</td>\n",
       "      <td>...</td>\n",
       "      <td>0.000000</td>\n",
       "      <td>0.000000</td>\n",
       "      <td>0.000000</td>\n",
       "      <td>0.0</td>\n",
       "      <td>0.693147</td>\n",
       "      <td>0.480453</td>\n",
       "      <td>0.333025</td>\n",
       "      <td>1.000000e+00</td>\n",
       "      <td>1.000000e+00</td>\n",
       "      <td>0.000000</td>\n",
       "    </tr>\n",
       "    <tr>\n",
       "      <th>25%</th>\n",
       "      <td>52.000000</td>\n",
       "      <td>0.0</td>\n",
       "      <td>2.000000</td>\n",
       "      <td>1.000000</td>\n",
       "      <td>4.540000</td>\n",
       "      <td>1.000000</td>\n",
       "      <td>0.420000</td>\n",
       "      <td>1.000000</td>\n",
       "      <td>1.000000</td>\n",
       "      <td>6.200509</td>\n",
       "      <td>...</td>\n",
       "      <td>0.000000</td>\n",
       "      <td>0.000000</td>\n",
       "      <td>0.000000</td>\n",
       "      <td>0.0</td>\n",
       "      <td>6.200509</td>\n",
       "      <td>38.446314</td>\n",
       "      <td>238.386723</td>\n",
       "      <td>2.420640e+05</td>\n",
       "      <td>1.190955e+08</td>\n",
       "      <td>1.512927</td>\n",
       "    </tr>\n",
       "    <tr>\n",
       "      <th>50%</th>\n",
       "      <td>88.000000</td>\n",
       "      <td>0.0</td>\n",
       "      <td>3.000000</td>\n",
       "      <td>1.000000</td>\n",
       "      <td>4.710000</td>\n",
       "      <td>10.000000</td>\n",
       "      <td>1.020000</td>\n",
       "      <td>3.000000</td>\n",
       "      <td>2.000000</td>\n",
       "      <td>6.826545</td>\n",
       "      <td>...</td>\n",
       "      <td>0.000000</td>\n",
       "      <td>0.000000</td>\n",
       "      <td>0.000000</td>\n",
       "      <td>0.0</td>\n",
       "      <td>6.826545</td>\n",
       "      <td>46.601720</td>\n",
       "      <td>318.128747</td>\n",
       "      <td>8.482410e+05</td>\n",
       "      <td>7.812300e+08</td>\n",
       "      <td>1.549688</td>\n",
       "    </tr>\n",
       "    <tr>\n",
       "      <th>75%</th>\n",
       "      <td>129.000000</td>\n",
       "      <td>0.0</td>\n",
       "      <td>5.000000</td>\n",
       "      <td>2.000000</td>\n",
       "      <td>4.840000</td>\n",
       "      <td>66.000000</td>\n",
       "      <td>2.000000</td>\n",
       "      <td>31.000000</td>\n",
       "      <td>3.000000</td>\n",
       "      <td>7.556559</td>\n",
       "      <td>...</td>\n",
       "      <td>0.000000</td>\n",
       "      <td>0.000000</td>\n",
       "      <td>0.000000</td>\n",
       "      <td>0.0</td>\n",
       "      <td>7.556559</td>\n",
       "      <td>57.101578</td>\n",
       "      <td>431.491424</td>\n",
       "      <td>3.656700e+06</td>\n",
       "      <td>6.992526e+09</td>\n",
       "      <td>1.576915</td>\n",
       "    </tr>\n",
       "    <tr>\n",
       "      <th>max</th>\n",
       "      <td>999.000000</td>\n",
       "      <td>0.0</td>\n",
       "      <td>16.000000</td>\n",
       "      <td>9.000000</td>\n",
       "      <td>5.000000</td>\n",
       "      <td>2896.000000</td>\n",
       "      <td>80.220000</td>\n",
       "      <td>360.000000</td>\n",
       "      <td>127.000000</td>\n",
       "      <td>8.569786</td>\n",
       "      <td>...</td>\n",
       "      <td>1.000000</td>\n",
       "      <td>1.000000</td>\n",
       "      <td>1.000000</td>\n",
       "      <td>0.0</td>\n",
       "      <td>8.569786</td>\n",
       "      <td>73.441226</td>\n",
       "      <td>629.375564</td>\n",
       "      <td>2.776236e+07</td>\n",
       "      <td>1.462799e+11</td>\n",
       "      <td>1.609438</td>\n",
       "    </tr>\n",
       "  </tbody>\n",
       "</table>\n",
       "<p>8 rows × 234 columns</p>\n",
       "</div>"
      ],
      "text/plain": [
       "       usd_price_day  p_host_response_rate  n_accommodates   n_bathrooms  \\\n",
       "count   15556.000000               15556.0    15556.000000  15556.000000   \n",
       "mean      107.328619                   0.0        3.557855      1.392774   \n",
       "std        91.383984                   0.0        2.184498      0.713292   \n",
       "min         5.000000                   0.0        1.000000      0.000000   \n",
       "25%        52.000000                   0.0        2.000000      1.000000   \n",
       "50%        88.000000                   0.0        3.000000      1.000000   \n",
       "75%       129.000000                   0.0        5.000000      2.000000   \n",
       "max       999.000000                   0.0       16.000000      9.000000   \n",
       "\n",
       "       n_review_scores_rating  n_number_of_reviews  n_reviews_per_month  \\\n",
       "count            15556.000000         15556.000000         15556.000000   \n",
       "mean                 4.617769            57.320262             1.524343   \n",
       "std                  0.444167           111.626984             1.921227   \n",
       "min                  1.000000             0.000000             0.010000   \n",
       "25%                  4.540000             1.000000             0.420000   \n",
       "50%                  4.710000            10.000000             1.020000   \n",
       "75%                  4.840000            66.000000             2.000000   \n",
       "max                  5.000000          2896.000000            80.220000   \n",
       "\n",
       "       n_minimum_nights        n_beds  n_days_since  ...  flag_days_since  \\\n",
       "count      15556.000000  15556.000000  15556.000000  ...     15556.000000   \n",
       "mean          14.636218      2.431859      6.661322  ...         0.217858   \n",
       "std           18.186318      2.080365      1.195430  ...         0.412804   \n",
       "min            1.000000      0.000000      0.693147  ...         0.000000   \n",
       "25%            1.000000      1.000000      6.200509  ...         0.000000   \n",
       "50%            3.000000      2.000000      6.826545  ...         0.000000   \n",
       "75%           31.000000      3.000000      7.556559  ...         0.000000   \n",
       "max          360.000000    127.000000      8.569786  ...         1.000000   \n",
       "\n",
       "       flag_review_scores_rating  flag_reviews_per_month  \\\n",
       "count               15556.000000            15556.000000   \n",
       "mean                    0.217858                0.217858   \n",
       "std                     0.412804                0.412804   \n",
       "min                     0.000000                0.000000   \n",
       "25%                     0.000000                0.000000   \n",
       "50%                     0.000000                0.000000   \n",
       "75%                     0.000000                0.000000   \n",
       "max                     1.000000                1.000000   \n",
       "\n",
       "       flag_n_number_of_reviews  ln_days_since  ln_days_since2  \\\n",
       "count                   15556.0   15556.000000    15556.000000   \n",
       "mean                        0.0       6.661322       45.802169   \n",
       "std                         0.0       1.195430       14.508133   \n",
       "min                         0.0       0.693147        0.480453   \n",
       "25%                         0.0       6.200509       38.446314   \n",
       "50%                         0.0       6.826545       46.601720   \n",
       "75%                         0.0       7.556559       57.101578   \n",
       "max                         0.0       8.569786       73.441226   \n",
       "\n",
       "       ln_days_since3  n_days_since2  n_days_since3  ln_review_scores_rating  \n",
       "count    15556.000000   1.555600e+04   1.555600e+04             15556.000000  \n",
       "mean       322.260899   2.922589e+06   8.683411e+09                 1.522668  \n",
       "std        140.048712   4.569842e+06   1.819749e+10                 0.137897  \n",
       "min          0.333025   1.000000e+00   1.000000e+00                 0.000000  \n",
       "25%        238.386723   2.420640e+05   1.190955e+08                 1.512927  \n",
       "50%        318.128747   8.482410e+05   7.812300e+08                 1.549688  \n",
       "75%        431.491424   3.656700e+06   6.992526e+09                 1.576915  \n",
       "max        629.375564   2.776236e+07   1.462799e+11                 1.609438  \n",
       "\n",
       "[8 rows x 234 columns]"
      ]
     },
     "execution_count": 76,
     "metadata": {},
     "output_type": "execute_result"
    }
   ],
   "source": [
    "data.describe()\n"
   ]
  },
  {
   "cell_type": "code",
   "execution_count": 77,
   "metadata": {
    "scrolled": false
   },
   "outputs": [],
   "source": [
    "#skim(data)"
   ]
  },
  {
   "cell_type": "code",
   "execution_count": 78,
   "metadata": {},
   "outputs": [],
   "source": [
    "data.to_csv(\"data/barcelona_workfile.csv\", index=False)"
   ]
  },
  {
   "cell_type": "code",
   "execution_count": 79,
   "metadata": {},
   "outputs": [
    {
     "data": {
      "text/plain": [
       "d_view\n",
       "1    12364\n",
       "0     3192\n",
       "Name: count, dtype: int64"
      ]
     },
     "execution_count": 79,
     "metadata": {},
     "output_type": "execute_result"
    }
   ],
   "source": [
    "data.d_view.value_counts()"
   ]
  },
  {
   "cell_type": "code",
   "execution_count": 80,
   "metadata": {},
   "outputs": [
    {
     "data": {
      "text/plain": [
       "d_airconditioning\n",
       "1    10603\n",
       "0     4953\n",
       "Name: count, dtype: int64"
      ]
     },
     "execution_count": 80,
     "metadata": {},
     "output_type": "execute_result"
    }
   ],
   "source": [
    "data.d_airconditioning.value_counts()"
   ]
  },
  {
   "cell_type": "code",
   "execution_count": null,
   "metadata": {},
   "outputs": [],
   "source": []
  }
 ],
 "metadata": {
  "kernelspec": {
   "display_name": "base",
   "language": "python",
   "name": "python3"
  },
  "language_info": {
   "codemirror_mode": {
    "name": "ipython",
    "version": 3
   },
   "file_extension": ".py",
   "mimetype": "text/x-python",
   "name": "python",
   "nbconvert_exporter": "python",
   "pygments_lexer": "ipython3",
   "version": "3.12.4"
  }
 },
 "nbformat": 4,
 "nbformat_minor": 4
}
