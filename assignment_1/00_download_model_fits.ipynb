{
 "cells": [
  {
   "cell_type": "markdown",
   "id": "1f65e289",
   "metadata": {},
   "source": [
    "### This notebook is to download and unzip the fitted models used in  `02_random_forest_airbnb.ipynb`.\n",
    "\n",
    "Since the cross-validation and model fits take a lots of time, we saved the results and uploaded them to an OSF repository which you can find [here](https://osf.io/mw4xj/?view_only=). You can also download the `model_fits.zip` folder from the repository and extract the zip file by hand, but the following code chunk will also do this for you."
   ]
  },
  {
   "cell_type": "code",
   "execution_count": null,
   "id": "5ee46225",
   "metadata": {},
   "outputs": [],
   "source": [
    "import requests, zipfile\n",
    "from io import BytesIO\n",
    "\n",
    "print(\"Downloading started\")\n",
    "url = \"https://osf.io/nsa3q/download\"\n",
    "filename = \"model_fits.zip\"\n",
    "\n",
    "# Downloading the file by sending the request to the URL\n",
    "req = requests.get(url)\n",
    "print(\"Downloading completed\")\n",
    "\n",
    "# extracting the zip file contents\n",
    "zipfile = zipfile.ZipFile(BytesIO(req.content))\n",
    "zipfile.extractall(\".\")\n",
    "print(\"Folder unzipped\")"
   ]
  },
  {
   "cell_type": "code",
   "execution_count": null,
   "id": "3d219fa2",
   "metadata": {},
   "outputs": [],
   "source": []
  }
 ],
 "metadata": {
  "kernelspec": {
   "display_name": "Python 3 (ipykernel)",
   "language": "python",
   "name": "python3"
  },
  "language_info": {
   "codemirror_mode": {
    "name": "ipython",
    "version": 3
   },
   "file_extension": ".py",
   "mimetype": "text/x-python",
   "name": "python",
   "nbconvert_exporter": "python",
   "pygments_lexer": "ipython3",
   "version": "3.8.10"
  }
 },
 "nbformat": 4,
 "nbformat_minor": 5
}
