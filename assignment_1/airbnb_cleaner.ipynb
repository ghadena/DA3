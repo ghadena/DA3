{
 "cells": [
  {
   "cell_type": "markdown",
   "metadata": {},
   "source": [
    "#### Prepared for Gabor's Data Analysis\n",
    "\n",
    "### Data Analysis for Business, Economics, and Policy\n",
    "by Gabor Bekes and  Gabor Kezdi\n",
    " \n",
    "Cambridge University Press 2021\n",
    "\n",
    "**[gabors-data-analysis.com ](https://gabors-data-analysis.com/)**\n",
    "\n",
    " License: Free to share, modify and use for educational purposes. \n",
    " Not to be used for commercial purposes.\n",
    " \n",
    "cleaning London airbnb file\n",
    "\n",
    "v.1.3. 2021-05-17 paths changed\n",
    "\n",
    "\n",
    "in: data from web\n",
    "\n",
    "out: airbnb_london_cleaned.csv"
   ]
  },
  {
   "cell_type": "code",
   "execution_count": 1,
   "metadata": {},
   "outputs": [],
   "source": [
    "import pandas as pd\n",
    "import os\n",
    "import warnings\n",
    "\n",
    "warnings.filterwarnings(\"ignore\")"
   ]
  },
  {
   "cell_type": "code",
   "execution_count": 2,
   "metadata": {},
   "outputs": [],
   "source": [
    "data_dir = \"/Users/vigadam/Dropbox/work/data_book/da_data_repo/\"\n",
    "\n",
    "# location of folders\n",
    "data_in = data_dir + \"airbnb/raw/\"\n",
    "data_out = data_dir + \"airbnb/clean/\""
   ]
  },
  {
   "cell_type": "code",
   "execution_count": 3,
   "metadata": {},
   "outputs": [],
   "source": [
    "# zero step\n",
    "data = pd.read_csv(data_in + \"listings.csv\", delimiter=\",\", dtype=\"unicode\")\n",
    "drops = [\n",
    "    \"host_thumbnail_url\",\n",
    "    \"host_picture_url\",\n",
    "    \"listing_url\",\n",
    "    \"thumbnail_url\",\n",
    "    \"medium_url\",\n",
    "    \"picture_url\",\n",
    "    \"xl_picture_url\",\n",
    "    \"host_url\",\n",
    "    \"last_scraped\",\n",
    "    \"description\",\n",
    "    \"experiences_offered\",\n",
    "    \"neighborhood_overview\",\n",
    "    \"notes\",\n",
    "    \"transit\",\n",
    "    \"access\",\n",
    "    \"interaction\",\n",
    "    \"house_rules\",\n",
    "    \"host_about\",\n",
    "    \"host_response_time\",\n",
    "    \"name\",\n",
    "    \"summary\",\n",
    "    \"space\",\n",
    "    \"host_location\",\n",
    "]\n",
    "data.drop(columns=drops, inplace=True)\n",
    "data.to_csv(data_in + \"airbnb_london_listing.csv\", index=False)"
   ]
  },
  {
   "cell_type": "code",
   "execution_count": 4,
   "metadata": {},
   "outputs": [],
   "source": [
    "# opening dataset\n",
    "df = pd.read_csv(data_in + \"airbnb_london_listing.csv\", delimiter=\",\")"
   ]
  },
  {
   "cell_type": "code",
   "execution_count": 5,
   "metadata": {},
   "outputs": [],
   "source": [
    "# drop broken lines - where id is not a character of numbers\n",
    "df.id = pd.to_numeric(df.id, errors=\"coerce\")\n",
    "df = df[df.id.notna()]"
   ]
  },
  {
   "cell_type": "code",
   "execution_count": 6,
   "metadata": {},
   "outputs": [
    {
     "data": {
      "text/plain": [
       "id                                    int64\n",
       "scrape_id                             int64\n",
       "host_id                               int64\n",
       "host_name                            object\n",
       "host_since                           object\n",
       "                                     ...   \n",
       "cancellation_policy                  object\n",
       "require_guest_profile_picture        object\n",
       "require_guest_phone_verification     object\n",
       "calculated_host_listings_count        int64\n",
       "reviews_per_month                   float64\n",
       "Length: 72, dtype: object"
      ]
     },
     "execution_count": 6,
     "metadata": {},
     "output_type": "execute_result"
    }
   ],
   "source": [
    "# display the class and type of each columns\n",
    "df.dtypes"
   ]
  },
  {
   "cell_type": "code",
   "execution_count": 7,
   "metadata": {},
   "outputs": [],
   "source": [
    "#####################\n",
    "# formatting columns\n",
    "for perc in [\"host_response_rate\", \"host_acceptance_rate\"]:\n",
    "    df[perc] = pd.to_numeric(df[perc], errors=\"coerce\")"
   ]
  },
  {
   "cell_type": "code",
   "execution_count": 8,
   "metadata": {},
   "outputs": [],
   "source": [
    "# remove percentage signs\n",
    "for pricevars in [\n",
    "    \"price\",\n",
    "    \"weekly_price\",\n",
    "    \"monthly_price\",\n",
    "    \"security_deposit\",\n",
    "    \"cleaning_fee\",\n",
    "    \"extra_people\",\n",
    "]:\n",
    "    df[pricevars] = df[pricevars].str.replace(\"\\\\$\", \"\")\n",
    "    df[pricevars] = pd.to_numeric(df[pricevars], errors=\"coerce\")"
   ]
  },
  {
   "cell_type": "code",
   "execution_count": 9,
   "metadata": {},
   "outputs": [],
   "source": [
    "# format binary variables\n",
    "for binary in [\n",
    "    \"host_is_superhost\",\n",
    "    \"host_has_profile_pic\",\n",
    "    \"host_identity_verified\",\n",
    "    \"is_location_exact\",\n",
    "    \"requires_license\",\n",
    "    \"instant_bookable\",\n",
    "    \"require_guest_profile_picture\",\n",
    "    \"require_guest_phone_verification\",\n",
    "]:\n",
    "    df[binary] = df[binary].map({\"t\": True, \"f\": False})"
   ]
  },
  {
   "cell_type": "code",
   "execution_count": 10,
   "metadata": {},
   "outputs": [],
   "source": [
    "# amenities\n",
    "df[\"amenities\"] = df[\"amenities\"].str.strip(\"{}\").str.replace('\"', \"\").str.split(\",\")"
   ]
  },
  {
   "cell_type": "code",
   "execution_count": 11,
   "metadata": {},
   "outputs": [
    {
     "name": "stdout",
     "output_type": "stream",
     "text": [
      "['', '24-hour check-in', 'Air conditioning', 'Breakfast', 'Buzzer/wireless intercom', 'Cable TV', 'Carbon monoxide detector', 'Cat(s)', 'Dog(s)', 'Doorman', 'Doorman Entry', 'Dryer', 'Elevator in building', 'Essentials', 'Family/kid friendly', 'Fire extinguisher', 'First aid kit', 'Free parking on premises', 'Free parking on street', 'Gym', 'Hair dryer', 'Hangers', 'Heating', 'Hot tub', 'Indoor fireplace', 'Internet', 'Iron', 'Keypad', 'Kitchen', 'Laptop friendly workspace', 'Lock on bedroom door', 'Lockbox', 'Other pet(s)', 'Paid parking off premises', 'Pets allowed', 'Pets live on this property', 'Pool', 'Private entrance', 'Private living room', 'Safety card', 'Self Check-In', 'Shampoo', 'Smartlock', 'Smoke detector', 'Smoking allowed', 'Suitable for events', 'TV', 'Washer', 'Washer / Dryer', 'Wheelchair accessible', 'Wireless Internet', 'translation missing: en.hosting_amenity_49', 'translation missing: en.hosting_amenity_50']\n"
     ]
    }
   ],
   "source": [
    "# generate dummies by amenities\n",
    "print(sorted(df[\"amenities\"].explode().unique()))\n",
    "dummies = pd.get_dummies(df.amenities.apply(pd.Series).stack()).sum(level=0)\n",
    "df = pd.concat([df, dummies], axis=1)\n",
    "\n",
    "\n",
    "drops = [\n",
    "    \"\",\n",
    "    \"amenities\",\n",
    "    \"translation missing: en.hosting_amenity_49\",\n",
    "    \"translation missing: en.hosting_amenity_50\",\n",
    "]\n",
    "df.drop(columns=drops, inplace=True)"
   ]
  },
  {
   "cell_type": "code",
   "execution_count": 12,
   "metadata": {},
   "outputs": [],
   "source": [
    "# MINOR STUFF\n",
    "# data changed marginally, to make it compatible with textbook, we'll drop 27 rows.\n",
    "not_in_book = pd.read_csv(data_in + \"not_in_book.csv\", delimiter=\",\", dtype=\"unicode\")\n",
    "df = df[~df.id.isin(not_in_book.id.astype(int))].reset_index(drop=True)"
   ]
  },
  {
   "cell_type": "code",
   "execution_count": 13,
   "metadata": {},
   "outputs": [],
   "source": [
    "# write csv\n",
    "df.to_csv(data_out + \"airbnb_london_cleaned.csv\", index=False)"
   ]
  }
 ],
 "metadata": {
  "kernelspec": {
   "display_name": "Python 3",
   "language": "python",
   "name": "python3"
  },
  "language_info": {
   "codemirror_mode": {
    "name": "ipython",
    "version": 3
   },
   "file_extension": ".py",
   "mimetype": "text/x-python",
   "name": "python",
   "nbconvert_exporter": "python",
   "pygments_lexer": "ipython3",
   "version": "3.8.6"
  }
 },
 "nbformat": 4,
 "nbformat_minor": 4
}
