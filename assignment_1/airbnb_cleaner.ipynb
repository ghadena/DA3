{
 "cells": [
  {
   "cell_type": "markdown",
   "metadata": {},
   "source": [
    "#### Prepared for Gabor's Data Analysis\n",
    "\n",
    "### Data Analysis for Business, Economics, and Policy\n",
    "by Gabor Bekes and  Gabor Kezdi\n",
    " \n",
    "Cambridge University Press 2021\n",
    "\n",
    "**[gabors-data-analysis.com ](https://gabors-data-analysis.com/)**\n",
    "\n",
    " License: Free to share, modify and use for educational purposes. \n",
    " Not to be used for commercial purposes.\n",
    " \n",
    "cleaning London airbnb file\n",
    "\n",
    "v.1.3. 2021-05-17 paths changed\n",
    "\n",
    "\n",
    "in: data from web\n",
    "\n",
    "out: airbnb_london_cleaned.csv"
   ]
  },
  {
   "cell_type": "code",
   "execution_count": 25,
   "metadata": {},
   "outputs": [],
   "source": [
    "import pandas as pd\n",
    "import os\n",
    "import warnings\n",
    "\n",
    "warnings.filterwarnings(\"ignore\")"
   ]
  },
  {
   "cell_type": "code",
   "execution_count": 26,
   "metadata": {},
   "outputs": [
    {
     "name": "stdout",
     "output_type": "stream",
     "text": [
      "/Users/ghadena/Desktop/Business analytics/DA3/DA3/assignment_1\n"
     ]
    }
   ],
   "source": [
    "print(os.getcwd()) "
   ]
  },
  {
   "cell_type": "code",
   "execution_count": 27,
   "metadata": {},
   "outputs": [],
   "source": [
    "data_dir = \"/Users/ghadena/Desktop/Business analytics/DA3/DA3/assignment_1/\"\n",
    "\n",
    "# location of folders\n",
    "data_in = data_dir + \"data/raw/\"\n",
    "data_out = data_dir + \"data/clean/\""
   ]
  },
  {
   "cell_type": "code",
   "execution_count": 28,
   "metadata": {},
   "outputs": [],
   "source": [
    "# zero step\n",
    "data = pd.read_csv(data_in + \"listings.csv.gz\", delimiter=\",\", dtype=\"unicode\")\n",
    "drops = [\n",
    "    \"host_thumbnail_url\",\n",
    "    \"host_picture_url\",\n",
    "    \"listing_url\",\n",
    "    \"picture_url\",\n",
    "    \"host_url\",\n",
    "    \"last_scraped\",\n",
    "    \"description\",\n",
    "    \"neighborhood_overview\",\n",
    "    \"host_about\",\n",
    "    \"host_response_time\",\n",
    "    \"name\",\n",
    "    \"host_location\",\n",
    "]\n",
    "data.drop(columns=drops, inplace=True)\n",
    "data.to_csv(data_in + \"airbnb_madrid_listing.csv\", index=False)"
   ]
  },
  {
   "cell_type": "code",
   "execution_count": 64,
   "metadata": {},
   "outputs": [],
   "source": [
    "# opening dataset\n",
    "df = pd.read_csv(data_in + \"airbnb_madrid_listing.csv\", delimiter=\",\")"
   ]
  },
  {
   "cell_type": "code",
   "execution_count": 65,
   "metadata": {},
   "outputs": [],
   "source": [
    "# drop broken lines - where id is not a character of numbers\n",
    "df.id = pd.to_numeric(df.id, errors=\"coerce\")\n",
    "df = df[df.id.notna()]"
   ]
  },
  {
   "cell_type": "code",
   "execution_count": 66,
   "metadata": {},
   "outputs": [
    {
     "data": {
      "text/plain": [
       "id                                                int64\n",
       "scrape_id                                         int64\n",
       "source                                           object\n",
       "host_id                                           int64\n",
       "host_name                                        object\n",
       "                                                 ...   \n",
       "calculated_host_listings_count                    int64\n",
       "calculated_host_listings_count_entire_homes       int64\n",
       "calculated_host_listings_count_private_rooms      int64\n",
       "calculated_host_listings_count_shared_rooms       int64\n",
       "reviews_per_month                               float64\n",
       "Length: 63, dtype: object"
      ]
     },
     "execution_count": 66,
     "metadata": {},
     "output_type": "execute_result"
    }
   ],
   "source": [
    "# display the class and type of each columns\n",
    "df.dtypes"
   ]
  },
  {
   "cell_type": "code",
   "execution_count": 67,
   "metadata": {},
   "outputs": [],
   "source": [
    "#####################\n",
    "# formatting columns\n",
    "for perc in [\"host_response_rate\", \"host_acceptance_rate\"]:\n",
    "    df[perc] = pd.to_numeric(df[perc], errors=\"coerce\")"
   ]
  },
  {
   "cell_type": "code",
   "execution_count": 68,
   "metadata": {},
   "outputs": [
    {
     "name": "stdout",
     "output_type": "stream",
     "text": [
      "0      NaN\n",
      "1      NaN\n",
      "2      NaN\n",
      "3      NaN\n",
      "4      NaN\n",
      "5      NaN\n",
      "6      NaN\n",
      "7      NaN\n",
      "8    150.0\n",
      "9      NaN\n",
      "Name: price, dtype: float64\n",
      "6018\n",
      "float64\n"
     ]
    }
   ],
   "source": [
    "#remove dollar sign from price\n",
    "if 'price' in df.columns:\n",
    "    df['price'] = df['price'].dropna().astype(str).str.replace(r\"\\$\", \"\", regex=True)\n",
    "    df['price'] = pd.to_numeric(df['price'], errors=\"coerce\")\n",
    "\n",
    "# Check results\n",
    "print(df['price'].head(10))\n",
    "print(df['price'].isnull().sum())  # Count of remaining null values\n",
    "print(df['price'].dtype)  # Should be float64"
   ]
  },
  {
   "cell_type": "code",
   "execution_count": 69,
   "metadata": {},
   "outputs": [
    {
     "name": "stdout",
     "output_type": "stream",
     "text": [
      "<class 'pandas.core.frame.DataFrame'>\n",
      "RangeIndex: 26980 entries, 0 to 26979\n",
      "Data columns (total 63 columns):\n",
      " #   Column                                        Non-Null Count  Dtype  \n",
      "---  ------                                        --------------  -----  \n",
      " 0   id                                            26980 non-null  int64  \n",
      " 1   scrape_id                                     26980 non-null  int64  \n",
      " 2   source                                        26980 non-null  object \n",
      " 3   host_id                                       26980 non-null  int64  \n",
      " 4   host_name                                     26977 non-null  object \n",
      " 5   host_since                                    26977 non-null  object \n",
      " 6   host_response_rate                            0 non-null      float64\n",
      " 7   host_acceptance_rate                          0 non-null      float64\n",
      " 8   host_is_superhost                             26001 non-null  object \n",
      " 9   host_neighbourhood                            9401 non-null   object \n",
      " 10  host_listings_count                           26977 non-null  float64\n",
      " 11  host_total_listings_count                     26977 non-null  float64\n",
      " 12  host_verifications                            26977 non-null  object \n",
      " 13  host_has_profile_pic                          26977 non-null  object \n",
      " 14  host_identity_verified                        26977 non-null  object \n",
      " 15  neighbourhood                                 12749 non-null  object \n",
      " 16  neighbourhood_cleansed                        26980 non-null  object \n",
      " 17  neighbourhood_group_cleansed                  26980 non-null  object \n",
      " 18  latitude                                      26980 non-null  float64\n",
      " 19  longitude                                     26980 non-null  float64\n",
      " 20  property_type                                 26980 non-null  object \n",
      " 21  room_type                                     26980 non-null  object \n",
      " 22  accommodates                                  26980 non-null  int64  \n",
      " 23  bathrooms                                     21040 non-null  float64\n",
      " 24  bathrooms_text                                26941 non-null  object \n",
      " 25  bedrooms                                      24437 non-null  float64\n",
      " 26  beds                                          21018 non-null  float64\n",
      " 27  amenities                                     26980 non-null  object \n",
      " 28  price                                         20962 non-null  float64\n",
      " 29  minimum_nights                                26980 non-null  int64  \n",
      " 30  maximum_nights                                26980 non-null  int64  \n",
      " 31  minimum_minimum_nights                        26980 non-null  int64  \n",
      " 32  maximum_minimum_nights                        26980 non-null  int64  \n",
      " 33  minimum_maximum_nights                        26980 non-null  int64  \n",
      " 34  maximum_maximum_nights                        26980 non-null  int64  \n",
      " 35  minimum_nights_avg_ntm                        26980 non-null  float64\n",
      " 36  maximum_nights_avg_ntm                        26980 non-null  float64\n",
      " 37  calendar_updated                              0 non-null      float64\n",
      " 38  has_availability                              25452 non-null  object \n",
      " 39  availability_30                               26980 non-null  int64  \n",
      " 40  availability_60                               26980 non-null  int64  \n",
      " 41  availability_90                               26980 non-null  int64  \n",
      " 42  availability_365                              26980 non-null  int64  \n",
      " 43  calendar_last_scraped                         26980 non-null  object \n",
      " 44  number_of_reviews                             26980 non-null  int64  \n",
      " 45  number_of_reviews_ltm                         26980 non-null  int64  \n",
      " 46  number_of_reviews_l30d                        26980 non-null  int64  \n",
      " 47  first_review                                  21283 non-null  object \n",
      " 48  last_review                                   21283 non-null  object \n",
      " 49  review_scores_rating                          21283 non-null  float64\n",
      " 50  review_scores_accuracy                        21283 non-null  float64\n",
      " 51  review_scores_cleanliness                     21282 non-null  float64\n",
      " 52  review_scores_checkin                         21282 non-null  float64\n",
      " 53  review_scores_communication                   21283 non-null  float64\n",
      " 54  review_scores_location                        21280 non-null  float64\n",
      " 55  review_scores_value                           21279 non-null  float64\n",
      " 56  license                                       2630 non-null   object \n",
      " 57  instant_bookable                              26980 non-null  object \n",
      " 58  calculated_host_listings_count                26980 non-null  int64  \n",
      " 59  calculated_host_listings_count_entire_homes   26980 non-null  int64  \n",
      " 60  calculated_host_listings_count_private_rooms  26980 non-null  int64  \n",
      " 61  calculated_host_listings_count_shared_rooms   26980 non-null  int64  \n",
      " 62  reviews_per_month                             21283 non-null  float64\n",
      "dtypes: float64(21), int64(21), object(21)\n",
      "memory usage: 13.0+ MB\n"
     ]
    }
   ],
   "source": [
    "df.info()"
   ]
  },
  {
   "cell_type": "code",
   "execution_count": 70,
   "metadata": {},
   "outputs": [],
   "source": [
    "# format binary variables\n",
    "for binary in [\n",
    "    \"host_is_superhost\",\n",
    "    \"host_has_profile_pic\",\n",
    "    \"host_identity_verified\",\n",
    "    \"instant_bookable\",\n",
    "]:\n",
    "    df[binary] = df[binary].map({\"t\": True, \"f\": False})"
   ]
  },
  {
   "cell_type": "code",
   "execution_count": 71,
   "metadata": {},
   "outputs": [],
   "source": [
    "# amenities\n",
    "df[\"amenities\"] = df[\"amenities\"].str.strip(\"{}\").str.replace('\"', \"\").str.split(\",\")"
   ]
  },
  {
   "cell_type": "code",
   "execution_count": 72,
   "metadata": {
    "notebookRunGroups": {
     "groupValue": "2"
    }
   },
   "outputs": [],
   "source": [
    "# generate dummies by amenities\n",
    "\n",
    "# # Generate dummies from amenities column\n",
    "# dummies = pd.get_dummies(df[\"amenities\"].apply(pd.Series).stack()).groupby(level=0).sum()\n",
    "\n",
    "# # Concatenate the new dummies with the original DataFrame\n",
    "# df = pd.concat([df, dummies], axis=1)\n",
    "\n",
    "# df.drop(columns=[\n",
    "#     \"\", \n",
    "#     \"amenities\", \n",
    "#     \"translation missing: en.hosting_amenity_49\", \n",
    "#     \"translation missing: en.hosting_amenity_50\"\n",
    "# ], inplace=True, errors=\"ignore\")\n",
    "\n",
    "# # Check result\n",
    "# print(df.head())\n",
    "# print(sorted(df[\"amenities\"].explode().unique()))\n",
    "# # dummies = pd.get_dummies(df.amenities.apply(pd.Series).stack()).sum(level=0)\n",
    "# # df = pd.concat([df, dummies], axis=1)\n",
    "\n",
    "\n",
    "# drops = [\n",
    "#     \"\",\n",
    "#     \"amenities\",\n",
    "#     \"translation missing: en.hosting_amenity_49\",\n",
    "#     \"translation missing: en.hosting_amenity_50\",\n",
    "# ]\n",
    "# df.drop(columns=drops, inplace=True)"
   ]
  },
  {
   "cell_type": "code",
   "execution_count": 73,
   "metadata": {},
   "outputs": [],
   "source": [
    "\n",
    "# Standardize amenities before creating dummies\n",
    "df[\"amenities\"] = (\n",
    "    df[\"amenities\"]\n",
    "    .astype(str)  # Ensure it's a string\n",
    "    .str.lower()  # Convert to lowercase for consistency\n",
    "    .str.replace(r\"[\\[\\]\\{\\}]\", \"\", regex=True)  # Remove brackets\n",
    "    .str.replace(r\"\\s+\", \" \", regex=True)  # Remove extra spaces\n",
    "    .str.strip()  # Trim spaces at the beginning/end\n",
    ")\n",
    "\n",
    "# Convert amenities into separate columns\n",
    "dummies = pd.get_dummies(df[\"amenities\"].apply(lambda x: pd.Series(x.split(\",\"))).stack()).groupby(level=0).sum()\n",
    "\n",
    "# Concatenate with original DataFrame\n",
    "df = pd.concat([df, dummies], axis=1)\n",
    "\n",
    "# Drop the original 'amenities' column\n",
    "df.drop(columns=[\"amenities\"], inplace=True, errors=\"ignore\")"
   ]
  },
  {
   "cell_type": "code",
   "execution_count": 77,
   "metadata": {},
   "outputs": [
    {
     "name": "stdout",
     "output_type": "stream",
     "text": [
      "Index(['id', 'scrape_id', 'source', 'host_id', 'host_name', 'host_since',\n",
      "       'host_response_rate', 'host_acceptance_rate', 'host_is_superhost',\n",
      "       'host_neighbourhood',\n",
      "       ...\n",
      "       ''toaster'', ''tv with amazon prime video'', ''tv with dvd player'',\n",
      "       ''tv with hbo max'', ''tv'', ''varias body soap'',\n",
      "       ''washer \\\\u2013\\\\u00a0in unit'', ''washer'', ''wifi'',\n",
      "       ''wine glasses''],\n",
      "      dtype='object', length=3218)\n"
     ]
    }
   ],
   "source": [
    "# Check results\n",
    "print(df.columns)"
   ]
  },
  {
   "cell_type": "code",
   "execution_count": 78,
   "metadata": {},
   "outputs": [
    {
     "ename": "FileNotFoundError",
     "evalue": "[Errno 2] No such file or directory: '/Users/ghadena/Desktop/Business analytics/DA3/DA3/assignment_1/data/raw/not_in_book.csv'",
     "output_type": "error",
     "traceback": [
      "\u001b[0;31m---------------------------------------------------------------------------\u001b[0m",
      "\u001b[0;31mFileNotFoundError\u001b[0m                         Traceback (most recent call last)",
      "Cell \u001b[0;32mIn[78], line 3\u001b[0m\n\u001b[1;32m      1\u001b[0m \u001b[38;5;66;03m# MINOR STUFF\u001b[39;00m\n\u001b[1;32m      2\u001b[0m \u001b[38;5;66;03m# data changed marginally, to make it compatible with textbook, we'll drop 27 rows.\u001b[39;00m\n\u001b[0;32m----> 3\u001b[0m not_in_book \u001b[38;5;241m=\u001b[39m pd\u001b[38;5;241m.\u001b[39mread_csv(data_in \u001b[38;5;241m+\u001b[39m \u001b[38;5;124m\"\u001b[39m\u001b[38;5;124mnot_in_book.csv\u001b[39m\u001b[38;5;124m\"\u001b[39m, delimiter\u001b[38;5;241m=\u001b[39m\u001b[38;5;124m\"\u001b[39m\u001b[38;5;124m,\u001b[39m\u001b[38;5;124m\"\u001b[39m, dtype\u001b[38;5;241m=\u001b[39m\u001b[38;5;124m\"\u001b[39m\u001b[38;5;124municode\u001b[39m\u001b[38;5;124m\"\u001b[39m)\n\u001b[1;32m      4\u001b[0m df \u001b[38;5;241m=\u001b[39m df[\u001b[38;5;241m~\u001b[39mdf\u001b[38;5;241m.\u001b[39mid\u001b[38;5;241m.\u001b[39misin(not_in_book\u001b[38;5;241m.\u001b[39mid\u001b[38;5;241m.\u001b[39mastype(\u001b[38;5;28mint\u001b[39m))]\u001b[38;5;241m.\u001b[39mreset_index(drop\u001b[38;5;241m=\u001b[39m\u001b[38;5;28;01mTrue\u001b[39;00m)\n",
      "File \u001b[0;32m/opt/anaconda3/lib/python3.12/site-packages/pandas/io/parsers/readers.py:1026\u001b[0m, in \u001b[0;36mread_csv\u001b[0;34m(filepath_or_buffer, sep, delimiter, header, names, index_col, usecols, dtype, engine, converters, true_values, false_values, skipinitialspace, skiprows, skipfooter, nrows, na_values, keep_default_na, na_filter, verbose, skip_blank_lines, parse_dates, infer_datetime_format, keep_date_col, date_parser, date_format, dayfirst, cache_dates, iterator, chunksize, compression, thousands, decimal, lineterminator, quotechar, quoting, doublequote, escapechar, comment, encoding, encoding_errors, dialect, on_bad_lines, delim_whitespace, low_memory, memory_map, float_precision, storage_options, dtype_backend)\u001b[0m\n\u001b[1;32m   1013\u001b[0m kwds_defaults \u001b[38;5;241m=\u001b[39m _refine_defaults_read(\n\u001b[1;32m   1014\u001b[0m     dialect,\n\u001b[1;32m   1015\u001b[0m     delimiter,\n\u001b[0;32m   (...)\u001b[0m\n\u001b[1;32m   1022\u001b[0m     dtype_backend\u001b[38;5;241m=\u001b[39mdtype_backend,\n\u001b[1;32m   1023\u001b[0m )\n\u001b[1;32m   1024\u001b[0m kwds\u001b[38;5;241m.\u001b[39mupdate(kwds_defaults)\n\u001b[0;32m-> 1026\u001b[0m \u001b[38;5;28;01mreturn\u001b[39;00m _read(filepath_or_buffer, kwds)\n",
      "File \u001b[0;32m/opt/anaconda3/lib/python3.12/site-packages/pandas/io/parsers/readers.py:620\u001b[0m, in \u001b[0;36m_read\u001b[0;34m(filepath_or_buffer, kwds)\u001b[0m\n\u001b[1;32m    617\u001b[0m _validate_names(kwds\u001b[38;5;241m.\u001b[39mget(\u001b[38;5;124m\"\u001b[39m\u001b[38;5;124mnames\u001b[39m\u001b[38;5;124m\"\u001b[39m, \u001b[38;5;28;01mNone\u001b[39;00m))\n\u001b[1;32m    619\u001b[0m \u001b[38;5;66;03m# Create the parser.\u001b[39;00m\n\u001b[0;32m--> 620\u001b[0m parser \u001b[38;5;241m=\u001b[39m TextFileReader(filepath_or_buffer, \u001b[38;5;241m*\u001b[39m\u001b[38;5;241m*\u001b[39mkwds)\n\u001b[1;32m    622\u001b[0m \u001b[38;5;28;01mif\u001b[39;00m chunksize \u001b[38;5;129;01mor\u001b[39;00m iterator:\n\u001b[1;32m    623\u001b[0m     \u001b[38;5;28;01mreturn\u001b[39;00m parser\n",
      "File \u001b[0;32m/opt/anaconda3/lib/python3.12/site-packages/pandas/io/parsers/readers.py:1620\u001b[0m, in \u001b[0;36mTextFileReader.__init__\u001b[0;34m(self, f, engine, **kwds)\u001b[0m\n\u001b[1;32m   1617\u001b[0m     \u001b[38;5;28mself\u001b[39m\u001b[38;5;241m.\u001b[39moptions[\u001b[38;5;124m\"\u001b[39m\u001b[38;5;124mhas_index_names\u001b[39m\u001b[38;5;124m\"\u001b[39m] \u001b[38;5;241m=\u001b[39m kwds[\u001b[38;5;124m\"\u001b[39m\u001b[38;5;124mhas_index_names\u001b[39m\u001b[38;5;124m\"\u001b[39m]\n\u001b[1;32m   1619\u001b[0m \u001b[38;5;28mself\u001b[39m\u001b[38;5;241m.\u001b[39mhandles: IOHandles \u001b[38;5;241m|\u001b[39m \u001b[38;5;28;01mNone\u001b[39;00m \u001b[38;5;241m=\u001b[39m \u001b[38;5;28;01mNone\u001b[39;00m\n\u001b[0;32m-> 1620\u001b[0m \u001b[38;5;28mself\u001b[39m\u001b[38;5;241m.\u001b[39m_engine \u001b[38;5;241m=\u001b[39m \u001b[38;5;28mself\u001b[39m\u001b[38;5;241m.\u001b[39m_make_engine(f, \u001b[38;5;28mself\u001b[39m\u001b[38;5;241m.\u001b[39mengine)\n",
      "File \u001b[0;32m/opt/anaconda3/lib/python3.12/site-packages/pandas/io/parsers/readers.py:1880\u001b[0m, in \u001b[0;36mTextFileReader._make_engine\u001b[0;34m(self, f, engine)\u001b[0m\n\u001b[1;32m   1878\u001b[0m     \u001b[38;5;28;01mif\u001b[39;00m \u001b[38;5;124m\"\u001b[39m\u001b[38;5;124mb\u001b[39m\u001b[38;5;124m\"\u001b[39m \u001b[38;5;129;01mnot\u001b[39;00m \u001b[38;5;129;01min\u001b[39;00m mode:\n\u001b[1;32m   1879\u001b[0m         mode \u001b[38;5;241m+\u001b[39m\u001b[38;5;241m=\u001b[39m \u001b[38;5;124m\"\u001b[39m\u001b[38;5;124mb\u001b[39m\u001b[38;5;124m\"\u001b[39m\n\u001b[0;32m-> 1880\u001b[0m \u001b[38;5;28mself\u001b[39m\u001b[38;5;241m.\u001b[39mhandles \u001b[38;5;241m=\u001b[39m get_handle(\n\u001b[1;32m   1881\u001b[0m     f,\n\u001b[1;32m   1882\u001b[0m     mode,\n\u001b[1;32m   1883\u001b[0m     encoding\u001b[38;5;241m=\u001b[39m\u001b[38;5;28mself\u001b[39m\u001b[38;5;241m.\u001b[39moptions\u001b[38;5;241m.\u001b[39mget(\u001b[38;5;124m\"\u001b[39m\u001b[38;5;124mencoding\u001b[39m\u001b[38;5;124m\"\u001b[39m, \u001b[38;5;28;01mNone\u001b[39;00m),\n\u001b[1;32m   1884\u001b[0m     compression\u001b[38;5;241m=\u001b[39m\u001b[38;5;28mself\u001b[39m\u001b[38;5;241m.\u001b[39moptions\u001b[38;5;241m.\u001b[39mget(\u001b[38;5;124m\"\u001b[39m\u001b[38;5;124mcompression\u001b[39m\u001b[38;5;124m\"\u001b[39m, \u001b[38;5;28;01mNone\u001b[39;00m),\n\u001b[1;32m   1885\u001b[0m     memory_map\u001b[38;5;241m=\u001b[39m\u001b[38;5;28mself\u001b[39m\u001b[38;5;241m.\u001b[39moptions\u001b[38;5;241m.\u001b[39mget(\u001b[38;5;124m\"\u001b[39m\u001b[38;5;124mmemory_map\u001b[39m\u001b[38;5;124m\"\u001b[39m, \u001b[38;5;28;01mFalse\u001b[39;00m),\n\u001b[1;32m   1886\u001b[0m     is_text\u001b[38;5;241m=\u001b[39mis_text,\n\u001b[1;32m   1887\u001b[0m     errors\u001b[38;5;241m=\u001b[39m\u001b[38;5;28mself\u001b[39m\u001b[38;5;241m.\u001b[39moptions\u001b[38;5;241m.\u001b[39mget(\u001b[38;5;124m\"\u001b[39m\u001b[38;5;124mencoding_errors\u001b[39m\u001b[38;5;124m\"\u001b[39m, \u001b[38;5;124m\"\u001b[39m\u001b[38;5;124mstrict\u001b[39m\u001b[38;5;124m\"\u001b[39m),\n\u001b[1;32m   1888\u001b[0m     storage_options\u001b[38;5;241m=\u001b[39m\u001b[38;5;28mself\u001b[39m\u001b[38;5;241m.\u001b[39moptions\u001b[38;5;241m.\u001b[39mget(\u001b[38;5;124m\"\u001b[39m\u001b[38;5;124mstorage_options\u001b[39m\u001b[38;5;124m\"\u001b[39m, \u001b[38;5;28;01mNone\u001b[39;00m),\n\u001b[1;32m   1889\u001b[0m )\n\u001b[1;32m   1890\u001b[0m \u001b[38;5;28;01massert\u001b[39;00m \u001b[38;5;28mself\u001b[39m\u001b[38;5;241m.\u001b[39mhandles \u001b[38;5;129;01mis\u001b[39;00m \u001b[38;5;129;01mnot\u001b[39;00m \u001b[38;5;28;01mNone\u001b[39;00m\n\u001b[1;32m   1891\u001b[0m f \u001b[38;5;241m=\u001b[39m \u001b[38;5;28mself\u001b[39m\u001b[38;5;241m.\u001b[39mhandles\u001b[38;5;241m.\u001b[39mhandle\n",
      "File \u001b[0;32m/opt/anaconda3/lib/python3.12/site-packages/pandas/io/common.py:873\u001b[0m, in \u001b[0;36mget_handle\u001b[0;34m(path_or_buf, mode, encoding, compression, memory_map, is_text, errors, storage_options)\u001b[0m\n\u001b[1;32m    868\u001b[0m \u001b[38;5;28;01melif\u001b[39;00m \u001b[38;5;28misinstance\u001b[39m(handle, \u001b[38;5;28mstr\u001b[39m):\n\u001b[1;32m    869\u001b[0m     \u001b[38;5;66;03m# Check whether the filename is to be opened in binary mode.\u001b[39;00m\n\u001b[1;32m    870\u001b[0m     \u001b[38;5;66;03m# Binary mode does not support 'encoding' and 'newline'.\u001b[39;00m\n\u001b[1;32m    871\u001b[0m     \u001b[38;5;28;01mif\u001b[39;00m ioargs\u001b[38;5;241m.\u001b[39mencoding \u001b[38;5;129;01mand\u001b[39;00m \u001b[38;5;124m\"\u001b[39m\u001b[38;5;124mb\u001b[39m\u001b[38;5;124m\"\u001b[39m \u001b[38;5;129;01mnot\u001b[39;00m \u001b[38;5;129;01min\u001b[39;00m ioargs\u001b[38;5;241m.\u001b[39mmode:\n\u001b[1;32m    872\u001b[0m         \u001b[38;5;66;03m# Encoding\u001b[39;00m\n\u001b[0;32m--> 873\u001b[0m         handle \u001b[38;5;241m=\u001b[39m \u001b[38;5;28mopen\u001b[39m(\n\u001b[1;32m    874\u001b[0m             handle,\n\u001b[1;32m    875\u001b[0m             ioargs\u001b[38;5;241m.\u001b[39mmode,\n\u001b[1;32m    876\u001b[0m             encoding\u001b[38;5;241m=\u001b[39mioargs\u001b[38;5;241m.\u001b[39mencoding,\n\u001b[1;32m    877\u001b[0m             errors\u001b[38;5;241m=\u001b[39merrors,\n\u001b[1;32m    878\u001b[0m             newline\u001b[38;5;241m=\u001b[39m\u001b[38;5;124m\"\u001b[39m\u001b[38;5;124m\"\u001b[39m,\n\u001b[1;32m    879\u001b[0m         )\n\u001b[1;32m    880\u001b[0m     \u001b[38;5;28;01melse\u001b[39;00m:\n\u001b[1;32m    881\u001b[0m         \u001b[38;5;66;03m# Binary mode\u001b[39;00m\n\u001b[1;32m    882\u001b[0m         handle \u001b[38;5;241m=\u001b[39m \u001b[38;5;28mopen\u001b[39m(handle, ioargs\u001b[38;5;241m.\u001b[39mmode)\n",
      "\u001b[0;31mFileNotFoundError\u001b[0m: [Errno 2] No such file or directory: '/Users/ghadena/Desktop/Business analytics/DA3/DA3/assignment_1/data/raw/not_in_book.csv'"
     ]
    }
   ],
   "source": [
    "# MINOR STUFF\n",
    "# data changed marginally, to make it compatible with textbook, we'll drop 27 rows.\n",
    "not_in_book = pd.read_csv(data_in + \"not_in_book.csv\", delimiter=\",\", dtype=\"unicode\")\n",
    "df = df[~df.id.isin(not_in_book.id.astype(int))].reset_index(drop=True)"
   ]
  },
  {
   "cell_type": "code",
   "execution_count": 79,
   "metadata": {},
   "outputs": [],
   "source": [
    "# write csv\n",
    "df.to_csv(data_out + \"airbnb_madrid_cleaned.csv\", index=False)"
   ]
  },
  {
   "cell_type": "code",
   "execution_count": null,
   "metadata": {},
   "outputs": [],
   "source": []
  }
 ],
 "metadata": {
  "kernelspec": {
   "display_name": "base",
   "language": "python",
   "name": "python3"
  },
  "language_info": {
   "codemirror_mode": {
    "name": "ipython",
    "version": 3
   },
   "file_extension": ".py",
   "mimetype": "text/x-python",
   "name": "python",
   "nbconvert_exporter": "python",
   "pygments_lexer": "ipython3",
   "version": "3.12.4"
  }
 },
 "nbformat": 4,
 "nbformat_minor": 4
}
